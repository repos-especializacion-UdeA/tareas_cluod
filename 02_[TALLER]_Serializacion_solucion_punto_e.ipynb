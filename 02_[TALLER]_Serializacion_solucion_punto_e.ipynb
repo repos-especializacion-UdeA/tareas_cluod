{
  "cells": [
    {
      "cell_type": "markdown",
      "metadata": {
        "id": "myHD-jFLKEal"
      },
      "source": [
        "# **TALLER 1: SERIALIZACION DE DATOS**\n",
        "## Desarrollado por: Mg. Efraín Alberto Oviedo\n",
        "## Universidad de Antioquia"
      ]
    },
    {
      "cell_type": "markdown",
      "metadata": {
        "id": "4GK6iJ1CKS8o"
      },
      "source": [
        "Por favor, ingrese la siguiente información:\n",
        "\n",
        "**Nombre Completo:**\n",
        "\n",
        "**Cédula:**\n",
        "\n",
        "**Correo Institucional:**"
      ]
    },
    {
      "cell_type": "markdown",
      "metadata": {
        "id": "UlYY1g0lKhz_"
      },
      "source": [
        "#**Análisis de ventas y garantías**\n",
        "\n",
        "Una reconocida empresa de electrodomésticos caracterizada por la calidad de sus productos, desea analizar la información relacionada con los servicios de venta y garantía prestados a sus clientes.\n",
        "\n",
        "\n",
        "La empresa cuenta con tiendas físicas y virtuales distribuidas a lo largo del país y su objetivo es canalizar la información relacionada con los servicios ofrecidos incluyendo los comentarios y calificaciones que logra recoger de cada uno de los servicios prestados.\n",
        "\n",
        "Se solicita su ayuda para realizar las siguientes actividades:\n"
      ]
    },
    {
      "cell_type": "markdown",
      "metadata": {
        "id": "GAyH6mgGK3VA"
      },
      "source": [
        "##**A) Definición de variables a recolectar**\n"
      ]
    },
    {
      "cell_type": "markdown",
      "metadata": {
        "id": "F-njqbnTM2To"
      },
      "source": [
        "Defina las variables que se deben recolectar en cada servicio de venta y de garantía."
      ]
    },
    {
      "cell_type": "markdown",
      "metadata": {
        "id": "eLJiOOBInIlV"
      },
      "source": [
        "### Venta\n",
        "- [ ] codigo producto\n",
        "- [ ] producto\n",
        "- [ ] factura (cod venta)\n",
        "- [ ] ced cliente\n",
        "- [ ] nombre cliente\n",
        "- [ ] Fecha de venta\n",
        "- [ ] Tiempo de garantia\n",
        "- [ ] Valor\n",
        "- [ ] Tipo de tienda (fisica/virtual)\n",
        "- [ ] Ciudad\n",
        "- [ ] Sede\n",
        "- [ ] entrega (fisica/envio)\n",
        "- [ ] Comentario\n",
        "- [ ] Calificacion\n",
        "- [ ] Vendedor\n",
        "\n",
        "### Garantia\n",
        "- [ ] factura (cod venta)\n",
        "- [ ] fecha de compra ()\n",
        "- [ ] Tipo de garantia ()\n",
        "- [ ] Comentario\n",
        "- [ ] Calificacion\n",
        "- [ ] Detalle de la garantia\n"
      ]
    },
    {
      "cell_type": "markdown",
      "metadata": {
        "id": "HGwierHTLFt3"
      },
      "source": [
        "##**B) Simulación de datos**"
      ]
    },
    {
      "cell_type": "markdown",
      "metadata": {
        "id": "PfNZA5UdNPbv"
      },
      "source": [
        "Cada integrante del grupo debe diligenciar la información definida en el punto anterior para un servicio de venta y/o garantía"
      ]
    },
    {
      "cell_type": "markdown",
      "metadata": {
        "id": "7p16PjRbqhH5"
      },
      "source": [
        "### Tabla ventas\n",
        "\n",
        "|item|cod_producto|producto|cod_venta|ced_cliente|nombre cliente|fecha_venta|tipo_garantia|tiempo_garantia|valor_venta|tipo_tienda|ciudad|sede|entrega|vendedor|calificacion|Comentario|\n",
        "|---|---|---|---|---|---|---|---|---|---|---|---|---|---|---|---|---|\n",
        "|1|122568|Ventilador|78546987|98583652|Jairo Agudelo M|24/12/2024,|Normal|12|325000|Física|Santa Rosa|Centro|En tienda|José Arango|2|Muy mal asesoramiento del vendedor|\n",
        "|2|45869|Cafetera|45876|78586325|Henry Arcila|23/01/2025|Extendida|6|235000|Física|Santuario|San Joaquín|En tienda|Mary Estrada|5|Muy buen servicio|\n",
        "\n",
        "### Tabla garantia\n",
        "\n",
        "|item|cod_venta|fecha_compra|tipo_garantia|tiempo_garantia(m)|calificacion|comentarios|detalle_garantia|\n",
        "|---|---|---|---|---|---|---|---|\n",
        "|1|78546987|24/12/2024|Normal|12|3|Demora en la entrega del producto|Cambio de motor|\n",
        "|2|45876|23/01/2025|Extendida|6|5|Buen servicio|Cambio de tablero de control|\n",
        "\n"
      ]
    },
    {
      "cell_type": "markdown",
      "metadata": {
        "id": "pDX41ab4LO7g"
      },
      "source": [
        "##**C) Representación de datos en distintos lenguajes**"
      ]
    },
    {
      "cell_type": "markdown",
      "metadata": {
        "id": "bSlgm0j-NQjn"
      },
      "source": [
        "Represente los datos en un diccionario\n",
        "\n",
        "*   Convierta los datos a formato JSON y guardelos en un archivo\n",
        "*   Convierta los datos a formato XML y guardelos en un archivo\n",
        "*   Convierta los datos a formato YAML y guardelos en un archivo\n",
        "\n",
        "\n"
      ]
    },
    {
      "cell_type": "markdown",
      "metadata": {
        "id": "g4TaVNBHzMJm"
      },
      "source": [
        "### Representacion de los datos en un diccionario"
      ]
    },
    {
      "cell_type": "code",
      "execution_count": 126,
      "metadata": {
        "id": "jXPUTfcpzbUw"
      },
      "outputs": [],
      "source": [
        "# Ventas\n",
        "ventas = {\n",
        "    \"1\" : { \"cod_producto\" :\"45869\",\n",
        "            \"producto\" : \"Cafetera\",\n",
        "            \"cod_venta\" : \"45876\",\n",
        "            \"ced_cliente\" : \"78586325\",\n",
        "            \"nombre_cliente\" : \"Henry Arcila\",\n",
        "            \"fecha_venta\" : \"23/01/2025\",\n",
        "            \"tipo_garantia\" : \"Extendida\",\n",
        "            \"tiempo_garantia\" : 12,\n",
        "            \"valor_venta\" : 235000,\n",
        "            \"tipo_tienda\" : \"Física\",\n",
        "            \"ciudad sede\": \"Santuario\",\n",
        "            \"sede\" : \"San Joaquín\",\n",
        "            \"entrega\" : \"En tienda\",\n",
        "            \"vendedor\" : \"Mary Estrada\",\n",
        "            \"calificacion_servicio\" : 5,\n",
        "            \"comentario_servicio\" : \"Muy buen servicio\"\n",
        "        },\n",
        "        \"2\" : {\n",
        "            \"cod_producto\" : \"122568\",\n",
        "            \"producto\" : \"Ventilador\",\n",
        "            \"cod_venta\" : \"78546987\",\n",
        "            \"ced_cliente\" : \"98583652\",\n",
        "            \"nombre_cliente\" : \"Jairo Agudelo M\",\n",
        "            \"fecha_venta\" : \"24/12/2024\",\n",
        "            \"tipo_garantia\" : \"Normal\",\n",
        "            \"tiempo_garantia\" : 6,\n",
        "            \"valor_venta\" : 325000,\n",
        "            \"tipo_tienda\" : \"Física\",\n",
        "            \"ciudad_sede\" : \"Santa Rosa\",\n",
        "            \"sede\" : \"Centro\",\n",
        "            \"entrega\" : \"En tienda\",\n",
        "            \"vendedor\" : \"José Arango\",\n",
        "            \"calificacion_servicio\" : 2,\n",
        "            \"comentario_servicio\" : \"Muy mal asesoramiento del vendedor\",\n",
        "        }\n",
        "    }\n",
        "\n",
        "# Garantia\n",
        "\n",
        "garantia = {\"1\" :\n",
        "                {\"cod_venta\" : \"78546987\",\n",
        "                    \"fecha_compra\" : \"24/12/2024\",\n",
        "                    \"tipo_garantia\" : \"Normal\",\n",
        "                    \"tiempo_garantia\" : 12,\n",
        "                    \"calificacion\" : 3,\n",
        "                    \"comentarios\" : \"Demora en la entrega del producto\",\n",
        "                    \"detalle_garantia\" : \"Cambio de motor\"\n",
        "                },\n",
        "            \"2\" : {\"cod_venta\" : \"45876\",\n",
        "                    \"fecha_compra\" : \"23/01/2025\",\n",
        "                    \"tipo_garantia\" : \"Extendida\",\n",
        "                    \"tiempo_garantia\" : 6,\n",
        "                    \"calificacion\" : 5,\n",
        "                    \"comentarios\" : \"Buen servicio\",\n",
        "                    \"detalle_garantia\" : \"Cambio de tablero de control\"\n",
        "                }\n",
        "            }"
      ]
    },
    {
      "cell_type": "markdown",
      "metadata": {
        "id": "WlI7cjLXLdlQ"
      },
      "source": [
        "##**E)\tRepresentación en Apache Thrift**"
      ]
    },
    {
      "cell_type": "markdown",
      "metadata": {
        "id": "xHtI3jGcNTNn"
      },
      "source": [
        "Utilice el formato de representación ofrecido por Apache Thrift para obtener una serialización binaria de los datos\n",
        "\n"
      ]
    },
    {
      "cell_type": "markdown",
      "metadata": {},
      "source": [
        "A continuación se muestra el formato del archivo thrift:\n",
        "\n",
        "```\n",
        "namespace py Servicios\n",
        "\n",
        "struct Venta {\n",
        "\t1: string cod_producto,\n",
        "\t2: string producto,\n",
        "\t3: string cod_venta,\n",
        "\t4: string ced_cliente,\n",
        "\t5: string nombre_cliente,\n",
        "\t6: string fecha_venta,\n",
        "\t7: string tipo_garantia,\n",
        "\t8: i16 tiempo_garantia,\n",
        "\t9: i32 valor_venta,\n",
        "\t10: string tipo_tienda,\n",
        "    11: string ciudad_sede,\n",
        "\t12: string sede,\n",
        "\t13: string entrega,\n",
        "\t14: string vendedor,\n",
        "\t15: i16 calificacion_servicio,\n",
        "\t16: string comentario_servicio\n",
        "}\n",
        "\n",
        "struct Garantia {\n",
        "\t1: string cod_venta,\n",
        "\t2: string fecha_compra,\n",
        "\t3: string tipo_garantia,\n",
        "\t4: i16 tiempo_garantia,\n",
        "\t5: i16 calificacion,\n",
        "\t6: string comentarios,\n",
        "\t7: string detalle_garantia\n",
        "}\n",
        "```"
      ]
    },
    {
      "cell_type": "code",
      "execution_count": 127,
      "metadata": {},
      "outputs": [
        {
          "name": "stdout",
          "output_type": "stream",
          "text": [
            "Scanning c:/Users/Usuario/Documents/UdeA/especializacion/semestre2/cloud/tarea1/servicios.thrift for includes\n",
            "Parsing c:/Users/Usuario/Documents/UdeA/especializacion/semestre2/cloud/tarea1/servicios.thrift for types\n",
            "Program: c:/Users/Usuario/Documents/UdeA/especializacion/semestre2/cloud/tarea1/servicios.thrift\n",
            "Generating \"py\"\n"
          ]
        }
      ],
      "source": [
        "!thrift -v -r --gen py servicios.thrift"
      ]
    },
    {
      "cell_type": "code",
      "execution_count": 128,
      "metadata": {},
      "outputs": [],
      "source": [
        "import sys\n",
        "sys.path.append('gen-py')"
      ]
    },
    {
      "cell_type": "code",
      "execution_count": 129,
      "metadata": {},
      "outputs": [],
      "source": [
        "from thrift.transport import TTransport\n",
        "from thrift.protocol import TBinaryProtocol\n",
        "from Servicios.ttypes import Venta, Garantia, Contenedor, TipoEstructura"
      ]
    },
    {
      "cell_type": "code",
      "execution_count": 130,
      "metadata": {
        "vscode": {
          "languageId": "ruby"
        }
      },
      "outputs": [],
      "source": [
        "# Ventas\n",
        "\n",
        "venta1 = Venta(\n",
        "        cod_producto = \"45869\",\n",
        "        producto = \"Cafetera\",\n",
        "        cod_venta = \"45876\",\n",
        "        ced_cliente = \"78586325\",\n",
        "        nombre_cliente = \"Henry Arcila\",\n",
        "        fecha_venta = \"23/01/2025\",\n",
        "        tipo_garantia = \"Extendida\",\n",
        "        tiempo_garantia = 12,\n",
        "        valor_venta = 235000,\n",
        "        tipo_tienda = \"Física\",\n",
        "        ciudad_sede = \"Santuario\",\n",
        "        sede = \"San Joaquín\",\n",
        "        entrega = \"En tienda\",\n",
        "        vendedor = \"Mary Estrada\",\n",
        "        calificacion_servicio = 5,\n",
        "        comentario_servicio = \"Muy buen servicio\"\n",
        "    )\n",
        "\n",
        "venta2 = Venta(\n",
        "        cod_producto = \"122568\",\n",
        "        producto = \"Ventilador\",\n",
        "        cod_venta = \"78546987\",\n",
        "        ced_cliente = \"98583652\",\n",
        "        nombre_cliente = \"Jairo Agudelo M\",\n",
        "        fecha_venta = \"24/12/2024\",\n",
        "        tipo_garantia = \"Normal\",\n",
        "        tiempo_garantia = 6,\n",
        "        valor_venta = 325000,\n",
        "        tipo_tienda = \"Física\",\n",
        "        ciudad_sede = \"Santa Rosa\",\n",
        "        sede = \"Centro\",\n",
        "        entrega = \"En tienda\",\n",
        "        vendedor = \"José Arango\",\n",
        "        calificacion_servicio = 2,\n",
        "        comentario_servicio= \"Muy mal asesoramiento del vendedor\"\n",
        "    )\n",
        "\n",
        "\n",
        "ventas = []\n",
        "ventas.append(venta1)\n",
        "ventas.append(venta2)"
      ]
    },
    {
      "cell_type": "code",
      "execution_count": 131,
      "metadata": {},
      "outputs": [],
      "source": [
        "# Garantia\n",
        "\n",
        "garantia1 = Garantia(\n",
        "    cod_venta = \"78546987\",\n",
        "    fecha_compra = \"24/12/2024\",\n",
        "    tipo_garantia = \"Normal\",\n",
        "    tiempo_garantia = 12,\n",
        "    calificacion = 3,\n",
        "    comentarios = \"Demora en la entrega del producto\",\n",
        "    detalle_garantia = \"Cambio de motor\"\n",
        ")\n",
        "\n",
        "\n",
        "garantia2 = Garantia(\n",
        "    cod_venta = \"45876\",\n",
        "    fecha_compra = \"23/01/2025\",\n",
        "    tipo_garantia = \"Extendida\",\n",
        "    tiempo_garantia = 6,\n",
        "    calificacion = 5,\n",
        "    comentarios = \"Buen servicio\",\n",
        "    detalle_garantia = \"Cambio del tablero de control\"\n",
        ")\n",
        "\n",
        "garantias = [garantia1, garantia2]\n"
      ]
    },
    {
      "cell_type": "markdown",
      "metadata": {},
      "source": [
        "Serializacion sencilla"
      ]
    },
    {
      "cell_type": "code",
      "execution_count": 138,
      "metadata": {},
      "outputs": [
        {
          "name": "stdout",
          "output_type": "stream",
          "text": [
            "Total bytes serializados [inicio]: 0\n",
            "Total bytes serializados [ventas]: 236\n"
          ]
        }
      ],
      "source": [
        "# Ventas\n",
        "buffer = TTransport.TMemoryBuffer()\n",
        "protocol = TBinaryProtocol.TBinaryProtocol(buffer)\n",
        "print(f\"Total bytes serializados [inicio]: {buffer.cstringio_buf.tell()}\")\n",
        "protocol.writeStruct(venta1, venta1.thrift_spec)\n",
        "print(f\"Total bytes serializados [ventas]: {buffer.cstringio_buf.tell()}\")\n"
      ]
    },
    {
      "cell_type": "markdown",
      "metadata": {},
      "source": [
        "Deserializacion"
      ]
    },
    {
      "cell_type": "code",
      "execution_count": 140,
      "metadata": {},
      "outputs": [
        {
          "name": "stdout",
          "output_type": "stream",
          "text": [
            "data_bytes: b'\\x0b\\x00\\x01\\x00\\x00\\x00\\x0545869\\x0b\\x00\\x02\\x00\\x00\\x00\\x08Cafetera\\x0b\\x00\\x03\\x00\\x00\\x00\\x0545876\\x0b\\x00\\x04\\x00\\x00\\x00\\x0878586325\\x0b\\x00\\x05\\x00\\x00\\x00\\x0cHenry Arcila\\x0b\\x00\\x06\\x00\\x00\\x00\\n23/01/2025\\x0b\\x00\\x07\\x00\\x00\\x00\\tExtendida\\x08\\x00\\x08\\x00\\x00\\x00\\x0c\\x08\\x00\\t\\x00\\x03\\x95\\xf8\\x0b\\x00\\n\\x00\\x00\\x00\\x07F\\xc3\\xadsica\\x0b\\x00\\x0b\\x00\\x00\\x00\\tSantuario\\x0b\\x00\\x0c\\x00\\x00\\x00\\x0cSan Joaqu\\xc3\\xadn\\x0b\\x00\\r\\x00\\x00\\x00\\tEn tienda\\x0b\\x00\\x0e\\x00\\x00\\x00\\x0cMary Estrada\\x08\\x00\\x0f\\x00\\x00\\x00\\x05\\x0b\\x00\\x10\\x00\\x00\\x00\\x11Muy buen servicio\\x00'\n",
            "Serialized data size: 236 bytes\n"
          ]
        }
      ],
      "source": [
        "# Get the serialized data\n",
        "data_bytes = buffer.getvalue()\n",
        "print(f\"data_bytes: {data_bytes}\")\n",
        "# Print the serialized data size\n",
        "print(f\"Serialized data size: {len(data_bytes)} bytes\")\n",
        "\n"
      ]
    },
    {
      "cell_type": "code",
      "execution_count": 145,
      "metadata": {},
      "outputs": [
        {
          "name": "stdout",
          "output_type": "stream",
          "text": [
            "Venta(cod_producto='45869', producto='Cafetera', cod_venta='45876', ced_cliente='78586325', nombre_cliente='Henry Arcila', fecha_venta='23/01/2025', tipo_garantia='Extendida', tiempo_garantia=12, valor_venta=235000, tipo_tienda='Física', ciudad_sede='Santuario', sede='San Joaquín', entrega='En tienda', vendedor='Mary Estrada', calificacion_servicio=5, comentario_servicio='Muy buen servicio')\n"
          ]
        }
      ],
      "source": [
        "buffer.cstringio_buf.getvalue()\n",
        "buffer.cstringio_buf.seek(0)\n",
        "venta_copia= Venta()\n",
        "protocol.readStruct(venta_copia, venta_copia.thrift_spec)\n",
        "print(venta_copia)"
      ]
    },
    {
      "cell_type": "code",
      "execution_count": 148,
      "metadata": {},
      "outputs": [
        {
          "data": {
            "text/plain": [
              "True"
            ]
          },
          "execution_count": 148,
          "metadata": {},
          "output_type": "execute_result"
        }
      ],
      "source": [
        "venta_copia == venta1"
      ]
    },
    {
      "cell_type": "markdown",
      "metadata": {},
      "source": [
        "## Otro intento serializando"
      ]
    },
    {
      "cell_type": "code",
      "execution_count": null,
      "metadata": {},
      "outputs": [
        {
          "name": "stdout",
          "output_type": "stream",
          "text": [
            "Total bytes serializados [inicio]: 0\n"
          ]
        }
      ],
      "source": [
        "# Ventas\n",
        "buffer = TTransport.TMemoryBuffer()\n",
        "protocol = TBinaryProtocol.TBinaryProtocol(buffer)\n",
        "print(f\"Total bytes serializados [inicio]: {buffer.cstringio_buf.tell()}\")\n",
        "# Serializacion de la venta 1\n",
        "venta1.write(protocol)\n",
        "contenedor = Contenedor(tipo=TipoEstructura.VENTA, datos=buffer.getvalue())\n"
      ]
    },
    {
      "cell_type": "code",
      "execution_count": 135,
      "metadata": {},
      "outputs": [
        {
          "name": "stdout",
          "output_type": "stream",
          "text": [
            "None\n",
            "b'Cafetera'\n"
          ]
        }
      ],
      "source": [
        "# No dio\n",
        "buffer.cstringio_buf.getvalue()\n",
        "buffer.cstringio_buf.seek(0)\n",
        "cont_copia = Contenedor()\n",
        "protocol.readStruct(cont_copia, cont_copia.thrift_spec)\n",
        "print(cont_copia.tipo)\n",
        "print(cont_copia.datos)"
      ]
    },
    {
      "cell_type": "code",
      "execution_count": 136,
      "metadata": {},
      "outputs": [
        {
          "name": "stdout",
          "output_type": "stream",
          "text": [
            "b'\\x0b\\x00\\x01\\x00\\x00\\x00\\x0545869\\x0b\\x00\\x02\\x00\\x00\\x00\\x08Cafetera\\x0b\\x00\\x03\\x00\\x00\\x00\\x0545876\\x0b\\x00\\x04\\x00\\x00\\x00\\x0878586325\\x0b\\x00\\x05\\x00\\x00\\x00\\x0cHenry Arcila\\x0b\\x00\\x06\\x00\\x00\\x00\\n23/01/2025\\x0b\\x00\\x07\\x00\\x00\\x00\\tExtendida\\x08\\x00\\x08\\x00\\x00\\x00\\x0c\\x08\\x00\\t\\x00\\x03\\x95\\xf8\\x0b\\x00\\n\\x00\\x00\\x00\\x07F\\xc3\\xadsica\\x0b\\x00\\x0b\\x00\\x00\\x00\\tSantuario\\x0b\\x00\\x0c\\x00\\x00\\x00\\x0cSan Joaqu\\xc3\\xadn\\x0b\\x00\\r\\x00\\x00\\x00\\tEn tienda\\x0b\\x00\\x0e\\x00\\x00\\x00\\x0cMary Estrada\\x08\\x00\\x0f\\x00\\x00\\x00\\x05\\x0b\\x00\\x10\\x00\\x00\\x00\\x11Muy buen servicio\\x00'\n"
          ]
        }
      ],
      "source": [
        "print(data_bytes)"
      ]
    },
    {
      "cell_type": "markdown",
      "metadata": {
        "id": "j1LlOYfTNVsn"
      },
      "source": [
        "#**Propuesta para la representación de los datos**"
      ]
    },
    {
      "cell_type": "markdown",
      "metadata": {
        "id": "Z-rPhr5tNezH"
      },
      "source": [
        "Teniendo en cuenta las actividades realizadas en los putnos anteriores, proponga cual considera que es la representación adecuada par estos datos (Defina los criterios que considera mas relevantes para su decisión)"
      ]
    },
    {
      "cell_type": "markdown",
      "metadata": {},
      "source": [
        "https://thrift.apache.org/docs/concepts.html"
      ]
    }
  ],
  "metadata": {
    "colab": {
      "provenance": []
    },
    "kernelspec": {
      "display_name": "base",
      "language": "python",
      "name": "python3"
    },
    "language_info": {
      "codemirror_mode": {
        "name": "ipython",
        "version": 3
      },
      "file_extension": ".py",
      "mimetype": "text/x-python",
      "name": "python",
      "nbconvert_exporter": "python",
      "pygments_lexer": "ipython3",
      "version": "3.12.7"
    }
  },
  "nbformat": 4,
  "nbformat_minor": 0
}
