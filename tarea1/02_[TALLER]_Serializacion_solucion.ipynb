{
  "cells": [
    {
      "cell_type": "markdown",
      "metadata": {
        "id": "myHD-jFLKEal"
      },
      "source": [
        "# **TALLER 1: SERIALIZACION DE DATOS**\n",
        "## Desarrollado por: Mg. Efraín Alberto Oviedo\n",
        "## Universidad de Antioquia"
      ]
    },
    {
      "cell_type": "markdown",
      "metadata": {
        "id": "4GK6iJ1CKS8o"
      },
      "source": [
        "Por favor, ingrese la siguiente información:\n",
        "\n",
        "**Nombre Completo:**\n",
        "\n",
        "**Cédula:**\n",
        "\n",
        "**Correo Institucional:**"
      ]
    },
    {
      "cell_type": "markdown",
      "metadata": {
        "id": "UlYY1g0lKhz_"
      },
      "source": [
        "# **Análisis de ventas y garantías**\n",
        "\n",
        "Una reconocida empresa de electrodomésticos caracterizada por la calidad de sus productos, desea analizar la información relacionada con los servicios de venta y garantía prestados a sus clientes.\n",
        "\n",
        "\n",
        "La empresa cuenta con tiendas físicas y virtuales distribuidas a lo largo del país y su objetivo es canalizar la información relacionada con los servicios ofrecidos incluyendo los comentarios y calificaciones que logra recoger de cada uno de los servicios prestados.\n",
        "\n",
        "Se solicita su ayuda para realizar las siguientes actividades:\n"
      ]
    },
    {
      "cell_type": "markdown",
      "metadata": {
        "id": "GAyH6mgGK3VA"
      },
      "source": [
        "## **A) Definición de variables a recolectar**\n"
      ]
    },
    {
      "cell_type": "markdown",
      "metadata": {
        "id": "F-njqbnTM2To"
      },
      "source": [
        "Defina las variables que se deben recolectar en cada servicio de venta y de garantía."
      ]
    },
    {
      "cell_type": "markdown",
      "metadata": {
        "id": "eLJiOOBInIlV"
      },
      "source": [
        "### Venta\n",
        "- [ ] codigo producto\n",
        "- [ ] producto\n",
        "- [ ] factura (cod venta)\n",
        "- [ ] ced cliente\n",
        "- [ ] nombre cliente\n",
        "- [ ] Fecha de venta\n",
        "- [ ] Tiempo de garantia\n",
        "- [ ] Valor\n",
        "- [ ] Tipo de tienda (fisica/virtual)\n",
        "- [ ] Ciudad\n",
        "- [ ] Sede\n",
        "- [ ] entrega (fisica/envio)\n",
        "- [ ] Comentario\n",
        "- [ ] Calificacion\n",
        "- [ ] Vendedor\n",
        "\n",
        "### Garantia\n",
        "- [ ] factura (cod venta)\n",
        "- [ ] fecha de compra ()\n",
        "- [ ] Tipo de garantia ()\n",
        "- [ ] Comentario\n",
        "- [ ] Calificacion\n",
        "- [ ] Detalle de la garantia\n"
      ]
    },
    {
      "cell_type": "markdown",
      "metadata": {
        "id": "HGwierHTLFt3"
      },
      "source": [
        "## **B) Simulación de datos**"
      ]
    },
    {
      "cell_type": "markdown",
      "metadata": {
        "id": "PfNZA5UdNPbv"
      },
      "source": [
        "Cada integrante del grupo debe diligenciar la información definida en el punto anterior para un servicio de venta y/o garantía"
      ]
    },
    {
      "cell_type": "markdown",
      "metadata": {
        "id": "7p16PjRbqhH5"
      },
      "source": [
        "### Tabla ventas\n",
        "\n",
        "|item|cod_producto|producto|cod_venta|ced_cliente|nombre cliente|fecha_venta|tipo_garantia|tiempo_garantia|valor_venta|tipo_tienda|ciudad|sede|entrega|vendedor|calificacion|Comentario|\n",
        "|---|---|---|---|---|---|---|---|---|---|---|---|---|---|---|---|---|\n",
        "|1|122568|Ventilador|78546987|98583652|Jairo Agudelo M|24/12/2024,|Normal|12|325000|Física|Santa Rosa|Centro|En tienda|José Arango|2|Muy mal asesoramiento del vendedor|\n",
        "|2|45869|Cafetera|45876|78586325|Henry Arcila|23/01/2025|Extendida|6|235000|Física|Santuario|San Joaquín|En tienda|Mary Estrada|5|Muy buen servicio|\n",
        "\n",
        "### Tabla garantia\n",
        "\n",
        "|item|cod_venta|fecha_compra|tipo_garantia|tiempo_garantia(m)|calificacion|comentarios|detalle_garantia|\n",
        "|---|---|---|---|---|---|---|---|\n",
        "|1|78546987|24/12/2024|Normal|12|3|Demora en la entrega del producto|Cambio de motor|\n",
        "|2|45876|23/01/2025|Extendida|6|5|Buen servicio|Cambio de tablero de control|\n",
        "\n"
      ]
    },
    {
      "cell_type": "markdown",
      "metadata": {
        "id": "pDX41ab4LO7g"
      },
      "source": [
        "## **C) Representación de datos en distintos lenguajes**"
      ]
    },
    {
      "cell_type": "markdown",
      "metadata": {
        "id": "bSlgm0j-NQjn"
      },
      "source": [
        "Represente los datos en un diccionario\n",
        "\n",
        "*   Convierta los datos a formato JSON y guardelos en un archivo\n",
        "*   Convierta los datos a formato XML y guardelos en un archivo\n",
        "*   Convierta los datos a formato YAML y guardelos en un archivo\n",
        "\n",
        "\n"
      ]
    },
    {
      "cell_type": "markdown",
      "metadata": {
        "id": "g4TaVNBHzMJm"
      },
      "source": [
        "### Representacion de los datos en un diccionario\n",
        "\n",
        "Tomando como base las tablas definidas previamente se crearon los siguientes diccionarios:"
      ]
    },
    {
      "cell_type": "code",
      "execution_count": 7,
      "metadata": {},
      "outputs": [],
      "source": [
        "ROOT_PATH = \"./\""
      ]
    },
    {
      "cell_type": "code",
      "execution_count": 38,
      "metadata": {
        "id": "jXPUTfcpzbUw"
      },
      "outputs": [],
      "source": [
        "# Dicionatio ventas\n",
        "ventas = {\n",
        "    \"1\" : { \"cod_producto\" :\"45869\",\n",
        "            \"producto\" : \"Cafetera\",\n",
        "            \"cod_venta\" : \"45876\",\n",
        "            \"ced_cliente\" : \"78586325\",\n",
        "            \"nombre_cliente\" : \"Henry Arcila\",\n",
        "            \"fecha_venta\" : \"23/01/2025\",\n",
        "            \"tipo_garantia\" : \"Extendida\",\n",
        "            \"tiempo_garantia\" : 12,\n",
        "            \"valor_venta\" : 235000,\n",
        "            \"tipo_tienda\" : \"Física\",\n",
        "            \"ciudad sede\": \"Santuario\",\n",
        "            \"sede\" : \"San Joaquín\",\n",
        "            \"entrega\" : \"En tienda\",\n",
        "            \"vendedor\" : \"Mary Estrada\",\n",
        "            \"calificacion_servicio\" : 5,\n",
        "            \"comentario_servicio\" : \"Muy buen servicio\"\n",
        "        },\n",
        "        \"2\" : {\n",
        "            \"cod_producto\" : \"122568\",\n",
        "            \"producto\" : \"Ventilador\",\n",
        "            \"cod_venta\" : \"78546987\",\n",
        "            \"ced_cliente\" : \"98583652\",\n",
        "            \"nombre_cliente\" : \"Jairo Agudelo M\",\n",
        "            \"fecha_venta\" : \"24/12/2024\",\n",
        "            \"tipo_garantia\" : \"Normal\",\n",
        "            \"tiempo_garantia\" : 6,\n",
        "            \"valor_venta\" : 325000,\n",
        "            \"tipo_tienda\" : \"Física\",\n",
        "            \"ciudad_sede\" : \"Santa Rosa\",\n",
        "            \"sede\" : \"Centro\",\n",
        "            \"entrega\" : \"En tienda\",\n",
        "            \"vendedor\" : \"José Arango\",\n",
        "            \"calificacion_servicio\" : 2,\n",
        "            \"Comentario_servicio\" : \"Muy mal asesoramiento del vendedor\",\n",
        "        }\n",
        "    }\n",
        "\n",
        "# Diccionario garantias\n",
        "\n",
        "garantias = {\"1\" :\n",
        "                {\"cod_venta\" : \"78546987\",\n",
        "                    \"fecha_compra\" : \"24/12/2024\",\n",
        "                    \"tipo_garantia\" : \"Normal\",\n",
        "                    \"tiempo_garantia\" : 12,\n",
        "                    \"calificacion\" : 3,\n",
        "                    \"comentarios\" : \"Demora en la entrega del producto\",\n",
        "                    \"detalle_garantia\" : \"Cambio de motor\"\n",
        "                },\n",
        "            \"2\" : {\"cod_venta\" : \"45876\",\n",
        "                    \"fecha_compra\" : \"23/01/2025\",\n",
        "                    \"tipo_garantia\" : \"Extendida\",\n",
        "                    \"tiempo_garantia\" : 6,\n",
        "                    \"calificacion\" : 5,\n",
        "                    \"comentarios\" : \"Buen servicio\",\n",
        "                    \"detalle_garantia\" : \"Cambio de tablero de control\"\n",
        "                }\n",
        "            }"
      ]
    },
    {
      "cell_type": "markdown",
      "metadata": {},
      "source": [
        "Ahora, a partir de estos se va a proceder a realizar las tareas de serialización y deserializacion para los formatos JSON, XML y YAML."
      ]
    },
    {
      "cell_type": "markdown",
      "metadata": {
        "id": "hePQQBmJ1Oo3"
      },
      "source": [
        "### Formato json"
      ]
    },
    {
      "cell_type": "code",
      "execution_count": 3,
      "metadata": {},
      "outputs": [],
      "source": [
        "# Modulos necesarios\n",
        "import json"
      ]
    },
    {
      "cell_type": "markdown",
      "metadata": {},
      "source": [
        "Despliegue de los datos antes de serializarlos"
      ]
    },
    {
      "cell_type": "code",
      "execution_count": 8,
      "metadata": {},
      "outputs": [
        {
          "name": "stdout",
          "output_type": "stream",
          "text": [
            "---- Diccionario ventas ----\n",
            "-> Ventas 1:\n",
            "{'cod_producto': '45869', 'producto': 'Cafetera', 'cod_venta': '45876', 'ced_cliente': '78586325', 'nombre_cliente': 'Henry Arcila', 'fecha_venta': '23/01/2025', 'tipo_garantia': 'Extendida', 'tiempo_garantia': 12, 'valor_venta': 235000, 'tipo_tienda': 'Física', 'ciudad sede': 'Santuario', 'sede': 'San Joaquín', 'entrega': 'En tienda', 'vendedor': 'Mary Estrada', 'calificacion_servicio': 5, 'comentario_servicio': 'Muy buen servicio'}\n",
            "-> Ventas 2:\n",
            "{'cod_producto': '122568', 'producto': 'Ventilador', 'cod_venta': '78546987', 'ced_cliente': '98583652', 'nombre_cliente': 'Jairo Agudelo M', 'fecha_venta': '24/12/2024', 'tipo_garantia': 'Normal', 'tiempo_garantia': 6, 'valor_venta': 325000, 'tipo_tienda': 'Física', 'ciudad_sede': 'Santa Rosa', 'sede': 'Centro', 'entrega': 'En tienda', 'vendedor': 'José Arango', 'calificacion_servicio': 2, 'Comentario_servicio': 'Muy mal asesoramiento del vendedor'}\n",
            "\n",
            "\n",
            "---- Diccionario garantias ----\n",
            "-> Garantias 1:\n",
            "{'cod_venta': '78546987', 'fecha_compra': '24/12/2024', 'tipo_garantia': 'Normal', 'tiempo_garantia': 12, 'calificacion': 3, 'comentarios': 'Demora en la entrega del producto', 'detalle_garantia': 'Cambio de motor'}\n",
            "-> Garantias 2:\n",
            "{'cod_venta': '45876', 'fecha_compra': '23/01/2025', 'tipo_garantia': 'Extendida', 'tiempo_garantia': 6, 'calificacion': 5, 'comentarios': 'Buen servicio', 'detalle_garantia': 'Cambio de tablero de control'}\n"
          ]
        }
      ],
      "source": [
        "print(\"---- Diccionario ventas ----\")\n",
        "for k in ventas:\n",
        "    print(f\"-> Ventas {k}:\\n{ventas[k]}\")\n",
        "print()\n",
        "print(\"\\n---- Diccionario garantias ----\")\n",
        "for k in garantias:\n",
        "    print(f\"-> Garantias {k}:\\n{garantias[k]}\")\n",
        "\n"
      ]
    },
    {
      "cell_type": "markdown",
      "metadata": {},
      "source": [
        "#### Serializacion\n",
        "\n",
        "A continuación se serializan los datos como un str JSON y se almacenan:"
      ]
    },
    {
      "cell_type": "code",
      "execution_count": 10,
      "metadata": {
        "id": "Ers4QmqO1Q-f"
      },
      "outputs": [
        {
          "name": "stdout",
          "output_type": "stream",
          "text": [
            "---- String JSON ventas ----\n",
            "<class 'str'>\n",
            "{\"1\": {\"cod_producto\": \"45869\", \"producto\": \"Cafetera\", \"cod_venta\": \"45876\", \"ced_cliente\": \"78586325\", \"nombre_cliente\": \"Henry Arcila\", \"fecha_venta\": \"23/01/2025\", \"tipo_garantia\": \"Extendida\", \"tiempo_garantia\": 12, \"valor_venta\": 235000, \"tipo_tienda\": \"F\\u00edsica\", \"ciudad sede\": \"Santuario\", \"sede\": \"San Joaqu\\u00edn\", \"entrega\": \"En tienda\", \"vendedor\": \"Mary Estrada\", \"calificacion_servicio\": 5, \"comentario_servicio\": \"Muy buen servicio\"}, \"2\": {\"cod_producto\": \"122568\", \"producto\": \"Ventilador\", \"cod_venta\": \"78546987\", \"ced_cliente\": \"98583652\", \"nombre_cliente\": \"Jairo Agudelo M\", \"fecha_venta\": \"24/12/2024\", \"tipo_garantia\": \"Normal\", \"tiempo_garantia\": 6, \"valor_venta\": 325000, \"tipo_tienda\": \"F\\u00edsica\", \"ciudad_sede\": \"Santa Rosa\", \"sede\": \"Centro\", \"entrega\": \"En tienda\", \"vendedor\": \"Jos\\u00e9 Arango\", \"calificacion_servicio\": 2, \"Comentario_servicio\": \"Muy mal asesoramiento del vendedor\"}}\n",
            "---- String JSON garantias ----\n",
            "<class 'str'>\n",
            "{\"1\": {\"cod_venta\": \"78546987\", \"fecha_compra\": \"24/12/2024\", \"tipo_garantia\": \"Normal\", \"tiempo_garantia\": 12, \"calificacion\": 3, \"comentarios\": \"Demora en la entrega del producto\", \"detalle_garantia\": \"Cambio de motor\"}, \"2\": {\"cod_venta\": \"45876\", \"fecha_compra\": \"23/01/2025\", \"tipo_garantia\": \"Extendida\", \"tiempo_garantia\": 6, \"calificacion\": 5, \"comentarios\": \"Buen servicio\", \"detalle_garantia\": \"Cambio de tablero de control\"}}\n"
          ]
        }
      ],
      "source": [
        "# Diccionarios a JSON string (serializacion)\n",
        "ventas_str = json.dumps(ventas)\n",
        "garantias_str = json.dumps(garantias)\n",
        "\n",
        "# Se muestran los strings generados y sus tipos\n",
        "print(\"---- String JSON ventas ----\")\n",
        "print(type(ventas_str))\n",
        "print(ventas_str)\n",
        "print(\"---- String JSON garantias ----\")\n",
        "print(type(garantias_str))\n",
        "print(garantias_str)    \n",
        "\n",
        "\n",
        "# Se guarda el archivo ventas\n",
        "ventas_json = open(ROOT_PATH + \"ventas.json\", \"w\")\n",
        "ventas_json.write(ventas_str)\n",
        "ventas_json.close()\n",
        "\n",
        "# Se guarda el archivo garantias\n",
        "garantias_json =  open(ROOT_PATH + \"garantias.json\", \"w\")\n",
        "garantias_json.write(garantias_str)\n",
        "garantias_json.close()\n"
      ]
    },
    {
      "cell_type": "markdown",
      "metadata": {},
      "source": [
        "#### Deserializacion"
      ]
    },
    {
      "cell_type": "markdown",
      "metadata": {},
      "source": [
        "Se cargan los archivos JSON y luego se muestra su contenido:"
      ]
    },
    {
      "cell_type": "code",
      "execution_count": 15,
      "metadata": {
        "colab": {
          "base_uri": "https://localhost:8080/"
        },
        "id": "ryYfOKLR2pqT",
        "outputId": "38b7f8ae-1ce2-4668-c9a9-56afb89dd4d7"
      },
      "outputs": [
        {
          "name": "stdout",
          "output_type": "stream",
          "text": [
            "---- Ventas deserializadas ----\n",
            "<class 'dict'>\n",
            "{'1': {'cod_producto': '45869', 'producto': 'Cafetera', 'cod_venta': '45876', 'ced_cliente': '78586325', 'nombre_cliente': 'Henry Arcila', 'fecha_venta': '23/01/2025', 'tipo_garantia': 'Extendida', 'tiempo_garantia': 12, 'valor_venta': 235000, 'tipo_tienda': 'Física', 'ciudad sede': 'Santuario', 'sede': 'San Joaquín', 'entrega': 'En tienda', 'vendedor': 'Mary Estrada', 'calificacion_servicio': 5, 'comentario_servicio': 'Muy buen servicio'}, '2': {'cod_producto': '122568', 'producto': 'Ventilador', 'cod_venta': '78546987', 'ced_cliente': '98583652', 'nombre_cliente': 'Jairo Agudelo M', 'fecha_venta': '24/12/2024', 'tipo_garantia': 'Normal', 'tiempo_garantia': 6, 'valor_venta': 325000, 'tipo_tienda': 'Física', 'ciudad_sede': 'Santa Rosa', 'sede': 'Centro', 'entrega': 'En tienda', 'vendedor': 'José Arango', 'calificacion_servicio': 2, 'Comentario_servicio': 'Muy mal asesoramiento del vendedor'}}\n",
            "---- Garantias deserializadas ----\n",
            "<class 'dict'>\n",
            "{'1': {'cod_venta': '78546987', 'fecha_compra': '24/12/2024', 'tipo_garantia': 'Normal', 'tiempo_garantia': 12, 'calificacion': 3, 'comentarios': 'Demora en la entrega del producto', 'detalle_garantia': 'Cambio de motor'}, '2': {'cod_venta': '45876', 'fecha_compra': '23/01/2025', 'tipo_garantia': 'Extendida', 'tiempo_garantia': 6, 'calificacion': 5, 'comentarios': 'Buen servicio', 'detalle_garantia': 'Cambio de tablero de control'}}\n"
          ]
        }
      ],
      "source": [
        "## Carga de archivos\n",
        "# --------------- Ventas ---------------\n",
        "json_ventas_file = open(ROOT_PATH + \"ventas.json\", \"r\")\n",
        "ventas_copia_str = json_ventas_file.read()\n",
        "json_ventas_file.close()\n",
        "\n",
        "# --------------- Garantias ---------------\n",
        "json_garantia_file=open(ROOT_PATH + \"garantias.json\", \"r\")\n",
        "garantias_copia_str=json_garantia_file.read()\n",
        "json_garantia_file.close()\n",
        "\n",
        "## Deserialización\n",
        "ventas_copia=json.loads(ventas_copia_str)\n",
        "garantias_copia=json.loads(garantias_copia_str)\n",
        "\n",
        "## Despliegue de los datos deserializados y sus tipos\n",
        "print(\"---- Ventas deserializadas ----\")\n",
        "print(type(ventas_copia))\n",
        "print(ventas_copia)\n",
        "print(\"---- Garantias deserializadas ----\")\n",
        "print(type(garantias_copia))\n",
        "print(garantias_copia)  "
      ]
    },
    {
      "cell_type": "markdown",
      "metadata": {},
      "source": [
        "Finalmente se comparan los datos deserializados con el dato original (antes de ser serializado):"
      ]
    },
    {
      "cell_type": "code",
      "execution_count": 16,
      "metadata": {},
      "outputs": [
        {
          "name": "stdout",
          "output_type": "stream",
          "text": [
            "ventas == ventas_copia_str: True\n",
            "garantias == garantias_copia_str: True\n"
          ]
        }
      ],
      "source": [
        "print(f\"ventas == ventas_copia: {ventas == ventas_copia}\")  \n",
        "print(f\"garantias == garantias_copia: {garantias == garantias_copia}\")"
      ]
    },
    {
      "cell_type": "markdown",
      "metadata": {
        "id": "xRjOolXo4jb5"
      },
      "source": [
        "### Formato XML "
      ]
    },
    {
      "cell_type": "code",
      "execution_count": 41,
      "metadata": {
        "colab": {
          "base_uri": "https://localhost:8080/"
        },
        "id": "jeAPIOAV4pcy",
        "outputId": "0c68e6c6-a5bf-480b-9eef-db37b989104d"
      },
      "outputs": [],
      "source": [
        "# Verificacion e instalación de modulos necesarios\n",
        "try:\n",
        "    import xmltodict\n",
        "except ImportError:\n",
        "    !pip install dicttoxml\n",
        "\n",
        "try:\n",
        "    import dicttoxml\n",
        "except ImportError:\n",
        "    !pip install dicttoxml"
      ]
    },
    {
      "cell_type": "code",
      "execution_count": 19,
      "metadata": {
        "id": "w_VDvmpL4ryT"
      },
      "outputs": [],
      "source": [
        "# Se importan los modulos necesarios\n",
        "from dicttoxml import dicttoxml\n",
        "import xmltodict\n",
        "from xml.dom.minidom import parseString"
      ]
    },
    {
      "cell_type": "markdown",
      "metadata": {},
      "source": [
        "Como en el punto anterior se van a mostrar los datos originales antes de empezar:"
      ]
    },
    {
      "cell_type": "code",
      "execution_count": 20,
      "metadata": {},
      "outputs": [
        {
          "name": "stdout",
          "output_type": "stream",
          "text": [
            "---- Diccionario ventas ----\n",
            "-> Ventas 1:\n",
            "{'cod_producto': '45869', 'producto': 'Cafetera', 'cod_venta': '45876', 'ced_cliente': '78586325', 'nombre_cliente': 'Henry Arcila', 'fecha_venta': '23/01/2025', 'tipo_garantia': 'Extendida', 'tiempo_garantia': 12, 'valor_venta': 235000, 'tipo_tienda': 'Física', 'ciudad sede': 'Santuario', 'sede': 'San Joaquín', 'entrega': 'En tienda', 'vendedor': 'Mary Estrada', 'calificacion_servicio': 5, 'comentario_servicio': 'Muy buen servicio'}\n",
            "-> Ventas 2:\n",
            "{'cod_producto': '122568', 'producto': 'Ventilador', 'cod_venta': '78546987', 'ced_cliente': '98583652', 'nombre_cliente': 'Jairo Agudelo M', 'fecha_venta': '24/12/2024', 'tipo_garantia': 'Normal', 'tiempo_garantia': 6, 'valor_venta': 325000, 'tipo_tienda': 'Física', 'ciudad_sede': 'Santa Rosa', 'sede': 'Centro', 'entrega': 'En tienda', 'vendedor': 'José Arango', 'calificacion_servicio': 2, 'Comentario_servicio': 'Muy mal asesoramiento del vendedor'}\n",
            "\n",
            "\n",
            "---- Diccionario garantias ----\n",
            "-> Garantias 1:\n",
            "{'cod_venta': '78546987', 'fecha_compra': '24/12/2024', 'tipo_garantia': 'Normal', 'tiempo_garantia': 12, 'calificacion': 3, 'comentarios': 'Demora en la entrega del producto', 'detalle_garantia': 'Cambio de motor'}\n",
            "-> Garantias 2:\n",
            "{'cod_venta': '45876', 'fecha_compra': '23/01/2025', 'tipo_garantia': 'Extendida', 'tiempo_garantia': 6, 'calificacion': 5, 'comentarios': 'Buen servicio', 'detalle_garantia': 'Cambio de tablero de control'}\n"
          ]
        }
      ],
      "source": [
        "print(\"---- Diccionario ventas ----\")\n",
        "for k in ventas:\n",
        "    print(f\"-> Ventas {k}:\\n{ventas[k]}\")\n",
        "print()\n",
        "print(\"\\n---- Diccionario garantias ----\")\n",
        "for k in garantias:\n",
        "    print(f\"-> Garantias {k}:\\n{garantias[k]}\")"
      ]
    },
    {
      "cell_type": "markdown",
      "metadata": {},
      "source": [
        "#### Serializacion"
      ]
    },
    {
      "cell_type": "code",
      "execution_count": 30,
      "metadata": {
        "colab": {
          "base_uri": "https://localhost:8080/"
        },
        "id": "fnA7WG324vr8",
        "outputId": "1643d4d4-332a-411c-96c0-0af5a331741b"
      },
      "outputs": [],
      "source": [
        "# Diccionarios a XML (serializacion)\n",
        "# ventas_xml_bytes = dicttoxml(ventas)\n",
        "ventas_xml_bytes = dicttoxml(ventas, custom_root='ventas', attr_type = False)\n",
        "# ventas_xml_bytes = dicttoxml(garantias)\n",
        "garantias_xml_bytes = dicttoxml(garantias, custom_root='garantias', attr_type = False)"
      ]
    },
    {
      "cell_type": "markdown",
      "metadata": {},
      "source": [
        "A continuación se muestran los datos para ver el resultado de la serialización XML:"
      ]
    },
    {
      "cell_type": "code",
      "execution_count": 31,
      "metadata": {},
      "outputs": [
        {
          "name": "stdout",
          "output_type": "stream",
          "text": [
            "---- bytes XML ventas ----\n",
            "tipo: <class 'bytes'>\n",
            "b'<?xml version=\"1.0\" encoding=\"UTF-8\" ?><ventas><n1><cod_producto>45869</cod_producto><producto>Cafetera</producto><cod_venta>45876</cod_venta><ced_cliente>78586325</ced_cliente><nombre_cliente>Henry Arcila</nombre_cliente><fecha_venta>23/01/2025</fecha_venta><tipo_garantia>Extendida</tipo_garantia><tiempo_garantia>12</tiempo_garantia><valor_venta>235000</valor_venta><tipo_tienda>F\\xc3\\xadsica</tipo_tienda><ciudad_sede>Santuario</ciudad_sede><sede>San Joaqu\\xc3\\xadn</sede><entrega>En tienda</entrega><vendedor>Mary Estrada</vendedor><calificacion_servicio>5</calificacion_servicio><comentario_servicio>Muy buen servicio</comentario_servicio></n1><n2><cod_producto>122568</cod_producto><producto>Ventilador</producto><cod_venta>78546987</cod_venta><ced_cliente>98583652</ced_cliente><nombre_cliente>Jairo Agudelo M</nombre_cliente><fecha_venta>24/12/2024</fecha_venta><tipo_garantia>Normal</tipo_garantia><tiempo_garantia>6</tiempo_garantia><valor_venta>325000</valor_venta><tipo_tienda>F\\xc3\\xadsica</tipo_tienda><ciudad_sede>Santa Rosa</ciudad_sede><sede>Centro</sede><entrega>En tienda</entrega><vendedor>Jos\\xc3\\xa9 Arango</vendedor><calificacion_servicio>2</calificacion_servicio><Comentario_servicio>Muy mal asesoramiento del vendedor</Comentario_servicio></n2></ventas>'\n",
            "---- bytes XML garantias ----\n",
            "tipo: <class 'bytes'>\n",
            "b'<?xml version=\"1.0\" encoding=\"UTF-8\" ?><garantias><n1><cod_venta>78546987</cod_venta><fecha_compra>24/12/2024</fecha_compra><tipo_garantia>Normal</tipo_garantia><tiempo_garantia>12</tiempo_garantia><calificacion>3</calificacion><comentarios>Demora en la entrega del producto</comentarios><detalle_garantia>Cambio de motor</detalle_garantia></n1><n2><cod_venta>45876</cod_venta><fecha_compra>23/01/2025</fecha_compra><tipo_garantia>Extendida</tipo_garantia><tiempo_garantia>6</tiempo_garantia><calificacion>5</calificacion><comentarios>Buen servicio</comentarios><detalle_garantia>Cambio de tablero de control</detalle_garantia></n2></garantias>'\n",
            "\n",
            "---- String XML ventas ----\n",
            "tipo: <class 'xml.dom.minidom.Document'>\n",
            "\n",
            "<?xml version=\"1.0\" ?>\n",
            "<ventas>\n",
            "\t<n1>\n",
            "\t\t<cod_producto>45869</cod_producto>\n",
            "\t\t<producto>Cafetera</producto>\n",
            "\t\t<cod_venta>45876</cod_venta>\n",
            "\t\t<ced_cliente>78586325</ced_cliente>\n",
            "\t\t<nombre_cliente>Henry Arcila</nombre_cliente>\n",
            "\t\t<fecha_venta>23/01/2025</fecha_venta>\n",
            "\t\t<tipo_garantia>Extendida</tipo_garantia>\n",
            "\t\t<tiempo_garantia>12</tiempo_garantia>\n",
            "\t\t<valor_venta>235000</valor_venta>\n",
            "\t\t<tipo_tienda>Física</tipo_tienda>\n",
            "\t\t<ciudad_sede>Santuario</ciudad_sede>\n",
            "\t\t<sede>San Joaquín</sede>\n",
            "\t\t<entrega>En tienda</entrega>\n",
            "\t\t<vendedor>Mary Estrada</vendedor>\n",
            "\t\t<calificacion_servicio>5</calificacion_servicio>\n",
            "\t\t<comentario_servicio>Muy buen servicio</comentario_servicio>\n",
            "\t</n1>\n",
            "\t<n2>\n",
            "\t\t<cod_producto>122568</cod_producto>\n",
            "\t\t<producto>Ventilador</producto>\n",
            "\t\t<cod_venta>78546987</cod_venta>\n",
            "\t\t<ced_cliente>98583652</ced_cliente>\n",
            "\t\t<nombre_cliente>Jairo Agudelo M</nombre_cliente>\n",
            "\t\t<fecha_venta>24/12/2024</fecha_venta>\n",
            "\t\t<tipo_garantia>Normal</tipo_garantia>\n",
            "\t\t<tiempo_garantia>6</tiempo_garantia>\n",
            "\t\t<valor_venta>325000</valor_venta>\n",
            "\t\t<tipo_tienda>Física</tipo_tienda>\n",
            "\t\t<ciudad_sede>Santa Rosa</ciudad_sede>\n",
            "\t\t<sede>Centro</sede>\n",
            "\t\t<entrega>En tienda</entrega>\n",
            "\t\t<vendedor>José Arango</vendedor>\n",
            "\t\t<calificacion_servicio>2</calificacion_servicio>\n",
            "\t\t<Comentario_servicio>Muy mal asesoramiento del vendedor</Comentario_servicio>\n",
            "\t</n2>\n",
            "</ventas>\n",
            "\n",
            "---- String XML garantias ----\n",
            "tipo: <class 'xml.dom.minidom.Document'>\n",
            "\n",
            "<?xml version=\"1.0\" ?>\n",
            "<garantias>\n",
            "\t<n1>\n",
            "\t\t<cod_venta>78546987</cod_venta>\n",
            "\t\t<fecha_compra>24/12/2024</fecha_compra>\n",
            "\t\t<tipo_garantia>Normal</tipo_garantia>\n",
            "\t\t<tiempo_garantia>12</tiempo_garantia>\n",
            "\t\t<calificacion>3</calificacion>\n",
            "\t\t<comentarios>Demora en la entrega del producto</comentarios>\n",
            "\t\t<detalle_garantia>Cambio de motor</detalle_garantia>\n",
            "\t</n1>\n",
            "\t<n2>\n",
            "\t\t<cod_venta>45876</cod_venta>\n",
            "\t\t<fecha_compra>23/01/2025</fecha_compra>\n",
            "\t\t<tipo_garantia>Extendida</tipo_garantia>\n",
            "\t\t<tiempo_garantia>6</tiempo_garantia>\n",
            "\t\t<calificacion>5</calificacion>\n",
            "\t\t<comentarios>Buen servicio</comentarios>\n",
            "\t\t<detalle_garantia>Cambio de tablero de control</detalle_garantia>\n",
            "\t</n2>\n",
            "</garantias>\n",
            "\n"
          ]
        }
      ],
      "source": [
        "# Se muestran los strings XML generados y sus tipos\n",
        "print(\"---- bytes XML ventas ----\")\n",
        "print(f\"tipo: {type(ventas_xml_bytes)}\")\n",
        "print(ventas_xml_bytes)\n",
        "print(\"---- bytes XML garantias ----\")\n",
        "print(f\"tipo: {type(garantias_xml_bytes)}\")\n",
        "print(garantias_xml_bytes)\n",
        "print()\n",
        "\n",
        "# Formateo de la cadena XML a DOM (legibilidad)\n",
        "print(\"---- String XML ventas ----\")\n",
        "dom_ventas = parseString(ventas_xml_bytes)\n",
        "print(f\"tipo: {type(dom_ventas)}\")\n",
        "print()\n",
        "print(dom_ventas.toprettyxml())\n",
        "print(\"---- String XML garantias ----\")\n",
        "dom_garantias = parseString(garantias_xml_bytes)\n",
        "print(f\"tipo: {type(dom_garantias)}\")\n",
        "print()\n",
        "print(dom_garantias.toprettyxml())"
      ]
    },
    {
      "cell_type": "markdown",
      "metadata": {},
      "source": [
        "Ahora se va a proceder crear los archivos XML que almacenaran los datos serializados."
      ]
    },
    {
      "cell_type": "code",
      "execution_count": null,
      "metadata": {
        "colab": {
          "base_uri": "https://localhost:8080/"
        },
        "id": "TPYzrzPw43kU",
        "outputId": "ac55358c-0b98-494c-9db6-d32c454a0f7e"
      },
      "outputs": [],
      "source": [
        "# Almacenamiento en memoria\n",
        "\n",
        "# Ventas\n",
        "ventas_xml_decode = ventas_xml_bytes.decode(\"utf-8\")\n",
        "ventas_xml_file = open(ROOT_PATH + \"ventas.xml\", \"w\")\n",
        "ventas_xml_file.write(ventas_xml_decode)\n",
        "ventas_xml_file.close()\n",
        "\n",
        "# Garantias\n",
        "garantias_xml_decode = garantias_xml_bytes.decode(\"utf-8\")\n",
        "garantia_xml_file = open(ROOT_PATH + \"garantias.xml\", \"w\")\n",
        "garantia_xml_file.write(garantias_xml_decode)\n",
        "garantia_xml_file.close()"
      ]
    },
    {
      "cell_type": "markdown",
      "metadata": {
        "id": "4FCVSALn9fFc"
      },
      "source": [
        "#### Deserializacion\n",
        "\n",
        "Primero se leen los archivos XML y despues se deserializan para volverlos diccionarios."
      ]
    },
    {
      "cell_type": "code",
      "execution_count": 34,
      "metadata": {
        "colab": {
          "base_uri": "https://localhost:8080/"
        },
        "id": "i1iKX7iM9jDl",
        "outputId": "17891d79-6165-4547-c6e3-4c5871bbd9cb"
      },
      "outputs": [
        {
          "name": "stdout",
          "output_type": "stream",
          "text": [
            "---- Ventas deserializadas ----\n",
            "<class 'dict'>\n",
            "{'ventas': {'n1': {'cod_producto': '45869', 'producto': 'Cafetera', 'cod_venta': '45876', 'ced_cliente': '78586325', 'nombre_cliente': 'Henry Arcila', 'fecha_venta': '23/01/2025', 'tipo_garantia': 'Extendida', 'tiempo_garantia': '12', 'valor_venta': '235000', 'tipo_tienda': 'Física', 'ciudad_sede': 'Santuario', 'sede': 'San Joaquín', 'entrega': 'En tienda', 'vendedor': 'Mary Estrada', 'calificacion_servicio': '5', 'comentario_servicio': 'Muy buen servicio'}, 'n2': {'cod_producto': '122568', 'producto': 'Ventilador', 'cod_venta': '78546987', 'ced_cliente': '98583652', 'nombre_cliente': 'Jairo Agudelo M', 'fecha_venta': '24/12/2024', 'tipo_garantia': 'Normal', 'tiempo_garantia': '6', 'valor_venta': '325000', 'tipo_tienda': 'Física', 'ciudad_sede': 'Santa Rosa', 'sede': 'Centro', 'entrega': 'En tienda', 'vendedor': 'José Arango', 'calificacion_servicio': '2', 'Comentario_servicio': 'Muy mal asesoramiento del vendedor'}}}\n",
            "---- Garantias deserializadas ----\n",
            "<class 'dict'>\n",
            "{'garantias': {'n1': {'cod_venta': '78546987', 'fecha_compra': '24/12/2024', 'tipo_garantia': 'Normal', 'tiempo_garantia': '12', 'calificacion': '3', 'comentarios': 'Demora en la entrega del producto', 'detalle_garantia': 'Cambio de motor'}, 'n2': {'cod_venta': '45876', 'fecha_compra': '23/01/2025', 'tipo_garantia': 'Extendida', 'tiempo_garantia': '6', 'calificacion': '5', 'comentarios': 'Buen servicio', 'detalle_garantia': 'Cambio de tablero de control'}}}\n"
          ]
        }
      ],
      "source": [
        "# Lectuta de los archivos XML\n",
        "\n",
        "# Ventas\n",
        "ventas_xml_file = open(ROOT_PATH + \"ventas.xml\", \"r\")\n",
        "ventas_copia_str = ventas_xml_file.read()\n",
        "ventas_xml_file.close()\n",
        "# Garantias\n",
        "garantia_xml_file = open(ROOT_PATH + \"garantias.xml\", \"r\")\n",
        "garantia_copia_str= garantia_xml_file.read()\n",
        "garantia_xml_file.close()\n",
        "\n",
        "# Deserialización de las cadenas XML leidas\n",
        "ventas_copia2 = xmltodict.parse(ventas_copia_str)\n",
        "garantias_copia2 = xmltodict.parse(garantia_copia_str)\n",
        "\n",
        "# Despliegue de los datos deserializados y sus tipos\n",
        "\n",
        "## Despliegue de los datos deserializados y sus tipos\n",
        "print(\"---- Ventas deserializadas ----\")\n",
        "print(type(ventas_copia2))\n",
        "print(ventas_copia2)\n",
        "print(\"---- Garantias deserializadas ----\")\n",
        "print(type(garantias_copia2))\n",
        "print(garantias_copia2)  "
      ]
    },
    {
      "cell_type": "markdown",
      "metadata": {},
      "source": [
        "Finalmente se comparan los datos deserializados con el dato original (antes de ser serializado):"
      ]
    },
    {
      "cell_type": "code",
      "execution_count": 39,
      "metadata": {
        "colab": {
          "base_uri": "https://localhost:8080/"
        },
        "id": "y5wjhRjG_r2H",
        "outputId": "2b8a71eb-781f-48ac-ac0c-3dbdee9f855a"
      },
      "outputs": [
        {
          "name": "stdout",
          "output_type": "stream",
          "text": [
            "ventas == ventas_copia['ventas']: False\n",
            "garantias == garantias_copia['garantias']: False\n"
          ]
        }
      ],
      "source": [
        "print(f\"ventas == ventas_copia2['ventas']: {ventas == ventas_copia2['ventas']}\")  \n",
        "print(f\"garantias == garantias_copia2['garantias']: {garantias == garantias_copia2['garantias']}\")"
      ]
    },
    {
      "cell_type": "markdown",
      "metadata": {},
      "source": [
        "Vemos que pese a que la estructura del diccionario obtenido al deserializar es la misma, la comparación es falsa ya que los del este son todos cadenas de caracteres."
      ]
    },
    {
      "cell_type": "markdown",
      "metadata": {
        "id": "0b8V-Qx6AQLE"
      },
      "source": [
        "### Formato YAML "
      ]
    },
    {
      "cell_type": "code",
      "execution_count": 42,
      "metadata": {
        "colab": {
          "base_uri": "https://localhost:8080/"
        },
        "id": "9cPRytr0AUXr",
        "outputId": "41061952-4f57-4b4f-ee89-037d48e576bb"
      },
      "outputs": [],
      "source": [
        "try:\n",
        "    import yaml\n",
        "except ImportError:\n",
        "    !pip install pyyaml"
      ]
    },
    {
      "cell_type": "code",
      "execution_count": 43,
      "metadata": {
        "id": "IGIR-b8cAdtc"
      },
      "outputs": [],
      "source": [
        "import yaml"
      ]
    },
    {
      "cell_type": "markdown",
      "metadata": {
        "id": "ZGdSAGFqBnCB"
      },
      "source": [
        "#### Serialización"
      ]
    },
    {
      "cell_type": "code",
      "execution_count": 44,
      "metadata": {
        "colab": {
          "base_uri": "https://localhost:8080/"
        },
        "id": "KkyFUdE9BoEk",
        "outputId": "cc8c3b9d-b44b-4248-f79f-9f152beb80b6"
      },
      "outputs": [],
      "source": [
        "# Diccionarios a YAML (serializacion)\n",
        "ventas_yaml_str = yaml.dump(ventas)\n",
        "garantias_yaml_str = yaml.dump(garantias)"
      ]
    },
    {
      "cell_type": "markdown",
      "metadata": {},
      "source": [
        "Despliegue de los resultados en formato YAML despues de serializar:"
      ]
    },
    {
      "cell_type": "code",
      "execution_count": 47,
      "metadata": {},
      "outputs": [
        {
          "name": "stdout",
          "output_type": "stream",
          "text": [
            "---- String YAML ventas ----\n",
            "\n",
            "tipo: <class 'str'>\n",
            "\n",
            "'1':\n",
            "  calificacion_servicio: 5\n",
            "  ced_cliente: '78586325'\n",
            "  ciudad sede: Santuario\n",
            "  cod_producto: '45869'\n",
            "  cod_venta: '45876'\n",
            "  comentario_servicio: Muy buen servicio\n",
            "  entrega: En tienda\n",
            "  fecha_venta: 23/01/2025\n",
            "  nombre_cliente: Henry Arcila\n",
            "  producto: Cafetera\n",
            "  sede: \"San Joaqu\\xEDn\"\n",
            "  tiempo_garantia: 12\n",
            "  tipo_garantia: Extendida\n",
            "  tipo_tienda: \"F\\xEDsica\"\n",
            "  valor_venta: 235000\n",
            "  vendedor: Mary Estrada\n",
            "'2':\n",
            "  Comentario_servicio: Muy mal asesoramiento del vendedor\n",
            "  calificacion_servicio: 2\n",
            "  ced_cliente: '98583652'\n",
            "  ciudad_sede: Santa Rosa\n",
            "  cod_producto: '122568'\n",
            "  cod_venta: '78546987'\n",
            "  entrega: En tienda\n",
            "  fecha_venta: 24/12/2024\n",
            "  nombre_cliente: Jairo Agudelo M\n",
            "  producto: Ventilador\n",
            "  sede: Centro\n",
            "  tiempo_garantia: 6\n",
            "  tipo_garantia: Normal\n",
            "  tipo_tienda: \"F\\xEDsica\"\n",
            "  valor_venta: 325000\n",
            "  vendedor: \"Jos\\xE9 Arango\"\n",
            "\n",
            "\n",
            "\n",
            "---- String YAML garantias ----\n",
            "\n",
            "tipo: <class 'str'>\n",
            "\n",
            "'1':\n",
            "  calificacion: 3\n",
            "  cod_venta: '78546987'\n",
            "  comentarios: Demora en la entrega del producto\n",
            "  detalle_garantia: Cambio de motor\n",
            "  fecha_compra: 24/12/2024\n",
            "  tiempo_garantia: 12\n",
            "  tipo_garantia: Normal\n",
            "'2':\n",
            "  calificacion: 5\n",
            "  cod_venta: '45876'\n",
            "  comentarios: Buen servicio\n",
            "  detalle_garantia: Cambio de tablero de control\n",
            "  fecha_compra: 23/01/2025\n",
            "  tiempo_garantia: 6\n",
            "  tipo_garantia: Extendida\n",
            "\n"
          ]
        }
      ],
      "source": [
        "print(\"---- String YAML ventas ----\")\n",
        "print()\n",
        "print(f\"tipo: {type(ventas_yaml_str)}\")\n",
        "print()\n",
        "print(ventas_yaml_str)\n",
        "print()\n",
        "print()\n",
        "print(\"---- String YAML garantias ----\")\n",
        "print()\n",
        "print(f\"tipo: {type(garantias_yaml_str)}\")\n",
        "print()\n",
        "print(garantias_yaml_str)"
      ]
    },
    {
      "cell_type": "markdown",
      "metadata": {},
      "source": [
        "Almacenamiento de los datos serializados en un archivo"
      ]
    },
    {
      "cell_type": "code",
      "execution_count": 49,
      "metadata": {
        "colab": {
          "base_uri": "https://localhost:8080/"
        },
        "id": "2EhKtRxLCvNw",
        "outputId": "43ed37db-eebc-4943-b8a8-3e11c5b36404"
      },
      "outputs": [],
      "source": [
        "# --------------- Ventas ---------------\n",
        "ventas_yaml_file = open(\"ventas.yaml\", \"w\")\n",
        "ventas_yaml_file.write(ventas_yaml_str)\n",
        "ventas_yaml_file.close()\n",
        "\n",
        "# --------------- Garantia ---------------\n",
        "garantias_yaml_file = open(\"garantias.yaml\", \"w\")\n",
        "garantias_yaml_file.write(garantias_yaml_str)\n",
        "garantias_yaml_file.close()"
      ]
    },
    {
      "cell_type": "markdown",
      "metadata": {
        "id": "ApQ_gpemDE6i"
      },
      "source": [
        "#### Deserializacion"
      ]
    },
    {
      "cell_type": "markdown",
      "metadata": {},
      "source": [
        "Inicialmente se hace la lectura de los archivos obteniendo el contenido de estos."
      ]
    },
    {
      "cell_type": "code",
      "execution_count": 50,
      "metadata": {
        "colab": {
          "base_uri": "https://localhost:8080/"
        },
        "id": "VHovKD9KDHKC",
        "outputId": "ad01a0e7-1ddf-4495-e070-29fd00a022de"
      },
      "outputs": [
        {
          "name": "stdout",
          "output_type": "stream",
          "text": [
            "---- Ventas deserializadas ----\n",
            "<class 'dict'>\n",
            "{'1': {'calificacion_servicio': 5, 'ced_cliente': '78586325', 'ciudad sede': 'Santuario', 'cod_producto': '45869', 'cod_venta': '45876', 'comentario_servicio': 'Muy buen servicio', 'entrega': 'En tienda', 'fecha_venta': '23/01/2025', 'nombre_cliente': 'Henry Arcila', 'producto': 'Cafetera', 'sede': 'San Joaquín', 'tiempo_garantia': 12, 'tipo_garantia': 'Extendida', 'tipo_tienda': 'Física', 'valor_venta': 235000, 'vendedor': 'Mary Estrada'}, '2': {'Comentario_servicio': 'Muy mal asesoramiento del vendedor', 'calificacion_servicio': 2, 'ced_cliente': '98583652', 'ciudad_sede': 'Santa Rosa', 'cod_producto': '122568', 'cod_venta': '78546987', 'entrega': 'En tienda', 'fecha_venta': '24/12/2024', 'nombre_cliente': 'Jairo Agudelo M', 'producto': 'Ventilador', 'sede': 'Centro', 'tiempo_garantia': 6, 'tipo_garantia': 'Normal', 'tipo_tienda': 'Física', 'valor_venta': 325000, 'vendedor': 'José Arango'}}\n",
            "---- Garantias deserializadas ----\n",
            "<class 'dict'>\n",
            "{'1': {'calificacion': 3, 'cod_venta': '78546987', 'comentarios': 'Demora en la entrega del producto', 'detalle_garantia': 'Cambio de motor', 'fecha_compra': '24/12/2024', 'tiempo_garantia': 12, 'tipo_garantia': 'Normal'}, '2': {'calificacion': 5, 'cod_venta': '45876', 'comentarios': 'Buen servicio', 'detalle_garantia': 'Cambio de tablero de control', 'fecha_compra': '23/01/2025', 'tiempo_garantia': 6, 'tipo_garantia': 'Extendida'}}\n"
          ]
        }
      ],
      "source": [
        "# Lectuta de los archivos YAML\n",
        "\n",
        "# Ventas\n",
        "ventas_yaml_file = open(ROOT_PATH + \"ventas.yaml\", \"r\")\n",
        "ventas_copia_str = ventas_yaml_file.read()\n",
        "ventas_yaml_file.close()\n",
        "# Garantias\n",
        "garantias_yaml_file = open(ROOT_PATH + \"garantias.yaml\", \"r\")\n",
        "garantias_copia_str= garantias_yaml_file.read()\n",
        "garantias_yaml_file.close()\n",
        "\n",
        "# Deserialización de las cadenas YAML leidas\n",
        "ventas_copia3 = yaml.load(ventas_copia_str, Loader=yaml.Loader)\n",
        "garantias_copia3 = yaml.load(garantias_copia_str, Loader=yaml.Loader)\n",
        "\n",
        "# Despliegue de los datos deserializados y sus tipos\n",
        "## Despliegue de los datos deserializados y sus tipos\n",
        "print(\"---- Ventas deserializadas ----\")\n",
        "print(type(ventas_copia3))\n",
        "print(ventas_copia3)\n",
        "print(\"---- Garantias deserializadas ----\")\n",
        "print(type(garantias_copia3))\n",
        "print(garantias_copia3)  "
      ]
    },
    {
      "cell_type": "markdown",
      "metadata": {},
      "source": [
        "Comparación de los datos deserializados con los originales:"
      ]
    },
    {
      "cell_type": "code",
      "execution_count": 51,
      "metadata": {
        "colab": {
          "base_uri": "https://localhost:8080/"
        },
        "id": "20MMsnNiDsXQ",
        "outputId": "65a878b0-d0e0-4ed3-9ec9-4809ebe7c122"
      },
      "outputs": [
        {
          "name": "stdout",
          "output_type": "stream",
          "text": [
            "ventas == ventas_copia3: True\n",
            "garantias == garantias_copia3: True\n"
          ]
        }
      ],
      "source": [
        "print(f\"ventas == ventas_copia3: {ventas == ventas_copia3}\")  \n",
        "print(f\"garantias == garantias_copia3: {garantias == garantias_copia3}\")"
      ]
    },
    {
      "cell_type": "markdown",
      "metadata": {
        "id": "T89Y60StLUuh"
      },
      "source": [
        "## **D)\tRepresentación en Protocol Buffer**"
      ]
    },
    {
      "cell_type": "markdown",
      "metadata": {
        "id": "xWQkDcDZNRVa"
      },
      "source": [
        "Utilice el formato de representación ofrecido por protocol buffer para obtener una serialización binaria de los datos"
      ]
    },
    {
      "cell_type": "code",
      "execution_count": 134,
      "metadata": {},
      "outputs": [],
      "source": [
        "try:\n",
        "    import google.protobuf\n",
        "except ImportError:\n",
        "    !pip install protobuf"
      ]
    },
    {
      "cell_type": "markdown",
      "metadata": {},
      "source": [
        "En el archivo **servicios.proto** se definen las estructuras de datos a emplear. El contenido de este se muestra a continuación:\n",
        "\n",
        "```proto\n",
        "syntax = \"proto3\";\n",
        "\n",
        "package Servicios;\n",
        "\n",
        "message Venta {\n",
        "    string cod_producto = 1;\n",
        "    string producto = 2;\n",
        "    string cod_venta = 3;\n",
        "    string ced_cliente = 4;\n",
        "    string nombre_cliente = 5;\n",
        "    string fecha_venta = 6;\n",
        "    string tipo_garantia = 7;\n",
        "    int32 tiempo_garantia = 8;\n",
        "    int32 valor_venta = 9;\n",
        "    string tipo_tienda = 10;\n",
        "    string ciudad_sede = 11;\n",
        "    string sede = 12;\n",
        "    string entrega = 13;\n",
        "    string vendedor = 14;\n",
        "    int32 calificacion_servicio = 15;\n",
        "    string comentario_servicio = 16;\n",
        "}\n",
        "\n",
        "message Garantia {\n",
        "    string cod_venta = 1;\n",
        "    string fecha_compra = 2;\n",
        "    string tipo_garantia = 3;\n",
        "    int32 tiempo_garantia = 4;\n",
        "    int32 calificacion = 5;\n",
        "    string comentarios = 6;\n",
        "    string detalle_garantia = 7;\n",
        "}\n",
        "```"
      ]
    },
    {
      "cell_type": "markdown",
      "metadata": {},
      "source": [
        "A continuación se compila la estructura de datos anterior mediante el siguiente comando:"
      ]
    },
    {
      "cell_type": "code",
      "execution_count": 135,
      "metadata": {},
      "outputs": [],
      "source": [
        "!protoc --python_out=. servicios.proto"
      ]
    },
    {
      "cell_type": "markdown",
      "metadata": {},
      "source": [
        "Si todo esta bien, se genera el archivo `ejercicios_pb2.py`. Este se emplea para importar las clases generadas por protobuf:"
      ]
    },
    {
      "cell_type": "code",
      "execution_count": 136,
      "metadata": {},
      "outputs": [],
      "source": [
        "import servicios_pb2"
      ]
    },
    {
      "cell_type": "markdown",
      "metadata": {},
      "source": [
        "Se define la lista de objetos tipo `Venta`:"
      ]
    },
    {
      "cell_type": "code",
      "execution_count": 137,
      "metadata": {},
      "outputs": [],
      "source": [
        "# Objeto venta2\n",
        "venta1 = servicios_pb2.Venta(\n",
        "        cod_producto = \"45869\",\n",
        "        producto = \"Cafetera\",\n",
        "        cod_venta = \"45876\",\n",
        "        ced_cliente = \"78586325\",\n",
        "        nombre_cliente = \"Henry Arcila\",\n",
        "        fecha_venta = \"23/01/2025\",\n",
        "        tipo_garantia = \"Extendida\",\n",
        "        tiempo_garantia = 12,\n",
        "        valor_venta = 235000,\n",
        "        tipo_tienda = \"Física\",\n",
        "        ciudad_sede = \"Santuario\",\n",
        "        sede = \"San Joaquín\",\n",
        "        entrega = \"En tienda\",\n",
        "        vendedor = \"Mary Estrada\",\n",
        "        calificacion_servicio = 5,\n",
        "        comentario_servicio = \"Muy buen servicio\"\n",
        "    )\n",
        "\n",
        "# Objeto venta2\n",
        "venta2 = servicios_pb2.Venta(\n",
        "        cod_producto = \"122568\",\n",
        "        producto = \"Ventilador\",\n",
        "        cod_venta = \"78546987\",\n",
        "        ced_cliente = \"98583652\",\n",
        "        nombre_cliente = \"Jairo Agudelo M\",\n",
        "        fecha_venta = \"24/12/2024\",\n",
        "        tipo_garantia = \"Normal\",\n",
        "        tiempo_garantia = 6,\n",
        "        valor_venta = 325000,\n",
        "        tipo_tienda = \"Física\",\n",
        "        ciudad_sede = \"Santa Rosa\",\n",
        "        sede = \"Centro\",\n",
        "        entrega = \"En tienda\",\n",
        "        vendedor = \"José Arango\",\n",
        "        calificacion_servicio = 2,\n",
        "        comentario_servicio= \"Muy mal asesoramiento del vendedor\"\n",
        "    )\n",
        "\n",
        "# Lista de ventas\n",
        "ventas = [venta1, venta2]"
      ]
    },
    {
      "cell_type": "markdown",
      "metadata": {},
      "source": [
        "Se hace lo mismo con los objetos tipo `Garantia`::"
      ]
    },
    {
      "cell_type": "code",
      "execution_count": 138,
      "metadata": {},
      "outputs": [],
      "source": [
        "# Garantia\n",
        "\n",
        "# Objeto garantia1\n",
        "garantia1 = servicios_pb2.Garantia(\n",
        "    cod_venta = \"78546987\",\n",
        "    fecha_compra = \"24/12/2024\",\n",
        "    tipo_garantia = \"Normal\",\n",
        "    tiempo_garantia = 12,\n",
        "    calificacion = 3,\n",
        "    comentarios = \"Demora en la entrega del producto\",\n",
        "    detalle_garantia = \"Cambio de motor\"\n",
        ")\n",
        "\n",
        "# Objeto garantia2\n",
        "garantia2 = servicios_pb2.Garantia(\n",
        "    cod_venta = \"45876\",\n",
        "    fecha_compra = \"23/01/2025\",\n",
        "    tipo_garantia = \"Extendida\",\n",
        "    tiempo_garantia = 6,\n",
        "    calificacion = 5,\n",
        "    comentarios = \"Buen servicio\",\n",
        "    detalle_garantia = \"Cambio del tablero de control\"\n",
        ")\n",
        "\n",
        "garantias = [garantia1, garantia2]"
      ]
    },
    {
      "cell_type": "markdown",
      "metadata": {},
      "source": [
        "#### Serializacion"
      ]
    },
    {
      "cell_type": "code",
      "execution_count": 139,
      "metadata": {},
      "outputs": [
        {
          "name": "stdout",
          "output_type": "stream",
          "text": [
            "---- Serializacion de las ventas ----\n",
            "b'\\n\\x0545869\\x12\\x08Cafetera\\x1a\\x0545876\"\\x0878586325*\\x0cHenry Arcila2\\n23/01/2025:\\tExtendida@\\x0cH\\xf8\\xab\\x0eR\\x07F\\xc3\\xadsicaZ\\tSantuariob\\x0cSan Joaqu\\xc3\\xadnj\\tEn tiendar\\x0cMary Estradax\\x05\\x82\\x01\\x11Muy buen servicio'\n",
            "b'\\n\\x06122568\\x12\\nVentilador\\x1a\\x0878546987\"\\x0898583652*\\x0fJairo Agudelo M2\\n24/12/2024:\\x06Normal@\\x06H\\x88\\xeb\\x13R\\x07F\\xc3\\xadsicaZ\\nSanta Rosab\\x06Centroj\\tEn tiendar\\x0cJos\\xc3\\xa9 Arangox\\x02\\x82\\x01\"Muy mal asesoramiento del vendedor'\n",
            "\n",
            "---- Serializacion de las garantias ----\n",
            "b'\\n\\x0878546987\\x12\\n24/12/2024\\x1a\\x06Normal \\x0c(\\x032!Demora en la entrega del producto:\\x0fCambio de motor'\n",
            "b'\\n\\x0545876\\x12\\n23/01/2025\\x1a\\tExtendida \\x06(\\x052\\rBuen servicio:\\x1dCambio del tablero de control'\n"
          ]
        }
      ],
      "source": [
        "# Serializacion de los objetos\n",
        "\n",
        "# Ventas\n",
        "print(\"---- Serializacion de las ventas ----\")\n",
        "ventas_ser = []\n",
        "for venta in ventas:\n",
        "    venta_ser = venta.SerializeToString()\n",
        "    print(venta_ser)\n",
        "    ventas_ser.append(venta_ser)\n",
        "print()\n",
        "# Garantias\n",
        "print(\"---- Serializacion de las garantias ----\")\n",
        "garantias_ser = []\n",
        "for garantia in garantias:\n",
        "    garantia_ser = garantia.SerializeToString()\n",
        "    print(garantia_ser)\n",
        "    garantias_ser.append(garantia_ser)"
      ]
    },
    {
      "cell_type": "markdown",
      "metadata": {},
      "source": [
        "A continuación se muestra el contenido de los datos serializados"
      ]
    },
    {
      "cell_type": "code",
      "execution_count": 140,
      "metadata": {},
      "outputs": [
        {
          "name": "stdout",
          "output_type": "stream",
          "text": [
            "ventas_ser:\n",
            "[b'\\n\\x0545869\\x12\\x08Cafetera\\x1a\\x0545876\"\\x0878586325*\\x0cHenry Arcila2\\n23/01/2025:\\tExtendida@\\x0cH\\xf8\\xab\\x0eR\\x07F\\xc3\\xadsicaZ\\tSantuariob\\x0cSan Joaqu\\xc3\\xadnj\\tEn tiendar\\x0cMary Estradax\\x05\\x82\\x01\\x11Muy buen servicio', b'\\n\\x06122568\\x12\\nVentilador\\x1a\\x0878546987\"\\x0898583652*\\x0fJairo Agudelo M2\\n24/12/2024:\\x06Normal@\\x06H\\x88\\xeb\\x13R\\x07F\\xc3\\xadsicaZ\\nSanta Rosab\\x06Centroj\\tEn tiendar\\x0cJos\\xc3\\xa9 Arangox\\x02\\x82\\x01\"Muy mal asesoramiento del vendedor']\n",
            "garantias_ser:\n",
            "[b'\\n\\x0878546987\\x12\\n24/12/2024\\x1a\\x06Normal \\x0c(\\x032!Demora en la entrega del producto:\\x0fCambio de motor', b'\\n\\x0545876\\x12\\n23/01/2025\\x1a\\tExtendida \\x06(\\x052\\rBuen servicio:\\x1dCambio del tablero de control']\n"
          ]
        }
      ],
      "source": [
        "print(f\"ventas_ser:\\n{ventas_ser}\")\n",
        "print(f\"garantias_ser:\\n{garantias_ser}\")"
      ]
    },
    {
      "cell_type": "markdown",
      "metadata": {},
      "source": [
        "#### Deserializacion"
      ]
    },
    {
      "cell_type": "code",
      "execution_count": 141,
      "metadata": {},
      "outputs": [
        {
          "name": "stdout",
          "output_type": "stream",
          "text": [
            "---- Lista con las ventas deserializados ----\n",
            "-> Ventas 0:\n",
            "cod_producto: \"45869\"\n",
            "producto: \"Cafetera\"\n",
            "cod_venta: \"45876\"\n",
            "ced_cliente: \"78586325\"\n",
            "nombre_cliente: \"Henry Arcila\"\n",
            "fecha_venta: \"23/01/2025\"\n",
            "tipo_garantia: \"Extendida\"\n",
            "tiempo_garantia: 12\n",
            "valor_venta: 235000\n",
            "tipo_tienda: \"F\\303\\255sica\"\n",
            "ciudad_sede: \"Santuario\"\n",
            "sede: \"San Joaqu\\303\\255n\"\n",
            "entrega: \"En tienda\"\n",
            "vendedor: \"Mary Estrada\"\n",
            "calificacion_servicio: 5\n",
            "comentario_servicio: \"Muy buen servicio\"\n",
            "\n",
            "-> Ventas 1:\n",
            "cod_producto: \"122568\"\n",
            "producto: \"Ventilador\"\n",
            "cod_venta: \"78546987\"\n",
            "ced_cliente: \"98583652\"\n",
            "nombre_cliente: \"Jairo Agudelo M\"\n",
            "fecha_venta: \"24/12/2024\"\n",
            "tipo_garantia: \"Normal\"\n",
            "tiempo_garantia: 6\n",
            "valor_venta: 325000\n",
            "tipo_tienda: \"F\\303\\255sica\"\n",
            "ciudad_sede: \"Santa Rosa\"\n",
            "sede: \"Centro\"\n",
            "entrega: \"En tienda\"\n",
            "vendedor: \"Jos\\303\\251 Arango\"\n",
            "calificacion_servicio: 2\n",
            "comentario_servicio: \"Muy mal asesoramiento del vendedor\"\n",
            "\n",
            "\n",
            "\n",
            "---- Lista con las garantias deserializados ----\n",
            "-> Garantias 0:\n",
            "cod_venta: \"78546987\"\n",
            "fecha_compra: \"24/12/2024\"\n",
            "tipo_garantia: \"Normal\"\n",
            "tiempo_garantia: 12\n",
            "calificacion: 3\n",
            "comentarios: \"Demora en la entrega del producto\"\n",
            "detalle_garantia: \"Cambio de motor\"\n",
            "\n",
            "-> Garantias 1:\n",
            "cod_venta: \"45876\"\n",
            "fecha_compra: \"23/01/2025\"\n",
            "tipo_garantia: \"Extendida\"\n",
            "tiempo_garantia: 6\n",
            "calificacion: 5\n",
            "comentarios: \"Buen servicio\"\n",
            "detalle_garantia: \"Cambio del tablero de control\"\n",
            "\n"
          ]
        }
      ],
      "source": [
        "# Deserializacion de los objetos\n",
        "\n",
        "ventas_copia4 = []\n",
        "garantias_copia4 = []\n",
        "\n",
        "for venta_ser in ventas_ser:\n",
        "    venta_des = servicios_pb2.Venta()\n",
        "    venta_des.ParseFromString(venta_ser)\n",
        "    # print(venta_des)\n",
        "    ventas_copia4.append(venta_des)\n",
        "\n",
        "for garantia_ser in garantias_ser:\n",
        "    garantia_des = servicios_pb2.Garantia()\n",
        "    garantia_des.ParseFromString(garantia_ser)\n",
        "    # print(garantia_des)\n",
        "    garantias_copia4.append(garantia_des)\n",
        "\n",
        "print(\"---- Lista con las ventas deserializados ----\")\n",
        "\n",
        "for i in range(len(ventas_copia4)):\n",
        "    print(f\"-> Ventas {i}:\")\n",
        "    print(ventas_copia4[i])\n",
        "print()\n",
        "print(\"\\n---- Lista con las garantias deserializados ----\")\n",
        "for i in range(len(garantias_copia4)):\n",
        "    print(f\"-> Garantias {i}:\")\n",
        "    print(garantias_copia4[i])"
      ]
    },
    {
      "cell_type": "markdown",
      "metadata": {},
      "source": [
        "Comparación de las listas deserializadas respecto a las originales."
      ]
    },
    {
      "cell_type": "code",
      "execution_count": 142,
      "metadata": {},
      "outputs": [
        {
          "name": "stdout",
          "output_type": "stream",
          "text": [
            "ventas == ventas_copia4: True\n",
            "garantias == garantias_copia4: True\n"
          ]
        }
      ],
      "source": [
        "print(f\"ventas == ventas_copia4: {ventas == ventas_copia4}\")  \n",
        "print(f\"garantias == garantias_copia4: {garantias == garantias_copia4}\")"
      ]
    },
    {
      "cell_type": "markdown",
      "metadata": {
        "id": "WlI7cjLXLdlQ"
      },
      "source": [
        "## **E)\tRepresentación en Apache Thrift**"
      ]
    },
    {
      "cell_type": "markdown",
      "metadata": {
        "id": "xHtI3jGcNTNn"
      },
      "source": [
        "Utilice el formato de representación ofrecido por Apache Thrift para obtener una serialización binaria de los datos\n",
        "\n"
      ]
    },
    {
      "cell_type": "code",
      "execution_count": null,
      "metadata": {},
      "outputs": [],
      "source": [
        "try:\n",
        "    import thrift\n",
        "except ImportError:\n",
        "    !pip install thrift"
      ]
    },
    {
      "cell_type": "code",
      "execution_count": null,
      "metadata": {},
      "outputs": [],
      "source": [
        "import thrift"
      ]
    },
    {
      "cell_type": "markdown",
      "metadata": {},
      "source": [
        "A continuación se muestra el archivo de representación **servicios.thrift** empleado para la representación de las clases:\n",
        "\n",
        "```thrift\n",
        "namespace py Servicios\n",
        "\n",
        "struct Venta {\n",
        "    1: string cod_producto,\n",
        "    2: string producto,\n",
        "    3: string cod_venta,\n",
        "    4: string ced_cliente,\n",
        "    5: string nombre_cliente,\n",
        "    6: string fecha_venta,\n",
        "    7: string tipo_garantia,\n",
        "    8: i32 tiempo_garantia,\n",
        "    9: i32 valor_venta,\n",
        "    10: string tipo_tienda,\n",
        "    11: string ciudad_sede,\n",
        "    12: string sede,\n",
        "    13: string entrega,\n",
        "    14: string vendedor,\n",
        "    15: i32 calificacion_servicio,\n",
        "    16: string comentario_servicio\n",
        "}\n",
        "\n",
        "struct Garantia {\n",
        "    1: string cod_venta,\n",
        "    2: string fecha_compra,\n",
        "    3: string tipo_garantia,\n",
        "    4: i32 tiempo_garantia,\n",
        "    5: i32 calificacion,\n",
        "    6: string comentarios,\n",
        "    7: string detalle_garantia\n",
        "}\n",
        "```"
      ]
    },
    {
      "cell_type": "markdown",
      "metadata": {},
      "source": [
        "El siguiente paso es generar los archivos python a partir del archivo de representación:"
      ]
    },
    {
      "cell_type": "code",
      "execution_count": 52,
      "metadata": {},
      "outputs": [
        {
          "name": "stdout",
          "output_type": "stream",
          "text": [
            "Scanning c:/Users/Usuario/Documents/UdeA/especializacion/repos/tareas_cluod/tarea1/servicios.thrift for includes\n",
            "Parsing c:/Users/Usuario/Documents/UdeA/especializacion/repos/tareas_cluod/tarea1/servicios.thrift for types\n",
            "Program: c:/Users/Usuario/Documents/UdeA/especializacion/repos/tareas_cluod/tarea1/servicios.thrift\n",
            "Generating \"py\"\n"
          ]
        }
      ],
      "source": [
        "!thrift -v -r --gen py servicios.thrift"
      ]
    },
    {
      "cell_type": "code",
      "execution_count": 55,
      "metadata": {},
      "outputs": [],
      "source": [
        "import sys\n",
        "sys.path.append(\"gen-py\")"
      ]
    },
    {
      "cell_type": "code",
      "execution_count": 56,
      "metadata": {},
      "outputs": [],
      "source": [
        "# Importar modulos necesarios\n",
        "from thrift.transport import TTransport\n",
        "from thrift.protocol import TBinaryProtocol\n",
        "# Importar las clases generadas\n",
        "from Servicios.ttypes import Venta, Garantia"
      ]
    },
    {
      "cell_type": "markdown",
      "metadata": {},
      "source": [
        "Se crea una lista de dos objetos tipo `Venta` teniendo en cuenta los datos de la tabla al inicio:"
      ]
    },
    {
      "cell_type": "code",
      "execution_count": 57,
      "metadata": {},
      "outputs": [],
      "source": [
        "# Ventas\n",
        "\n",
        "# Objeto venta1\n",
        "venta1 = Venta(\n",
        "        cod_producto = \"45869\",\n",
        "        producto = \"Cafetera\",\n",
        "        cod_venta = \"45876\",\n",
        "        ced_cliente = \"78586325\",\n",
        "        nombre_cliente = \"Henry Arcila\",\n",
        "        fecha_venta = \"23/01/2025\",\n",
        "        tipo_garantia = \"Extendida\",\n",
        "        tiempo_garantia = 12,\n",
        "        valor_venta = 235000,\n",
        "        tipo_tienda = \"Física\",\n",
        "        ciudad_sede = \"Santuario\",\n",
        "        sede = \"San Joaquín\",\n",
        "        entrega = \"En tienda\",\n",
        "        vendedor = \"Mary Estrada\",\n",
        "        calificacion_servicio = 5,\n",
        "        comentario_servicio = \"Muy buen servicio\"\n",
        "    )\n",
        "\n",
        "# Objeto venta2\n",
        "venta2 = Venta(\n",
        "        cod_producto = \"122568\",\n",
        "        producto = \"Ventilador\",\n",
        "        cod_venta = \"78546987\",\n",
        "        ced_cliente = \"98583652\",\n",
        "        nombre_cliente = \"Jairo Agudelo M\",\n",
        "        fecha_venta = \"24/12/2024\",\n",
        "        tipo_garantia = \"Normal\",\n",
        "        tiempo_garantia = 6,\n",
        "        valor_venta = 325000,\n",
        "        tipo_tienda = \"Física\",\n",
        "        ciudad_sede = \"Santa Rosa\",\n",
        "        sede = \"Centro\",\n",
        "        entrega = \"En tienda\",\n",
        "        vendedor = \"José Arango\",\n",
        "        calificacion_servicio = 2,\n",
        "        comentario_servicio= \"Muy mal asesoramiento del vendedor\"\n",
        "    )\n",
        "\n",
        "# Lista de ventas\n",
        "ventas = []\n",
        "ventas.append(venta1)\n",
        "ventas.append(venta2)"
      ]
    },
    {
      "cell_type": "markdown",
      "metadata": {},
      "source": [
        "Se procede similar con los objetos de la clase `Garantia`"
      ]
    },
    {
      "cell_type": "code",
      "execution_count": 63,
      "metadata": {},
      "outputs": [],
      "source": [
        "# Garantia\n",
        "\n",
        "# Objeto garantia1\n",
        "garantia1 = Garantia(\n",
        "    cod_venta = \"78546987\",\n",
        "    fecha_compra = \"24/12/2024\",\n",
        "    tipo_garantia = \"Normal\",\n",
        "    tiempo_garantia = 12,\n",
        "    calificacion = 3,\n",
        "    comentarios = \"Demora en la entrega del producto\",\n",
        "    detalle_garantia = \"Cambio de motor\"\n",
        ")\n",
        "\n",
        "# Objeto garantia2\n",
        "garantia2 = Garantia(\n",
        "    cod_venta = \"45876\",\n",
        "    fecha_compra = \"23/01/2025\",\n",
        "    tipo_garantia = \"Extendida\",\n",
        "    tiempo_garantia = 6,\n",
        "    calificacion = 5,\n",
        "    comentarios = \"Buen servicio\",\n",
        "    detalle_garantia = \"Cambio del tablero de control\"\n",
        ")\n",
        "\n",
        "garantias = [garantia1, garantia2]"
      ]
    },
    {
      "cell_type": "markdown",
      "metadata": {},
      "source": [
        "A continuación vamos a mostrar cada uno de los objetos originales anteriomente creados."
      ]
    },
    {
      "cell_type": "code",
      "execution_count": 64,
      "metadata": {},
      "outputs": [
        {
          "name": "stdout",
          "output_type": "stream",
          "text": [
            "---- Lista con las ventas ----\n",
            "-> Ventas 0:\n",
            "Venta(cod_producto='45869', producto='Cafetera', cod_venta='45876', ced_cliente='78586325', nombre_cliente='Henry Arcila', fecha_venta='23/01/2025', tipo_garantia='Extendida', tiempo_garantia=12, valor_venta=235000, tipo_tienda='Física', ciudad_sede='Santuario', sede='San Joaquín', entrega='En tienda', vendedor='Mary Estrada', calificacion_servicio=5, comentario_servicio='Muy buen servicio')\n",
            "-> Ventas 1:\n",
            "Venta(cod_producto='122568', producto='Ventilador', cod_venta='78546987', ced_cliente='98583652', nombre_cliente='Jairo Agudelo M', fecha_venta='24/12/2024', tipo_garantia='Normal', tiempo_garantia=6, valor_venta=325000, tipo_tienda='Física', ciudad_sede='Santa Rosa', sede='Centro', entrega='En tienda', vendedor='José Arango', calificacion_servicio=2, comentario_servicio='Muy mal asesoramiento del vendedor')\n",
            "\n",
            "\n",
            "---- Lista con las garantias ----\n",
            "-> Garantias 0:\n",
            "Garantia(cod_venta='78546987', fecha_compra='24/12/2024', tipo_garantia='Normal', tiempo_garantia=12, calificacion=3, comentarios='Demora en la entrega del producto', detalle_garantia='Cambio de motor')\n",
            "-> Garantias 1:\n",
            "Garantia(cod_venta='45876', fecha_compra='23/01/2025', tipo_garantia='Extendida', tiempo_garantia=6, calificacion=5, comentarios='Buen servicio', detalle_garantia='Cambio del tablero de control')\n"
          ]
        }
      ],
      "source": [
        "print(\"---- Lista con las ventas ----\")\n",
        "for i in range(len(ventas)):\n",
        "    print(f\"-> Ventas {i}:\")\n",
        "    print(ventas[i])\n",
        "print()\n",
        "print(\"\\n---- Lista con las garantias ----\")\n",
        "for i in range(len(garantias)):\n",
        "    print(f\"-> Garantias {i}:\")\n",
        "    print(garantias[i])"
      ]
    },
    {
      "cell_type": "markdown",
      "metadata": {},
      "source": [
        "#### Serializacion"
      ]
    },
    {
      "cell_type": "code",
      "execution_count": 67,
      "metadata": {},
      "outputs": [
        {
          "name": "stdout",
          "output_type": "stream",
          "text": [
            "---- Serializacion de las ventas ----\n",
            "Total bytes serializados: 0\n",
            "Objeto <class 'Servicios.ttypes.Venta'> agregado. Total bytes serializados: 236\n",
            "Objeto <class 'Servicios.ttypes.Venta'> agregado. Total bytes serializados: 490\n",
            "\n",
            "---- Serializacion de las garantias ----\n",
            "Total bytes serializados: 0\n",
            "Objeto <class 'Servicios.ttypes.Garantia'> agregado. Total bytes serializados: 122\n",
            "Objeto <class 'Servicios.ttypes.Garantia'> agregado. Total bytes serializados: 238\n"
          ]
        }
      ],
      "source": [
        "# Serialize the data\n",
        "\n",
        "# Ventas\n",
        "print(\"---- Serializacion de las ventas ----\")\n",
        "transport = TTransport.TMemoryBuffer()\n",
        "protocol = TBinaryProtocol.TBinaryProtocol(transport)\n",
        "print(f\"Total bytes serializados: {transport.cstringio_buf.tell()}\")\n",
        "for venta in ventas:\n",
        "    venta.write(protocol)\n",
        "    print(f\"Objeto {type(venta)} agregado. Total bytes serializados: {transport.cstringio_buf.tell()}\")\n",
        "\n",
        "# Contenido del buffer \n",
        "ventas_data = transport.getvalue()\n",
        "\n",
        "print()\n",
        "\n",
        "# Garantias\n",
        "print(\"---- Serializacion de las garantias ----\")\n",
        "transport = TTransport.TMemoryBuffer()\n",
        "protocol = TBinaryProtocol.TBinaryProtocol(transport)\n",
        "print(f\"Total bytes serializados: {transport.cstringio_buf.tell()}\")\n",
        "for garantia in garantias:\n",
        "    garantia.write(protocol)\n",
        "    print(f\"Objeto {type(garantia)} agregado. Total bytes serializados: {transport.cstringio_buf.tell()}\")\n",
        "\n",
        "# Contenido del buffer \n",
        "garantias_data = transport.getvalue()"
      ]
    },
    {
      "cell_type": "markdown",
      "metadata": {},
      "source": [
        "Mostremos el contenido de los datos serializados"
      ]
    },
    {
      "cell_type": "code",
      "execution_count": 69,
      "metadata": {},
      "outputs": [
        {
          "name": "stdout",
          "output_type": "stream",
          "text": [
            "----  Bytes asociados a las ventas ----\n",
            "\n",
            "tipo: <class 'bytes'>\n",
            "\n",
            "b'\\x0b\\x00\\x01\\x00\\x00\\x00\\x0545869\\x0b\\x00\\x02\\x00\\x00\\x00\\x08Cafetera\\x0b\\x00\\x03\\x00\\x00\\x00\\x0545876\\x0b\\x00\\x04\\x00\\x00\\x00\\x0878586325\\x0b\\x00\\x05\\x00\\x00\\x00\\x0cHenry Arcila\\x0b\\x00\\x06\\x00\\x00\\x00\\n23/01/2025\\x0b\\x00\\x07\\x00\\x00\\x00\\tExtendida\\x08\\x00\\x08\\x00\\x00\\x00\\x0c\\x08\\x00\\t\\x00\\x03\\x95\\xf8\\x0b\\x00\\n\\x00\\x00\\x00\\x07F\\xc3\\xadsica\\x0b\\x00\\x0b\\x00\\x00\\x00\\tSantuario\\x0b\\x00\\x0c\\x00\\x00\\x00\\x0cSan Joaqu\\xc3\\xadn\\x0b\\x00\\r\\x00\\x00\\x00\\tEn tienda\\x0b\\x00\\x0e\\x00\\x00\\x00\\x0cMary Estrada\\x08\\x00\\x0f\\x00\\x00\\x00\\x05\\x0b\\x00\\x10\\x00\\x00\\x00\\x11Muy buen servicio\\x00\\x0b\\x00\\x01\\x00\\x00\\x00\\x06122568\\x0b\\x00\\x02\\x00\\x00\\x00\\nVentilador\\x0b\\x00\\x03\\x00\\x00\\x00\\x0878546987\\x0b\\x00\\x04\\x00\\x00\\x00\\x0898583652\\x0b\\x00\\x05\\x00\\x00\\x00\\x0fJairo Agudelo M\\x0b\\x00\\x06\\x00\\x00\\x00\\n24/12/2024\\x0b\\x00\\x07\\x00\\x00\\x00\\x06Normal\\x08\\x00\\x08\\x00\\x00\\x00\\x06\\x08\\x00\\t\\x00\\x04\\xf5\\x88\\x0b\\x00\\n\\x00\\x00\\x00\\x07F\\xc3\\xadsica\\x0b\\x00\\x0b\\x00\\x00\\x00\\nSanta Rosa\\x0b\\x00\\x0c\\x00\\x00\\x00\\x06Centro\\x0b\\x00\\r\\x00\\x00\\x00\\tEn tienda\\x0b\\x00\\x0e\\x00\\x00\\x00\\x0cJos\\xc3\\xa9 Arango\\x08\\x00\\x0f\\x00\\x00\\x00\\x02\\x0b\\x00\\x10\\x00\\x00\\x00\"Muy mal asesoramiento del vendedor\\x00'\n",
            "\n",
            "\n",
            "---- Bytes asociados a las garantias ----\n",
            "\n",
            "tipo: <class 'bytes'>\n",
            "\n",
            "b'\\x0b\\x00\\x01\\x00\\x00\\x00\\x0878546987\\x0b\\x00\\x02\\x00\\x00\\x00\\n24/12/2024\\x0b\\x00\\x03\\x00\\x00\\x00\\x06Normal\\x08\\x00\\x04\\x00\\x00\\x00\\x0c\\x08\\x00\\x05\\x00\\x00\\x00\\x03\\x0b\\x00\\x06\\x00\\x00\\x00!Demora en la entrega del producto\\x0b\\x00\\x07\\x00\\x00\\x00\\x0fCambio de motor\\x00\\x0b\\x00\\x01\\x00\\x00\\x00\\x0545876\\x0b\\x00\\x02\\x00\\x00\\x00\\n23/01/2025\\x0b\\x00\\x03\\x00\\x00\\x00\\tExtendida\\x08\\x00\\x04\\x00\\x00\\x00\\x06\\x08\\x00\\x05\\x00\\x00\\x00\\x05\\x0b\\x00\\x06\\x00\\x00\\x00\\rBuen servicio\\x0b\\x00\\x07\\x00\\x00\\x00\\x1dCambio del tablero de control\\x00'\n"
          ]
        }
      ],
      "source": [
        "print(\"----  Bytes asociados a las ventas ----\")\n",
        "print()\n",
        "print(f\"tipo: {type(ventas_data)}\")\n",
        "print()\n",
        "print(ventas_data)\n",
        "print()\n",
        "print()\n",
        "print(\"---- Bytes asociados a las garantias ----\")\n",
        "print()\n",
        "print(f\"tipo: {type(garantias_data)}\")\n",
        "print()\n",
        "print(garantias_data)"
      ]
    },
    {
      "cell_type": "markdown",
      "metadata": {},
      "source": [
        "Almacenando los bytes serializados en un archivo binario."
      ]
    },
    {
      "cell_type": "code",
      "execution_count": 70,
      "metadata": {},
      "outputs": [],
      "source": [
        "# Se almacenan los archivos\n",
        "with open(\"ventas.dat\", \"wb\") as f:\n",
        "    f.write(ventas_data)\n",
        "\n",
        "with open(\"garantias.dat\", \"wb\") as f:\n",
        "    f.write(garantias_data)"
      ]
    },
    {
      "cell_type": "markdown",
      "metadata": {},
      "source": [
        "#### Deserializacion"
      ]
    },
    {
      "cell_type": "markdown",
      "metadata": {},
      "source": [
        "Inicialmente vamos a realizar la lectura de los archivos binarios"
      ]
    },
    {
      "cell_type": "code",
      "execution_count": 73,
      "metadata": {},
      "outputs": [
        {
          "name": "stdout",
          "output_type": "stream",
          "text": [
            "----  Bytes obtenidos para las ventas ----\n",
            "b'\\x0b\\x00\\x01\\x00\\x00\\x00\\x0545869\\x0b\\x00\\x02\\x00\\x00\\x00\\x08Cafetera\\x0b\\x00\\x03\\x00\\x00\\x00\\x0545876\\x0b\\x00\\x04\\x00\\x00\\x00\\x0878586325\\x0b\\x00\\x05\\x00\\x00\\x00\\x0cHenry Arcila\\x0b\\x00\\x06\\x00\\x00\\x00\\n23/01/2025\\x0b\\x00\\x07\\x00\\x00\\x00\\tExtendida\\x08\\x00\\x08\\x00\\x00\\x00\\x0c\\x08\\x00\\t\\x00\\x03\\x95\\xf8\\x0b\\x00\\n\\x00\\x00\\x00\\x07F\\xc3\\xadsica\\x0b\\x00\\x0b\\x00\\x00\\x00\\tSantuario\\x0b\\x00\\x0c\\x00\\x00\\x00\\x0cSan Joaqu\\xc3\\xadn\\x0b\\x00\\r\\x00\\x00\\x00\\tEn tienda\\x0b\\x00\\x0e\\x00\\x00\\x00\\x0cMary Estrada\\x08\\x00\\x0f\\x00\\x00\\x00\\x05\\x0b\\x00\\x10\\x00\\x00\\x00\\x11Muy buen servicio\\x00\\x0b\\x00\\x01\\x00\\x00\\x00\\x06122568\\x0b\\x00\\x02\\x00\\x00\\x00\\nVentilador\\x0b\\x00\\x03\\x00\\x00\\x00\\x0878546987\\x0b\\x00\\x04\\x00\\x00\\x00\\x0898583652\\x0b\\x00\\x05\\x00\\x00\\x00\\x0fJairo Agudelo M\\x0b\\x00\\x06\\x00\\x00\\x00\\n24/12/2024\\x0b\\x00\\x07\\x00\\x00\\x00\\x06Normal\\x08\\x00\\x08\\x00\\x00\\x00\\x06\\x08\\x00\\t\\x00\\x04\\xf5\\x88\\x0b\\x00\\n\\x00\\x00\\x00\\x07F\\xc3\\xadsica\\x0b\\x00\\x0b\\x00\\x00\\x00\\nSanta Rosa\\x0b\\x00\\x0c\\x00\\x00\\x00\\x06Centro\\x0b\\x00\\r\\x00\\x00\\x00\\tEn tienda\\x0b\\x00\\x0e\\x00\\x00\\x00\\x0cJos\\xc3\\xa9 Arango\\x08\\x00\\x0f\\x00\\x00\\x00\\x02\\x0b\\x00\\x10\\x00\\x00\\x00\"Muy mal asesoramiento del vendedor\\x00'\n",
            "---- Bytes obtenidos para las garantias ----\n",
            "b'\\x0b\\x00\\x01\\x00\\x00\\x00\\x0878546987\\x0b\\x00\\x02\\x00\\x00\\x00\\n24/12/2024\\x0b\\x00\\x03\\x00\\x00\\x00\\x06Normal\\x08\\x00\\x04\\x00\\x00\\x00\\x0c\\x08\\x00\\x05\\x00\\x00\\x00\\x03\\x0b\\x00\\x06\\x00\\x00\\x00!Demora en la entrega del producto\\x0b\\x00\\x07\\x00\\x00\\x00\\x0fCambio de motor\\x00\\x0b\\x00\\x01\\x00\\x00\\x00\\x0545876\\x0b\\x00\\x02\\x00\\x00\\x00\\n23/01/2025\\x0b\\x00\\x03\\x00\\x00\\x00\\tExtendida\\x08\\x00\\x04\\x00\\x00\\x00\\x06\\x08\\x00\\x05\\x00\\x00\\x00\\x05\\x0b\\x00\\x06\\x00\\x00\\x00\\rBuen servicio\\x0b\\x00\\x07\\x00\\x00\\x00\\x1dCambio del tablero de control\\x00'\n"
          ]
        }
      ],
      "source": [
        "# Lectura de los archivos para obtener los datos serializados\n",
        "with open(\"ventas.dat\", \"rb\") as f:\n",
        "    venta_data_s = f.read()\n",
        "\n",
        "with open(\"garantias.dat\", \"rb\") as f:\n",
        "    garantias_data_s = f.read()\n",
        "\n",
        "# Despliegue de los datos serializados obtenidos de los archivos\n",
        "print(\"----  Bytes obtenidos para las ventas ----\")\n",
        "print(venta_data_s)\n",
        "print(\"---- Bytes obtenidos para las garantias ----\")\n",
        "print(garantias_data_s)"
      ]
    },
    {
      "cell_type": "markdown",
      "metadata": {},
      "source": [
        "Ahora realizamos el proceso de deserializacion llevando a una nueva lista cada uno de los objetos contenidos en los datos serializados."
      ]
    },
    {
      "cell_type": "code",
      "execution_count": 76,
      "metadata": {},
      "outputs": [],
      "source": [
        "# Deserializacion de los datos de las ventas\n",
        "transport = TTransport.TMemoryBuffer(venta_data_s)\n",
        "protocol = TBinaryProtocol.TBinaryProtocol(transport)\n",
        "ventas_copia5 = []\n",
        "for i in range(2):\n",
        "    venta = Venta()\n",
        "    venta.read(protocol)\n",
        "    ventas_copia5.append(venta)\n",
        "\n",
        "# Deserializacion de los datos de las garantias\n",
        "transport = TTransport.TMemoryBuffer(garantias_data_s)\n",
        "protocol = TBinaryProtocol.TBinaryProtocol(transport)\n",
        "garantias_copia5 = []\n",
        "for i in range(2):\n",
        "    garantia = Garantia()\n",
        "    garantia.read(protocol)\n",
        "    garantias_copia5.append(garantia)"
      ]
    },
    {
      "cell_type": "markdown",
      "metadata": {},
      "source": [
        "Ahora mostramos cada uno de los objetos deserializados"
      ]
    },
    {
      "cell_type": "code",
      "execution_count": 77,
      "metadata": {},
      "outputs": [
        {
          "name": "stdout",
          "output_type": "stream",
          "text": [
            "---- Lista con las ventas deserializados ----\n",
            "-> Ventas 0:\n",
            "Venta(cod_producto='45869', producto='Cafetera', cod_venta='45876', ced_cliente='78586325', nombre_cliente='Henry Arcila', fecha_venta='23/01/2025', tipo_garantia='Extendida', tiempo_garantia=12, valor_venta=235000, tipo_tienda='Física', ciudad_sede='Santuario', sede='San Joaquín', entrega='En tienda', vendedor='Mary Estrada', calificacion_servicio=5, comentario_servicio='Muy buen servicio')\n",
            "-> Ventas 1:\n",
            "Venta(cod_producto='122568', producto='Ventilador', cod_venta='78546987', ced_cliente='98583652', nombre_cliente='Jairo Agudelo M', fecha_venta='24/12/2024', tipo_garantia='Normal', tiempo_garantia=6, valor_venta=325000, tipo_tienda='Física', ciudad_sede='Santa Rosa', sede='Centro', entrega='En tienda', vendedor='José Arango', calificacion_servicio=2, comentario_servicio='Muy mal asesoramiento del vendedor')\n",
            "\n",
            "\n",
            "---- Lista con las garantias deserializados ----\n",
            "-> Garantias 0:\n",
            "Garantia(cod_venta='78546987', fecha_compra='24/12/2024', tipo_garantia='Normal', tiempo_garantia=12, calificacion=3, comentarios='Demora en la entrega del producto', detalle_garantia='Cambio de motor')\n",
            "-> Garantias 1:\n",
            "Garantia(cod_venta='45876', fecha_compra='23/01/2025', tipo_garantia='Extendida', tiempo_garantia=6, calificacion=5, comentarios='Buen servicio', detalle_garantia='Cambio del tablero de control')\n"
          ]
        }
      ],
      "source": [
        "print(\"---- Lista con las ventas deserializados ----\")\n",
        "for i in range(len(ventas_copia5)):\n",
        "    print(f\"-> Ventas {i}:\")\n",
        "    print(ventas_copia5[i])\n",
        "print()\n",
        "print(\"\\n---- Lista con las garantias deserializados ----\")\n",
        "for i in range(len(garantias_copia5)):\n",
        "    print(f\"-> Garantias {i}:\")\n",
        "    print(garantias_copia5[i])"
      ]
    },
    {
      "cell_type": "markdown",
      "metadata": {},
      "source": [
        "Finalmente mostramos que los datos obtenidos son iguales a los originales."
      ]
    },
    {
      "cell_type": "code",
      "execution_count": 78,
      "metadata": {},
      "outputs": [
        {
          "name": "stdout",
          "output_type": "stream",
          "text": [
            "ventas == ventas_copia5: True\n",
            "garantias == garantias_copia5: True\n"
          ]
        }
      ],
      "source": [
        "print(f\"ventas == ventas_copia5: {ventas == ventas_copia5}\")  \n",
        "print(f\"garantias == garantias_copia5: {garantias == garantias_copia5}\")"
      ]
    },
    {
      "cell_type": "markdown",
      "metadata": {
        "id": "j1LlOYfTNVsn"
      },
      "source": [
        "# **Propuesta para la representación de los datos**"
      ]
    },
    {
      "cell_type": "markdown",
      "metadata": {
        "id": "Z-rPhr5tNezH"
      },
      "source": [
        "Teniendo en cuenta las actividades realizadas en los putnos anteriores, proponga cual considera que es la representación adecuada par estos datos (Defina los criterios que considera mas relevantes para su decisión)"
      ]
    }
  ],
  "metadata": {
    "colab": {
      "provenance": []
    },
    "kernelspec": {
      "display_name": "base",
      "language": "python",
      "name": "python3"
    },
    "language_info": {
      "codemirror_mode": {
        "name": "ipython",
        "version": 3
      },
      "file_extension": ".py",
      "mimetype": "text/x-python",
      "name": "python",
      "nbconvert_exporter": "python",
      "pygments_lexer": "ipython3",
      "version": "3.12.7"
    }
  },
  "nbformat": 4,
  "nbformat_minor": 0
}
