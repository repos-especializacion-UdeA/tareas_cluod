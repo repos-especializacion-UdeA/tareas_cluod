{
  "cells": [
    {
      "cell_type": "code",
      "execution_count": 1,
      "metadata": {
        "id": "EOxpv8wMIOIj"
      },
      "outputs": [],
      "source": [
        "!wget --no-cache -O init.py -q https://raw.githubusercontent.com/UDEA-Esp-Analitica-y-Ciencia-de-Datos/EACD-08-CLOUD/master/init.py\n",
        "import init; init.init(force_download=False);\n",
        "from IPython.display import Image"
      ]
    },
    {
      "cell_type": "code",
      "execution_count": 2,
      "metadata": {
        "colab": {
          "base_uri": "https://localhost:8080/"
        },
        "id": "QJ8bytEIIOIl",
        "outputId": "26dab98b-8830-4d8d-960b-54f9a6c67716"
      },
      "outputs": [
        {
          "name": "stdout",
          "output_type": "stream",
          "text": [
            "Drive already mounted at /content/drive; to attempt to forcibly remount, call drive.mount(\"/content/drive\", force_remount=True).\n"
          ]
        }
      ],
      "source": [
        "from google.colab import drive\n",
        "drive.mount('/content/drive')"
      ]
    },
    {
      "cell_type": "code",
      "execution_count": 3,
      "metadata": {
        "colab": {
          "base_uri": "https://localhost:8080/",
          "height": 251
        },
        "id": "ivZN_gRiIOIm",
        "outputId": "358ce563-7569-46ed-9921-b185d6dcb886"
      },
      "outputs": [
        {
          "data": {
            "image/png": "[encoded data removed]",
            "text/plain": [
              "<IPython.core.display.Image object>"
            ]
          },
          "execution_count": 3,
          "metadata": {},
          "output_type": "execute_result"
        }
      ],
      "source": [
        "Image(\"local/imgs/udea-datascience.png\")"
      ]
    },
    {
      "cell_type": "code",
      "execution_count": 4,
      "metadata": {
        "colab": {
          "base_uri": "https://localhost:8080/"
        },
        "id": "fe0XWkUtIyWD",
        "outputId": "28f95995-fb50-4ca2-caad-b2abbe8b715b"
      },
      "outputs": [
        {
          "name": "stdout",
          "output_type": "stream",
          "text": [
            "--2025-02-13 02:36:51--  https://raw.githubusercontent.com/repos-especializacion-UdeA/tareas_cluod/refs/heads/main/tarea1/servicios.proto\n",
            "Resolving raw.githubusercontent.com (raw.githubusercontent.com)... 185.199.108.133, 185.199.109.133, 185.199.110.133, ...\n",
            "Connecting to raw.githubusercontent.com (raw.githubusercontent.com)|185.199.108.133|:443... connected.\n",
            "HTTP request sent, awaiting response... 200 OK\n",
            "Length: 776 [text/plain]\n",
            "Saving to: ‘servicios.proto.1’\n",
            "\n",
            "servicios.proto.1   100%[===================>]     776  --.-KB/s    in 0s      \n",
            "\n",
            "2025-02-13 02:36:52 (33.3 MB/s) - ‘servicios.proto.1’ saved [776/776]\n",
            "\n",
            "--2025-02-13 02:36:52--  https://raw.githubusercontent.com/repos-especializacion-UdeA/tareas_cluod/refs/heads/main/tarea1/servicios.thrift\n",
            "Resolving raw.githubusercontent.com (raw.githubusercontent.com)... 185.199.108.133, 185.199.109.133, 185.199.110.133, ...\n",
            "Connecting to raw.githubusercontent.com (raw.githubusercontent.com)|185.199.108.133|:443... connected.\n",
            "HTTP request sent, awaiting response... 200 OK\n",
            "Length: 657 [text/plain]\n",
            "Saving to: ‘servicios.thrift.1’\n",
            "\n",
            "servicios.thrift.1  100%[===================>]     657  --.-KB/s    in 0s      \n",
            "\n",
            "2025-02-13 02:36:52 (31.7 MB/s) - ‘servicios.thrift.1’ saved [657/657]\n",
            "\n"
          ]
        }
      ],
      "source": [
        "!wget https://raw.githubusercontent.com/repos-especializacion-UdeA/tareas_cluod/refs/heads/main/tarea1/servicios.proto\n",
        "!wget https://raw.githubusercontent.com/repos-especializacion-UdeA/tareas_cluod/refs/heads/main/tarea1/servicios.thrift"
      ]
    },
    {
      "cell_type": "markdown",
      "metadata": {
        "id": "myHD-jFLKEal"
      },
      "source": [
        "# **TALLER 1: SERIALIZACION DE DATOS**\n",
        "## Desarrollado por: Mg. Efraín Alberto Oviedo\n",
        "## Universidad de Antioquia"
      ]
    },
    {
      "cell_type": "markdown",
      "metadata": {
        "id": "4GK6iJ1CKS8o"
      },
      "source": [
        "Por favor, ingrese la siguiente información:\n",
        "\n",
        "**Nombre Completo:**\n",
        "\n",
        "**Cédula:**\n",
        "\n",
        "**Correo Institucional:**"
      ]
    },
    {
      "cell_type": "markdown",
      "metadata": {
        "id": "UlYY1g0lKhz_"
      },
      "source": [
        "# **Análisis de ventas y garantías**\n",
        "\n",
        "Una reconocida empresa de electrodomésticos caracterizada por la calidad de sus productos, desea analizar la información relacionada con los servicios de venta y garantía prestados a sus clientes.\n",
        "\n",
        "\n",
        "La empresa cuenta con tiendas físicas y virtuales distribuidas a lo largo del país y su objetivo es canalizar la información relacionada con los servicios ofrecidos incluyendo los comentarios y calificaciones que logra recoger de cada uno de los servicios prestados.\n",
        "\n",
        "Se solicita su ayuda para realizar las siguientes actividades:\n"
      ]
    },
    {
      "cell_type": "markdown",
      "metadata": {
        "id": "GAyH6mgGK3VA"
      },
      "source": [
        "## **A) Definición de variables a recolectar**\n"
      ]
    },
    {
      "cell_type": "markdown",
      "metadata": {
        "id": "F-njqbnTM2To"
      },
      "source": [
        "Defina las variables que se deben recolectar en cada servicio de venta y de garantía."
      ]
    },
    {
      "cell_type": "markdown",
      "metadata": {
        "id": "eLJiOOBInIlV"
      },
      "source": [
        "### Venta\n",
        "- [ ] codigo producto\n",
        "- [ ] producto\n",
        "- [ ] factura (cod venta)\n",
        "- [ ] ced cliente\n",
        "- [ ] nombre cliente\n",
        "- [ ] Fecha de venta\n",
        "- [ ] Tiempo de garantia\n",
        "- [ ] Valor\n",
        "- [ ] Tipo de tienda (fisica/virtual)\n",
        "- [ ] Ciudad\n",
        "- [ ] Sede\n",
        "- [ ] entrega (fisica/envio)\n",
        "- [ ] Comentario\n",
        "- [ ] Calificacion\n",
        "- [ ] Vendedor\n",
        "\n",
        "### Garantia\n",
        "- [ ] factura (cod venta)\n",
        "- [ ] fecha de compra ()\n",
        "- [ ] Tipo de garantia ()\n",
        "- [ ] Comentario\n",
        "- [ ] Calificacion\n",
        "- [ ] Detalle de la garantia\n"
      ]
    },
    {
      "cell_type": "markdown",
      "metadata": {
        "id": "HGwierHTLFt3"
      },
      "source": [
        "## **B) Simulación de datos**"
      ]
    },
    {
      "cell_type": "markdown",
      "metadata": {
        "id": "PfNZA5UdNPbv"
      },
      "source": [
        "Cada integrante del grupo debe diligenciar la información definida en el punto anterior para un servicio de venta y/o garantía"
      ]
    },
    {
      "cell_type": "markdown",
      "metadata": {
        "id": "7p16PjRbqhH5"
      },
      "source": [
        "### Tabla ventas\n",
        "\n",
        "|item|cod_producto|producto|cod_venta|ced_cliente|nombre cliente|fecha_venta|tipo_garantia|tiempo_garantia|valor_venta|tipo_tienda|ciudad|sede|entrega|vendedor|calificacion|Comentario|\n",
        "|---|---|---|---|---|---|---|---|---|---|---|---|---|---|---|---|---|\n",
        "|1|122568|Ventilador|78546987|98583652|Jairo Agudelo M|24/12/2024,|Normal|12|325000|Física|Santa Rosa|Centro|En tienda|José Arango|2|Muy mal asesoramiento del vendedor|\n",
        "|2|45869|Cafetera|45876|78586325|Henry Arcila|23/01/2025|Extendida|6|235000|Física|Santuario|San Joaquín|En tienda|Mary Estrada|5|Muy buen servicio|\n",
        "\n",
        "### Tabla garantia\n",
        "\n",
        "|item|cod_venta|fecha_compra|tipo_garantia|tiempo_garantia(m)|calificacion|comentarios|detalle_garantia|\n",
        "|---|---|---|---|---|---|---|---|\n",
        "|1|78546987|24/12/2024|Normal|12|3|Demora en la entrega del producto|Cambio de motor|\n",
        "|2|45876|23/01/2025|Extendida|6|5|Buen servicio|Cambio de tablero de control|\n",
        "\n"
      ]
    },
    {
      "cell_type": "markdown",
      "metadata": {
        "id": "pDX41ab4LO7g"
      },
      "source": [
        "## **C) Representación de datos en distintos lenguajes**"
      ]
    },
    {
      "cell_type": "markdown",
      "metadata": {
        "id": "bSlgm0j-NQjn"
      },
      "source": [
        "Represente los datos en un diccionario\n",
        "\n",
        "*   Convierta los datos a formato JSON y guardelos en un archivo\n",
        "*   Convierta los datos a formato XML y guardelos en un archivo\n",
        "*   Convierta los datos a formato YAML y guardelos en un archivo\n",
        "\n",
        "\n"
      ]
    },
    {
      "cell_type": "markdown",
      "metadata": {
        "id": "g4TaVNBHzMJm"
      },
      "source": [
        "### Representacion de los datos en un diccionario\n",
        "\n",
        "Tomando como base las tablas definidas previamente se crearon los siguientes diccionarios:"
      ]
    },
    {
      "cell_type": "code",
      "execution_count": 5,
      "metadata": {
        "id": "qjgcRvGqIOIs"
      },
      "outputs": [],
      "source": [
        "ROOT_PATH = \"./\""
      ]
    },
    {
      "cell_type": "code",
      "execution_count": 6,
      "metadata": {
        "id": "jXPUTfcpzbUw"
      },
      "outputs": [],
      "source": [
        "# Dicionatio ventas\n",
        "ventas = {\n",
        "    \"1\" : { \"cod_producto\" :\"45869\",\n",
        "            \"producto\" : \"Cafetera\",\n",
        "            \"cod_venta\" : \"45876\",\n",
        "            \"ced_cliente\" : \"78586325\",\n",
        "            \"nombre_cliente\" : \"Henry Arcila\",\n",
        "            \"fecha_venta\" : \"23/01/2025\",\n",
        "            \"tipo_garantia\" : \"Extendida\",\n",
        "            \"tiempo_garantia\" : 12,\n",
        "            \"valor_venta\" : 235000,\n",
        "            \"tipo_tienda\" : \"Física\",\n",
        "            \"ciudad sede\": \"Santuario\",\n",
        "            \"sede\" : \"San Joaquín\",\n",
        "            \"entrega\" : \"En tienda\",\n",
        "            \"vendedor\" : \"Mary Estrada\",\n",
        "            \"calificacion_servicio\" : 5,\n",
        "            \"comentario_servicio\" : \"Muy buen servicio\"\n",
        "        },\n",
        "        \"2\" : {\n",
        "            \"cod_producto\" : \"122568\",\n",
        "            \"producto\" : \"Ventilador\",\n",
        "            \"cod_venta\" : \"78546987\",\n",
        "            \"ced_cliente\" : \"98583652\",\n",
        "            \"nombre_cliente\" : \"Jairo Agudelo M\",\n",
        "            \"fecha_venta\" : \"24/12/2024\",\n",
        "            \"tipo_garantia\" : \"Normal\",\n",
        "            \"tiempo_garantia\" : 6,\n",
        "            \"valor_venta\" : 325000,\n",
        "            \"tipo_tienda\" : \"Física\",\n",
        "            \"ciudad_sede\" : \"Santa Rosa\",\n",
        "            \"sede\" : \"Centro\",\n",
        "            \"entrega\" : \"En tienda\",\n",
        "            \"vendedor\" : \"José Arango\",\n",
        "            \"calificacion_servicio\" : 2,\n",
        "            \"Comentario_servicio\" : \"Muy mal asesoramiento del vendedor\",\n",
        "        }\n",
        "    }\n",
        "\n",
        "# Diccionario garantias\n",
        "\n",
        "garantias = {\"1\" :\n",
        "                {\"cod_venta\" : \"78546987\",\n",
        "                    \"fecha_compra\" : \"24/12/2024\",\n",
        "                    \"tipo_garantia\" : \"Normal\",\n",
        "                    \"tiempo_garantia\" : 12,\n",
        "                    \"calificacion\" : 3,\n",
        "                    \"comentarios\" : \"Demora en la entrega del producto\",\n",
        "                    \"detalle_garantia\" : \"Cambio de motor\"\n",
        "                },\n",
        "            \"2\" : {\"cod_venta\" : \"45876\",\n",
        "                    \"fecha_compra\" : \"23/01/2025\",\n",
        "                    \"tipo_garantia\" : \"Extendida\",\n",
        "                    \"tiempo_garantia\" : 6,\n",
        "                    \"calificacion\" : 5,\n",
        "                    \"comentarios\" : \"Buen servicio\",\n",
        "                    \"detalle_garantia\" : \"Cambio de tablero de control\"\n",
        "                }\n",
        "            }"
      ]
    },
    {
      "cell_type": "markdown",
      "metadata": {
        "id": "M6p1CQWRIOIs"
      },
      "source": [
        "Ahora, a partir de estos se va a proceder a realizar las tareas de serialización y deserializacion para los formatos JSON, XML y YAML."
      ]
    },
    {
      "cell_type": "markdown",
      "metadata": {
        "id": "hePQQBmJ1Oo3"
      },
      "source": [
        "### Formato json"
      ]
    },
    {
      "cell_type": "code",
      "execution_count": 7,
      "metadata": {
        "id": "sbIHRMwRIOIt"
      },
      "outputs": [],
      "source": [
        "# Modulos necesarios\n",
        "import json"
      ]
    },
    {
      "cell_type": "markdown",
      "metadata": {
        "id": "mEjm8tCiIOIt"
      },
      "source": [
        "Despliegue de los datos antes de serializarlos"
      ]
    },
    {
      "cell_type": "code",
      "execution_count": 8,
      "metadata": {
        "colab": {
          "base_uri": "https://localhost:8080/"
        },
        "id": "vweImM54IOIt",
        "outputId": "3784e444-0a82-4cf3-abaf-8d097f4ad69e"
      },
      "outputs": [
        {
          "name": "stdout",
          "output_type": "stream",
          "text": [
            "---- Diccionario ventas ----\n",
            "-> Ventas 1:\n",
            "{'cod_producto': '45869', 'producto': 'Cafetera', 'cod_venta': '45876', 'ced_cliente': '78586325', 'nombre_cliente': 'Henry Arcila', 'fecha_venta': '23/01/2025', 'tipo_garantia': 'Extendida', 'tiempo_garantia': 12, 'valor_venta': 235000, 'tipo_tienda': 'Física', 'ciudad sede': 'Santuario', 'sede': 'San Joaquín', 'entrega': 'En tienda', 'vendedor': 'Mary Estrada', 'calificacion_servicio': 5, 'comentario_servicio': 'Muy buen servicio'}\n",
            "-> Ventas 2:\n",
            "{'cod_producto': '122568', 'producto': 'Ventilador', 'cod_venta': '78546987', 'ced_cliente': '98583652', 'nombre_cliente': 'Jairo Agudelo M', 'fecha_venta': '24/12/2024', 'tipo_garantia': 'Normal', 'tiempo_garantia': 6, 'valor_venta': 325000, 'tipo_tienda': 'Física', 'ciudad_sede': 'Santa Rosa', 'sede': 'Centro', 'entrega': 'En tienda', 'vendedor': 'José Arango', 'calificacion_servicio': 2, 'Comentario_servicio': 'Muy mal asesoramiento del vendedor'}\n",
            "\n",
            "\n",
            "---- Diccionario garantias ----\n",
            "-> Garantias 1:\n",
            "{'cod_venta': '78546987', 'fecha_compra': '24/12/2024', 'tipo_garantia': 'Normal', 'tiempo_garantia': 12, 'calificacion': 3, 'comentarios': 'Demora en la entrega del producto', 'detalle_garantia': 'Cambio de motor'}\n",
            "-> Garantias 2:\n",
            "{'cod_venta': '45876', 'fecha_compra': '23/01/2025', 'tipo_garantia': 'Extendida', 'tiempo_garantia': 6, 'calificacion': 5, 'comentarios': 'Buen servicio', 'detalle_garantia': 'Cambio de tablero de control'}\n"
          ]
        }
      ],
      "source": [
        "print(\"---- Diccionario ventas ----\")\n",
        "for k in ventas:\n",
        "    print(f\"-> Ventas {k}:\\n{ventas[k]}\")\n",
        "print()\n",
        "print(\"\\n---- Diccionario garantias ----\")\n",
        "for k in garantias:\n",
        "    print(f\"-> Garantias {k}:\\n{garantias[k]}\")\n",
        "\n"
      ]
    },
    {
      "cell_type": "markdown",
      "metadata": {
        "id": "3NJz4_8NIOIu"
      },
      "source": [
        "#### Serializacion\n",
        "\n",
        "A continuación se serializan los datos como un str JSON y se almacenan:"
      ]
    },
    {
      "cell_type": "code",
      "execution_count": 9,
      "metadata": {
        "colab": {
          "base_uri": "https://localhost:8080/"
        },
        "id": "Ers4QmqO1Q-f",
        "outputId": "69903dec-45b4-4d0f-896b-bd89c146defa"
      },
      "outputs": [
        {
          "name": "stdout",
          "output_type": "stream",
          "text": [
            "---- String JSON ventas ----\n",
            "<class 'str'>\n",
            "{\"1\": {\"cod_producto\": \"45869\", \"producto\": \"Cafetera\", \"cod_venta\": \"45876\", \"ced_cliente\": \"78586325\", \"nombre_cliente\": \"Henry Arcila\", \"fecha_venta\": \"23/01/2025\", \"tipo_garantia\": \"Extendida\", \"tiempo_garantia\": 12, \"valor_venta\": 235000, \"tipo_tienda\": \"F\\u00edsica\", \"ciudad sede\": \"Santuario\", \"sede\": \"San Joaqu\\u00edn\", \"entrega\": \"En tienda\", \"vendedor\": \"Mary Estrada\", \"calificacion_servicio\": 5, \"comentario_servicio\": \"Muy buen servicio\"}, \"2\": {\"cod_producto\": \"122568\", \"producto\": \"Ventilador\", \"cod_venta\": \"78546987\", \"ced_cliente\": \"98583652\", \"nombre_cliente\": \"Jairo Agudelo M\", \"fecha_venta\": \"24/12/2024\", \"tipo_garantia\": \"Normal\", \"tiempo_garantia\": 6, \"valor_venta\": 325000, \"tipo_tienda\": \"F\\u00edsica\", \"ciudad_sede\": \"Santa Rosa\", \"sede\": \"Centro\", \"entrega\": \"En tienda\", \"vendedor\": \"Jos\\u00e9 Arango\", \"calificacion_servicio\": 2, \"Comentario_servicio\": \"Muy mal asesoramiento del vendedor\"}}\n",
            "---- String JSON garantias ----\n",
            "<class 'str'>\n",
            "{\"1\": {\"cod_venta\": \"78546987\", \"fecha_compra\": \"24/12/2024\", \"tipo_garantia\": \"Normal\", \"tiempo_garantia\": 12, \"calificacion\": 3, \"comentarios\": \"Demora en la entrega del producto\", \"detalle_garantia\": \"Cambio de motor\"}, \"2\": {\"cod_venta\": \"45876\", \"fecha_compra\": \"23/01/2025\", \"tipo_garantia\": \"Extendida\", \"tiempo_garantia\": 6, \"calificacion\": 5, \"comentarios\": \"Buen servicio\", \"detalle_garantia\": \"Cambio de tablero de control\"}}\n"
          ]
        }
      ],
      "source": [
        "# Diccionarios a JSON string (serializacion)\n",
        "ventas_str = json.dumps(ventas)\n",
        "garantias_str = json.dumps(garantias)\n",
        "\n",
        "# Se muestran los strings generados y sus tipos\n",
        "print(\"---- String JSON ventas ----\")\n",
        "print(type(ventas_str))\n",
        "print(ventas_str)\n",
        "print(\"---- String JSON garantias ----\")\n",
        "print(type(garantias_str))\n",
        "print(garantias_str)\n",
        "\n",
        "\n",
        "# Se guarda el archivo ventas\n",
        "ventas_json = open(ROOT_PATH + \"ventas.json\", \"w\")\n",
        "ventas_json.write(ventas_str)\n",
        "ventas_json.close()\n",
        "\n",
        "# Se guarda el archivo garantias\n",
        "garantias_json =  open(ROOT_PATH + \"garantias.json\", \"w\")\n",
        "garantias_json.write(garantias_str)\n",
        "garantias_json.close()\n"
      ]
    },
    {
      "cell_type": "markdown",
      "metadata": {
        "id": "4y7tQMgIIOIu"
      },
      "source": [
        "#### Deserializacion"
      ]
    },
    {
      "cell_type": "markdown",
      "metadata": {
        "id": "NyXeLhfFIOIu"
      },
      "source": [
        "Se cargan los archivos JSON y luego se muestra su contenido:"
      ]
    },
    {
      "cell_type": "code",
      "execution_count": 10,
      "metadata": {
        "colab": {
          "base_uri": "https://localhost:8080/"
        },
        "id": "ryYfOKLR2pqT",
        "outputId": "44de3505-a014-442f-b1b8-7838275ac7d6"
      },
      "outputs": [
        {
          "name": "stdout",
          "output_type": "stream",
          "text": [
            "---- Ventas deserializadas ----\n",
            "<class 'dict'>\n",
            "{'1': {'cod_producto': '45869', 'producto': 'Cafetera', 'cod_venta': '45876', 'ced_cliente': '78586325', 'nombre_cliente': 'Henry Arcila', 'fecha_venta': '23/01/2025', 'tipo_garantia': 'Extendida', 'tiempo_garantia': 12, 'valor_venta': 235000, 'tipo_tienda': 'Física', 'ciudad sede': 'Santuario', 'sede': 'San Joaquín', 'entrega': 'En tienda', 'vendedor': 'Mary Estrada', 'calificacion_servicio': 5, 'comentario_servicio': 'Muy buen servicio'}, '2': {'cod_producto': '122568', 'producto': 'Ventilador', 'cod_venta': '78546987', 'ced_cliente': '98583652', 'nombre_cliente': 'Jairo Agudelo M', 'fecha_venta': '24/12/2024', 'tipo_garantia': 'Normal', 'tiempo_garantia': 6, 'valor_venta': 325000, 'tipo_tienda': 'Física', 'ciudad_sede': 'Santa Rosa', 'sede': 'Centro', 'entrega': 'En tienda', 'vendedor': 'José Arango', 'calificacion_servicio': 2, 'Comentario_servicio': 'Muy mal asesoramiento del vendedor'}}\n",
            "---- Garantias deserializadas ----\n",
            "<class 'dict'>\n",
            "{'1': {'cod_venta': '78546987', 'fecha_compra': '24/12/2024', 'tipo_garantia': 'Normal', 'tiempo_garantia': 12, 'calificacion': 3, 'comentarios': 'Demora en la entrega del producto', 'detalle_garantia': 'Cambio de motor'}, '2': {'cod_venta': '45876', 'fecha_compra': '23/01/2025', 'tipo_garantia': 'Extendida', 'tiempo_garantia': 6, 'calificacion': 5, 'comentarios': 'Buen servicio', 'detalle_garantia': 'Cambio de tablero de control'}}\n"
          ]
        }
      ],
      "source": [
        "## Carga de archivos\n",
        "# --------------- Ventas ---------------\n",
        "json_ventas_file = open(ROOT_PATH + \"ventas.json\", \"r\")\n",
        "ventas_copia_str = json_ventas_file.read()\n",
        "json_ventas_file.close()\n",
        "\n",
        "# --------------- Garantias ---------------\n",
        "json_garantia_file=open(ROOT_PATH + \"garantias.json\", \"r\")\n",
        "garantias_copia_str=json_garantia_file.read()\n",
        "json_garantia_file.close()\n",
        "\n",
        "## Deserialización\n",
        "ventas_copia=json.loads(ventas_copia_str)\n",
        "garantias_copia=json.loads(garantias_copia_str)\n",
        "\n",
        "## Despliegue de los datos deserializados y sus tipos\n",
        "print(\"---- Ventas deserializadas ----\")\n",
        "print(type(ventas_copia))\n",
        "print(ventas_copia)\n",
        "print(\"---- Garantias deserializadas ----\")\n",
        "print(type(garantias_copia))\n",
        "print(garantias_copia)"
      ]
    },
    {
      "cell_type": "markdown",
      "metadata": {
        "id": "0BGX5yBFIOIv"
      },
      "source": [
        "Finalmente se comparan los datos deserializados con el dato original (antes de ser serializado):"
      ]
    },
    {
      "cell_type": "code",
      "execution_count": 11,
      "metadata": {
        "colab": {
          "base_uri": "https://localhost:8080/"
        },
        "id": "3tRrlGydIOIv",
        "outputId": "47afee76-5b5f-4918-aedc-d2a8720f85cd"
      },
      "outputs": [
        {
          "name": "stdout",
          "output_type": "stream",
          "text": [
            "ventas == ventas_copia: True\n",
            "garantias == garantias_copia: True\n"
          ]
        }
      ],
      "source": [
        "print(f\"ventas == ventas_copia: {ventas == ventas_copia}\")\n",
        "print(f\"garantias == garantias_copia: {garantias == garantias_copia}\")"
      ]
    },
    {
      "cell_type": "markdown",
      "metadata": {
        "id": "xRjOolXo4jb5"
      },
      "source": [
        "### Formato XML"
      ]
    },
    {
      "cell_type": "code",
      "execution_count": 12,
      "metadata": {
        "id": "jeAPIOAV4pcy"
      },
      "outputs": [],
      "source": [
        "# Verificacion e instalación de modulos necesarios\n",
        "try:\n",
        "    import xmltodict\n",
        "except ImportError:\n",
        "    !pip install xmltodict\n",
        "\n",
        "try:\n",
        "    import dicttoxml\n",
        "except ImportError:\n",
        "    !pip install dicttoxml"
      ]
    },
    {
      "cell_type": "code",
      "execution_count": 13,
      "metadata": {
        "id": "w_VDvmpL4ryT"
      },
      "outputs": [],
      "source": [
        "# Se importan los modulos necesarios\n",
        "from dicttoxml import dicttoxml\n",
        "import xmltodict\n",
        "from xml.dom.minidom import parseString"
      ]
    },
    {
      "cell_type": "markdown",
      "metadata": {
        "id": "z15temGNIOIw"
      },
      "source": [
        "Como en el punto anterior se van a mostrar los datos originales antes de empezar:"
      ]
    },
    {
      "cell_type": "code",
      "execution_count": 14,
      "metadata": {
        "colab": {
          "base_uri": "https://localhost:8080/"
        },
        "id": "FzUEu5w2IOIx",
        "outputId": "b6ac48fd-48d6-4bb2-b5ca-bc4363373282"
      },
      "outputs": [
        {
          "name": "stdout",
          "output_type": "stream",
          "text": [
            "---- Diccionario ventas ----\n",
            "-> Ventas 1:\n",
            "{'cod_producto': '45869', 'producto': 'Cafetera', 'cod_venta': '45876', 'ced_cliente': '78586325', 'nombre_cliente': 'Henry Arcila', 'fecha_venta': '23/01/2025', 'tipo_garantia': 'Extendida', 'tiempo_garantia': 12, 'valor_venta': 235000, 'tipo_tienda': 'Física', 'ciudad sede': 'Santuario', 'sede': 'San Joaquín', 'entrega': 'En tienda', 'vendedor': 'Mary Estrada', 'calificacion_servicio': 5, 'comentario_servicio': 'Muy buen servicio'}\n",
            "-> Ventas 2:\n",
            "{'cod_producto': '122568', 'producto': 'Ventilador', 'cod_venta': '78546987', 'ced_cliente': '98583652', 'nombre_cliente': 'Jairo Agudelo M', 'fecha_venta': '24/12/2024', 'tipo_garantia': 'Normal', 'tiempo_garantia': 6, 'valor_venta': 325000, 'tipo_tienda': 'Física', 'ciudad_sede': 'Santa Rosa', 'sede': 'Centro', 'entrega': 'En tienda', 'vendedor': 'José Arango', 'calificacion_servicio': 2, 'Comentario_servicio': 'Muy mal asesoramiento del vendedor'}\n",
            "\n",
            "\n",
            "---- Diccionario garantias ----\n",
            "-> Garantias 1:\n",
            "{'cod_venta': '78546987', 'fecha_compra': '24/12/2024', 'tipo_garantia': 'Normal', 'tiempo_garantia': 12, 'calificacion': 3, 'comentarios': 'Demora en la entrega del producto', 'detalle_garantia': 'Cambio de motor'}\n",
            "-> Garantias 2:\n",
            "{'cod_venta': '45876', 'fecha_compra': '23/01/2025', 'tipo_garantia': 'Extendida', 'tiempo_garantia': 6, 'calificacion': 5, 'comentarios': 'Buen servicio', 'detalle_garantia': 'Cambio de tablero de control'}\n"
          ]
        }
      ],
      "source": [
        "print(\"---- Diccionario ventas ----\")\n",
        "for k in ventas:\n",
        "    print(f\"-> Ventas {k}:\\n{ventas[k]}\")\n",
        "print()\n",
        "print(\"\\n---- Diccionario garantias ----\")\n",
        "for k in garantias:\n",
        "    print(f\"-> Garantias {k}:\\n{garantias[k]}\")"
      ]
    },
    {
      "cell_type": "markdown",
      "metadata": {
        "id": "S-hU1GvHIOIx"
      },
      "source": [
        "#### Serializacion"
      ]
    },
    {
      "cell_type": "code",
      "execution_count": 15,
      "metadata": {
        "id": "fnA7WG324vr8"
      },
      "outputs": [],
      "source": [
        "# Diccionarios a XML (serializacion)\n",
        "# ventas_xml_bytes = dicttoxml(ventas)\n",
        "ventas_xml_bytes = dicttoxml(ventas, custom_root='ventas', attr_type = False)\n",
        "# ventas_xml_bytes = dicttoxml(garantias)\n",
        "garantias_xml_bytes = dicttoxml(garantias, custom_root='garantias', attr_type = False)"
      ]
    },
    {
      "cell_type": "markdown",
      "metadata": {
        "id": "kdeyjyPJIOIx"
      },
      "source": [
        "A continuación se muestran los datos para ver el resultado de la serialización XML:"
      ]
    },
    {
      "cell_type": "code",
      "execution_count": 16,
      "metadata": {
        "colab": {
          "base_uri": "https://localhost:8080/"
        },
        "id": "ktTMC8lAIOIx",
        "outputId": "52f9b59a-6cfc-4d3b-b933-1d232d9eb0cb"
      },
      "outputs": [
        {
          "name": "stdout",
          "output_type": "stream",
          "text": [
            "---- bytes XML ventas ----\n",
            "tipo: <class 'bytes'>\n",
            "b'<?xml version=\"1.0\" encoding=\"UTF-8\" ?><ventas><n1><cod_producto>45869</cod_producto><producto>Cafetera</producto><cod_venta>45876</cod_venta><ced_cliente>78586325</ced_cliente><nombre_cliente>Henry Arcila</nombre_cliente><fecha_venta>23/01/2025</fecha_venta><tipo_garantia>Extendida</tipo_garantia><tiempo_garantia>12</tiempo_garantia><valor_venta>235000</valor_venta><tipo_tienda>F\\xc3\\xadsica</tipo_tienda><ciudad_sede>Santuario</ciudad_sede><sede>San Joaqu\\xc3\\xadn</sede><entrega>En tienda</entrega><vendedor>Mary Estrada</vendedor><calificacion_servicio>5</calificacion_servicio><comentario_servicio>Muy buen servicio</comentario_servicio></n1><n2><cod_producto>122568</cod_producto><producto>Ventilador</producto><cod_venta>78546987</cod_venta><ced_cliente>98583652</ced_cliente><nombre_cliente>Jairo Agudelo M</nombre_cliente><fecha_venta>24/12/2024</fecha_venta><tipo_garantia>Normal</tipo_garantia><tiempo_garantia>6</tiempo_garantia><valor_venta>325000</valor_venta><tipo_tienda>F\\xc3\\xadsica</tipo_tienda><ciudad_sede>Santa Rosa</ciudad_sede><sede>Centro</sede><entrega>En tienda</entrega><vendedor>Jos\\xc3\\xa9 Arango</vendedor><calificacion_servicio>2</calificacion_servicio><Comentario_servicio>Muy mal asesoramiento del vendedor</Comentario_servicio></n2></ventas>'\n",
            "---- bytes XML garantias ----\n",
            "tipo: <class 'bytes'>\n",
            "b'<?xml version=\"1.0\" encoding=\"UTF-8\" ?><garantias><n1><cod_venta>78546987</cod_venta><fecha_compra>24/12/2024</fecha_compra><tipo_garantia>Normal</tipo_garantia><tiempo_garantia>12</tiempo_garantia><calificacion>3</calificacion><comentarios>Demora en la entrega del producto</comentarios><detalle_garantia>Cambio de motor</detalle_garantia></n1><n2><cod_venta>45876</cod_venta><fecha_compra>23/01/2025</fecha_compra><tipo_garantia>Extendida</tipo_garantia><tiempo_garantia>6</tiempo_garantia><calificacion>5</calificacion><comentarios>Buen servicio</comentarios><detalle_garantia>Cambio de tablero de control</detalle_garantia></n2></garantias>'\n",
            "\n",
            "---- String XML ventas ----\n",
            "tipo: <class 'xml.dom.minidom.Document'>\n",
            "\n",
            "<?xml version=\"1.0\" ?>\n",
            "<ventas>\n",
            "\t<n1>\n",
            "\t\t<cod_producto>45869</cod_producto>\n",
            "\t\t<producto>Cafetera</producto>\n",
            "\t\t<cod_venta>45876</cod_venta>\n",
            "\t\t<ced_cliente>78586325</ced_cliente>\n",
            "\t\t<nombre_cliente>Henry Arcila</nombre_cliente>\n",
            "\t\t<fecha_venta>23/01/2025</fecha_venta>\n",
            "\t\t<tipo_garantia>Extendida</tipo_garantia>\n",
            "\t\t<tiempo_garantia>12</tiempo_garantia>\n",
            "\t\t<valor_venta>235000</valor_venta>\n",
            "\t\t<tipo_tienda>Física</tipo_tienda>\n",
            "\t\t<ciudad_sede>Santuario</ciudad_sede>\n",
            "\t\t<sede>San Joaquín</sede>\n",
            "\t\t<entrega>En tienda</entrega>\n",
            "\t\t<vendedor>Mary Estrada</vendedor>\n",
            "\t\t<calificacion_servicio>5</calificacion_servicio>\n",
            "\t\t<comentario_servicio>Muy buen servicio</comentario_servicio>\n",
            "\t</n1>\n",
            "\t<n2>\n",
            "\t\t<cod_producto>122568</cod_producto>\n",
            "\t\t<producto>Ventilador</producto>\n",
            "\t\t<cod_venta>78546987</cod_venta>\n",
            "\t\t<ced_cliente>98583652</ced_cliente>\n",
            "\t\t<nombre_cliente>Jairo Agudelo M</nombre_cliente>\n",
            "\t\t<fecha_venta>24/12/2024</fecha_venta>\n",
            "\t\t<tipo_garantia>Normal</tipo_garantia>\n",
            "\t\t<tiempo_garantia>6</tiempo_garantia>\n",
            "\t\t<valor_venta>325000</valor_venta>\n",
            "\t\t<tipo_tienda>Física</tipo_tienda>\n",
            "\t\t<ciudad_sede>Santa Rosa</ciudad_sede>\n",
            "\t\t<sede>Centro</sede>\n",
            "\t\t<entrega>En tienda</entrega>\n",
            "\t\t<vendedor>José Arango</vendedor>\n",
            "\t\t<calificacion_servicio>2</calificacion_servicio>\n",
            "\t\t<Comentario_servicio>Muy mal asesoramiento del vendedor</Comentario_servicio>\n",
            "\t</n2>\n",
            "</ventas>\n",
            "\n",
            "---- String XML garantias ----\n",
            "tipo: <class 'xml.dom.minidom.Document'>\n",
            "\n",
            "<?xml version=\"1.0\" ?>\n",
            "<garantias>\n",
            "\t<n1>\n",
            "\t\t<cod_venta>78546987</cod_venta>\n",
            "\t\t<fecha_compra>24/12/2024</fecha_compra>\n",
            "\t\t<tipo_garantia>Normal</tipo_garantia>\n",
            "\t\t<tiempo_garantia>12</tiempo_garantia>\n",
            "\t\t<calificacion>3</calificacion>\n",
            "\t\t<comentarios>Demora en la entrega del producto</comentarios>\n",
            "\t\t<detalle_garantia>Cambio de motor</detalle_garantia>\n",
            "\t</n1>\n",
            "\t<n2>\n",
            "\t\t<cod_venta>45876</cod_venta>\n",
            "\t\t<fecha_compra>23/01/2025</fecha_compra>\n",
            "\t\t<tipo_garantia>Extendida</tipo_garantia>\n",
            "\t\t<tiempo_garantia>6</tiempo_garantia>\n",
            "\t\t<calificacion>5</calificacion>\n",
            "\t\t<comentarios>Buen servicio</comentarios>\n",
            "\t\t<detalle_garantia>Cambio de tablero de control</detalle_garantia>\n",
            "\t</n2>\n",
            "</garantias>\n",
            "\n"
          ]
        }
      ],
      "source": [
        "# Se muestran los strings XML generados y sus tipos\n",
        "print(\"---- bytes XML ventas ----\")\n",
        "print(f\"tipo: {type(ventas_xml_bytes)}\")\n",
        "print(ventas_xml_bytes)\n",
        "print(\"---- bytes XML garantias ----\")\n",
        "print(f\"tipo: {type(garantias_xml_bytes)}\")\n",
        "print(garantias_xml_bytes)\n",
        "print()\n",
        "\n",
        "# Formateo de la cadena XML a DOM (legibilidad)\n",
        "print(\"---- String XML ventas ----\")\n",
        "dom_ventas = parseString(ventas_xml_bytes)\n",
        "print(f\"tipo: {type(dom_ventas)}\")\n",
        "print()\n",
        "print(dom_ventas.toprettyxml())\n",
        "print(\"---- String XML garantias ----\")\n",
        "dom_garantias = parseString(garantias_xml_bytes)\n",
        "print(f\"tipo: {type(dom_garantias)}\")\n",
        "print()\n",
        "print(dom_garantias.toprettyxml())"
      ]
    },
    {
      "cell_type": "markdown",
      "metadata": {
        "id": "KLgy7bhbIOIy"
      },
      "source": [
        "Ahora se va a proceder crear los archivos XML que almacenaran los datos serializados."
      ]
    },
    {
      "cell_type": "code",
      "execution_count": 17,
      "metadata": {
        "id": "TPYzrzPw43kU"
      },
      "outputs": [],
      "source": [
        "# Almacenamiento en memoria\n",
        "\n",
        "# Ventas\n",
        "ventas_xml_decode = ventas_xml_bytes.decode(\"utf-8\")\n",
        "ventas_xml_file = open(ROOT_PATH + \"ventas.xml\", \"w\")\n",
        "ventas_xml_file.write(ventas_xml_decode)\n",
        "ventas_xml_file.close()\n",
        "\n",
        "# Garantias\n",
        "garantias_xml_decode = garantias_xml_bytes.decode(\"utf-8\")\n",
        "garantia_xml_file = open(ROOT_PATH + \"garantias.xml\", \"w\")\n",
        "garantia_xml_file.write(garantias_xml_decode)\n",
        "garantia_xml_file.close()"
      ]
    },
    {
      "cell_type": "markdown",
      "metadata": {
        "id": "4FCVSALn9fFc"
      },
      "source": [
        "#### Deserializacion\n",
        "\n",
        "Primero se leen los archivos XML y despues se deserializan para volverlos diccionarios."
      ]
    },
    {
      "cell_type": "code",
      "execution_count": 18,
      "metadata": {
        "colab": {
          "base_uri": "https://localhost:8080/"
        },
        "id": "i1iKX7iM9jDl",
        "outputId": "d852a103-1cde-4fc7-90c7-bb5bb2f5aa54"
      },
      "outputs": [
        {
          "name": "stdout",
          "output_type": "stream",
          "text": [
            "---- Ventas deserializadas ----\n",
            "<class 'dict'>\n",
            "{'ventas': {'n1': {'cod_producto': '45869', 'producto': 'Cafetera', 'cod_venta': '45876', 'ced_cliente': '78586325', 'nombre_cliente': 'Henry Arcila', 'fecha_venta': '23/01/2025', 'tipo_garantia': 'Extendida', 'tiempo_garantia': '12', 'valor_venta': '235000', 'tipo_tienda': 'Física', 'ciudad_sede': 'Santuario', 'sede': 'San Joaquín', 'entrega': 'En tienda', 'vendedor': 'Mary Estrada', 'calificacion_servicio': '5', 'comentario_servicio': 'Muy buen servicio'}, 'n2': {'cod_producto': '122568', 'producto': 'Ventilador', 'cod_venta': '78546987', 'ced_cliente': '98583652', 'nombre_cliente': 'Jairo Agudelo M', 'fecha_venta': '24/12/2024', 'tipo_garantia': 'Normal', 'tiempo_garantia': '6', 'valor_venta': '325000', 'tipo_tienda': 'Física', 'ciudad_sede': 'Santa Rosa', 'sede': 'Centro', 'entrega': 'En tienda', 'vendedor': 'José Arango', 'calificacion_servicio': '2', 'Comentario_servicio': 'Muy mal asesoramiento del vendedor'}}}\n",
            "---- Garantias deserializadas ----\n",
            "<class 'dict'>\n",
            "{'garantias': {'n1': {'cod_venta': '78546987', 'fecha_compra': '24/12/2024', 'tipo_garantia': 'Normal', 'tiempo_garantia': '12', 'calificacion': '3', 'comentarios': 'Demora en la entrega del producto', 'detalle_garantia': 'Cambio de motor'}, 'n2': {'cod_venta': '45876', 'fecha_compra': '23/01/2025', 'tipo_garantia': 'Extendida', 'tiempo_garantia': '6', 'calificacion': '5', 'comentarios': 'Buen servicio', 'detalle_garantia': 'Cambio de tablero de control'}}}\n"
          ]
        }
      ],
      "source": [
        "# Lectuta de los archivos XML\n",
        "\n",
        "# Ventas\n",
        "ventas_xml_file = open(ROOT_PATH + \"ventas.xml\", \"r\")\n",
        "ventas_copia_str = ventas_xml_file.read()\n",
        "ventas_xml_file.close()\n",
        "# Garantias\n",
        "garantia_xml_file = open(ROOT_PATH + \"garantias.xml\", \"r\")\n",
        "garantia_copia_str= garantia_xml_file.read()\n",
        "garantia_xml_file.close()\n",
        "\n",
        "# Deserialización de las cadenas XML leidas\n",
        "ventas_copia2 = xmltodict.parse(ventas_copia_str)\n",
        "garantias_copia2 = xmltodict.parse(garantia_copia_str)\n",
        "\n",
        "# Despliegue de los datos deserializados y sus tipos\n",
        "\n",
        "## Despliegue de los datos deserializados y sus tipos\n",
        "print(\"---- Ventas deserializadas ----\")\n",
        "print(type(ventas_copia2))\n",
        "print(ventas_copia2)\n",
        "print(\"---- Garantias deserializadas ----\")\n",
        "print(type(garantias_copia2))\n",
        "print(garantias_copia2)"
      ]
    },
    {
      "cell_type": "markdown",
      "metadata": {
        "id": "b7YOYP6MIOI7"
      },
      "source": [
        "Finalmente se comparan los datos deserializados con el dato original (antes de ser serializado):"
      ]
    },
    {
      "cell_type": "code",
      "execution_count": 19,
      "metadata": {
        "colab": {
          "base_uri": "https://localhost:8080/"
        },
        "id": "y5wjhRjG_r2H",
        "outputId": "86a34132-9d15-48fd-da2b-4e8e7ff76383"
      },
      "outputs": [
        {
          "name": "stdout",
          "output_type": "stream",
          "text": [
            "ventas == ventas_copia2['ventas']: False\n",
            "garantias == garantias_copia2['garantias']: False\n"
          ]
        }
      ],
      "source": [
        "print(f\"ventas == ventas_copia2['ventas']: {ventas == ventas_copia2['ventas']}\")\n",
        "print(f\"garantias == garantias_copia2['garantias']: {garantias == garantias_copia2['garantias']}\")"
      ]
    },
    {
      "cell_type": "markdown",
      "metadata": {
        "id": "Boyhb0yIIOI8"
      },
      "source": [
        "Vemos que pese a que la estructura del diccionario obtenido al deserializar es la misma, la comparación es falsa ya que los del este son todos cadenas de caracteres."
      ]
    },
    {
      "cell_type": "markdown",
      "metadata": {
        "id": "0b8V-Qx6AQLE"
      },
      "source": [
        "### Formato YAML"
      ]
    },
    {
      "cell_type": "code",
      "execution_count": 20,
      "metadata": {
        "id": "9cPRytr0AUXr"
      },
      "outputs": [],
      "source": [
        "try:\n",
        "    import yaml\n",
        "except ImportError:\n",
        "    !pip install pyyaml"
      ]
    },
    {
      "cell_type": "code",
      "execution_count": 21,
      "metadata": {
        "id": "IGIR-b8cAdtc"
      },
      "outputs": [],
      "source": [
        "import yaml"
      ]
    },
    {
      "cell_type": "markdown",
      "metadata": {
        "id": "ZGdSAGFqBnCB"
      },
      "source": [
        "#### Serialización"
      ]
    },
    {
      "cell_type": "code",
      "execution_count": 22,
      "metadata": {
        "id": "KkyFUdE9BoEk"
      },
      "outputs": [],
      "source": [
        "# Diccionarios a YAML (serializacion)\n",
        "ventas_yaml_str = yaml.dump(ventas)\n",
        "garantias_yaml_str = yaml.dump(garantias)"
      ]
    },
    {
      "cell_type": "markdown",
      "metadata": {
        "id": "0_-9LnYeIOI9"
      },
      "source": [
        "Despliegue de los resultados en formato YAML despues de serializar:"
      ]
    },
    {
      "cell_type": "code",
      "execution_count": 23,
      "metadata": {
        "colab": {
          "base_uri": "https://localhost:8080/"
        },
        "id": "Mt2o_U2VIOI-",
        "outputId": "e2152104-61d6-43b8-b352-2fc63c9cbeb2"
      },
      "outputs": [
        {
          "name": "stdout",
          "output_type": "stream",
          "text": [
            "---- String YAML ventas ----\n",
            "\n",
            "tipo: <class 'str'>\n",
            "\n",
            "'1':\n",
            "  calificacion_servicio: 5\n",
            "  ced_cliente: '78586325'\n",
            "  ciudad sede: Santuario\n",
            "  cod_producto: '45869'\n",
            "  cod_venta: '45876'\n",
            "  comentario_servicio: Muy buen servicio\n",
            "  entrega: En tienda\n",
            "  fecha_venta: 23/01/2025\n",
            "  nombre_cliente: Henry Arcila\n",
            "  producto: Cafetera\n",
            "  sede: \"San Joaqu\\xEDn\"\n",
            "  tiempo_garantia: 12\n",
            "  tipo_garantia: Extendida\n",
            "  tipo_tienda: \"F\\xEDsica\"\n",
            "  valor_venta: 235000\n",
            "  vendedor: Mary Estrada\n",
            "'2':\n",
            "  Comentario_servicio: Muy mal asesoramiento del vendedor\n",
            "  calificacion_servicio: 2\n",
            "  ced_cliente: '98583652'\n",
            "  ciudad_sede: Santa Rosa\n",
            "  cod_producto: '122568'\n",
            "  cod_venta: '78546987'\n",
            "  entrega: En tienda\n",
            "  fecha_venta: 24/12/2024\n",
            "  nombre_cliente: Jairo Agudelo M\n",
            "  producto: Ventilador\n",
            "  sede: Centro\n",
            "  tiempo_garantia: 6\n",
            "  tipo_garantia: Normal\n",
            "  tipo_tienda: \"F\\xEDsica\"\n",
            "  valor_venta: 325000\n",
            "  vendedor: \"Jos\\xE9 Arango\"\n",
            "\n",
            "\n",
            "\n",
            "---- String YAML garantias ----\n",
            "\n",
            "tipo: <class 'str'>\n",
            "\n",
            "'1':\n",
            "  calificacion: 3\n",
            "  cod_venta: '78546987'\n",
            "  comentarios: Demora en la entrega del producto\n",
            "  detalle_garantia: Cambio de motor\n",
            "  fecha_compra: 24/12/2024\n",
            "  tiempo_garantia: 12\n",
            "  tipo_garantia: Normal\n",
            "'2':\n",
            "  calificacion: 5\n",
            "  cod_venta: '45876'\n",
            "  comentarios: Buen servicio\n",
            "  detalle_garantia: Cambio de tablero de control\n",
            "  fecha_compra: 23/01/2025\n",
            "  tiempo_garantia: 6\n",
            "  tipo_garantia: Extendida\n",
            "\n"
          ]
        }
      ],
      "source": [
        "print(\"---- String YAML ventas ----\")\n",
        "print()\n",
        "print(f\"tipo: {type(ventas_yaml_str)}\")\n",
        "print()\n",
        "print(ventas_yaml_str)\n",
        "print()\n",
        "print()\n",
        "print(\"---- String YAML garantias ----\")\n",
        "print()\n",
        "print(f\"tipo: {type(garantias_yaml_str)}\")\n",
        "print()\n",
        "print(garantias_yaml_str)"
      ]
    },
    {
      "cell_type": "markdown",
      "metadata": {
        "id": "gZZEhcKcIOI-"
      },
      "source": [
        "Almacenamiento de los datos serializados en un archivo"
      ]
    },
    {
      "cell_type": "code",
      "execution_count": 24,
      "metadata": {
        "id": "2EhKtRxLCvNw"
      },
      "outputs": [],
      "source": [
        "# --------------- Ventas ---------------\n",
        "ventas_yaml_file = open(\"ventas.yaml\", \"w\")\n",
        "ventas_yaml_file.write(ventas_yaml_str)\n",
        "ventas_yaml_file.close()\n",
        "\n",
        "# --------------- Garantia ---------------\n",
        "garantias_yaml_file = open(\"garantias.yaml\", \"w\")\n",
        "garantias_yaml_file.write(garantias_yaml_str)\n",
        "garantias_yaml_file.close()"
      ]
    },
    {
      "cell_type": "markdown",
      "metadata": {
        "id": "ApQ_gpemDE6i"
      },
      "source": [
        "#### Deserializacion"
      ]
    },
    {
      "cell_type": "markdown",
      "metadata": {
        "id": "fnyIh3H8IOI_"
      },
      "source": [
        "Inicialmente se hace la lectura de los archivos obteniendo el contenido de estos."
      ]
    },
    {
      "cell_type": "code",
      "execution_count": 25,
      "metadata": {
        "colab": {
          "base_uri": "https://localhost:8080/"
        },
        "id": "VHovKD9KDHKC",
        "outputId": "1c2775b8-c4b2-4794-959d-e5a1a19685b3"
      },
      "outputs": [
        {
          "name": "stdout",
          "output_type": "stream",
          "text": [
            "---- Ventas deserializadas ----\n",
            "<class 'dict'>\n",
            "{'1': {'calificacion_servicio': 5, 'ced_cliente': '78586325', 'ciudad sede': 'Santuario', 'cod_producto': '45869', 'cod_venta': '45876', 'comentario_servicio': 'Muy buen servicio', 'entrega': 'En tienda', 'fecha_venta': '23/01/2025', 'nombre_cliente': 'Henry Arcila', 'producto': 'Cafetera', 'sede': 'San Joaquín', 'tiempo_garantia': 12, 'tipo_garantia': 'Extendida', 'tipo_tienda': 'Física', 'valor_venta': 235000, 'vendedor': 'Mary Estrada'}, '2': {'Comentario_servicio': 'Muy mal asesoramiento del vendedor', 'calificacion_servicio': 2, 'ced_cliente': '98583652', 'ciudad_sede': 'Santa Rosa', 'cod_producto': '122568', 'cod_venta': '78546987', 'entrega': 'En tienda', 'fecha_venta': '24/12/2024', 'nombre_cliente': 'Jairo Agudelo M', 'producto': 'Ventilador', 'sede': 'Centro', 'tiempo_garantia': 6, 'tipo_garantia': 'Normal', 'tipo_tienda': 'Física', 'valor_venta': 325000, 'vendedor': 'José Arango'}}\n",
            "---- Garantias deserializadas ----\n",
            "<class 'dict'>\n",
            "{'1': {'calificacion': 3, 'cod_venta': '78546987', 'comentarios': 'Demora en la entrega del producto', 'detalle_garantia': 'Cambio de motor', 'fecha_compra': '24/12/2024', 'tiempo_garantia': 12, 'tipo_garantia': 'Normal'}, '2': {'calificacion': 5, 'cod_venta': '45876', 'comentarios': 'Buen servicio', 'detalle_garantia': 'Cambio de tablero de control', 'fecha_compra': '23/01/2025', 'tiempo_garantia': 6, 'tipo_garantia': 'Extendida'}}\n"
          ]
        }
      ],
      "source": [
        "# Lectuta de los archivos YAML\n",
        "\n",
        "# Ventas\n",
        "ventas_yaml_file = open(ROOT_PATH + \"ventas.yaml\", \"r\")\n",
        "ventas_copia_str = ventas_yaml_file.read()\n",
        "ventas_yaml_file.close()\n",
        "# Garantias\n",
        "garantias_yaml_file = open(ROOT_PATH + \"garantias.yaml\", \"r\")\n",
        "garantias_copia_str= garantias_yaml_file.read()\n",
        "garantias_yaml_file.close()\n",
        "\n",
        "# Deserialización de las cadenas YAML leidas\n",
        "ventas_copia3 = yaml.load(ventas_copia_str, Loader=yaml.Loader)\n",
        "garantias_copia3 = yaml.load(garantias_copia_str, Loader=yaml.Loader)\n",
        "\n",
        "# Despliegue de los datos deserializados y sus tipos\n",
        "## Despliegue de los datos deserializados y sus tipos\n",
        "print(\"---- Ventas deserializadas ----\")\n",
        "print(type(ventas_copia3))\n",
        "print(ventas_copia3)\n",
        "print(\"---- Garantias deserializadas ----\")\n",
        "print(type(garantias_copia3))\n",
        "print(garantias_copia3)"
      ]
    },
    {
      "cell_type": "markdown",
      "metadata": {
        "id": "yaDH6rPXIOI_"
      },
      "source": [
        "Comparación de los datos deserializados con los originales:"
      ]
    },
    {
      "cell_type": "code",
      "execution_count": 26,
      "metadata": {
        "colab": {
          "base_uri": "https://localhost:8080/"
        },
        "id": "20MMsnNiDsXQ",
        "outputId": "a70f3273-280d-4f88-a832-18a326cae7fb"
      },
      "outputs": [
        {
          "name": "stdout",
          "output_type": "stream",
          "text": [
            "ventas == ventas_copia3: True\n",
            "garantias == garantias_copia3: True\n"
          ]
        }
      ],
      "source": [
        "print(f\"ventas == ventas_copia3: {ventas == ventas_copia3}\")\n",
        "print(f\"garantias == garantias_copia3: {garantias == garantias_copia3}\")"
      ]
    },
    {
      "cell_type": "markdown",
      "metadata": {
        "id": "T89Y60StLUuh"
      },
      "source": [
        "## **D)\tRepresentación en Protocol Buffer**"
      ]
    },
    {
      "cell_type": "markdown",
      "metadata": {
        "id": "xWQkDcDZNRVa"
      },
      "source": [
        "Utilice el formato de representación ofrecido por protocol buffer para obtener una serialización binaria de los datos"
      ]
    },
    {
      "cell_type": "code",
      "execution_count": null,
      "metadata": {
        "id": "Jv-nyuFCIOJA"
      },
      "outputs": [],
      "source": [
        "!pip uninstall protobuf\n",
        "!pip install protobuf==3.20.3"
      ]
    },
    {
      "cell_type": "markdown",
      "metadata": {
        "id": "A94A9ycAIOJB"
      },
      "source": [
        "En el archivo **servicios.proto** se definen las estructuras de datos a emplear. El contenido de este se muestra a continuación:\n",
        "\n",
        "```proto\n",
        "syntax = \"proto3\";\n",
        "\n",
        "package Servicios;\n",
        "\n",
        "message Venta {\n",
        "    string cod_producto = 1;\n",
        "    string producto = 2;\n",
        "    string cod_venta = 3;\n",
        "    string ced_cliente = 4;\n",
        "    string nombre_cliente = 5;\n",
        "    string fecha_venta = 6;\n",
        "    string tipo_garantia = 7;\n",
        "    int32 tiempo_garantia = 8;\n",
        "    int32 valor_venta = 9;\n",
        "    string tipo_tienda = 10;\n",
        "    string ciudad_sede = 11;\n",
        "    string sede = 12;\n",
        "    string entrega = 13;\n",
        "    string vendedor = 14;\n",
        "    int32 calificacion_servicio = 15;\n",
        "    string comentario_servicio = 16;\n",
        "}\n",
        "\n",
        "message Garantia {\n",
        "    string cod_venta = 1;\n",
        "    string fecha_compra = 2;\n",
        "    string tipo_garantia = 3;\n",
        "    int32 tiempo_garantia = 4;\n",
        "    int32 calificacion = 5;\n",
        "    string comentarios = 6;\n",
        "    string detalle_garantia = 7;\n",
        "}\n",
        "```"
      ]
    },
    {
      "cell_type": "markdown",
      "metadata": {
        "id": "gSGd4jmlIOJB"
      },
      "source": [
        "A continuación se compila la estructura de datos anterior mediante el siguiente comando:"
      ]
    },
    {
      "cell_type": "code",
      "execution_count": 28,
      "metadata": {
        "id": "nUYEI07iIOJB"
      },
      "outputs": [],
      "source": [
        "!protoc --python_out=. servicios.proto"
      ]
    },
    {
      "cell_type": "markdown",
      "metadata": {
        "id": "4DFUa8dlIOJB"
      },
      "source": [
        "Si todo esta bien, se genera el archivo `ejercicios_pb2.py`. Este se emplea para importar las clases generadas por protobuf:"
      ]
    },
    {
      "cell_type": "code",
      "execution_count": 30,
      "metadata": {
        "id": "uWH8HIi5IOJC"
      },
      "outputs": [],
      "source": [
        "import servicios_pb2"
      ]
    },
    {
      "cell_type": "markdown",
      "metadata": {
        "id": "stPuywtqIOJC"
      },
      "source": [
        "Se define la lista de objetos tipo `Venta`:"
      ]
    },
    {
      "cell_type": "code",
      "execution_count": 31,
      "metadata": {
        "id": "tk-Bl603IOJC"
      },
      "outputs": [],
      "source": [
        "# Objeto venta2\n",
        "venta1 = servicios_pb2.Venta(\n",
        "        cod_producto = \"45869\",\n",
        "        producto = \"Cafetera\",\n",
        "        cod_venta = \"45876\",\n",
        "        ced_cliente = \"78586325\",\n",
        "        nombre_cliente = \"Henry Arcila\",\n",
        "        fecha_venta = \"23/01/2025\",\n",
        "        tipo_garantia = \"Extendida\",\n",
        "        tiempo_garantia = 12,\n",
        "        valor_venta = 235000,\n",
        "        tipo_tienda = \"Física\",\n",
        "        ciudad_sede = \"Santuario\",\n",
        "        sede = \"San Joaquín\",\n",
        "        entrega = \"En tienda\",\n",
        "        vendedor = \"Mary Estrada\",\n",
        "        calificacion_servicio = 5,\n",
        "        comentario_servicio = \"Muy buen servicio\"\n",
        "    )\n",
        "\n",
        "# Objeto venta2\n",
        "venta2 = servicios_pb2.Venta(\n",
        "        cod_producto = \"122568\",\n",
        "        producto = \"Ventilador\",\n",
        "        cod_venta = \"78546987\",\n",
        "        ced_cliente = \"98583652\",\n",
        "        nombre_cliente = \"Jairo Agudelo M\",\n",
        "        fecha_venta = \"24/12/2024\",\n",
        "        tipo_garantia = \"Normal\",\n",
        "        tiempo_garantia = 6,\n",
        "        valor_venta = 325000,\n",
        "        tipo_tienda = \"Física\",\n",
        "        ciudad_sede = \"Santa Rosa\",\n",
        "        sede = \"Centro\",\n",
        "        entrega = \"En tienda\",\n",
        "        vendedor = \"José Arango\",\n",
        "        calificacion_servicio = 2,\n",
        "        comentario_servicio= \"Muy mal asesoramiento del vendedor\"\n",
        "    )\n",
        "\n",
        "# Lista de ventas\n",
        "ventas = [venta1, venta2]"
      ]
    },
    {
      "cell_type": "markdown",
      "metadata": {
        "id": "I8pktCyCIOJC"
      },
      "source": [
        "Se hace lo mismo con los objetos tipo `Garantia`::"
      ]
    },
    {
      "cell_type": "code",
      "execution_count": 32,
      "metadata": {
        "id": "qo0m3pOyIOJD"
      },
      "outputs": [],
      "source": [
        "# Garantia\n",
        "\n",
        "# Objeto garantia1\n",
        "garantia1 = servicios_pb2.Garantia(\n",
        "    cod_venta = \"78546987\",\n",
        "    fecha_compra = \"24/12/2024\",\n",
        "    tipo_garantia = \"Normal\",\n",
        "    tiempo_garantia = 12,\n",
        "    calificacion = 3,\n",
        "    comentarios = \"Demora en la entrega del producto\",\n",
        "    detalle_garantia = \"Cambio de motor\"\n",
        ")\n",
        "\n",
        "# Objeto garantia2\n",
        "garantia2 = servicios_pb2.Garantia(\n",
        "    cod_venta = \"45876\",\n",
        "    fecha_compra = \"23/01/2025\",\n",
        "    tipo_garantia = \"Extendida\",\n",
        "    tiempo_garantia = 6,\n",
        "    calificacion = 5,\n",
        "    comentarios = \"Buen servicio\",\n",
        "    detalle_garantia = \"Cambio del tablero de control\"\n",
        ")\n",
        "\n",
        "garantias = [garantia1, garantia2]"
      ]
    },
    {
      "cell_type": "markdown",
      "metadata": {
        "id": "OTEJKbhhIOJD"
      },
      "source": [
        "#### Serializacion"
      ]
    },
    {
      "cell_type": "code",
      "execution_count": 33,
      "metadata": {
        "colab": {
          "base_uri": "https://localhost:8080/"
        },
        "id": "xw8Jxcu-IOJD",
        "outputId": "ffe338aa-293a-49fc-ee1f-b7acd688c258"
      },
      "outputs": [
        {
          "name": "stdout",
          "output_type": "stream",
          "text": [
            "---- Serializacion de las ventas ----\n",
            "b'\\n\\x0545869\\x12\\x08Cafetera\\x1a\\x0545876\"\\x0878586325*\\x0cHenry Arcila2\\n23/01/2025:\\tExtendida@\\x0cH\\xf8\\xab\\x0eR\\x07F\\xc3\\xadsicaZ\\tSantuariob\\x0cSan Joaqu\\xc3\\xadnj\\tEn tiendar\\x0cMary Estradax\\x05\\x82\\x01\\x11Muy buen servicio'\n",
            "b'\\n\\x06122568\\x12\\nVentilador\\x1a\\x0878546987\"\\x0898583652*\\x0fJairo Agudelo M2\\n24/12/2024:\\x06Normal@\\x06H\\x88\\xeb\\x13R\\x07F\\xc3\\xadsicaZ\\nSanta Rosab\\x06Centroj\\tEn tiendar\\x0cJos\\xc3\\xa9 Arangox\\x02\\x82\\x01\"Muy mal asesoramiento del vendedor'\n",
            "\n",
            "---- Serializacion de las garantias ----\n",
            "b'\\n\\x0878546987\\x12\\n24/12/2024\\x1a\\x06Normal \\x0c(\\x032!Demora en la entrega del producto:\\x0fCambio de motor'\n",
            "b'\\n\\x0545876\\x12\\n23/01/2025\\x1a\\tExtendida \\x06(\\x052\\rBuen servicio:\\x1dCambio del tablero de control'\n"
          ]
        }
      ],
      "source": [
        "# Serializacion de los objetos\n",
        "\n",
        "# Ventas\n",
        "print(\"---- Serializacion de las ventas ----\")\n",
        "ventas_ser = []\n",
        "for venta in ventas:\n",
        "    venta_ser = venta.SerializeToString()\n",
        "    print(venta_ser)\n",
        "    ventas_ser.append(venta_ser)\n",
        "print()\n",
        "# Garantias\n",
        "print(\"---- Serializacion de las garantias ----\")\n",
        "garantias_ser = []\n",
        "for garantia in garantias:\n",
        "    garantia_ser = garantia.SerializeToString()\n",
        "    print(garantia_ser)\n",
        "    garantias_ser.append(garantia_ser)"
      ]
    },
    {
      "cell_type": "markdown",
      "metadata": {
        "id": "O9xhCOS7IOJD"
      },
      "source": [
        "A continuación se muestra el contenido de los datos serializados"
      ]
    },
    {
      "cell_type": "code",
      "execution_count": 34,
      "metadata": {
        "colab": {
          "base_uri": "https://localhost:8080/"
        },
        "id": "o5IIXeEWIOJE",
        "outputId": "40322bee-aaf5-4745-c5a4-e1d30b815297"
      },
      "outputs": [
        {
          "name": "stdout",
          "output_type": "stream",
          "text": [
            "ventas_ser:\n",
            "[b'\\n\\x0545869\\x12\\x08Cafetera\\x1a\\x0545876\"\\x0878586325*\\x0cHenry Arcila2\\n23/01/2025:\\tExtendida@\\x0cH\\xf8\\xab\\x0eR\\x07F\\xc3\\xadsicaZ\\tSantuariob\\x0cSan Joaqu\\xc3\\xadnj\\tEn tiendar\\x0cMary Estradax\\x05\\x82\\x01\\x11Muy buen servicio', b'\\n\\x06122568\\x12\\nVentilador\\x1a\\x0878546987\"\\x0898583652*\\x0fJairo Agudelo M2\\n24/12/2024:\\x06Normal@\\x06H\\x88\\xeb\\x13R\\x07F\\xc3\\xadsicaZ\\nSanta Rosab\\x06Centroj\\tEn tiendar\\x0cJos\\xc3\\xa9 Arangox\\x02\\x82\\x01\"Muy mal asesoramiento del vendedor']\n",
            "garantias_ser:\n",
            "[b'\\n\\x0878546987\\x12\\n24/12/2024\\x1a\\x06Normal \\x0c(\\x032!Demora en la entrega del producto:\\x0fCambio de motor', b'\\n\\x0545876\\x12\\n23/01/2025\\x1a\\tExtendida \\x06(\\x052\\rBuen servicio:\\x1dCambio del tablero de control']\n"
          ]
        }
      ],
      "source": [
        "print(f\"ventas_ser:\\n{ventas_ser}\")\n",
        "print(f\"garantias_ser:\\n{garantias_ser}\")"
      ]
    },
    {
      "cell_type": "markdown",
      "metadata": {
        "id": "Q0GO-MqdIOJE"
      },
      "source": [
        "#### Deserializacion"
      ]
    },
    {
      "cell_type": "code",
      "execution_count": 35,
      "metadata": {
        "colab": {
          "base_uri": "https://localhost:8080/"
        },
        "id": "L2glgdoyIOJE",
        "outputId": "65fb9e81-7370-4404-bc27-6f9dbd131bcd"
      },
      "outputs": [
        {
          "name": "stdout",
          "output_type": "stream",
          "text": [
            "---- Lista con las ventas deserializados ----\n",
            "-> Ventas 0:\n",
            "cod_producto: \"45869\"\n",
            "producto: \"Cafetera\"\n",
            "cod_venta: \"45876\"\n",
            "ced_cliente: \"78586325\"\n",
            "nombre_cliente: \"Henry Arcila\"\n",
            "fecha_venta: \"23/01/2025\"\n",
            "tipo_garantia: \"Extendida\"\n",
            "tiempo_garantia: 12\n",
            "valor_venta: 235000\n",
            "tipo_tienda: \"F\\303\\255sica\"\n",
            "ciudad_sede: \"Santuario\"\n",
            "sede: \"San Joaqu\\303\\255n\"\n",
            "entrega: \"En tienda\"\n",
            "vendedor: \"Mary Estrada\"\n",
            "calificacion_servicio: 5\n",
            "comentario_servicio: \"Muy buen servicio\"\n",
            "\n",
            "-> Ventas 1:\n",
            "cod_producto: \"122568\"\n",
            "producto: \"Ventilador\"\n",
            "cod_venta: \"78546987\"\n",
            "ced_cliente: \"98583652\"\n",
            "nombre_cliente: \"Jairo Agudelo M\"\n",
            "fecha_venta: \"24/12/2024\"\n",
            "tipo_garantia: \"Normal\"\n",
            "tiempo_garantia: 6\n",
            "valor_venta: 325000\n",
            "tipo_tienda: \"F\\303\\255sica\"\n",
            "ciudad_sede: \"Santa Rosa\"\n",
            "sede: \"Centro\"\n",
            "entrega: \"En tienda\"\n",
            "vendedor: \"Jos\\303\\251 Arango\"\n",
            "calificacion_servicio: 2\n",
            "comentario_servicio: \"Muy mal asesoramiento del vendedor\"\n",
            "\n",
            "\n",
            "\n",
            "---- Lista con las garantias deserializados ----\n",
            "-> Garantias 0:\n",
            "cod_venta: \"78546987\"\n",
            "fecha_compra: \"24/12/2024\"\n",
            "tipo_garantia: \"Normal\"\n",
            "tiempo_garantia: 12\n",
            "calificacion: 3\n",
            "comentarios: \"Demora en la entrega del producto\"\n",
            "detalle_garantia: \"Cambio de motor\"\n",
            "\n",
            "-> Garantias 1:\n",
            "cod_venta: \"45876\"\n",
            "fecha_compra: \"23/01/2025\"\n",
            "tipo_garantia: \"Extendida\"\n",
            "tiempo_garantia: 6\n",
            "calificacion: 5\n",
            "comentarios: \"Buen servicio\"\n",
            "detalle_garantia: \"Cambio del tablero de control\"\n",
            "\n"
          ]
        }
      ],
      "source": [
        "# Deserializacion de los objetos\n",
        "\n",
        "ventas_copia4 = []\n",
        "garantias_copia4 = []\n",
        "\n",
        "for venta_ser in ventas_ser:\n",
        "    venta_des = servicios_pb2.Venta()\n",
        "    venta_des.ParseFromString(venta_ser)\n",
        "    # print(venta_des)\n",
        "    ventas_copia4.append(venta_des)\n",
        "\n",
        "for garantia_ser in garantias_ser:\n",
        "    garantia_des = servicios_pb2.Garantia()\n",
        "    garantia_des.ParseFromString(garantia_ser)\n",
        "    # print(garantia_des)\n",
        "    garantias_copia4.append(garantia_des)\n",
        "\n",
        "print(\"---- Lista con las ventas deserializados ----\")\n",
        "\n",
        "for i in range(len(ventas_copia4)):\n",
        "    print(f\"-> Ventas {i}:\")\n",
        "    print(ventas_copia4[i])\n",
        "print()\n",
        "print(\"\\n---- Lista con las garantias deserializados ----\")\n",
        "for i in range(len(garantias_copia4)):\n",
        "    print(f\"-> Garantias {i}:\")\n",
        "    print(garantias_copia4[i])"
      ]
    },
    {
      "cell_type": "markdown",
      "metadata": {
        "id": "AOfbLxRyIOJF"
      },
      "source": [
        "Comparación de las listas deserializadas respecto a las originales."
      ]
    },
    {
      "cell_type": "code",
      "execution_count": 36,
      "metadata": {
        "colab": {
          "base_uri": "https://localhost:8080/"
        },
        "id": "wS6FQ-bVIOJF",
        "outputId": "0a8770e7-6a3a-4a8f-fc3b-77a77da9d347"
      },
      "outputs": [
        {
          "name": "stdout",
          "output_type": "stream",
          "text": [
            "ventas == ventas_copia4: True\n",
            "garantias == garantias_copia4: True\n"
          ]
        }
      ],
      "source": [
        "print(f\"ventas == ventas_copia4: {ventas == ventas_copia4}\")\n",
        "print(f\"garantias == garantias_copia4: {garantias == garantias_copia4}\")"
      ]
    },
    {
      "cell_type": "markdown",
      "metadata": {
        "id": "WlI7cjLXLdlQ"
      },
      "source": [
        "## **E)\tRepresentación en Apache Thrift**"
      ]
    },
    {
      "cell_type": "code",
      "execution_count": 37,
      "metadata": {
        "colab": {
          "base_uri": "https://localhost:8080/"
        },
        "id": "yQ32_8mXLELL",
        "outputId": "3515f633-8924-4c9e-a97b-36f8f92a875f"
      },
      "outputs": [
        {
          "name": "stdout",
          "output_type": "stream",
          "text": [
            "--2025-02-13 02:38:58--  https://dlcdn.apache.org/thrift/0.20.0/thrift-0.20.0.tar.gz\n",
            "Resolving dlcdn.apache.org (dlcdn.apache.org)... 151.101.2.132, 2a04:4e42::644\n",
            "Connecting to dlcdn.apache.org (dlcdn.apache.org)|151.101.2.132|:443... connected.\n",
            "HTTP request sent, awaiting response... 200 OK\n",
            "Length: 4397667 (4.2M) [application/x-gzip]\n",
            "Saving to: ‘thrift-0.20.0.tar.gz’\n",
            "\n",
            "thrift-0.20.0.tar.g 100%[===================>]   4.19M  --.-KB/s    in 0.09s   \n",
            "\n",
            "2025-02-13 02:38:58 (48.2 MB/s) - ‘thrift-0.20.0.tar.gz’ saved [4397667/4397667]\n",
            "\n",
            "make distclean... ok\n",
            "Couldn't find libtoolize!\n",
            "checking for a BSD-compatible install... /usr/bin/install -c\n",
            "checking whether build environment is sane... yes\n",
            "checking for a thread-safe mkdir -p... /usr/bin/mkdir -p\n",
            "checking for gawk... no\n",
            "checking for mawk... mawk\n",
            "checking whether make sets $(MAKE)... yes\n",
            "checking whether make supports nested variables... yes\n",
            "checking whether UID '0' is supported by ustar format... yes\n",
            "checking whether GID '0' is supported by ustar format... yes\n",
            "checking how to create a ustar tar archive... gnutar\n",
            "checking for pkg-config... /usr/bin/pkg-config\n",
            "checking pkg-config is at least version 0.9.0... yes\n",
            "checking for gcc... gcc\n",
            "checking whether the C compiler works... yes\n",
            "checking for C compiler default output file name... a.out\n",
            "checking for suffix of executables... \n",
            "checking whether we are cross compiling... no\n",
            "checking for suffix of object files... o\n",
            "checking whether we are using the GNU C compiler... yes\n",
            "checking whether gcc accepts -g... yes\n",
            "checking for gcc option to accept ISO C89... none needed\n",
            "checking whether gcc understands -c and -o together... yes\n",
            "checking for style of include used by make... GNU\n",
            "checking dependency style of gcc... gcc3\n",
            "checking how to run the C preprocessor... gcc -E\n",
            "checking for g++... g++\n",
            "checking whether we are using the GNU C++ compiler... yes\n",
            "checking whether g++ accepts -g... yes\n",
            "checking dependency style of g++... gcc3\n",
            "checking build system type... x86_64-pc-linux-gnu\n",
            "checking host system type... x86_64-pc-linux-gnu\n",
            "checking how to print strings... printf\n",
            "checking for a sed that does not truncate output... /usr/bin/sed\n",
            "checking for grep that handles long lines and -e... /usr/bin/grep\n",
            "checking for egrep... /usr/bin/grep -E\n",
            "checking for fgrep... /usr/bin/grep -F\n",
            "checking for ld used by gcc... /usr/bin/ld\n",
            "checking if the linker (/usr/bin/ld) is GNU ld... yes\n",
            "checking for BSD- or MS-compatible name lister (nm)... /usr/bin/nm -B\n",
            "checking the name lister (/usr/bin/nm -B) interface... BSD nm\n",
            "checking whether ln -s works... yes\n",
            "checking the maximum length of command line arguments... 1572864\n",
            "checking how to convert x86_64-pc-linux-gnu file names to x86_64-pc-linux-gnu format... func_convert_file_noop\n",
            "checking how to convert x86_64-pc-linux-gnu file names to toolchain format... func_convert_file_noop\n",
            "checking for /usr/bin/ld option to reload object files... -r\n",
            "checking for objdump... objdump\n",
            "checking how to recognize dependent libraries... pass_all\n",
            "checking for dlltool... no\n",
            "checking how to associate runtime and link libraries... printf %s\\n\n",
            "checking for ar... ar\n",
            "checking for archiver @FILE support... @\n",
            "checking for strip... strip\n",
            "checking for ranlib... ranlib\n",
            "checking command to parse /usr/bin/nm -B output from gcc object... ok\n",
            "checking for sysroot... no\n",
            "checking for a working dd... /usr/bin/dd\n",
            "checking how to truncate binary pipes... /usr/bin/dd bs=4096 count=1\n",
            "checking for mt... no\n",
            "checking if : is a manifest tool... no\n",
            "checking for ANSI C header files... yes\n",
            "checking for sys/types.h... yes\n",
            "checking for sys/stat.h... yes\n",
            "checking for stdlib.h... yes\n",
            "checking for string.h... yes\n",
            "checking for memory.h... yes\n",
            "checking for strings.h... yes\n",
            "checking for inttypes.h... yes\n",
            "checking for stdint.h... yes\n",
            "checking for unistd.h... yes\n",
            "checking for dlfcn.h... yes\n",
            "checking for objdir... .libs\n",
            "checking if gcc supports -fno-rtti -fno-exceptions... no\n",
            "checking for gcc option to produce PIC... -fPIC -DPIC\n",
            "checking if gcc PIC flag -fPIC -DPIC works... yes\n",
            "checking if gcc static flag -static works... yes\n",
            "checking if gcc supports -c -o file.o... yes\n",
            "checking if gcc supports -c -o file.o... (cached) yes\n",
            "checking whether the gcc linker (/usr/bin/ld -m elf_x86_64) supports shared libraries... yes\n",
            "checking whether -lc should be explicitly linked in... no\n",
            "checking dynamic linker characteristics... GNU/Linux ld.so\n",
            "checking how to hardcode library paths into programs... immediate\n",
            "checking whether stripping libraries is possible... yes\n",
            "checking if libtool supports shared libraries... yes\n",
            "checking whether to build shared libraries... yes\n",
            "checking whether to build static libraries... yes\n",
            "checking how to run the C++ preprocessor... g++ -E\n",
            "checking for ld used by g++... /usr/bin/ld -m elf_x86_64\n",
            "checking if the linker (/usr/bin/ld -m elf_x86_64) is GNU ld... yes\n",
            "checking whether the g++ linker (/usr/bin/ld -m elf_x86_64) supports shared libraries... yes\n",
            "checking for g++ option to produce PIC... -fPIC -DPIC\n",
            "checking if g++ PIC flag -fPIC -DPIC works... yes\n",
            "checking if g++ static flag -static works... yes\n",
            "checking if g++ supports -c -o file.o... yes\n",
            "checking if g++ supports -c -o file.o... (cached) yes\n",
            "checking whether the g++ linker (/usr/bin/ld -m elf_x86_64) supports shared libraries... yes\n",
            "checking dynamic linker characteristics... (cached) GNU/Linux ld.so\n",
            "checking how to hardcode library paths into programs... immediate\n",
            "checking whether make sets $(MAKE)... (cached) yes\n",
            "checking for bison... no\n",
            "NO\n",
            "checking for bison... no\n",
            "checking for byacc... no\n",
            "checking for flex... no\n",
            "checking for lex... no\n",
            "checking whether ln -s works... yes\n",
            "checking for gawk... (cached) mawk\n",
            "checking for ranlib... (cached) ranlib\n",
            "checking whether g++ supports C++11 features with -std=c++11... yes\n",
            "checking for boostlib >= 1.56.0 (105600)... yes\n",
            "checking for libevent >= 2.0... yes\n",
            "checking for zlib >= 1.2.3... yes\n",
            "checking for QT5... no\n",
            "checking for GLIB... no\n",
            "checking for GOBJECT... no\n",
            "checking for pkg-config... /usr/bin/pkg-config\n",
            "checking whether compiling and linking against OpenSSL works... yes\n",
            "checking for javac and java... yes\n",
            "checking for ant... no\n",
            "checking for gradle... no\n",
            "checking for ant version > 1.7... yes\n",
            "checking for erl... no\n",
            "checking for erlc... no\n",
            "checking for rebar3... no\n",
            "checking for nodejs... no\n",
            "checking for node... /tools/node/bin/node\n",
            "checking for npm... /tools/node/bin/npm\n",
            "checking for nodets... no\n",
            "checking for node... /tools/node/bin/node\n",
            "checking for npm... (cached) /tools/node/bin/npm\n",
            "checking for a Lua interpreter with version >= 5.2... none\n",
            "checking for a Python interpreter with version >= 2.6... python\n",
            "checking for python... /usr/local/bin/python\n",
            "checking for python version... 3.1\n",
            "checking for python platform... linux\n",
            "checking for python script directory... ${prefix}/local/lib/python3.11/dist-packages\n",
            "checking for python extension module directory... ${exec_prefix}/local/lib/python3.11/dist-packages\n",
            "checking for perl... /usr/bin/perl\n",
            "checking for perl module Bit::Vector... no\n",
            "checking for perl module Class::Accessor... no\n",
            "checking for php... no\n",
            "checking for dart... no\n",
            "checking for pub... no\n",
            "checking for ruby... no\n",
            "checking for bundle... no\n",
            "checking for go... no\n",
            "checking for swift... no\n",
            "checking for cargo... no\n",
            "checking for rustc... no\n",
            "checking for sbcl... no\n",
            "checking for haxe... no\n",
            "checking for dotnet... no\n",
            "checking for DMD... no\n",
            "checking for library containing strerror... none required\n",
            "checking for an ANSI C-conforming const... yes\n",
            "checking for inline... inline\n",
            "checking for working volatile... yes\n",
            "checking for C/C++ restrict keyword... __restrict\n",
            "checking for stdbool.h that conforms to C99... no\n",
            "checking for _Bool... no\n",
            "checking for ANSI C header files... (cached) yes\n",
            "checking whether time.h and sys/time.h may both be included... yes\n",
            "checking for sys/wait.h that is POSIX.1 compatible... yes\n",
            "checking return type of signal handlers... void\n",
            "checking arpa/inet.h usability... yes\n",
            "checking arpa/inet.h presence... yes\n",
            "checking for arpa/inet.h... yes\n",
            "checking fcntl.h usability... yes\n",
            "checking fcntl.h presence... yes\n",
            "checking for fcntl.h... yes\n",
            "checking for inttypes.h... (cached) yes\n",
            "checking libintl.h usability... yes\n",
            "checking libintl.h presence... yes\n",
            "checking for libintl.h... yes\n",
            "checking limits.h usability... yes\n",
            "checking limits.h presence... yes\n",
            "checking for limits.h... yes\n",
            "checking malloc.h usability... yes\n",
            "checking malloc.h presence... yes\n",
            "checking for malloc.h... yes\n",
            "checking netdb.h usability... yes\n",
            "checking netdb.h presence... yes\n",
            "checking for netdb.h... yes\n",
            "checking netinet/in.h usability... yes\n",
            "checking netinet/in.h presence... yes\n",
            "checking for netinet/in.h... yes\n",
            "checking openssl/rand.h usability... yes\n",
            "checking openssl/rand.h presence... yes\n",
            "checking for openssl/rand.h... yes\n",
            "checking openssl/ssl.h usability... yes\n",
            "checking openssl/ssl.h presence... yes\n",
            "checking for openssl/ssl.h... yes\n",
            "checking openssl/x509v3.h usability... yes\n",
            "checking openssl/x509v3.h presence... yes\n",
            "checking for openssl/x509v3.h... yes\n",
            "checking poll.h usability... yes\n",
            "checking poll.h presence... yes\n",
            "checking for poll.h... yes\n",
            "checking pthread.h usability... yes\n",
            "checking pthread.h presence... yes\n",
            "checking for pthread.h... yes\n",
            "checking sched.h usability... yes\n",
            "checking sched.h presence... yes\n",
            "checking for sched.h... yes\n",
            "checking signal.h usability... yes\n",
            "checking signal.h presence... yes\n",
            "checking for signal.h... yes\n",
            "checking stddef.h usability... yes\n",
            "checking stddef.h presence... yes\n",
            "checking for stddef.h... yes\n",
            "checking for stdint.h... (cached) yes\n",
            "checking for stdlib.h... (cached) yes\n",
            "checking for strings.h... (cached) yes\n",
            "checking sys/ioctl.h usability... yes\n",
            "checking sys/ioctl.h presence... yes\n",
            "checking for sys/ioctl.h... yes\n",
            "checking sys/param.h usability... yes\n",
            "checking sys/param.h presence... yes\n",
            "checking for sys/param.h... yes\n",
            "checking sys/poll.h usability... yes\n",
            "checking sys/poll.h presence... yes\n",
            "checking for sys/poll.h... yes\n",
            "checking sys/resource.h usability... yes\n",
            "checking sys/resource.h presence... yes\n",
            "checking for sys/resource.h... yes\n",
            "checking sys/socket.h usability... yes\n",
            "checking sys/socket.h presence... yes\n",
            "checking for sys/socket.h... yes\n",
            "checking sys/time.h usability... yes\n",
            "checking sys/time.h presence... yes\n",
            "checking for sys/time.h... yes\n",
            "checking sys/un.h usability... yes\n",
            "checking sys/un.h presence... yes\n",
            "checking for sys/un.h... yes\n",
            "checking for unistd.h... (cached) yes\n",
            "checking wchar.h usability... yes\n",
            "checking wchar.h presence... yes\n",
            "checking for wchar.h... yes\n",
            "checking for pthread_create in -lpthread... yes\n",
            "checking for clock_gettime in -lrt... yes\n",
            "checking for setsockopt in -lsocket... no\n",
            "checking for int16_t... yes\n",
            "checking for int32_t... yes\n",
            "checking for int64_t... yes\n",
            "checking for int8_t... yes\n",
            "checking for mode_t... yes\n",
            "checking for off_t... yes\n",
            "checking for size_t... yes\n",
            "checking for ssize_t... yes\n",
            "checking for uint16_t... yes\n",
            "checking for uint32_t... yes\n",
            "checking for uint64_t... yes\n",
            "checking for uint8_t... yes\n",
            "checking for ptrdiff_t... yes\n",
            "checking whether struct tm is in sys/time.h or time.h... time.h\n",
            "checking whether AI_ADDRCONFIG is declared... yes\n",
            "checking for working alloca.h... yes\n",
            "checking for alloca... yes\n",
            "checking for pid_t... yes\n",
            "checking vfork.h usability... no\n",
            "checking vfork.h presence... no\n",
            "checking for vfork.h... no\n",
            "checking for fork... yes\n",
            "checking for vfork... yes\n",
            "checking for working fork... yes\n",
            "checking for working vfork... (cached) yes\n",
            "checking for stdlib.h... (cached) yes\n",
            "checking for GNU libc compatible malloc... yes\n",
            "checking for working memcmp... yes\n",
            "checking for stdlib.h... (cached) yes\n",
            "checking for GNU libc compatible realloc... yes\n",
            "checking sys/select.h usability... yes\n",
            "checking sys/select.h presence... yes\n",
            "checking for sys/select.h... yes\n",
            "checking for sys/socket.h... (cached) yes\n",
            "checking types of arguments for select... int,fd_set *,struct timeval *\n",
            "checking whether lstat correctly handles trailing slash... yes\n",
            "checking whether stat accepts an empty string... no\n",
            "checking whether strerror_r is declared... yes\n",
            "checking for strerror_r... yes\n",
            "checking whether strerror_r returns char *... yes\n",
            "checking for strftime... yes\n",
            "checking for vprintf... yes\n",
            "checking for _doprnt... no\n",
            "checking for strtoul... yes\n",
            "checking for bzero... yes\n",
            "checking for ftruncate... yes\n",
            "checking for gethostbyname... yes\n",
            "checking for gethostbyname_r... yes\n",
            "checking for gettimeofday... yes\n",
            "checking for memmove... yes\n",
            "checking for memset... yes\n",
            "checking for mkdir... yes\n",
            "checking for realpath... yes\n",
            "checking for select... yes\n",
            "checking for setlocale... yes\n",
            "checking for socket... yes\n",
            "checking for strchr... yes\n",
            "checking for strdup... yes\n",
            "checking for strerror... yes\n",
            "checking for strstr... yes\n",
            "checking for strtol... yes\n",
            "checking for sqrt... yes\n",
            "checking for alarm... yes\n",
            "checking for clock_gettime... yes\n",
            "checking for sched_get_priority_min... yes\n",
            "checking for sched_get_priority_max... yes\n",
            "checking for inet_ntoa... yes\n",
            "checking for pow... yes\n",
            "checking the behavior of a signed right shift... arithmetic\n",
            "checking that generated files are newer than configure... done\n",
            "configure: creating ./config.status\n",
            "config.status: creating Makefile\n",
            "config.status: creating compiler/cpp/Makefile\n",
            "config.status: creating compiler/cpp/src/Makefile\n",
            "config.status: creating compiler/cpp/test/Makefile\n",
            "config.status: creating lib/Makefile\n",
            "config.status: creating lib/cl/Makefile\n",
            "config.status: creating lib/cpp/Makefile\n",
            "config.status: creating lib/cpp/test/Makefile\n",
            "config.status: creating lib/cpp/thrift-nb.pc\n",
            "config.status: creating lib/cpp/thrift-z.pc\n",
            "config.status: creating lib/cpp/thrift-qt5.pc\n",
            "config.status: creating lib/cpp/thrift.pc\n",
            "config.status: creating lib/c_glib/Makefile\n",
            "config.status: creating lib/c_glib/thrift_c_glib.pc\n",
            "config.status: creating lib/c_glib/test/Makefile\n",
            "config.status: creating lib/d/Makefile\n",
            "config.status: creating lib/d/test/Makefile\n",
            "config.status: creating lib/erl/Makefile\n",
            "config.status: creating lib/go/Makefile\n",
            "config.status: creating lib/go/test/Makefile\n",
            "config.status: creating lib/go/test/fuzz/Makefile\n",
            "config.status: creating lib/haxe/test/Makefile\n",
            "config.status: creating lib/java/Makefile\n",
            "config.status: creating lib/js/Makefile\n",
            "config.status: creating lib/js/test/Makefile\n",
            "config.status: creating lib/json/Makefile\n",
            "config.status: creating lib/json/test/Makefile\n",
            "config.status: creating lib/kotlin/Makefile\n",
            "config.status: creating lib/netstd/Makefile\n",
            "config.status: creating lib/nodejs/Makefile\n",
            "config.status: creating lib/nodets/Makefile\n",
            "config.status: creating lib/perl/Makefile\n",
            "config.status: creating lib/perl/t/Makefile\n",
            "config.status: creating lib/php/Makefile\n",
            "config.status: creating lib/php/test/Makefile\n",
            "config.status: creating lib/dart/Makefile\n",
            "config.status: creating lib/py/Makefile\n",
            "config.status: creating lib/rb/Makefile\n",
            "config.status: creating lib/rs/Makefile\n",
            "config.status: creating lib/rs/test/Makefile\n",
            "config.status: creating lib/rs/test_recursive/Makefile\n",
            "config.status: creating lib/rs/test_recursive/src/Makefile\n",
            "config.status: creating lib/rs/test_recursive/src/maintenance/Makefile\n",
            "config.status: creating lib/rs/test_recursive/src/transit/Makefile\n",
            "config.status: creating lib/rs/test_recursive/src/transit/light/Makefile\n",
            "config.status: creating lib/rs/test_recursive/src/transit/services/Makefile\n",
            "config.status: creating lib/lua/Makefile\n",
            "config.status: creating lib/swift/Makefile\n",
            "config.status: creating lib/ts/Makefile\n",
            "config.status: creating lib/xml/Makefile\n",
            "config.status: creating lib/xml/test/Makefile\n",
            "config.status: creating test/Makefile\n",
            "config.status: creating test/features/Makefile\n",
            "config.status: creating test/c_glib/Makefile\n",
            "config.status: creating test/cl/Makefile\n",
            "config.status: creating test/cpp/Makefile\n",
            "config.status: creating test/erl/Makefile\n",
            "config.status: creating test/go/Makefile\n",
            "config.status: creating test/haxe/Makefile\n",
            "config.status: creating test/lua/Makefile\n",
            "config.status: creating test/netstd/Makefile\n",
            "config.status: creating test/php/Makefile\n",
            "config.status: creating test/dart/Makefile\n",
            "config.status: creating test/perl/Makefile\n",
            "config.status: creating test/py/Makefile\n",
            "config.status: creating test/py.twisted/Makefile\n",
            "config.status: creating test/py.tornado/Makefile\n",
            "config.status: creating test/rb/Makefile\n",
            "config.status: creating test/rs/Makefile\n",
            "config.status: creating test/swift/Makefile\n",
            "config.status: creating test/swift/CrossTests/Makefile\n",
            "config.status: creating tutorial/Makefile\n",
            "config.status: creating tutorial/c_glib/Makefile\n",
            "config.status: creating tutorial/cl/Makefile\n",
            "config.status: creating tutorial/cpp/Makefile\n",
            "config.status: creating tutorial/d/Makefile\n",
            "config.status: creating tutorial/go/Makefile\n",
            "config.status: creating tutorial/haxe/Makefile\n",
            "config.status: creating tutorial/java/Makefile\n",
            "config.status: creating tutorial/js/Makefile\n",
            "config.status: creating tutorial/netstd/Makefile\n",
            "config.status: creating tutorial/nodejs/Makefile\n",
            "config.status: creating tutorial/dart/Makefile\n",
            "config.status: creating tutorial/perl/Makefile\n",
            "config.status: creating tutorial/php/Makefile\n",
            "config.status: creating tutorial/py/Makefile\n",
            "config.status: creating tutorial/py.twisted/Makefile\n",
            "config.status: creating tutorial/py.tornado/Makefile\n",
            "config.status: creating tutorial/rb/Makefile\n",
            "config.status: creating tutorial/rs/Makefile\n",
            "config.status: creating tutorial/swift/Makefile\n",
            "config.status: creating config.h\n",
            "config.status: creating lib/cpp/src/thrift/config.h\n",
            "config.status: creating lib/c_glib/src/thrift/config.h\n",
            "config.status: executing depfiles commands\n",
            "config.status: executing libtool commands\n",
            "\n",
            "thrift 0.20.0\n",
            "\n",
            "Building C (GLib) Library .... : no\n",
            "Building C++ Library ......... : yes\n",
            "Building Common Lisp Library.. : no\n",
            "Building D Library ........... : no\n",
            "Building Dart Library ........ : no\n",
            "Building .NET Standard Library : no\n",
            "Building Erlang Library ...... : no\n",
            "Building Go Library .......... : no\n",
            "Building Haxe Library ........ : no\n",
            "Building Java Library ........ : no\n",
            "Building Kotlin Library ...... : no\n",
            "Building Lua Library ......... : no\n",
            "Building NodeJS Library ...... : yes\n",
            "Building Perl Library ........ : no\n",
            "Building PHP Library ......... : no\n",
            "Building Python Library ...... : no\n",
            "Building Py3 Library ......... : yes\n",
            "Building Ruby Library ........ : no\n",
            "Building Rust Library ........ : no\n",
            "Building Swift Library ....... : no\n",
            "\n",
            "C++ Library:\n",
            "   C++ compiler .............. : g++ -std=c++11\n",
            "   Build TZlibTransport ...... : yes\n",
            "   Build TNonblockingServer .. : yes\n",
            "   Build TQTcpServer (Qt5) ... : no\n",
            "   C++ compiler version ...... : g++ (Ubuntu 11.4.0-1ubuntu1~22.04) 11.4.0\n",
            "\n",
            "NodeJS Library:\n",
            "   Using NodeJS .............. : /tools/node/bin/node\n",
            "   Using NodeJS version....... : v18.20.5\n",
            "\n",
            "If something is missing that you think should be present,\n",
            "please skim the output of configure to find the missing\n",
            "component.  Details are present in config.log.\n",
            "\n",
            "make  all-recursive\n",
            "make[1]: Entering directory '/content/thrift-0.20.0'\n",
            "Making all in compiler/cpp\n",
            "make[2]: Entering directory '/content/thrift-0.20.0/compiler/cpp'\n",
            "Making all in src\n",
            "make[3]: Entering directory '/content/thrift-0.20.0/compiler/cpp/src'\n",
            "make  all-am\n",
            "make[4]: Entering directory '/content/thrift-0.20.0/compiler/cpp/src'\n",
            "g++ -std=c++11 -DHAVE_CONFIG_H   -I.  -Wall -Wno-sign-compare -Wno-unused -g -O2 -MT thrift/thrift_libparse_a-thrifty.o -MD -MP -MF thrift/.deps/thrift_libparse_a-thrifty.Tpo -c -o thrift/thrift_libparse_a-thrifty.o `test -f 'thrift/thrifty.cc' || echo './'`thrift/thrifty.cc\n",
            "mv -f thrift/.deps/thrift_libparse_a-thrifty.Tpo thrift/.deps/thrift_libparse_a-thrifty.Po\n",
            "g++ -std=c++11 -DHAVE_CONFIG_H   -I.  -Wall -Wno-sign-compare -Wno-unused -g -O2 -MT thrift/thrift_libparse_a-thriftl.o -MD -MP -MF thrift/.deps/thrift_libparse_a-thriftl.Tpo -c -o thrift/thrift_libparse_a-thriftl.o `test -f 'thrift/thriftl.cc' || echo './'`thrift/thriftl.cc\n",
            "mv -f thrift/.deps/thrift_libparse_a-thriftl.Tpo thrift/.deps/thrift_libparse_a-thriftl.Po\n",
            "rm -f thrift/libparse.a\n",
            "ar cru thrift/libparse.a thrift/thrift_libparse_a-thrifty.o thrift/thrift_libparse_a-thriftl.o \n",
            "ar: `u' modifier ignored since `D' is the default (see `U')\n",
            "ranlib thrift/libparse.a\n",
            "make[4]: Leaving directory '/content/thrift-0.20.0/compiler/cpp/src'\n",
            "make[3]: Leaving directory '/content/thrift-0.20.0/compiler/cpp/src'\n",
            "Making all in .\n",
            "make[3]: Entering directory '/content/thrift-0.20.0/compiler/cpp'\n",
            "g++ -std=c++11 -DHAVE_CONFIG_H   -I./src  -Wall -Wextra -pedantic -Werror -g -O2 -MT src/thrift/audit/thrift-t_audit.o -MD -MP -MF src/thrift/audit/.deps/thrift-t_audit.Tpo -c -o src/thrift/audit/thrift-t_audit.o `test -f 'src/thrift/audit/t_audit.cpp' || echo './'`src/thrift/audit/t_audit.cpp\n",
            "mv -f src/thrift/audit/.deps/thrift-t_audit.Tpo src/thrift/audit/.deps/thrift-t_audit.Po\n",
            "g++ -std=c++11 -DHAVE_CONFIG_H   -I./src  -Wall -Wextra -pedantic -Werror -g -O2 -MT src/thrift/thrift-common.o -MD -MP -MF src/thrift/.deps/thrift-common.Tpo -c -o src/thrift/thrift-common.o `test -f 'src/thrift/common.cc' || echo './'`src/thrift/common.cc\n",
            "mv -f src/thrift/.deps/thrift-common.Tpo src/thrift/.deps/thrift-common.Po\n",
            "g++ -std=c++11 -DHAVE_CONFIG_H   -I./src  -Wall -Wextra -pedantic -Werror -g -O2 -MT src/thrift/generate/thrift-t_generator.o -MD -MP -MF src/thrift/generate/.deps/thrift-t_generator.Tpo -c -o src/thrift/generate/thrift-t_generator.o `test -f 'src/thrift/generate/t_generator.cc' || echo './'`src/thrift/generate/t_generator.cc\n",
            "mv -f src/thrift/generate/.deps/thrift-t_generator.Tpo src/thrift/generate/.deps/thrift-t_generator.Po\n",
            "g++ -std=c++11 -DHAVE_CONFIG_H   -I./src  -Wall -Wextra -pedantic -Werror -g -O2 -MT src/thrift/thrift-main.o -MD -MP -MF src/thrift/.deps/thrift-main.Tpo -c -o src/thrift/thrift-main.o `test -f 'src/thrift/main.cc' || echo './'`src/thrift/main.cc\n",
            "mv -f src/thrift/.deps/thrift-main.Tpo src/thrift/.deps/thrift-main.Po\n",
            "g++ -std=c++11 -DHAVE_CONFIG_H   -I./src  -Wall -Wextra -pedantic -Werror -g -O2 -MT src/thrift/parse/thrift-parse.o -MD -MP -MF src/thrift/parse/.deps/thrift-parse.Tpo -c -o src/thrift/parse/thrift-parse.o `test -f 'src/thrift/parse/parse.cc' || echo './'`src/thrift/parse/parse.cc\n",
            "mv -f src/thrift/parse/.deps/thrift-parse.Tpo src/thrift/parse/.deps/thrift-parse.Po\n",
            "g++ -std=c++11 -DHAVE_CONFIG_H   -I./src  -Wall -Wextra -pedantic -Werror -g -O2 -MT src/thrift/parse/thrift-t_typedef.o -MD -MP -MF src/thrift/parse/.deps/thrift-t_typedef.Tpo -c -o src/thrift/parse/thrift-t_typedef.o `test -f 'src/thrift/parse/t_typedef.cc' || echo './'`src/thrift/parse/t_typedef.cc\n",
            "mv -f src/thrift/parse/.deps/thrift-t_typedef.Tpo src/thrift/parse/.deps/thrift-t_typedef.Po\n",
            "g++ -std=c++11 -DHAVE_CONFIG_H   -I./src  -Wall -Wextra -pedantic -Werror -g -O2 -MT src/thrift/generate/thrift-t_c_glib_generator.o -MD -MP -MF src/thrift/generate/.deps/thrift-t_c_glib_generator.Tpo -c -o src/thrift/generate/thrift-t_c_glib_generator.o `test -f 'src/thrift/generate/t_c_glib_generator.cc' || echo './'`src/thrift/generate/t_c_glib_generator.cc\n",
            "mv -f src/thrift/generate/.deps/thrift-t_c_glib_generator.Tpo src/thrift/generate/.deps/thrift-t_c_glib_generator.Po\n",
            "g++ -std=c++11 -DHAVE_CONFIG_H   -I./src  -Wall -Wextra -pedantic -Werror -g -O2 -MT src/thrift/generate/thrift-t_cl_generator.o -MD -MP -MF src/thrift/generate/.deps/thrift-t_cl_generator.Tpo -c -o src/thrift/generate/thrift-t_cl_generator.o `test -f 'src/thrift/generate/t_cl_generator.cc' || echo './'`src/thrift/generate/t_cl_generator.cc\n",
            "mv -f src/thrift/generate/.deps/thrift-t_cl_generator.Tpo src/thrift/generate/.deps/thrift-t_cl_generator.Po\n",
            "g++ -std=c++11 -DHAVE_CONFIG_H   -I./src  -Wall -Wextra -pedantic -Werror -g -O2 -MT src/thrift/generate/thrift-t_cpp_generator.o -MD -MP -MF src/thrift/generate/.deps/thrift-t_cpp_generator.Tpo -c -o src/thrift/generate/thrift-t_cpp_generator.o `test -f 'src/thrift/generate/t_cpp_generator.cc' || echo './'`src/thrift/generate/t_cpp_generator.cc\n",
            "mv -f src/thrift/generate/.deps/thrift-t_cpp_generator.Tpo src/thrift/generate/.deps/thrift-t_cpp_generator.Po\n",
            "g++ -std=c++11 -DHAVE_CONFIG_H   -I./src  -Wall -Wextra -pedantic -Werror -g -O2 -MT src/thrift/generate/thrift-t_d_generator.o -MD -MP -MF src/thrift/generate/.deps/thrift-t_d_generator.Tpo -c -o src/thrift/generate/thrift-t_d_generator.o `test -f 'src/thrift/generate/t_d_generator.cc' || echo './'`src/thrift/generate/t_d_generator.cc\n",
            "mv -f src/thrift/generate/.deps/thrift-t_d_generator.Tpo src/thrift/generate/.deps/thrift-t_d_generator.Po\n",
            "g++ -std=c++11 -DHAVE_CONFIG_H   -I./src  -Wall -Wextra -pedantic -Werror -g -O2 -MT src/thrift/generate/thrift-t_dart_generator.o -MD -MP -MF src/thrift/generate/.deps/thrift-t_dart_generator.Tpo -c -o src/thrift/generate/thrift-t_dart_generator.o `test -f 'src/thrift/generate/t_dart_generator.cc' || echo './'`src/thrift/generate/t_dart_generator.cc\n",
            "mv -f src/thrift/generate/.deps/thrift-t_dart_generator.Tpo src/thrift/generate/.deps/thrift-t_dart_generator.Po\n",
            "g++ -std=c++11 -DHAVE_CONFIG_H   -I./src  -Wall -Wextra -pedantic -Werror -g -O2 -MT src/thrift/generate/thrift-t_delphi_generator.o -MD -MP -MF src/thrift/generate/.deps/thrift-t_delphi_generator.Tpo -c -o src/thrift/generate/thrift-t_delphi_generator.o `test -f 'src/thrift/generate/t_delphi_generator.cc' || echo './'`src/thrift/generate/t_delphi_generator.cc\n",
            "mv -f src/thrift/generate/.deps/thrift-t_delphi_generator.Tpo src/thrift/generate/.deps/thrift-t_delphi_generator.Po\n",
            "g++ -std=c++11 -DHAVE_CONFIG_H   -I./src  -Wall -Wextra -pedantic -Werror -g -O2 -MT src/thrift/generate/thrift-t_erl_generator.o -MD -MP -MF src/thrift/generate/.deps/thrift-t_erl_generator.Tpo -c -o src/thrift/generate/thrift-t_erl_generator.o `test -f 'src/thrift/generate/t_erl_generator.cc' || echo './'`src/thrift/generate/t_erl_generator.cc\n",
            "mv -f src/thrift/generate/.deps/thrift-t_erl_generator.Tpo src/thrift/generate/.deps/thrift-t_erl_generator.Po\n",
            "g++ -std=c++11 -DHAVE_CONFIG_H   -I./src  -Wall -Wextra -pedantic -Werror -g -O2 -MT src/thrift/generate/thrift-t_go_generator.o -MD -MP -MF src/thrift/generate/.deps/thrift-t_go_generator.Tpo -c -o src/thrift/generate/thrift-t_go_generator.o `test -f 'src/thrift/generate/t_go_generator.cc' || echo './'`src/thrift/generate/t_go_generator.cc\n",
            "mv -f src/thrift/generate/.deps/thrift-t_go_generator.Tpo src/thrift/generate/.deps/thrift-t_go_generator.Po\n",
            "g++ -std=c++11 -DHAVE_CONFIG_H   -I./src  -Wall -Wextra -pedantic -Werror -g -O2 -MT src/thrift/generate/thrift-t_gv_generator.o -MD -MP -MF src/thrift/generate/.deps/thrift-t_gv_generator.Tpo -c -o src/thrift/generate/thrift-t_gv_generator.o `test -f 'src/thrift/generate/t_gv_generator.cc' || echo './'`src/thrift/generate/t_gv_generator.cc\n",
            "mv -f src/thrift/generate/.deps/thrift-t_gv_generator.Tpo src/thrift/generate/.deps/thrift-t_gv_generator.Po\n",
            "g++ -std=c++11 -DHAVE_CONFIG_H   -I./src  -Wall -Wextra -pedantic -Werror -g -O2 -MT src/thrift/generate/thrift-t_haxe_generator.o -MD -MP -MF src/thrift/generate/.deps/thrift-t_haxe_generator.Tpo -c -o src/thrift/generate/thrift-t_haxe_generator.o `test -f 'src/thrift/generate/t_haxe_generator.cc' || echo './'`src/thrift/generate/t_haxe_generator.cc\n",
            "mv -f src/thrift/generate/.deps/thrift-t_haxe_generator.Tpo src/thrift/generate/.deps/thrift-t_haxe_generator.Po\n",
            "g++ -std=c++11 -DHAVE_CONFIG_H   -I./src  -Wall -Wextra -pedantic -Werror -g -O2 -MT src/thrift/generate/thrift-t_html_generator.o -MD -MP -MF src/thrift/generate/.deps/thrift-t_html_generator.Tpo -c -o src/thrift/generate/thrift-t_html_generator.o `test -f 'src/thrift/generate/t_html_generator.cc' || echo './'`src/thrift/generate/t_html_generator.cc\n",
            "mv -f src/thrift/generate/.deps/thrift-t_html_generator.Tpo src/thrift/generate/.deps/thrift-t_html_generator.Po\n",
            "g++ -std=c++11 -DHAVE_CONFIG_H   -I./src  -Wall -Wextra -pedantic -Werror -g -O2 -MT src/thrift/generate/thrift-t_markdown_generator.o -MD -MP -MF src/thrift/generate/.deps/thrift-t_markdown_generator.Tpo -c -o src/thrift/generate/thrift-t_markdown_generator.o `test -f 'src/thrift/generate/t_markdown_generator.cc' || echo './'`src/thrift/generate/t_markdown_generator.cc\n",
            "mv -f src/thrift/generate/.deps/thrift-t_markdown_generator.Tpo src/thrift/generate/.deps/thrift-t_markdown_generator.Po\n",
            "g++ -std=c++11 -DHAVE_CONFIG_H   -I./src  -Wall -Wextra -pedantic -Werror -g -O2 -MT src/thrift/generate/thrift-t_java_generator.o -MD -MP -MF src/thrift/generate/.deps/thrift-t_java_generator.Tpo -c -o src/thrift/generate/thrift-t_java_generator.o `test -f 'src/thrift/generate/t_java_generator.cc' || echo './'`src/thrift/generate/t_java_generator.cc\n",
            "mv -f src/thrift/generate/.deps/thrift-t_java_generator.Tpo src/thrift/generate/.deps/thrift-t_java_generator.Po\n",
            "g++ -std=c++11 -DHAVE_CONFIG_H   -I./src  -Wall -Wextra -pedantic -Werror -g -O2 -MT src/thrift/generate/thrift-t_javame_generator.o -MD -MP -MF src/thrift/generate/.deps/thrift-t_javame_generator.Tpo -c -o src/thrift/generate/thrift-t_javame_generator.o `test -f 'src/thrift/generate/t_javame_generator.cc' || echo './'`src/thrift/generate/t_javame_generator.cc\n",
            "mv -f src/thrift/generate/.deps/thrift-t_javame_generator.Tpo src/thrift/generate/.deps/thrift-t_javame_generator.Po\n",
            "g++ -std=c++11 -DHAVE_CONFIG_H   -I./src  -Wall -Wextra -pedantic -Werror -g -O2 -MT src/thrift/generate/thrift-t_js_generator.o -MD -MP -MF src/thrift/generate/.deps/thrift-t_js_generator.Tpo -c -o src/thrift/generate/thrift-t_js_generator.o `test -f 'src/thrift/generate/t_js_generator.cc' || echo './'`src/thrift/generate/t_js_generator.cc\n",
            "mv -f src/thrift/generate/.deps/thrift-t_js_generator.Tpo src/thrift/generate/.deps/thrift-t_js_generator.Po\n",
            "g++ -std=c++11 -DHAVE_CONFIG_H   -I./src  -Wall -Wextra -pedantic -Werror -g -O2 -MT src/thrift/generate/thrift-t_json_generator.o -MD -MP -MF src/thrift/generate/.deps/thrift-t_json_generator.Tpo -c -o src/thrift/generate/thrift-t_json_generator.o `test -f 'src/thrift/generate/t_json_generator.cc' || echo './'`src/thrift/generate/t_json_generator.cc\n",
            "mv -f src/thrift/generate/.deps/thrift-t_json_generator.Tpo src/thrift/generate/.deps/thrift-t_json_generator.Po\n",
            "g++ -std=c++11 -DHAVE_CONFIG_H   -I./src  -Wall -Wextra -pedantic -Werror -g -O2 -MT src/thrift/generate/thrift-t_kotlin_generator.o -MD -MP -MF src/thrift/generate/.deps/thrift-t_kotlin_generator.Tpo -c -o src/thrift/generate/thrift-t_kotlin_generator.o `test -f 'src/thrift/generate/t_kotlin_generator.cc' || echo './'`src/thrift/generate/t_kotlin_generator.cc\n",
            "mv -f src/thrift/generate/.deps/thrift-t_kotlin_generator.Tpo src/thrift/generate/.deps/thrift-t_kotlin_generator.Po\n",
            "g++ -std=c++11 -DHAVE_CONFIG_H   -I./src  -Wall -Wextra -pedantic -Werror -g -O2 -MT src/thrift/generate/thrift-t_lua_generator.o -MD -MP -MF src/thrift/generate/.deps/thrift-t_lua_generator.Tpo -c -o src/thrift/generate/thrift-t_lua_generator.o `test -f 'src/thrift/generate/t_lua_generator.cc' || echo './'`src/thrift/generate/t_lua_generator.cc\n",
            "mv -f src/thrift/generate/.deps/thrift-t_lua_generator.Tpo src/thrift/generate/.deps/thrift-t_lua_generator.Po\n",
            "g++ -std=c++11 -DHAVE_CONFIG_H   -I./src  -Wall -Wextra -pedantic -Werror -g -O2 -MT src/thrift/generate/thrift-t_netstd_generator.o -MD -MP -MF src/thrift/generate/.deps/thrift-t_netstd_generator.Tpo -c -o src/thrift/generate/thrift-t_netstd_generator.o `test -f 'src/thrift/generate/t_netstd_generator.cc' || echo './'`src/thrift/generate/t_netstd_generator.cc\n",
            "mv -f src/thrift/generate/.deps/thrift-t_netstd_generator.Tpo src/thrift/generate/.deps/thrift-t_netstd_generator.Po\n",
            "g++ -std=c++11 -DHAVE_CONFIG_H   -I./src  -Wall -Wextra -pedantic -Werror -g -O2 -MT src/thrift/generate/thrift-t_ocaml_generator.o -MD -MP -MF src/thrift/generate/.deps/thrift-t_ocaml_generator.Tpo -c -o src/thrift/generate/thrift-t_ocaml_generator.o `test -f 'src/thrift/generate/t_ocaml_generator.cc' || echo './'`src/thrift/generate/t_ocaml_generator.cc\n",
            "mv -f src/thrift/generate/.deps/thrift-t_ocaml_generator.Tpo src/thrift/generate/.deps/thrift-t_ocaml_generator.Po\n",
            "g++ -std=c++11 -DHAVE_CONFIG_H   -I./src  -Wall -Wextra -pedantic -Werror -g -O2 -MT src/thrift/generate/thrift-t_perl_generator.o -MD -MP -MF src/thrift/generate/.deps/thrift-t_perl_generator.Tpo -c -o src/thrift/generate/thrift-t_perl_generator.o `test -f 'src/thrift/generate/t_perl_generator.cc' || echo './'`src/thrift/generate/t_perl_generator.cc\n",
            "mv -f src/thrift/generate/.deps/thrift-t_perl_generator.Tpo src/thrift/generate/.deps/thrift-t_perl_generator.Po\n",
            "g++ -std=c++11 -DHAVE_CONFIG_H   -I./src  -Wall -Wextra -pedantic -Werror -g -O2 -MT src/thrift/generate/thrift-t_php_generator.o -MD -MP -MF src/thrift/generate/.deps/thrift-t_php_generator.Tpo -c -o src/thrift/generate/thrift-t_php_generator.o `test -f 'src/thrift/generate/t_php_generator.cc' || echo './'`src/thrift/generate/t_php_generator.cc\n",
            "mv -f src/thrift/generate/.deps/thrift-t_php_generator.Tpo src/thrift/generate/.deps/thrift-t_php_generator.Po\n",
            "g++ -std=c++11 -DHAVE_CONFIG_H   -I./src  -Wall -Wextra -pedantic -Werror -g -O2 -MT src/thrift/generate/thrift-t_py_generator.o -MD -MP -MF src/thrift/generate/.deps/thrift-t_py_generator.Tpo -c -o src/thrift/generate/thrift-t_py_generator.o `test -f 'src/thrift/generate/t_py_generator.cc' || echo './'`src/thrift/generate/t_py_generator.cc\n",
            "mv -f src/thrift/generate/.deps/thrift-t_py_generator.Tpo src/thrift/generate/.deps/thrift-t_py_generator.Po\n",
            "g++ -std=c++11 -DHAVE_CONFIG_H   -I./src  -Wall -Wextra -pedantic -Werror -g -O2 -MT src/thrift/generate/thrift-t_rb_generator.o -MD -MP -MF src/thrift/generate/.deps/thrift-t_rb_generator.Tpo -c -o src/thrift/generate/thrift-t_rb_generator.o `test -f 'src/thrift/generate/t_rb_generator.cc' || echo './'`src/thrift/generate/t_rb_generator.cc\n",
            "mv -f src/thrift/generate/.deps/thrift-t_rb_generator.Tpo src/thrift/generate/.deps/thrift-t_rb_generator.Po\n",
            "g++ -std=c++11 -DHAVE_CONFIG_H   -I./src  -Wall -Wextra -pedantic -Werror -g -O2 -MT src/thrift/generate/thrift-t_rs_generator.o -MD -MP -MF src/thrift/generate/.deps/thrift-t_rs_generator.Tpo -c -o src/thrift/generate/thrift-t_rs_generator.o `test -f 'src/thrift/generate/t_rs_generator.cc' || echo './'`src/thrift/generate/t_rs_generator.cc\n",
            "mv -f src/thrift/generate/.deps/thrift-t_rs_generator.Tpo src/thrift/generate/.deps/thrift-t_rs_generator.Po\n",
            "g++ -std=c++11 -DHAVE_CONFIG_H   -I./src  -Wall -Wextra -pedantic -Werror -g -O2 -MT src/thrift/generate/thrift-t_st_generator.o -MD -MP -MF src/thrift/generate/.deps/thrift-t_st_generator.Tpo -c -o src/thrift/generate/thrift-t_st_generator.o `test -f 'src/thrift/generate/t_st_generator.cc' || echo './'`src/thrift/generate/t_st_generator.cc\n",
            "mv -f src/thrift/generate/.deps/thrift-t_st_generator.Tpo src/thrift/generate/.deps/thrift-t_st_generator.Po\n",
            "g++ -std=c++11 -DHAVE_CONFIG_H   -I./src  -Wall -Wextra -pedantic -Werror -g -O2 -MT src/thrift/generate/thrift-t_swift_generator.o -MD -MP -MF src/thrift/generate/.deps/thrift-t_swift_generator.Tpo -c -o src/thrift/generate/thrift-t_swift_generator.o `test -f 'src/thrift/generate/t_swift_generator.cc' || echo './'`src/thrift/generate/t_swift_generator.cc\n",
            "mv -f src/thrift/generate/.deps/thrift-t_swift_generator.Tpo src/thrift/generate/.deps/thrift-t_swift_generator.Po\n",
            "g++ -std=c++11 -DHAVE_CONFIG_H   -I./src  -Wall -Wextra -pedantic -Werror -g -O2 -MT src/thrift/generate/thrift-t_xml_generator.o -MD -MP -MF src/thrift/generate/.deps/thrift-t_xml_generator.Tpo -c -o src/thrift/generate/thrift-t_xml_generator.o `test -f 'src/thrift/generate/t_xml_generator.cc' || echo './'`src/thrift/generate/t_xml_generator.cc\n",
            "mv -f src/thrift/generate/.deps/thrift-t_xml_generator.Tpo src/thrift/generate/.deps/thrift-t_xml_generator.Po\n",
            "g++ -std=c++11 -DHAVE_CONFIG_H   -I./src  -Wall -Wextra -pedantic -Werror -g -O2 -MT src/thrift/generate/thrift-t_xsd_generator.o -MD -MP -MF src/thrift/generate/.deps/thrift-t_xsd_generator.Tpo -c -o src/thrift/generate/thrift-t_xsd_generator.o `test -f 'src/thrift/generate/t_xsd_generator.cc' || echo './'`src/thrift/generate/t_xsd_generator.cc\n",
            "mv -f src/thrift/generate/.deps/thrift-t_xsd_generator.Tpo src/thrift/generate/.deps/thrift-t_xsd_generator.Po\n",
            "g++ -std=c++11 -DHAVE_CONFIG_H   -I./src  -Wall -Wextra -pedantic -Werror -g -O2 -MT src/thrift/generate/thrift-validator_parser.o -MD -MP -MF src/thrift/generate/.deps/thrift-validator_parser.Tpo -c -o src/thrift/generate/thrift-validator_parser.o `test -f 'src/thrift/generate/validator_parser.cc' || echo './'`src/thrift/generate/validator_parser.cc\n",
            "mv -f src/thrift/generate/.deps/thrift-validator_parser.Tpo src/thrift/generate/.deps/thrift-validator_parser.Po\n",
            "g++ -std=c++11 -DHAVE_CONFIG_H   -I./src  -Wall -Wextra -pedantic -Werror -g -O2 -MT src/thrift/generate/thrift-go_validator_generator.o -MD -MP -MF src/thrift/generate/.deps/thrift-go_validator_generator.Tpo -c -o src/thrift/generate/thrift-go_validator_generator.o `test -f 'src/thrift/generate/go_validator_generator.cc' || echo './'`src/thrift/generate/go_validator_generator.cc\n",
            "mv -f src/thrift/generate/.deps/thrift-go_validator_generator.Tpo src/thrift/generate/.deps/thrift-go_validator_generator.Po\n",
            "/bin/bash ../../libtool  --tag=CXX   --mode=link g++ -std=c++11 -Wall -Wextra -pedantic -Werror -g -O2   -o thrift src/thrift/audit/thrift-t_audit.o src/thrift/thrift-common.o src/thrift/generate/thrift-t_generator.o src/thrift/thrift-main.o src/thrift/parse/thrift-parse.o src/thrift/parse/thrift-t_typedef.o src/thrift/generate/thrift-t_c_glib_generator.o src/thrift/generate/thrift-t_cl_generator.o src/thrift/generate/thrift-t_cpp_generator.o src/thrift/generate/thrift-t_d_generator.o src/thrift/generate/thrift-t_dart_generator.o src/thrift/generate/thrift-t_delphi_generator.o src/thrift/generate/thrift-t_erl_generator.o src/thrift/generate/thrift-t_go_generator.o src/thrift/generate/thrift-t_gv_generator.o src/thrift/generate/thrift-t_haxe_generator.o src/thrift/generate/thrift-t_html_generator.o src/thrift/generate/thrift-t_markdown_generator.o src/thrift/generate/thrift-t_java_generator.o src/thrift/generate/thrift-t_javame_generator.o src/thrift/generate/thrift-t_js_generator.o src/thrift/generate/thrift-t_json_generator.o src/thrift/generate/thrift-t_kotlin_generator.o src/thrift/generate/thrift-t_lua_generator.o src/thrift/generate/thrift-t_netstd_generator.o src/thrift/generate/thrift-t_ocaml_generator.o src/thrift/generate/thrift-t_perl_generator.o src/thrift/generate/thrift-t_php_generator.o src/thrift/generate/thrift-t_py_generator.o src/thrift/generate/thrift-t_rb_generator.o src/thrift/generate/thrift-t_rs_generator.o src/thrift/generate/thrift-t_st_generator.o src/thrift/generate/thrift-t_swift_generator.o src/thrift/generate/thrift-t_xml_generator.o src/thrift/generate/thrift-t_xsd_generator.o src/thrift/generate/thrift-validator_parser.o src/thrift/generate/thrift-go_validator_generator.o src/thrift/libparse.a -lrt -lpthread \n",
            "libtool: link: g++ -std=c++11 -Wall -Wextra -pedantic -Werror -g -O2 -o thrift src/thrift/audit/thrift-t_audit.o src/thrift/thrift-common.o src/thrift/generate/thrift-t_generator.o src/thrift/thrift-main.o src/thrift/parse/thrift-parse.o src/thrift/parse/thrift-t_typedef.o src/thrift/generate/thrift-t_c_glib_generator.o src/thrift/generate/thrift-t_cl_generator.o src/thrift/generate/thrift-t_cpp_generator.o src/thrift/generate/thrift-t_d_generator.o src/thrift/generate/thrift-t_dart_generator.o src/thrift/generate/thrift-t_delphi_generator.o src/thrift/generate/thrift-t_erl_generator.o src/thrift/generate/thrift-t_go_generator.o src/thrift/generate/thrift-t_gv_generator.o src/thrift/generate/thrift-t_haxe_generator.o src/thrift/generate/thrift-t_html_generator.o src/thrift/generate/thrift-t_markdown_generator.o src/thrift/generate/thrift-t_java_generator.o src/thrift/generate/thrift-t_javame_generator.o src/thrift/generate/thrift-t_js_generator.o src/thrift/generate/thrift-t_json_generator.o src/thrift/generate/thrift-t_kotlin_generator.o src/thrift/generate/thrift-t_lua_generator.o src/thrift/generate/thrift-t_netstd_generator.o src/thrift/generate/thrift-t_ocaml_generator.o src/thrift/generate/thrift-t_perl_generator.o src/thrift/generate/thrift-t_php_generator.o src/thrift/generate/thrift-t_py_generator.o src/thrift/generate/thrift-t_rb_generator.o src/thrift/generate/thrift-t_rs_generator.o src/thrift/generate/thrift-t_st_generator.o src/thrift/generate/thrift-t_swift_generator.o src/thrift/generate/thrift-t_xml_generator.o src/thrift/generate/thrift-t_xsd_generator.o src/thrift/generate/thrift-validator_parser.o src/thrift/generate/thrift-go_validator_generator.o  src/thrift/libparse.a -lrt -lpthread\n",
            "make[3]: Leaving directory '/content/thrift-0.20.0/compiler/cpp'\n",
            "Making all in test\n",
            "make[3]: Entering directory '/content/thrift-0.20.0/compiler/cpp/test'\n",
            "make[3]: Nothing to be done for 'all'.\n",
            "make[3]: Leaving directory '/content/thrift-0.20.0/compiler/cpp/test'\n",
            "make[2]: Leaving directory '/content/thrift-0.20.0/compiler/cpp'\n",
            "Making all in lib\n",
            "make[2]: Entering directory '/content/thrift-0.20.0/lib'\n",
            "Making all in json\n",
            "make[3]: Entering directory '/content/thrift-0.20.0/lib/json'\n",
            "make[4]: Entering directory '/content/thrift-0.20.0/lib/json'\n",
            "make[4]: Nothing to be done for 'all-am'.\n",
            "make[4]: Leaving directory '/content/thrift-0.20.0/lib/json'\n",
            "make[3]: Leaving directory '/content/thrift-0.20.0/lib/json'\n",
            "Making all in xml\n",
            "make[3]: Entering directory '/content/thrift-0.20.0/lib/xml'\n",
            "make[4]: Entering directory '/content/thrift-0.20.0/lib/xml'\n",
            "make[4]: Nothing to be done for 'all-am'.\n",
            "make[4]: Leaving directory '/content/thrift-0.20.0/lib/xml'\n",
            "make[3]: Leaving directory '/content/thrift-0.20.0/lib/xml'\n",
            "Making all in cpp\n",
            "make[3]: Entering directory '/content/thrift-0.20.0/lib/cpp'\n",
            "Making all in .\n",
            "make[4]: Entering directory '/content/thrift-0.20.0/lib/cpp'\n",
            "depbase=`echo src/thrift/TApplicationException.lo | sed 's|[^/]*$|.deps/&|;s|\\.lo$||'`;\\\n",
            "/bin/bash ../../libtool  --tag=CXX   --mode=compile g++ -std=c++11 -DHAVE_CONFIG_H   -I/usr/include  -I./src -D__STDC_FORMAT_MACROS -D__STDC_LIMIT_MACROS  -Wall -Wextra -pedantic -g -O2 -MT src/thrift/TApplicationException.lo -MD -MP -MF $depbase.Tpo -c -o src/thrift/TApplicationException.lo src/thrift/TApplicationException.cpp &&\\\n",
            "mv -f $depbase.Tpo $depbase.Plo\n",
            "libtool: compile:  g++ -std=c++11 -DHAVE_CONFIG_H -I/usr/include -I./src -D__STDC_FORMAT_MACROS -D__STDC_LIMIT_MACROS -Wall -Wextra -pedantic -g -O2 -MT src/thrift/TApplicationException.lo -MD -MP -MF src/thrift/.deps/TApplicationException.Tpo -c src/thrift/TApplicationException.cpp  -fPIC -DPIC -o src/thrift/.libs/TApplicationException.o\n",
            "libtool: compile:  g++ -std=c++11 -DHAVE_CONFIG_H -I/usr/include -I./src -D__STDC_FORMAT_MACROS -D__STDC_LIMIT_MACROS -Wall -Wextra -pedantic -g -O2 -MT src/thrift/TApplicationException.lo -MD -MP -MF src/thrift/.deps/TApplicationException.Tpo -c src/thrift/TApplicationException.cpp -o src/thrift/TApplicationException.o >/dev/null 2>&1\n",
            "depbase=`echo src/thrift/TOutput.lo | sed 's|[^/]*$|.deps/&|;s|\\.lo$||'`;\\\n",
            "/bin/bash ../../libtool  --tag=CXX   --mode=compile g++ -std=c++11 -DHAVE_CONFIG_H   -I/usr/include  -I./src -D__STDC_FORMAT_MACROS -D__STDC_LIMIT_MACROS  -Wall -Wextra -pedantic -g -O2 -MT src/thrift/TOutput.lo -MD -MP -MF $depbase.Tpo -c -o src/thrift/TOutput.lo src/thrift/TOutput.cpp &&\\\n",
            "mv -f $depbase.Tpo $depbase.Plo\n",
            "libtool: compile:  g++ -std=c++11 -DHAVE_CONFIG_H -I/usr/include -I./src -D__STDC_FORMAT_MACROS -D__STDC_LIMIT_MACROS -Wall -Wextra -pedantic -g -O2 -MT src/thrift/TOutput.lo -MD -MP -MF src/thrift/.deps/TOutput.Tpo -c src/thrift/TOutput.cpp  -fPIC -DPIC -o src/thrift/.libs/TOutput.o\n",
            "libtool: compile:  g++ -std=c++11 -DHAVE_CONFIG_H -I/usr/include -I./src -D__STDC_FORMAT_MACROS -D__STDC_LIMIT_MACROS -Wall -Wextra -pedantic -g -O2 -MT src/thrift/TOutput.lo -MD -MP -MF src/thrift/.deps/TOutput.Tpo -c src/thrift/TOutput.cpp -o src/thrift/TOutput.o >/dev/null 2>&1\n",
            "depbase=`echo src/thrift/VirtualProfiling.lo | sed 's|[^/]*$|.deps/&|;s|\\.lo$||'`;\\\n",
            "/bin/bash ../../libtool  --tag=CXX   --mode=compile g++ -std=c++11 -DHAVE_CONFIG_H   -I/usr/include  -I./src -D__STDC_FORMAT_MACROS -D__STDC_LIMIT_MACROS  -Wall -Wextra -pedantic -g -O2 -MT src/thrift/VirtualProfiling.lo -MD -MP -MF $depbase.Tpo -c -o src/thrift/VirtualProfiling.lo src/thrift/VirtualProfiling.cpp &&\\\n",
            "mv -f $depbase.Tpo $depbase.Plo\n",
            "libtool: compile:  g++ -std=c++11 -DHAVE_CONFIG_H -I/usr/include -I./src -D__STDC_FORMAT_MACROS -D__STDC_LIMIT_MACROS -Wall -Wextra -pedantic -g -O2 -MT src/thrift/VirtualProfiling.lo -MD -MP -MF src/thrift/.deps/VirtualProfiling.Tpo -c src/thrift/VirtualProfiling.cpp  -fPIC -DPIC -o src/thrift/.libs/VirtualProfiling.o\n",
            "libtool: compile:  g++ -std=c++11 -DHAVE_CONFIG_H -I/usr/include -I./src -D__STDC_FORMAT_MACROS -D__STDC_LIMIT_MACROS -Wall -Wextra -pedantic -g -O2 -MT src/thrift/VirtualProfiling.lo -MD -MP -MF src/thrift/.deps/VirtualProfiling.Tpo -c src/thrift/VirtualProfiling.cpp -o src/thrift/VirtualProfiling.o >/dev/null 2>&1\n",
            "depbase=`echo src/thrift/async/TAsyncChannel.lo | sed 's|[^/]*$|.deps/&|;s|\\.lo$||'`;\\\n",
            "/bin/bash ../../libtool  --tag=CXX   --mode=compile g++ -std=c++11 -DHAVE_CONFIG_H   -I/usr/include  -I./src -D__STDC_FORMAT_MACROS -D__STDC_LIMIT_MACROS  -Wall -Wextra -pedantic -g -O2 -MT src/thrift/async/TAsyncChannel.lo -MD -MP -MF $depbase.Tpo -c -o src/thrift/async/TAsyncChannel.lo src/thrift/async/TAsyncChannel.cpp &&\\\n",
            "mv -f $depbase.Tpo $depbase.Plo\n",
            "libtool: compile:  g++ -std=c++11 -DHAVE_CONFIG_H -I/usr/include -I./src -D__STDC_FORMAT_MACROS -D__STDC_LIMIT_MACROS -Wall -Wextra -pedantic -g -O2 -MT src/thrift/async/TAsyncChannel.lo -MD -MP -MF src/thrift/async/.deps/TAsyncChannel.Tpo -c src/thrift/async/TAsyncChannel.cpp  -fPIC -DPIC -o src/thrift/async/.libs/TAsyncChannel.o\n",
            "libtool: compile:  g++ -std=c++11 -DHAVE_CONFIG_H -I/usr/include -I./src -D__STDC_FORMAT_MACROS -D__STDC_LIMIT_MACROS -Wall -Wextra -pedantic -g -O2 -MT src/thrift/async/TAsyncChannel.lo -MD -MP -MF src/thrift/async/.deps/TAsyncChannel.Tpo -c src/thrift/async/TAsyncChannel.cpp -o src/thrift/async/TAsyncChannel.o >/dev/null 2>&1\n",
            "depbase=`echo src/thrift/async/TAsyncProtocolProcessor.lo | sed 's|[^/]*$|.deps/&|;s|\\.lo$||'`;\\\n",
            "/bin/bash ../../libtool  --tag=CXX   --mode=compile g++ -std=c++11 -DHAVE_CONFIG_H   -I/usr/include  -I./src -D__STDC_FORMAT_MACROS -D__STDC_LIMIT_MACROS  -Wall -Wextra -pedantic -g -O2 -MT src/thrift/async/TAsyncProtocolProcessor.lo -MD -MP -MF $depbase.Tpo -c -o src/thrift/async/TAsyncProtocolProcessor.lo src/thrift/async/TAsyncProtocolProcessor.cpp &&\\\n",
            "mv -f $depbase.Tpo $depbase.Plo\n",
            "libtool: compile:  g++ -std=c++11 -DHAVE_CONFIG_H -I/usr/include -I./src -D__STDC_FORMAT_MACROS -D__STDC_LIMIT_MACROS -Wall -Wextra -pedantic -g -O2 -MT src/thrift/async/TAsyncProtocolProcessor.lo -MD -MP -MF src/thrift/async/.deps/TAsyncProtocolProcessor.Tpo -c src/thrift/async/TAsyncProtocolProcessor.cpp  -fPIC -DPIC -o src/thrift/async/.libs/TAsyncProtocolProcessor.o\n",
            "libtool: compile:  g++ -std=c++11 -DHAVE_CONFIG_H -I/usr/include -I./src -D__STDC_FORMAT_MACROS -D__STDC_LIMIT_MACROS -Wall -Wextra -pedantic -g -O2 -MT src/thrift/async/TAsyncProtocolProcessor.lo -MD -MP -MF src/thrift/async/.deps/TAsyncProtocolProcessor.Tpo -c src/thrift/async/TAsyncProtocolProcessor.cpp -o src/thrift/async/TAsyncProtocolProcessor.o >/dev/null 2>&1\n",
            "depbase=`echo src/thrift/async/TConcurrentClientSyncInfo.lo | sed 's|[^/]*$|.deps/&|;s|\\.lo$||'`;\\\n",
            "/bin/bash ../../libtool  --tag=CXX   --mode=compile g++ -std=c++11 -DHAVE_CONFIG_H   -I/usr/include  -I./src -D__STDC_FORMAT_MACROS -D__STDC_LIMIT_MACROS  -Wall -Wextra -pedantic -g -O2 -MT src/thrift/async/TConcurrentClientSyncInfo.lo -MD -MP -MF $depbase.Tpo -c -o src/thrift/async/TConcurrentClientSyncInfo.lo src/thrift/async/TConcurrentClientSyncInfo.cpp &&\\\n",
            "mv -f $depbase.Tpo $depbase.Plo\n",
            "libtool: compile:  g++ -std=c++11 -DHAVE_CONFIG_H -I/usr/include -I./src -D__STDC_FORMAT_MACROS -D__STDC_LIMIT_MACROS -Wall -Wextra -pedantic -g -O2 -MT src/thrift/async/TConcurrentClientSyncInfo.lo -MD -MP -MF src/thrift/async/.deps/TConcurrentClientSyncInfo.Tpo -c src/thrift/async/TConcurrentClientSyncInfo.cpp  -fPIC -DPIC -o src/thrift/async/.libs/TConcurrentClientSyncInfo.o\n",
            "libtool: compile:  g++ -std=c++11 -DHAVE_CONFIG_H -I/usr/include -I./src -D__STDC_FORMAT_MACROS -D__STDC_LIMIT_MACROS -Wall -Wextra -pedantic -g -O2 -MT src/thrift/async/TConcurrentClientSyncInfo.lo -MD -MP -MF src/thrift/async/.deps/TConcurrentClientSyncInfo.Tpo -c src/thrift/async/TConcurrentClientSyncInfo.cpp -o src/thrift/async/TConcurrentClientSyncInfo.o >/dev/null 2>&1\n",
            "depbase=`echo src/thrift/concurrency/ThreadManager.lo | sed 's|[^/]*$|.deps/&|;s|\\.lo$||'`;\\\n",
            "/bin/bash ../../libtool  --tag=CXX   --mode=compile g++ -std=c++11 -DHAVE_CONFIG_H   -I/usr/include  -I./src -D__STDC_FORMAT_MACROS -D__STDC_LIMIT_MACROS  -Wall -Wextra -pedantic -g -O2 -MT src/thrift/concurrency/ThreadManager.lo -MD -MP -MF $depbase.Tpo -c -o src/thrift/concurrency/ThreadManager.lo src/thrift/concurrency/ThreadManager.cpp &&\\\n",
            "mv -f $depbase.Tpo $depbase.Plo\n",
            "libtool: compile:  g++ -std=c++11 -DHAVE_CONFIG_H -I/usr/include -I./src -D__STDC_FORMAT_MACROS -D__STDC_LIMIT_MACROS -Wall -Wextra -pedantic -g -O2 -MT src/thrift/concurrency/ThreadManager.lo -MD -MP -MF src/thrift/concurrency/.deps/ThreadManager.Tpo -c src/thrift/concurrency/ThreadManager.cpp  -fPIC -DPIC -o src/thrift/concurrency/.libs/ThreadManager.o\n",
            "libtool: compile:  g++ -std=c++11 -DHAVE_CONFIG_H -I/usr/include -I./src -D__STDC_FORMAT_MACROS -D__STDC_LIMIT_MACROS -Wall -Wextra -pedantic -g -O2 -MT src/thrift/concurrency/ThreadManager.lo -MD -MP -MF src/thrift/concurrency/.deps/ThreadManager.Tpo -c src/thrift/concurrency/ThreadManager.cpp -o src/thrift/concurrency/ThreadManager.o >/dev/null 2>&1\n",
            "depbase=`echo src/thrift/concurrency/TimerManager.lo | sed 's|[^/]*$|.deps/&|;s|\\.lo$||'`;\\\n",
            "/bin/bash ../../libtool  --tag=CXX   --mode=compile g++ -std=c++11 -DHAVE_CONFIG_H   -I/usr/include  -I./src -D__STDC_FORMAT_MACROS -D__STDC_LIMIT_MACROS  -Wall -Wextra -pedantic -g -O2 -MT src/thrift/concurrency/TimerManager.lo -MD -MP -MF $depbase.Tpo -c -o src/thrift/concurrency/TimerManager.lo src/thrift/concurrency/TimerManager.cpp &&\\\n",
            "mv -f $depbase.Tpo $depbase.Plo\n",
            "libtool: compile:  g++ -std=c++11 -DHAVE_CONFIG_H -I/usr/include -I./src -D__STDC_FORMAT_MACROS -D__STDC_LIMIT_MACROS -Wall -Wextra -pedantic -g -O2 -MT src/thrift/concurrency/TimerManager.lo -MD -MP -MF src/thrift/concurrency/.deps/TimerManager.Tpo -c src/thrift/concurrency/TimerManager.cpp  -fPIC -DPIC -o src/thrift/concurrency/.libs/TimerManager.o\n",
            "libtool: compile:  g++ -std=c++11 -DHAVE_CONFIG_H -I/usr/include -I./src -D__STDC_FORMAT_MACROS -D__STDC_LIMIT_MACROS -Wall -Wextra -pedantic -g -O2 -MT src/thrift/concurrency/TimerManager.lo -MD -MP -MF src/thrift/concurrency/.deps/TimerManager.Tpo -c src/thrift/concurrency/TimerManager.cpp -o src/thrift/concurrency/TimerManager.o >/dev/null 2>&1\n",
            "depbase=`echo src/thrift/processor/PeekProcessor.lo | sed 's|[^/]*$|.deps/&|;s|\\.lo$||'`;\\\n",
            "/bin/bash ../../libtool  --tag=CXX   --mode=compile g++ -std=c++11 -DHAVE_CONFIG_H   -I/usr/include  -I./src -D__STDC_FORMAT_MACROS -D__STDC_LIMIT_MACROS  -Wall -Wextra -pedantic -g -O2 -MT src/thrift/processor/PeekProcessor.lo -MD -MP -MF $depbase.Tpo -c -o src/thrift/processor/PeekProcessor.lo src/thrift/processor/PeekProcessor.cpp &&\\\n",
            "mv -f $depbase.Tpo $depbase.Plo\n",
            "libtool: compile:  g++ -std=c++11 -DHAVE_CONFIG_H -I/usr/include -I./src -D__STDC_FORMAT_MACROS -D__STDC_LIMIT_MACROS -Wall -Wextra -pedantic -g -O2 -MT src/thrift/processor/PeekProcessor.lo -MD -MP -MF src/thrift/processor/.deps/PeekProcessor.Tpo -c src/thrift/processor/PeekProcessor.cpp  -fPIC -DPIC -o src/thrift/processor/.libs/PeekProcessor.o\n",
            "libtool: compile:  g++ -std=c++11 -DHAVE_CONFIG_H -I/usr/include -I./src -D__STDC_FORMAT_MACROS -D__STDC_LIMIT_MACROS -Wall -Wextra -pedantic -g -O2 -MT src/thrift/processor/PeekProcessor.lo -MD -MP -MF src/thrift/processor/.deps/PeekProcessor.Tpo -c src/thrift/processor/PeekProcessor.cpp -o src/thrift/processor/PeekProcessor.o >/dev/null 2>&1\n",
            "depbase=`echo src/thrift/protocol/TDebugProtocol.lo | sed 's|[^/]*$|.deps/&|;s|\\.lo$||'`;\\\n",
            "/bin/bash ../../libtool  --tag=CXX   --mode=compile g++ -std=c++11 -DHAVE_CONFIG_H   -I/usr/include  -I./src -D__STDC_FORMAT_MACROS -D__STDC_LIMIT_MACROS  -Wall -Wextra -pedantic -g -O2 -MT src/thrift/protocol/TDebugProtocol.lo -MD -MP -MF $depbase.Tpo -c -o src/thrift/protocol/TDebugProtocol.lo src/thrift/protocol/TDebugProtocol.cpp &&\\\n",
            "mv -f $depbase.Tpo $depbase.Plo\n",
            "libtool: compile:  g++ -std=c++11 -DHAVE_CONFIG_H -I/usr/include -I./src -D__STDC_FORMAT_MACROS -D__STDC_LIMIT_MACROS -Wall -Wextra -pedantic -g -O2 -MT src/thrift/protocol/TDebugProtocol.lo -MD -MP -MF src/thrift/protocol/.deps/TDebugProtocol.Tpo -c src/thrift/protocol/TDebugProtocol.cpp  -fPIC -DPIC -o src/thrift/protocol/.libs/TDebugProtocol.o\n",
            "libtool: compile:  g++ -std=c++11 -DHAVE_CONFIG_H -I/usr/include -I./src -D__STDC_FORMAT_MACROS -D__STDC_LIMIT_MACROS -Wall -Wextra -pedantic -g -O2 -MT src/thrift/protocol/TDebugProtocol.lo -MD -MP -MF src/thrift/protocol/.deps/TDebugProtocol.Tpo -c src/thrift/protocol/TDebugProtocol.cpp -o src/thrift/protocol/TDebugProtocol.o >/dev/null 2>&1\n",
            "depbase=`echo src/thrift/protocol/TJSONProtocol.lo | sed 's|[^/]*$|.deps/&|;s|\\.lo$||'`;\\\n",
            "/bin/bash ../../libtool  --tag=CXX   --mode=compile g++ -std=c++11 -DHAVE_CONFIG_H   -I/usr/include  -I./src -D__STDC_FORMAT_MACROS -D__STDC_LIMIT_MACROS  -Wall -Wextra -pedantic -g -O2 -MT src/thrift/protocol/TJSONProtocol.lo -MD -MP -MF $depbase.Tpo -c -o src/thrift/protocol/TJSONProtocol.lo src/thrift/protocol/TJSONProtocol.cpp &&\\\n",
            "mv -f $depbase.Tpo $depbase.Plo\n",
            "libtool: compile:  g++ -std=c++11 -DHAVE_CONFIG_H -I/usr/include -I./src -D__STDC_FORMAT_MACROS -D__STDC_LIMIT_MACROS -Wall -Wextra -pedantic -g -O2 -MT src/thrift/protocol/TJSONProtocol.lo -MD -MP -MF src/thrift/protocol/.deps/TJSONProtocol.Tpo -c src/thrift/protocol/TJSONProtocol.cpp  -fPIC -DPIC -o src/thrift/protocol/.libs/TJSONProtocol.o\n",
            "libtool: compile:  g++ -std=c++11 -DHAVE_CONFIG_H -I/usr/include -I./src -D__STDC_FORMAT_MACROS -D__STDC_LIMIT_MACROS -Wall -Wextra -pedantic -g -O2 -MT src/thrift/protocol/TJSONProtocol.lo -MD -MP -MF src/thrift/protocol/.deps/TJSONProtocol.Tpo -c src/thrift/protocol/TJSONProtocol.cpp -o src/thrift/protocol/TJSONProtocol.o >/dev/null 2>&1\n",
            "depbase=`echo src/thrift/protocol/TBase64Utils.lo | sed 's|[^/]*$|.deps/&|;s|\\.lo$||'`;\\\n",
            "/bin/bash ../../libtool  --tag=CXX   --mode=compile g++ -std=c++11 -DHAVE_CONFIG_H   -I/usr/include  -I./src -D__STDC_FORMAT_MACROS -D__STDC_LIMIT_MACROS  -Wall -Wextra -pedantic -g -O2 -MT src/thrift/protocol/TBase64Utils.lo -MD -MP -MF $depbase.Tpo -c -o src/thrift/protocol/TBase64Utils.lo src/thrift/protocol/TBase64Utils.cpp &&\\\n",
            "mv -f $depbase.Tpo $depbase.Plo\n",
            "libtool: compile:  g++ -std=c++11 -DHAVE_CONFIG_H -I/usr/include -I./src -D__STDC_FORMAT_MACROS -D__STDC_LIMIT_MACROS -Wall -Wextra -pedantic -g -O2 -MT src/thrift/protocol/TBase64Utils.lo -MD -MP -MF src/thrift/protocol/.deps/TBase64Utils.Tpo -c src/thrift/protocol/TBase64Utils.cpp  -fPIC -DPIC -o src/thrift/protocol/.libs/TBase64Utils.o\n",
            "libtool: compile:  g++ -std=c++11 -DHAVE_CONFIG_H -I/usr/include -I./src -D__STDC_FORMAT_MACROS -D__STDC_LIMIT_MACROS -Wall -Wextra -pedantic -g -O2 -MT src/thrift/protocol/TBase64Utils.lo -MD -MP -MF src/thrift/protocol/.deps/TBase64Utils.Tpo -c src/thrift/protocol/TBase64Utils.cpp -o src/thrift/protocol/TBase64Utils.o >/dev/null 2>&1\n",
            "depbase=`echo src/thrift/protocol/TMultiplexedProtocol.lo | sed 's|[^/]*$|.deps/&|;s|\\.lo$||'`;\\\n",
            "/bin/bash ../../libtool  --tag=CXX   --mode=compile g++ -std=c++11 -DHAVE_CONFIG_H   -I/usr/include  -I./src -D__STDC_FORMAT_MACROS -D__STDC_LIMIT_MACROS  -Wall -Wextra -pedantic -g -O2 -MT src/thrift/protocol/TMultiplexedProtocol.lo -MD -MP -MF $depbase.Tpo -c -o src/thrift/protocol/TMultiplexedProtocol.lo src/thrift/protocol/TMultiplexedProtocol.cpp &&\\\n",
            "mv -f $depbase.Tpo $depbase.Plo\n",
            "libtool: compile:  g++ -std=c++11 -DHAVE_CONFIG_H -I/usr/include -I./src -D__STDC_FORMAT_MACROS -D__STDC_LIMIT_MACROS -Wall -Wextra -pedantic -g -O2 -MT src/thrift/protocol/TMultiplexedProtocol.lo -MD -MP -MF src/thrift/protocol/.deps/TMultiplexedProtocol.Tpo -c src/thrift/protocol/TMultiplexedProtocol.cpp  -fPIC -DPIC -o src/thrift/protocol/.libs/TMultiplexedProtocol.o\n",
            "libtool: compile:  g++ -std=c++11 -DHAVE_CONFIG_H -I/usr/include -I./src -D__STDC_FORMAT_MACROS -D__STDC_LIMIT_MACROS -Wall -Wextra -pedantic -g -O2 -MT src/thrift/protocol/TMultiplexedProtocol.lo -MD -MP -MF src/thrift/protocol/.deps/TMultiplexedProtocol.Tpo -c src/thrift/protocol/TMultiplexedProtocol.cpp -o src/thrift/protocol/TMultiplexedProtocol.o >/dev/null 2>&1\n",
            "depbase=`echo src/thrift/protocol/TProtocol.lo | sed 's|[^/]*$|.deps/&|;s|\\.lo$||'`;\\\n",
            "/bin/bash ../../libtool  --tag=CXX   --mode=compile g++ -std=c++11 -DHAVE_CONFIG_H   -I/usr/include  -I./src -D__STDC_FORMAT_MACROS -D__STDC_LIMIT_MACROS  -Wall -Wextra -pedantic -g -O2 -MT src/thrift/protocol/TProtocol.lo -MD -MP -MF $depbase.Tpo -c -o src/thrift/protocol/TProtocol.lo src/thrift/protocol/TProtocol.cpp &&\\\n",
            "mv -f $depbase.Tpo $depbase.Plo\n",
            "libtool: compile:  g++ -std=c++11 -DHAVE_CONFIG_H -I/usr/include -I./src -D__STDC_FORMAT_MACROS -D__STDC_LIMIT_MACROS -Wall -Wextra -pedantic -g -O2 -MT src/thrift/protocol/TProtocol.lo -MD -MP -MF src/thrift/protocol/.deps/TProtocol.Tpo -c src/thrift/protocol/TProtocol.cpp  -fPIC -DPIC -o src/thrift/protocol/.libs/TProtocol.o\n",
            "libtool: compile:  g++ -std=c++11 -DHAVE_CONFIG_H -I/usr/include -I./src -D__STDC_FORMAT_MACROS -D__STDC_LIMIT_MACROS -Wall -Wextra -pedantic -g -O2 -MT src/thrift/protocol/TProtocol.lo -MD -MP -MF src/thrift/protocol/.deps/TProtocol.Tpo -c src/thrift/protocol/TProtocol.cpp -o src/thrift/protocol/TProtocol.o >/dev/null 2>&1\n",
            "depbase=`echo src/thrift/transport/TTransportException.lo | sed 's|[^/]*$|.deps/&|;s|\\.lo$||'`;\\\n",
            "/bin/bash ../../libtool  --tag=CXX   --mode=compile g++ -std=c++11 -DHAVE_CONFIG_H   -I/usr/include  -I./src -D__STDC_FORMAT_MACROS -D__STDC_LIMIT_MACROS  -Wall -Wextra -pedantic -g -O2 -MT src/thrift/transport/TTransportException.lo -MD -MP -MF $depbase.Tpo -c -o src/thrift/transport/TTransportException.lo src/thrift/transport/TTransportException.cpp &&\\\n",
            "mv -f $depbase.Tpo $depbase.Plo\n",
            "libtool: compile:  g++ -std=c++11 -DHAVE_CONFIG_H -I/usr/include -I./src -D__STDC_FORMAT_MACROS -D__STDC_LIMIT_MACROS -Wall -Wextra -pedantic -g -O2 -MT src/thrift/transport/TTransportException.lo -MD -MP -MF src/thrift/transport/.deps/TTransportException.Tpo -c src/thrift/transport/TTransportException.cpp  -fPIC -DPIC -o src/thrift/transport/.libs/TTransportException.o\n",
            "libtool: compile:  g++ -std=c++11 -DHAVE_CONFIG_H -I/usr/include -I./src -D__STDC_FORMAT_MACROS -D__STDC_LIMIT_MACROS -Wall -Wextra -pedantic -g -O2 -MT src/thrift/transport/TTransportException.lo -MD -MP -MF src/thrift/transport/.deps/TTransportException.Tpo -c src/thrift/transport/TTransportException.cpp -o src/thrift/transport/TTransportException.o >/dev/null 2>&1\n",
            "depbase=`echo src/thrift/transport/TFDTransport.lo | sed 's|[^/]*$|.deps/&|;s|\\.lo$||'`;\\\n",
            "/bin/bash ../../libtool  --tag=CXX   --mode=compile g++ -std=c++11 -DHAVE_CONFIG_H   -I/usr/include  -I./src -D__STDC_FORMAT_MACROS -D__STDC_LIMIT_MACROS  -Wall -Wextra -pedantic -g -O2 -MT src/thrift/transport/TFDTransport.lo -MD -MP -MF $depbase.Tpo -c -o src/thrift/transport/TFDTransport.lo src/thrift/transport/TFDTransport.cpp &&\\\n",
            "mv -f $depbase.Tpo $depbase.Plo\n",
            "libtool: compile:  g++ -std=c++11 -DHAVE_CONFIG_H -I/usr/include -I./src -D__STDC_FORMAT_MACROS -D__STDC_LIMIT_MACROS -Wall -Wextra -pedantic -g -O2 -MT src/thrift/transport/TFDTransport.lo -MD -MP -MF src/thrift/transport/.deps/TFDTransport.Tpo -c src/thrift/transport/TFDTransport.cpp  -fPIC -DPIC -o src/thrift/transport/.libs/TFDTransport.o\n",
            "libtool: compile:  g++ -std=c++11 -DHAVE_CONFIG_H -I/usr/include -I./src -D__STDC_FORMAT_MACROS -D__STDC_LIMIT_MACROS -Wall -Wextra -pedantic -g -O2 -MT src/thrift/transport/TFDTransport.lo -MD -MP -MF src/thrift/transport/.deps/TFDTransport.Tpo -c src/thrift/transport/TFDTransport.cpp -o src/thrift/transport/TFDTransport.o >/dev/null 2>&1\n",
            "depbase=`echo src/thrift/transport/TFileTransport.lo | sed 's|[^/]*$|.deps/&|;s|\\.lo$||'`;\\\n",
            "/bin/bash ../../libtool  --tag=CXX   --mode=compile g++ -std=c++11 -DHAVE_CONFIG_H   -I/usr/include  -I./src -D__STDC_FORMAT_MACROS -D__STDC_LIMIT_MACROS  -Wall -Wextra -pedantic -g -O2 -MT src/thrift/transport/TFileTransport.lo -MD -MP -MF $depbase.Tpo -c -o src/thrift/transport/TFileTransport.lo src/thrift/transport/TFileTransport.cpp &&\\\n",
            "mv -f $depbase.Tpo $depbase.Plo\n",
            "libtool: compile:  g++ -std=c++11 -DHAVE_CONFIG_H -I/usr/include -I./src -D__STDC_FORMAT_MACROS -D__STDC_LIMIT_MACROS -Wall -Wextra -pedantic -g -O2 -MT src/thrift/transport/TFileTransport.lo -MD -MP -MF src/thrift/transport/.deps/TFileTransport.Tpo -c src/thrift/transport/TFileTransport.cpp  -fPIC -DPIC -o src/thrift/transport/.libs/TFileTransport.o\n",
            "libtool: compile:  g++ -std=c++11 -DHAVE_CONFIG_H -I/usr/include -I./src -D__STDC_FORMAT_MACROS -D__STDC_LIMIT_MACROS -Wall -Wextra -pedantic -g -O2 -MT src/thrift/transport/TFileTransport.lo -MD -MP -MF src/thrift/transport/.deps/TFileTransport.Tpo -c src/thrift/transport/TFileTransport.cpp -o src/thrift/transport/TFileTransport.o >/dev/null 2>&1\n",
            "depbase=`echo src/thrift/transport/TSimpleFileTransport.lo | sed 's|[^/]*$|.deps/&|;s|\\.lo$||'`;\\\n",
            "/bin/bash ../../libtool  --tag=CXX   --mode=compile g++ -std=c++11 -DHAVE_CONFIG_H   -I/usr/include  -I./src -D__STDC_FORMAT_MACROS -D__STDC_LIMIT_MACROS  -Wall -Wextra -pedantic -g -O2 -MT src/thrift/transport/TSimpleFileTransport.lo -MD -MP -MF $depbase.Tpo -c -o src/thrift/transport/TSimpleFileTransport.lo src/thrift/transport/TSimpleFileTransport.cpp &&\\\n",
            "mv -f $depbase.Tpo $depbase.Plo\n",
            "libtool: compile:  g++ -std=c++11 -DHAVE_CONFIG_H -I/usr/include -I./src -D__STDC_FORMAT_MACROS -D__STDC_LIMIT_MACROS -Wall -Wextra -pedantic -g -O2 -MT src/thrift/transport/TSimpleFileTransport.lo -MD -MP -MF src/thrift/transport/.deps/TSimpleFileTransport.Tpo -c src/thrift/transport/TSimpleFileTransport.cpp  -fPIC -DPIC -o src/thrift/transport/.libs/TSimpleFileTransport.o\n",
            "libtool: compile:  g++ -std=c++11 -DHAVE_CONFIG_H -I/usr/include -I./src -D__STDC_FORMAT_MACROS -D__STDC_LIMIT_MACROS -Wall -Wextra -pedantic -g -O2 -MT src/thrift/transport/TSimpleFileTransport.lo -MD -MP -MF src/thrift/transport/.deps/TSimpleFileTransport.Tpo -c src/thrift/transport/TSimpleFileTransport.cpp -o src/thrift/transport/TSimpleFileTransport.o >/dev/null 2>&1\n",
            "depbase=`echo src/thrift/transport/THttpTransport.lo | sed 's|[^/]*$|.deps/&|;s|\\.lo$||'`;\\\n",
            "/bin/bash ../../libtool  --tag=CXX   --mode=compile g++ -std=c++11 -DHAVE_CONFIG_H   -I/usr/include  -I./src -D__STDC_FORMAT_MACROS -D__STDC_LIMIT_MACROS  -Wall -Wextra -pedantic -g -O2 -MT src/thrift/transport/THttpTransport.lo -MD -MP -MF $depbase.Tpo -c -o src/thrift/transport/THttpTransport.lo src/thrift/transport/THttpTransport.cpp &&\\\n",
            "mv -f $depbase.Tpo $depbase.Plo\n",
            "libtool: compile:  g++ -std=c++11 -DHAVE_CONFIG_H -I/usr/include -I./src -D__STDC_FORMAT_MACROS -D__STDC_LIMIT_MACROS -Wall -Wextra -pedantic -g -O2 -MT src/thrift/transport/THttpTransport.lo -MD -MP -MF src/thrift/transport/.deps/THttpTransport.Tpo -c src/thrift/transport/THttpTransport.cpp  -fPIC -DPIC -o src/thrift/transport/.libs/THttpTransport.o\n",
            "libtool: compile:  g++ -std=c++11 -DHAVE_CONFIG_H -I/usr/include -I./src -D__STDC_FORMAT_MACROS -D__STDC_LIMIT_MACROS -Wall -Wextra -pedantic -g -O2 -MT src/thrift/transport/THttpTransport.lo -MD -MP -MF src/thrift/transport/.deps/THttpTransport.Tpo -c src/thrift/transport/THttpTransport.cpp -o src/thrift/transport/THttpTransport.o >/dev/null 2>&1\n",
            "depbase=`echo src/thrift/transport/THttpClient.lo | sed 's|[^/]*$|.deps/&|;s|\\.lo$||'`;\\\n",
            "/bin/bash ../../libtool  --tag=CXX   --mode=compile g++ -std=c++11 -DHAVE_CONFIG_H   -I/usr/include  -I./src -D__STDC_FORMAT_MACROS -D__STDC_LIMIT_MACROS  -Wall -Wextra -pedantic -g -O2 -MT src/thrift/transport/THttpClient.lo -MD -MP -MF $depbase.Tpo -c -o src/thrift/transport/THttpClient.lo src/thrift/transport/THttpClient.cpp &&\\\n",
            "mv -f $depbase.Tpo $depbase.Plo\n",
            "libtool: compile:  g++ -std=c++11 -DHAVE_CONFIG_H -I/usr/include -I./src -D__STDC_FORMAT_MACROS -D__STDC_LIMIT_MACROS -Wall -Wextra -pedantic -g -O2 -MT src/thrift/transport/THttpClient.lo -MD -MP -MF src/thrift/transport/.deps/THttpClient.Tpo -c src/thrift/transport/THttpClient.cpp  -fPIC -DPIC -o src/thrift/transport/.libs/THttpClient.o\n",
            "libtool: compile:  g++ -std=c++11 -DHAVE_CONFIG_H -I/usr/include -I./src -D__STDC_FORMAT_MACROS -D__STDC_LIMIT_MACROS -Wall -Wextra -pedantic -g -O2 -MT src/thrift/transport/THttpClient.lo -MD -MP -MF src/thrift/transport/.deps/THttpClient.Tpo -c src/thrift/transport/THttpClient.cpp -o src/thrift/transport/THttpClient.o >/dev/null 2>&1\n",
            "depbase=`echo src/thrift/transport/THttpServer.lo | sed 's|[^/]*$|.deps/&|;s|\\.lo$||'`;\\\n",
            "/bin/bash ../../libtool  --tag=CXX   --mode=compile g++ -std=c++11 -DHAVE_CONFIG_H   -I/usr/include  -I./src -D__STDC_FORMAT_MACROS -D__STDC_LIMIT_MACROS  -Wall -Wextra -pedantic -g -O2 -MT src/thrift/transport/THttpServer.lo -MD -MP -MF $depbase.Tpo -c -o src/thrift/transport/THttpServer.lo src/thrift/transport/THttpServer.cpp &&\\\n",
            "mv -f $depbase.Tpo $depbase.Plo\n",
            "libtool: compile:  g++ -std=c++11 -DHAVE_CONFIG_H -I/usr/include -I./src -D__STDC_FORMAT_MACROS -D__STDC_LIMIT_MACROS -Wall -Wextra -pedantic -g -O2 -MT src/thrift/transport/THttpServer.lo -MD -MP -MF src/thrift/transport/.deps/THttpServer.Tpo -c src/thrift/transport/THttpServer.cpp  -fPIC -DPIC -o src/thrift/transport/.libs/THttpServer.o\n",
            "libtool: compile:  g++ -std=c++11 -DHAVE_CONFIG_H -I/usr/include -I./src -D__STDC_FORMAT_MACROS -D__STDC_LIMIT_MACROS -Wall -Wextra -pedantic -g -O2 -MT src/thrift/transport/THttpServer.lo -MD -MP -MF src/thrift/transport/.deps/THttpServer.Tpo -c src/thrift/transport/THttpServer.cpp -o src/thrift/transport/THttpServer.o >/dev/null 2>&1\n",
            "depbase=`echo src/thrift/transport/TSocket.lo | sed 's|[^/]*$|.deps/&|;s|\\.lo$||'`;\\\n",
            "/bin/bash ../../libtool  --tag=CXX   --mode=compile g++ -std=c++11 -DHAVE_CONFIG_H   -I/usr/include  -I./src -D__STDC_FORMAT_MACROS -D__STDC_LIMIT_MACROS  -Wall -Wextra -pedantic -g -O2 -MT src/thrift/transport/TSocket.lo -MD -MP -MF $depbase.Tpo -c -o src/thrift/transport/TSocket.lo src/thrift/transport/TSocket.cpp &&\\\n",
            "mv -f $depbase.Tpo $depbase.Plo\n",
            "libtool: compile:  g++ -std=c++11 -DHAVE_CONFIG_H -I/usr/include -I./src -D__STDC_FORMAT_MACROS -D__STDC_LIMIT_MACROS -Wall -Wextra -pedantic -g -O2 -MT src/thrift/transport/TSocket.lo -MD -MP -MF src/thrift/transport/.deps/TSocket.Tpo -c src/thrift/transport/TSocket.cpp  -fPIC -DPIC -o src/thrift/transport/.libs/TSocket.o\n",
            "libtool: compile:  g++ -std=c++11 -DHAVE_CONFIG_H -I/usr/include -I./src -D__STDC_FORMAT_MACROS -D__STDC_LIMIT_MACROS -Wall -Wextra -pedantic -g -O2 -MT src/thrift/transport/TSocket.lo -MD -MP -MF src/thrift/transport/.deps/TSocket.Tpo -c src/thrift/transport/TSocket.cpp -o src/thrift/transport/TSocket.o >/dev/null 2>&1\n",
            "depbase=`echo src/thrift/transport/TPipe.lo | sed 's|[^/]*$|.deps/&|;s|\\.lo$||'`;\\\n",
            "/bin/bash ../../libtool  --tag=CXX   --mode=compile g++ -std=c++11 -DHAVE_CONFIG_H   -I/usr/include  -I./src -D__STDC_FORMAT_MACROS -D__STDC_LIMIT_MACROS  -Wall -Wextra -pedantic -g -O2 -MT src/thrift/transport/TPipe.lo -MD -MP -MF $depbase.Tpo -c -o src/thrift/transport/TPipe.lo src/thrift/transport/TPipe.cpp &&\\\n",
            "mv -f $depbase.Tpo $depbase.Plo\n",
            "libtool: compile:  g++ -std=c++11 -DHAVE_CONFIG_H -I/usr/include -I./src -D__STDC_FORMAT_MACROS -D__STDC_LIMIT_MACROS -Wall -Wextra -pedantic -g -O2 -MT src/thrift/transport/TPipe.lo -MD -MP -MF src/thrift/transport/.deps/TPipe.Tpo -c src/thrift/transport/TPipe.cpp  -fPIC -DPIC -o src/thrift/transport/.libs/TPipe.o\n",
            "libtool: compile:  g++ -std=c++11 -DHAVE_CONFIG_H -I/usr/include -I./src -D__STDC_FORMAT_MACROS -D__STDC_LIMIT_MACROS -Wall -Wextra -pedantic -g -O2 -MT src/thrift/transport/TPipe.lo -MD -MP -MF src/thrift/transport/.deps/TPipe.Tpo -c src/thrift/transport/TPipe.cpp -o src/thrift/transport/TPipe.o >/dev/null 2>&1\n",
            "depbase=`echo src/thrift/transport/TPipeServer.lo | sed 's|[^/]*$|.deps/&|;s|\\.lo$||'`;\\\n",
            "/bin/bash ../../libtool  --tag=CXX   --mode=compile g++ -std=c++11 -DHAVE_CONFIG_H   -I/usr/include  -I./src -D__STDC_FORMAT_MACROS -D__STDC_LIMIT_MACROS  -Wall -Wextra -pedantic -g -O2 -MT src/thrift/transport/TPipeServer.lo -MD -MP -MF $depbase.Tpo -c -o src/thrift/transport/TPipeServer.lo src/thrift/transport/TPipeServer.cpp &&\\\n",
            "mv -f $depbase.Tpo $depbase.Plo\n",
            "libtool: compile:  g++ -std=c++11 -DHAVE_CONFIG_H -I/usr/include -I./src -D__STDC_FORMAT_MACROS -D__STDC_LIMIT_MACROS -Wall -Wextra -pedantic -g -O2 -MT src/thrift/transport/TPipeServer.lo -MD -MP -MF src/thrift/transport/.deps/TPipeServer.Tpo -c src/thrift/transport/TPipeServer.cpp  -fPIC -DPIC -o src/thrift/transport/.libs/TPipeServer.o\n",
            "libtool: compile:  g++ -std=c++11 -DHAVE_CONFIG_H -I/usr/include -I./src -D__STDC_FORMAT_MACROS -D__STDC_LIMIT_MACROS -Wall -Wextra -pedantic -g -O2 -MT src/thrift/transport/TPipeServer.lo -MD -MP -MF src/thrift/transport/.deps/TPipeServer.Tpo -c src/thrift/transport/TPipeServer.cpp -o src/thrift/transport/TPipeServer.o >/dev/null 2>&1\n",
            "depbase=`echo src/thrift/transport/TSSLSocket.lo | sed 's|[^/]*$|.deps/&|;s|\\.lo$||'`;\\\n",
            "/bin/bash ../../libtool  --tag=CXX   --mode=compile g++ -std=c++11 -DHAVE_CONFIG_H   -I/usr/include  -I./src -D__STDC_FORMAT_MACROS -D__STDC_LIMIT_MACROS  -Wall -Wextra -pedantic -g -O2 -MT src/thrift/transport/TSSLSocket.lo -MD -MP -MF $depbase.Tpo -c -o src/thrift/transport/TSSLSocket.lo src/thrift/transport/TSSLSocket.cpp &&\\\n",
            "mv -f $depbase.Tpo $depbase.Plo\n",
            "libtool: compile:  g++ -std=c++11 -DHAVE_CONFIG_H -I/usr/include -I./src -D__STDC_FORMAT_MACROS -D__STDC_LIMIT_MACROS -Wall -Wextra -pedantic -g -O2 -MT src/thrift/transport/TSSLSocket.lo -MD -MP -MF src/thrift/transport/.deps/TSSLSocket.Tpo -c src/thrift/transport/TSSLSocket.cpp  -fPIC -DPIC -o src/thrift/transport/.libs/TSSLSocket.o\n",
            "\u001b[01m\u001b[Ksrc/thrift/transport/TSSLSocket.cpp:\u001b[m\u001b[K In constructor ‘\u001b[01m\u001b[Kapache::thrift::transport::SSLContext::SSLContext(const apache::thrift::transport::SSLProtocol&)\u001b[m\u001b[K’:\n",
            "\u001b[01m\u001b[Ksrc/thrift/transport/TSSLSocket.cpp:185:36:\u001b[m\u001b[K \u001b[01;35m\u001b[Kwarning: \u001b[m\u001b[K‘\u001b[01m\u001b[Kconst SSL_METHOD* TLSv1_method()\u001b[m\u001b[K’ is deprecated: Since OpenSSL 1.1.0 [\u001b[01;35m\u001b[K\u001b]8;;https://gcc.gnu.org/onlinedocs/gcc/Warning-Options.html#index-Wdeprecated-declarations\u0007-Wdeprecated-declarations\u001b]8;;\u0007\u001b[m\u001b[K]\n",
            "  185 |     ctx_ = SSL_CTX_new(\u001b[01;35m\u001b[KTLSv1_method()\u001b[m\u001b[K);\n",
            "      |                        \u001b[01;35m\u001b[K~~~~~~~~~~~~^~\u001b[m\u001b[K\n",
            "In file included from \u001b[01m\u001b[Ksrc/thrift/transport/TSSLSocket.cpp:53\u001b[m\u001b[K:\n",
            "\u001b[01m\u001b[K/usr/include/openssl/ssl.h:2004:50:\u001b[m\u001b[K \u001b[01;36m\u001b[Knote: \u001b[m\u001b[Kdeclared here\n",
            " 2004 | OSSL_DEPRECATEDIN_1_1_0 __owur const SSL_METHOD *\u001b[01;36m\u001b[KTLSv1_method\u001b[m\u001b[K(void); /* TLSv1.0 */\n",
            "      |                                                  \u001b[01;36m\u001b[K^~~~~~~~~~~~\u001b[m\u001b[K\n",
            "\u001b[01m\u001b[Ksrc/thrift/transport/TSSLSocket.cpp:187:38:\u001b[m\u001b[K \u001b[01;35m\u001b[Kwarning: \u001b[m\u001b[K‘\u001b[01m\u001b[Kconst SSL_METHOD* TLSv1_1_method()\u001b[m\u001b[K’ is deprecated: Since OpenSSL 1.1.0 [\u001b[01;35m\u001b[K\u001b]8;;https://gcc.gnu.org/onlinedocs/gcc/Warning-Options.html#index-Wdeprecated-declarations\u0007-Wdeprecated-declarations\u001b]8;;\u0007\u001b[m\u001b[K]\n",
            "  187 |     ctx_ = SSL_CTX_new(\u001b[01;35m\u001b[KTLSv1_1_method()\u001b[m\u001b[K);\n",
            "      |                        \u001b[01;35m\u001b[K~~~~~~~~~~~~~~^~\u001b[m\u001b[K\n",
            "In file included from \u001b[01m\u001b[Ksrc/thrift/transport/TSSLSocket.cpp:53\u001b[m\u001b[K:\n",
            "\u001b[01m\u001b[K/usr/include/openssl/ssl.h:2012:50:\u001b[m\u001b[K \u001b[01;36m\u001b[Knote: \u001b[m\u001b[Kdeclared here\n",
            " 2012 | OSSL_DEPRECATEDIN_1_1_0 __owur const SSL_METHOD *\u001b[01;36m\u001b[KTLSv1_1_method\u001b[m\u001b[K(void); /* TLSv1.1 */\n",
            "      |                                                  \u001b[01;36m\u001b[K^~~~~~~~~~~~~~\u001b[m\u001b[K\n",
            "\u001b[01m\u001b[Ksrc/thrift/transport/TSSLSocket.cpp:189:38:\u001b[m\u001b[K \u001b[01;35m\u001b[Kwarning: \u001b[m\u001b[K‘\u001b[01m\u001b[Kconst SSL_METHOD* TLSv1_2_method()\u001b[m\u001b[K’ is deprecated: Since OpenSSL 1.1.0 [\u001b[01;35m\u001b[K\u001b]8;;https://gcc.gnu.org/onlinedocs/gcc/Warning-Options.html#index-Wdeprecated-declarations\u0007-Wdeprecated-declarations\u001b]8;;\u0007\u001b[m\u001b[K]\n",
            "  189 |     ctx_ = SSL_CTX_new(\u001b[01;35m\u001b[KTLSv1_2_method()\u001b[m\u001b[K);\n",
            "      |                        \u001b[01;35m\u001b[K~~~~~~~~~~~~~~^~\u001b[m\u001b[K\n",
            "In file included from \u001b[01m\u001b[Ksrc/thrift/transport/TSSLSocket.cpp:53\u001b[m\u001b[K:\n",
            "\u001b[01m\u001b[K/usr/include/openssl/ssl.h:2020:50:\u001b[m\u001b[K \u001b[01;36m\u001b[Knote: \u001b[m\u001b[Kdeclared here\n",
            " 2020 | OSSL_DEPRECATEDIN_1_1_0 __owur const SSL_METHOD *\u001b[01;36m\u001b[KTLSv1_2_method\u001b[m\u001b[K(void); /* TLSv1.2 */\n",
            "      |                                                  \u001b[01;36m\u001b[K^~~~~~~~~~~~~~\u001b[m\u001b[K\n",
            "\u001b[01m\u001b[Ksrc/thrift/transport/TSSLSocket.cpp:\u001b[m\u001b[K In member function ‘\u001b[01m\u001b[Kvirtual void apache::thrift::transport::TSSLSocket::authorize()\u001b[m\u001b[K’:\n",
            "\u001b[01m\u001b[Ksrc/thrift/transport/TSSLSocket.cpp:758:43:\u001b[m\u001b[K \u001b[01;35m\u001b[Kwarning: \u001b[m\u001b[K‘\u001b[01m\u001b[Kunsigned char* ASN1_STRING_data(ASN1_STRING*)\u001b[m\u001b[K’ is deprecated: Since OpenSSL 1.1.0 [\u001b[01;35m\u001b[K\u001b]8;;https://gcc.gnu.org/onlinedocs/gcc/Warning-Options.html#index-Wdeprecated-declarations\u0007-Wdeprecated-declarations\u001b]8;;\u0007\u001b[m\u001b[K]\n",
            "  758 |       char* data = (char*)\u001b[01;35m\u001b[KASN1_STRING_data(name->d.ia5)\u001b[m\u001b[K;\n",
            "      |                           \u001b[01;35m\u001b[K~~~~~~~~~~~~~~~~^~~~~~~~~~~~~\u001b[m\u001b[K\n",
            "In file included from \u001b[01m\u001b[K/usr/include/openssl/objects.h:21\u001b[m\u001b[K,\n",
            "                 from \u001b[01m\u001b[K/usr/include/openssl/evp.h:43\u001b[m\u001b[K,\n",
            "                 from \u001b[01m\u001b[K/usr/include/openssl/rand.h:23\u001b[m\u001b[K,\n",
            "                 from \u001b[01m\u001b[Ksrc/thrift/transport/TSSLSocket.cpp:52\u001b[m\u001b[K:\n",
            "\u001b[01m\u001b[K/usr/include/openssl/asn1.h:680:40:\u001b[m\u001b[K \u001b[01;36m\u001b[Knote: \u001b[m\u001b[Kdeclared here\n",
            "  680 | OSSL_DEPRECATEDIN_1_1_0 unsigned char *\u001b[01;36m\u001b[KASN1_STRING_data\u001b[m\u001b[K(ASN1_STRING *x);\n",
            "      |                                        \u001b[01;36m\u001b[K^~~~~~~~~~~~~~~~\u001b[m\u001b[K\n",
            "\u001b[01m\u001b[Ksrc/thrift/transport/TSSLSocket.cpp:\u001b[m\u001b[K At global scope:\n",
            "\u001b[01m\u001b[Ksrc/thrift/transport/TSSLSocket.cpp:111:13:\u001b[m\u001b[K \u001b[01;35m\u001b[Kwarning: \u001b[m\u001b[K‘\u001b[01m\u001b[Kvoid apache::thrift::transport::dyn_destroy(CRYPTO_dynlock_value*, const char*, int)\u001b[m\u001b[K’ defined but not used [\u001b[01;35m\u001b[K\u001b]8;;https://gcc.gnu.org/onlinedocs/gcc/Warning-Options.html#index-Wunused-function\u0007-Wunused-function\u001b]8;;\u0007\u001b[m\u001b[K]\n",
            "  111 | static void \u001b[01;35m\u001b[Kdyn_destroy\u001b[m\u001b[K(struct CRYPTO_dynlock_value* lock, const char*, int) {\n",
            "      |             \u001b[01;35m\u001b[K^~~~~~~~~~~\u001b[m\u001b[K\n",
            "\u001b[01m\u001b[Ksrc/thrift/transport/TSSLSocket.cpp:101:13:\u001b[m\u001b[K \u001b[01;35m\u001b[Kwarning: \u001b[m\u001b[K‘\u001b[01m\u001b[Kvoid apache::thrift::transport::dyn_lock(int, CRYPTO_dynlock_value*, const char*, int)\u001b[m\u001b[K’ defined but not used [\u001b[01;35m\u001b[K\u001b]8;;https://gcc.gnu.org/onlinedocs/gcc/Warning-Options.html#index-Wunused-function\u0007-Wunused-function\u001b]8;;\u0007\u001b[m\u001b[K]\n",
            "  101 | static void \u001b[01;35m\u001b[Kdyn_lock\u001b[m\u001b[K(int mode, struct CRYPTO_dynlock_value* lock, const char*, int) {\n",
            "      |             \u001b[01;35m\u001b[K^~~~~~~~\u001b[m\u001b[K\n",
            "\u001b[01m\u001b[Ksrc/thrift/transport/TSSLSocket.cpp:97:30:\u001b[m\u001b[K \u001b[01;35m\u001b[Kwarning: \u001b[m\u001b[K‘\u001b[01m\u001b[KCRYPTO_dynlock_value* apache::thrift::transport::dyn_create(const char*, int)\u001b[m\u001b[K’ defined but not used [\u001b[01;35m\u001b[K\u001b]8;;https://gcc.gnu.org/onlinedocs/gcc/Warning-Options.html#index-Wunused-function\u0007-Wunused-function\u001b]8;;\u0007\u001b[m\u001b[K]\n",
            "   97 | static CRYPTO_dynlock_value* \u001b[01;35m\u001b[Kdyn_create\u001b[m\u001b[K(const char*, int) {\n",
            "      |                              \u001b[01;35m\u001b[K^~~~~~~~~~\u001b[m\u001b[K\n",
            "\u001b[01m\u001b[Ksrc/thrift/transport/TSSLSocket.cpp:76:13:\u001b[m\u001b[K \u001b[01;35m\u001b[Kwarning: \u001b[m\u001b[K‘\u001b[01m\u001b[Kvoid apache::thrift::transport::callbackLocking(int, int, const char*, int)\u001b[m\u001b[K’ defined but not used [\u001b[01;35m\u001b[K\u001b]8;;https://gcc.gnu.org/onlinedocs/gcc/Warning-Options.html#index-Wunused-function\u0007-Wunused-function\u001b]8;;\u0007\u001b[m\u001b[K]\n",
            "   76 | static void \u001b[01;35m\u001b[KcallbackLocking\u001b[m\u001b[K(int mode, int n, const char*, int) {\n",
            "      |             \u001b[01;35m\u001b[K^~~~~~~~~~~~~~~\u001b[m\u001b[K\n",
            "libtool: compile:  g++ -std=c++11 -DHAVE_CONFIG_H -I/usr/include -I./src -D__STDC_FORMAT_MACROS -D__STDC_LIMIT_MACROS -Wall -Wextra -pedantic -g -O2 -MT src/thrift/transport/TSSLSocket.lo -MD -MP -MF src/thrift/transport/.deps/TSSLSocket.Tpo -c src/thrift/transport/TSSLSocket.cpp -o src/thrift/transport/TSSLSocket.o >/dev/null 2>&1\n",
            "depbase=`echo src/thrift/transport/TSocketPool.lo | sed 's|[^/]*$|.deps/&|;s|\\.lo$||'`;\\\n",
            "/bin/bash ../../libtool  --tag=CXX   --mode=compile g++ -std=c++11 -DHAVE_CONFIG_H   -I/usr/include  -I./src -D__STDC_FORMAT_MACROS -D__STDC_LIMIT_MACROS  -Wall -Wextra -pedantic -g -O2 -MT src/thrift/transport/TSocketPool.lo -MD -MP -MF $depbase.Tpo -c -o src/thrift/transport/TSocketPool.lo src/thrift/transport/TSocketPool.cpp &&\\\n",
            "mv -f $depbase.Tpo $depbase.Plo\n",
            "libtool: compile:  g++ -std=c++11 -DHAVE_CONFIG_H -I/usr/include -I./src -D__STDC_FORMAT_MACROS -D__STDC_LIMIT_MACROS -Wall -Wextra -pedantic -g -O2 -MT src/thrift/transport/TSocketPool.lo -MD -MP -MF src/thrift/transport/.deps/TSocketPool.Tpo -c src/thrift/transport/TSocketPool.cpp  -fPIC -DPIC -o src/thrift/transport/.libs/TSocketPool.o\n",
            "libtool: compile:  g++ -std=c++11 -DHAVE_CONFIG_H -I/usr/include -I./src -D__STDC_FORMAT_MACROS -D__STDC_LIMIT_MACROS -Wall -Wextra -pedantic -g -O2 -MT src/thrift/transport/TSocketPool.lo -MD -MP -MF src/thrift/transport/.deps/TSocketPool.Tpo -c src/thrift/transport/TSocketPool.cpp -o src/thrift/transport/TSocketPool.o >/dev/null 2>&1\n",
            "depbase=`echo src/thrift/transport/TServerSocket.lo | sed 's|[^/]*$|.deps/&|;s|\\.lo$||'`;\\\n",
            "/bin/bash ../../libtool  --tag=CXX   --mode=compile g++ -std=c++11 -DHAVE_CONFIG_H   -I/usr/include  -I./src -D__STDC_FORMAT_MACROS -D__STDC_LIMIT_MACROS  -Wall -Wextra -pedantic -g -O2 -MT src/thrift/transport/TServerSocket.lo -MD -MP -MF $depbase.Tpo -c -o src/thrift/transport/TServerSocket.lo src/thrift/transport/TServerSocket.cpp &&\\\n",
            "mv -f $depbase.Tpo $depbase.Plo\n",
            "libtool: compile:  g++ -std=c++11 -DHAVE_CONFIG_H -I/usr/include -I./src -D__STDC_FORMAT_MACROS -D__STDC_LIMIT_MACROS -Wall -Wextra -pedantic -g -O2 -MT src/thrift/transport/TServerSocket.lo -MD -MP -MF src/thrift/transport/.deps/TServerSocket.Tpo -c src/thrift/transport/TServerSocket.cpp  -fPIC -DPIC -o src/thrift/transport/.libs/TServerSocket.o\n",
            "libtool: compile:  g++ -std=c++11 -DHAVE_CONFIG_H -I/usr/include -I./src -D__STDC_FORMAT_MACROS -D__STDC_LIMIT_MACROS -Wall -Wextra -pedantic -g -O2 -MT src/thrift/transport/TServerSocket.lo -MD -MP -MF src/thrift/transport/.deps/TServerSocket.Tpo -c src/thrift/transport/TServerSocket.cpp -o src/thrift/transport/TServerSocket.o >/dev/null 2>&1\n",
            "depbase=`echo src/thrift/transport/TSSLServerSocket.lo | sed 's|[^/]*$|.deps/&|;s|\\.lo$||'`;\\\n",
            "/bin/bash ../../libtool  --tag=CXX   --mode=compile g++ -std=c++11 -DHAVE_CONFIG_H   -I/usr/include  -I./src -D__STDC_FORMAT_MACROS -D__STDC_LIMIT_MACROS  -Wall -Wextra -pedantic -g -O2 -MT src/thrift/transport/TSSLServerSocket.lo -MD -MP -MF $depbase.Tpo -c -o src/thrift/transport/TSSLServerSocket.lo src/thrift/transport/TSSLServerSocket.cpp &&\\\n",
            "mv -f $depbase.Tpo $depbase.Plo\n",
            "libtool: compile:  g++ -std=c++11 -DHAVE_CONFIG_H -I/usr/include -I./src -D__STDC_FORMAT_MACROS -D__STDC_LIMIT_MACROS -Wall -Wextra -pedantic -g -O2 -MT src/thrift/transport/TSSLServerSocket.lo -MD -MP -MF src/thrift/transport/.deps/TSSLServerSocket.Tpo -c src/thrift/transport/TSSLServerSocket.cpp  -fPIC -DPIC -o src/thrift/transport/.libs/TSSLServerSocket.o\n",
            "libtool: compile:  g++ -std=c++11 -DHAVE_CONFIG_H -I/usr/include -I./src -D__STDC_FORMAT_MACROS -D__STDC_LIMIT_MACROS -Wall -Wextra -pedantic -g -O2 -MT src/thrift/transport/TSSLServerSocket.lo -MD -MP -MF src/thrift/transport/.deps/TSSLServerSocket.Tpo -c src/thrift/transport/TSSLServerSocket.cpp -o src/thrift/transport/TSSLServerSocket.o >/dev/null 2>&1\n",
            "depbase=`echo src/thrift/transport/TNonblockingServerSocket.lo | sed 's|[^/]*$|.deps/&|;s|\\.lo$||'`;\\\n",
            "/bin/bash ../../libtool  --tag=CXX   --mode=compile g++ -std=c++11 -DHAVE_CONFIG_H   -I/usr/include  -I./src -D__STDC_FORMAT_MACROS -D__STDC_LIMIT_MACROS  -Wall -Wextra -pedantic -g -O2 -MT src/thrift/transport/TNonblockingServerSocket.lo -MD -MP -MF $depbase.Tpo -c -o src/thrift/transport/TNonblockingServerSocket.lo src/thrift/transport/TNonblockingServerSocket.cpp &&\\\n",
            "mv -f $depbase.Tpo $depbase.Plo\n",
            "libtool: compile:  g++ -std=c++11 -DHAVE_CONFIG_H -I/usr/include -I./src -D__STDC_FORMAT_MACROS -D__STDC_LIMIT_MACROS -Wall -Wextra -pedantic -g -O2 -MT src/thrift/transport/TNonblockingServerSocket.lo -MD -MP -MF src/thrift/transport/.deps/TNonblockingServerSocket.Tpo -c src/thrift/transport/TNonblockingServerSocket.cpp  -fPIC -DPIC -o src/thrift/transport/.libs/TNonblockingServerSocket.o\n",
            "libtool: compile:  g++ -std=c++11 -DHAVE_CONFIG_H -I/usr/include -I./src -D__STDC_FORMAT_MACROS -D__STDC_LIMIT_MACROS -Wall -Wextra -pedantic -g -O2 -MT src/thrift/transport/TNonblockingServerSocket.lo -MD -MP -MF src/thrift/transport/.deps/TNonblockingServerSocket.Tpo -c src/thrift/transport/TNonblockingServerSocket.cpp -o src/thrift/transport/TNonblockingServerSocket.o >/dev/null 2>&1\n",
            "depbase=`echo src/thrift/transport/TNonblockingSSLServerSocket.lo | sed 's|[^/]*$|.deps/&|;s|\\.lo$||'`;\\\n",
            "/bin/bash ../../libtool  --tag=CXX   --mode=compile g++ -std=c++11 -DHAVE_CONFIG_H   -I/usr/include  -I./src -D__STDC_FORMAT_MACROS -D__STDC_LIMIT_MACROS  -Wall -Wextra -pedantic -g -O2 -MT src/thrift/transport/TNonblockingSSLServerSocket.lo -MD -MP -MF $depbase.Tpo -c -o src/thrift/transport/TNonblockingSSLServerSocket.lo src/thrift/transport/TNonblockingSSLServerSocket.cpp &&\\\n",
            "mv -f $depbase.Tpo $depbase.Plo\n",
            "libtool: compile:  g++ -std=c++11 -DHAVE_CONFIG_H -I/usr/include -I./src -D__STDC_FORMAT_MACROS -D__STDC_LIMIT_MACROS -Wall -Wextra -pedantic -g -O2 -MT src/thrift/transport/TNonblockingSSLServerSocket.lo -MD -MP -MF src/thrift/transport/.deps/TNonblockingSSLServerSocket.Tpo -c src/thrift/transport/TNonblockingSSLServerSocket.cpp  -fPIC -DPIC -o src/thrift/transport/.libs/TNonblockingSSLServerSocket.o\n",
            "libtool: compile:  g++ -std=c++11 -DHAVE_CONFIG_H -I/usr/include -I./src -D__STDC_FORMAT_MACROS -D__STDC_LIMIT_MACROS -Wall -Wextra -pedantic -g -O2 -MT src/thrift/transport/TNonblockingSSLServerSocket.lo -MD -MP -MF src/thrift/transport/.deps/TNonblockingSSLServerSocket.Tpo -c src/thrift/transport/TNonblockingSSLServerSocket.cpp -o src/thrift/transport/TNonblockingSSLServerSocket.o >/dev/null 2>&1\n",
            "depbase=`echo src/thrift/transport/TTransportUtils.lo | sed 's|[^/]*$|.deps/&|;s|\\.lo$||'`;\\\n",
            "/bin/bash ../../libtool  --tag=CXX   --mode=compile g++ -std=c++11 -DHAVE_CONFIG_H   -I/usr/include  -I./src -D__STDC_FORMAT_MACROS -D__STDC_LIMIT_MACROS  -Wall -Wextra -pedantic -g -O2 -MT src/thrift/transport/TTransportUtils.lo -MD -MP -MF $depbase.Tpo -c -o src/thrift/transport/TTransportUtils.lo src/thrift/transport/TTransportUtils.cpp &&\\\n",
            "mv -f $depbase.Tpo $depbase.Plo\n",
            "libtool: compile:  g++ -std=c++11 -DHAVE_CONFIG_H -I/usr/include -I./src -D__STDC_FORMAT_MACROS -D__STDC_LIMIT_MACROS -Wall -Wextra -pedantic -g -O2 -MT src/thrift/transport/TTransportUtils.lo -MD -MP -MF src/thrift/transport/.deps/TTransportUtils.Tpo -c src/thrift/transport/TTransportUtils.cpp  -fPIC -DPIC -o src/thrift/transport/.libs/TTransportUtils.o\n",
            "libtool: compile:  g++ -std=c++11 -DHAVE_CONFIG_H -I/usr/include -I./src -D__STDC_FORMAT_MACROS -D__STDC_LIMIT_MACROS -Wall -Wextra -pedantic -g -O2 -MT src/thrift/transport/TTransportUtils.lo -MD -MP -MF src/thrift/transport/.deps/TTransportUtils.Tpo -c src/thrift/transport/TTransportUtils.cpp -o src/thrift/transport/TTransportUtils.o >/dev/null 2>&1\n",
            "depbase=`echo src/thrift/transport/TBufferTransports.lo | sed 's|[^/]*$|.deps/&|;s|\\.lo$||'`;\\\n",
            "/bin/bash ../../libtool  --tag=CXX   --mode=compile g++ -std=c++11 -DHAVE_CONFIG_H   -I/usr/include  -I./src -D__STDC_FORMAT_MACROS -D__STDC_LIMIT_MACROS  -Wall -Wextra -pedantic -g -O2 -MT src/thrift/transport/TBufferTransports.lo -MD -MP -MF $depbase.Tpo -c -o src/thrift/transport/TBufferTransports.lo src/thrift/transport/TBufferTransports.cpp &&\\\n",
            "mv -f $depbase.Tpo $depbase.Plo\n",
            "libtool: compile:  g++ -std=c++11 -DHAVE_CONFIG_H -I/usr/include -I./src -D__STDC_FORMAT_MACROS -D__STDC_LIMIT_MACROS -Wall -Wextra -pedantic -g -O2 -MT src/thrift/transport/TBufferTransports.lo -MD -MP -MF src/thrift/transport/.deps/TBufferTransports.Tpo -c src/thrift/transport/TBufferTransports.cpp  -fPIC -DPIC -o src/thrift/transport/.libs/TBufferTransports.o\n",
            "libtool: compile:  g++ -std=c++11 -DHAVE_CONFIG_H -I/usr/include -I./src -D__STDC_FORMAT_MACROS -D__STDC_LIMIT_MACROS -Wall -Wextra -pedantic -g -O2 -MT src/thrift/transport/TBufferTransports.lo -MD -MP -MF src/thrift/transport/.deps/TBufferTransports.Tpo -c src/thrift/transport/TBufferTransports.cpp -o src/thrift/transport/TBufferTransports.o >/dev/null 2>&1\n",
            "depbase=`echo src/thrift/transport/TWebSocketServer.lo | sed 's|[^/]*$|.deps/&|;s|\\.lo$||'`;\\\n",
            "/bin/bash ../../libtool  --tag=CXX   --mode=compile g++ -std=c++11 -DHAVE_CONFIG_H   -I/usr/include  -I./src -D__STDC_FORMAT_MACROS -D__STDC_LIMIT_MACROS  -Wall -Wextra -pedantic -g -O2 -MT src/thrift/transport/TWebSocketServer.lo -MD -MP -MF $depbase.Tpo -c -o src/thrift/transport/TWebSocketServer.lo src/thrift/transport/TWebSocketServer.cpp &&\\\n",
            "mv -f $depbase.Tpo $depbase.Plo\n",
            "libtool: compile:  g++ -std=c++11 -DHAVE_CONFIG_H -I/usr/include -I./src -D__STDC_FORMAT_MACROS -D__STDC_LIMIT_MACROS -Wall -Wextra -pedantic -g -O2 -MT src/thrift/transport/TWebSocketServer.lo -MD -MP -MF src/thrift/transport/.deps/TWebSocketServer.Tpo -c src/thrift/transport/TWebSocketServer.cpp  -fPIC -DPIC -o src/thrift/transport/.libs/TWebSocketServer.o\n",
            "libtool: compile:  g++ -std=c++11 -DHAVE_CONFIG_H -I/usr/include -I./src -D__STDC_FORMAT_MACROS -D__STDC_LIMIT_MACROS -Wall -Wextra -pedantic -g -O2 -MT src/thrift/transport/TWebSocketServer.lo -MD -MP -MF src/thrift/transport/.deps/TWebSocketServer.Tpo -c src/thrift/transport/TWebSocketServer.cpp -o src/thrift/transport/TWebSocketServer.o >/dev/null 2>&1\n",
            "depbase=`echo src/thrift/transport/SocketCommon.lo | sed 's|[^/]*$|.deps/&|;s|\\.lo$||'`;\\\n",
            "/bin/bash ../../libtool  --tag=CXX   --mode=compile g++ -std=c++11 -DHAVE_CONFIG_H   -I/usr/include  -I./src -D__STDC_FORMAT_MACROS -D__STDC_LIMIT_MACROS  -Wall -Wextra -pedantic -g -O2 -MT src/thrift/transport/SocketCommon.lo -MD -MP -MF $depbase.Tpo -c -o src/thrift/transport/SocketCommon.lo src/thrift/transport/SocketCommon.cpp &&\\\n",
            "mv -f $depbase.Tpo $depbase.Plo\n",
            "libtool: compile:  g++ -std=c++11 -DHAVE_CONFIG_H -I/usr/include -I./src -D__STDC_FORMAT_MACROS -D__STDC_LIMIT_MACROS -Wall -Wextra -pedantic -g -O2 -MT src/thrift/transport/SocketCommon.lo -MD -MP -MF src/thrift/transport/.deps/SocketCommon.Tpo -c src/thrift/transport/SocketCommon.cpp  -fPIC -DPIC -o src/thrift/transport/.libs/SocketCommon.o\n",
            "libtool: compile:  g++ -std=c++11 -DHAVE_CONFIG_H -I/usr/include -I./src -D__STDC_FORMAT_MACROS -D__STDC_LIMIT_MACROS -Wall -Wextra -pedantic -g -O2 -MT src/thrift/transport/SocketCommon.lo -MD -MP -MF src/thrift/transport/.deps/SocketCommon.Tpo -c src/thrift/transport/SocketCommon.cpp -o src/thrift/transport/SocketCommon.o >/dev/null 2>&1\n",
            "depbase=`echo src/thrift/server/TConnectedClient.lo | sed 's|[^/]*$|.deps/&|;s|\\.lo$||'`;\\\n",
            "/bin/bash ../../libtool  --tag=CXX   --mode=compile g++ -std=c++11 -DHAVE_CONFIG_H   -I/usr/include  -I./src -D__STDC_FORMAT_MACROS -D__STDC_LIMIT_MACROS  -Wall -Wextra -pedantic -g -O2 -MT src/thrift/server/TConnectedClient.lo -MD -MP -MF $depbase.Tpo -c -o src/thrift/server/TConnectedClient.lo src/thrift/server/TConnectedClient.cpp &&\\\n",
            "mv -f $depbase.Tpo $depbase.Plo\n",
            "libtool: compile:  g++ -std=c++11 -DHAVE_CONFIG_H -I/usr/include -I./src -D__STDC_FORMAT_MACROS -D__STDC_LIMIT_MACROS -Wall -Wextra -pedantic -g -O2 -MT src/thrift/server/TConnectedClient.lo -MD -MP -MF src/thrift/server/.deps/TConnectedClient.Tpo -c src/thrift/server/TConnectedClient.cpp  -fPIC -DPIC -o src/thrift/server/.libs/TConnectedClient.o\n",
            "libtool: compile:  g++ -std=c++11 -DHAVE_CONFIG_H -I/usr/include -I./src -D__STDC_FORMAT_MACROS -D__STDC_LIMIT_MACROS -Wall -Wextra -pedantic -g -O2 -MT src/thrift/server/TConnectedClient.lo -MD -MP -MF src/thrift/server/.deps/TConnectedClient.Tpo -c src/thrift/server/TConnectedClient.cpp -o src/thrift/server/TConnectedClient.o >/dev/null 2>&1\n",
            "depbase=`echo src/thrift/server/TServer.lo | sed 's|[^/]*$|.deps/&|;s|\\.lo$||'`;\\\n",
            "/bin/bash ../../libtool  --tag=CXX   --mode=compile g++ -std=c++11 -DHAVE_CONFIG_H   -I/usr/include  -I./src -D__STDC_FORMAT_MACROS -D__STDC_LIMIT_MACROS  -Wall -Wextra -pedantic -g -O2 -MT src/thrift/server/TServer.lo -MD -MP -MF $depbase.Tpo -c -o src/thrift/server/TServer.lo src/thrift/server/TServer.cpp &&\\\n",
            "mv -f $depbase.Tpo $depbase.Plo\n",
            "libtool: compile:  g++ -std=c++11 -DHAVE_CONFIG_H -I/usr/include -I./src -D__STDC_FORMAT_MACROS -D__STDC_LIMIT_MACROS -Wall -Wextra -pedantic -g -O2 -MT src/thrift/server/TServer.lo -MD -MP -MF src/thrift/server/.deps/TServer.Tpo -c src/thrift/server/TServer.cpp  -fPIC -DPIC -o src/thrift/server/.libs/TServer.o\n",
            "libtool: compile:  g++ -std=c++11 -DHAVE_CONFIG_H -I/usr/include -I./src -D__STDC_FORMAT_MACROS -D__STDC_LIMIT_MACROS -Wall -Wextra -pedantic -g -O2 -MT src/thrift/server/TServer.lo -MD -MP -MF src/thrift/server/.deps/TServer.Tpo -c src/thrift/server/TServer.cpp -o src/thrift/server/TServer.o >/dev/null 2>&1\n",
            "depbase=`echo src/thrift/server/TServerFramework.lo | sed 's|[^/]*$|.deps/&|;s|\\.lo$||'`;\\\n",
            "/bin/bash ../../libtool  --tag=CXX   --mode=compile g++ -std=c++11 -DHAVE_CONFIG_H   -I/usr/include  -I./src -D__STDC_FORMAT_MACROS -D__STDC_LIMIT_MACROS  -Wall -Wextra -pedantic -g -O2 -MT src/thrift/server/TServerFramework.lo -MD -MP -MF $depbase.Tpo -c -o src/thrift/server/TServerFramework.lo src/thrift/server/TServerFramework.cpp &&\\\n",
            "mv -f $depbase.Tpo $depbase.Plo\n",
            "libtool: compile:  g++ -std=c++11 -DHAVE_CONFIG_H -I/usr/include -I./src -D__STDC_FORMAT_MACROS -D__STDC_LIMIT_MACROS -Wall -Wextra -pedantic -g -O2 -MT src/thrift/server/TServerFramework.lo -MD -MP -MF src/thrift/server/.deps/TServerFramework.Tpo -c src/thrift/server/TServerFramework.cpp  -fPIC -DPIC -o src/thrift/server/.libs/TServerFramework.o\n",
            "libtool: compile:  g++ -std=c++11 -DHAVE_CONFIG_H -I/usr/include -I./src -D__STDC_FORMAT_MACROS -D__STDC_LIMIT_MACROS -Wall -Wextra -pedantic -g -O2 -MT src/thrift/server/TServerFramework.lo -MD -MP -MF src/thrift/server/.deps/TServerFramework.Tpo -c src/thrift/server/TServerFramework.cpp -o src/thrift/server/TServerFramework.o >/dev/null 2>&1\n",
            "depbase=`echo src/thrift/server/TSimpleServer.lo | sed 's|[^/]*$|.deps/&|;s|\\.lo$||'`;\\\n",
            "/bin/bash ../../libtool  --tag=CXX   --mode=compile g++ -std=c++11 -DHAVE_CONFIG_H   -I/usr/include  -I./src -D__STDC_FORMAT_MACROS -D__STDC_LIMIT_MACROS  -Wall -Wextra -pedantic -g -O2 -MT src/thrift/server/TSimpleServer.lo -MD -MP -MF $depbase.Tpo -c -o src/thrift/server/TSimpleServer.lo src/thrift/server/TSimpleServer.cpp &&\\\n",
            "mv -f $depbase.Tpo $depbase.Plo\n",
            "libtool: compile:  g++ -std=c++11 -DHAVE_CONFIG_H -I/usr/include -I./src -D__STDC_FORMAT_MACROS -D__STDC_LIMIT_MACROS -Wall -Wextra -pedantic -g -O2 -MT src/thrift/server/TSimpleServer.lo -MD -MP -MF src/thrift/server/.deps/TSimpleServer.Tpo -c src/thrift/server/TSimpleServer.cpp  -fPIC -DPIC -o src/thrift/server/.libs/TSimpleServer.o\n",
            "libtool: compile:  g++ -std=c++11 -DHAVE_CONFIG_H -I/usr/include -I./src -D__STDC_FORMAT_MACROS -D__STDC_LIMIT_MACROS -Wall -Wextra -pedantic -g -O2 -MT src/thrift/server/TSimpleServer.lo -MD -MP -MF src/thrift/server/.deps/TSimpleServer.Tpo -c src/thrift/server/TSimpleServer.cpp -o src/thrift/server/TSimpleServer.o >/dev/null 2>&1\n",
            "depbase=`echo src/thrift/server/TThreadPoolServer.lo | sed 's|[^/]*$|.deps/&|;s|\\.lo$||'`;\\\n",
            "/bin/bash ../../libtool  --tag=CXX   --mode=compile g++ -std=c++11 -DHAVE_CONFIG_H   -I/usr/include  -I./src -D__STDC_FORMAT_MACROS -D__STDC_LIMIT_MACROS  -Wall -Wextra -pedantic -g -O2 -MT src/thrift/server/TThreadPoolServer.lo -MD -MP -MF $depbase.Tpo -c -o src/thrift/server/TThreadPoolServer.lo src/thrift/server/TThreadPoolServer.cpp &&\\\n",
            "mv -f $depbase.Tpo $depbase.Plo\n",
            "libtool: compile:  g++ -std=c++11 -DHAVE_CONFIG_H -I/usr/include -I./src -D__STDC_FORMAT_MACROS -D__STDC_LIMIT_MACROS -Wall -Wextra -pedantic -g -O2 -MT src/thrift/server/TThreadPoolServer.lo -MD -MP -MF src/thrift/server/.deps/TThreadPoolServer.Tpo -c src/thrift/server/TThreadPoolServer.cpp  -fPIC -DPIC -o src/thrift/server/.libs/TThreadPoolServer.o\n",
            "libtool: compile:  g++ -std=c++11 -DHAVE_CONFIG_H -I/usr/include -I./src -D__STDC_FORMAT_MACROS -D__STDC_LIMIT_MACROS -Wall -Wextra -pedantic -g -O2 -MT src/thrift/server/TThreadPoolServer.lo -MD -MP -MF src/thrift/server/.deps/TThreadPoolServer.Tpo -c src/thrift/server/TThreadPoolServer.cpp -o src/thrift/server/TThreadPoolServer.o >/dev/null 2>&1\n",
            "depbase=`echo src/thrift/server/TThreadedServer.lo | sed 's|[^/]*$|.deps/&|;s|\\.lo$||'`;\\\n",
            "/bin/bash ../../libtool  --tag=CXX   --mode=compile g++ -std=c++11 -DHAVE_CONFIG_H   -I/usr/include  -I./src -D__STDC_FORMAT_MACROS -D__STDC_LIMIT_MACROS  -Wall -Wextra -pedantic -g -O2 -MT src/thrift/server/TThreadedServer.lo -MD -MP -MF $depbase.Tpo -c -o src/thrift/server/TThreadedServer.lo src/thrift/server/TThreadedServer.cpp &&\\\n",
            "mv -f $depbase.Tpo $depbase.Plo\n",
            "libtool: compile:  g++ -std=c++11 -DHAVE_CONFIG_H -I/usr/include -I./src -D__STDC_FORMAT_MACROS -D__STDC_LIMIT_MACROS -Wall -Wextra -pedantic -g -O2 -MT src/thrift/server/TThreadedServer.lo -MD -MP -MF src/thrift/server/.deps/TThreadedServer.Tpo -c src/thrift/server/TThreadedServer.cpp  -fPIC -DPIC -o src/thrift/server/.libs/TThreadedServer.o\n",
            "libtool: compile:  g++ -std=c++11 -DHAVE_CONFIG_H -I/usr/include -I./src -D__STDC_FORMAT_MACROS -D__STDC_LIMIT_MACROS -Wall -Wextra -pedantic -g -O2 -MT src/thrift/server/TThreadedServer.lo -MD -MP -MF src/thrift/server/.deps/TThreadedServer.Tpo -c src/thrift/server/TThreadedServer.cpp -o src/thrift/server/TThreadedServer.o >/dev/null 2>&1\n",
            "depbase=`echo src/thrift/concurrency/Mutex.lo | sed 's|[^/]*$|.deps/&|;s|\\.lo$||'`;\\\n",
            "/bin/bash ../../libtool  --tag=CXX   --mode=compile g++ -std=c++11 -DHAVE_CONFIG_H   -I/usr/include  -I./src -D__STDC_FORMAT_MACROS -D__STDC_LIMIT_MACROS  -Wall -Wextra -pedantic -g -O2 -MT src/thrift/concurrency/Mutex.lo -MD -MP -MF $depbase.Tpo -c -o src/thrift/concurrency/Mutex.lo src/thrift/concurrency/Mutex.cpp &&\\\n",
            "mv -f $depbase.Tpo $depbase.Plo\n",
            "libtool: compile:  g++ -std=c++11 -DHAVE_CONFIG_H -I/usr/include -I./src -D__STDC_FORMAT_MACROS -D__STDC_LIMIT_MACROS -Wall -Wextra -pedantic -g -O2 -MT src/thrift/concurrency/Mutex.lo -MD -MP -MF src/thrift/concurrency/.deps/Mutex.Tpo -c src/thrift/concurrency/Mutex.cpp  -fPIC -DPIC -o src/thrift/concurrency/.libs/Mutex.o\n",
            "libtool: compile:  g++ -std=c++11 -DHAVE_CONFIG_H -I/usr/include -I./src -D__STDC_FORMAT_MACROS -D__STDC_LIMIT_MACROS -Wall -Wextra -pedantic -g -O2 -MT src/thrift/concurrency/Mutex.lo -MD -MP -MF src/thrift/concurrency/.deps/Mutex.Tpo -c src/thrift/concurrency/Mutex.cpp -o src/thrift/concurrency/Mutex.o >/dev/null 2>&1\n",
            "depbase=`echo src/thrift/concurrency/ThreadFactory.lo | sed 's|[^/]*$|.deps/&|;s|\\.lo$||'`;\\\n",
            "/bin/bash ../../libtool  --tag=CXX   --mode=compile g++ -std=c++11 -DHAVE_CONFIG_H   -I/usr/include  -I./src -D__STDC_FORMAT_MACROS -D__STDC_LIMIT_MACROS  -Wall -Wextra -pedantic -g -O2 -MT src/thrift/concurrency/ThreadFactory.lo -MD -MP -MF $depbase.Tpo -c -o src/thrift/concurrency/ThreadFactory.lo src/thrift/concurrency/ThreadFactory.cpp &&\\\n",
            "mv -f $depbase.Tpo $depbase.Plo\n",
            "libtool: compile:  g++ -std=c++11 -DHAVE_CONFIG_H -I/usr/include -I./src -D__STDC_FORMAT_MACROS -D__STDC_LIMIT_MACROS -Wall -Wextra -pedantic -g -O2 -MT src/thrift/concurrency/ThreadFactory.lo -MD -MP -MF src/thrift/concurrency/.deps/ThreadFactory.Tpo -c src/thrift/concurrency/ThreadFactory.cpp  -fPIC -DPIC -o src/thrift/concurrency/.libs/ThreadFactory.o\n",
            "libtool: compile:  g++ -std=c++11 -DHAVE_CONFIG_H -I/usr/include -I./src -D__STDC_FORMAT_MACROS -D__STDC_LIMIT_MACROS -Wall -Wextra -pedantic -g -O2 -MT src/thrift/concurrency/ThreadFactory.lo -MD -MP -MF src/thrift/concurrency/.deps/ThreadFactory.Tpo -c src/thrift/concurrency/ThreadFactory.cpp -o src/thrift/concurrency/ThreadFactory.o >/dev/null 2>&1\n",
            "depbase=`echo src/thrift/concurrency/Thread.lo | sed 's|[^/]*$|.deps/&|;s|\\.lo$||'`;\\\n",
            "/bin/bash ../../libtool  --tag=CXX   --mode=compile g++ -std=c++11 -DHAVE_CONFIG_H   -I/usr/include  -I./src -D__STDC_FORMAT_MACROS -D__STDC_LIMIT_MACROS  -Wall -Wextra -pedantic -g -O2 -MT src/thrift/concurrency/Thread.lo -MD -MP -MF $depbase.Tpo -c -o src/thrift/concurrency/Thread.lo src/thrift/concurrency/Thread.cpp &&\\\n",
            "mv -f $depbase.Tpo $depbase.Plo\n",
            "libtool: compile:  g++ -std=c++11 -DHAVE_CONFIG_H -I/usr/include -I./src -D__STDC_FORMAT_MACROS -D__STDC_LIMIT_MACROS -Wall -Wextra -pedantic -g -O2 -MT src/thrift/concurrency/Thread.lo -MD -MP -MF src/thrift/concurrency/.deps/Thread.Tpo -c src/thrift/concurrency/Thread.cpp  -fPIC -DPIC -o src/thrift/concurrency/.libs/Thread.o\n",
            "libtool: compile:  g++ -std=c++11 -DHAVE_CONFIG_H -I/usr/include -I./src -D__STDC_FORMAT_MACROS -D__STDC_LIMIT_MACROS -Wall -Wextra -pedantic -g -O2 -MT src/thrift/concurrency/Thread.lo -MD -MP -MF src/thrift/concurrency/.deps/Thread.Tpo -c src/thrift/concurrency/Thread.cpp -o src/thrift/concurrency/Thread.o >/dev/null 2>&1\n",
            "depbase=`echo src/thrift/concurrency/Monitor.lo | sed 's|[^/]*$|.deps/&|;s|\\.lo$||'`;\\\n",
            "/bin/bash ../../libtool  --tag=CXX   --mode=compile g++ -std=c++11 -DHAVE_CONFIG_H   -I/usr/include  -I./src -D__STDC_FORMAT_MACROS -D__STDC_LIMIT_MACROS  -Wall -Wextra -pedantic -g -O2 -MT src/thrift/concurrency/Monitor.lo -MD -MP -MF $depbase.Tpo -c -o src/thrift/concurrency/Monitor.lo src/thrift/concurrency/Monitor.cpp &&\\\n",
            "mv -f $depbase.Tpo $depbase.Plo\n",
            "libtool: compile:  g++ -std=c++11 -DHAVE_CONFIG_H -I/usr/include -I./src -D__STDC_FORMAT_MACROS -D__STDC_LIMIT_MACROS -Wall -Wextra -pedantic -g -O2 -MT src/thrift/concurrency/Monitor.lo -MD -MP -MF src/thrift/concurrency/.deps/Monitor.Tpo -c src/thrift/concurrency/Monitor.cpp  -fPIC -DPIC -o src/thrift/concurrency/.libs/Monitor.o\n",
            "libtool: compile:  g++ -std=c++11 -DHAVE_CONFIG_H -I/usr/include -I./src -D__STDC_FORMAT_MACROS -D__STDC_LIMIT_MACROS -Wall -Wextra -pedantic -g -O2 -MT src/thrift/concurrency/Monitor.lo -MD -MP -MF src/thrift/concurrency/.deps/Monitor.Tpo -c src/thrift/concurrency/Monitor.cpp -o src/thrift/concurrency/Monitor.o >/dev/null 2>&1\n",
            "/bin/bash ../../libtool  --tag=CXX   --mode=link g++ -std=c++11 -Wall -Wextra -pedantic -g -O2 -release 0.20.0  -o libthrift.la -rpath /usr/local/lib src/thrift/TApplicationException.lo src/thrift/TOutput.lo src/thrift/VirtualProfiling.lo src/thrift/async/TAsyncChannel.lo src/thrift/async/TAsyncProtocolProcessor.lo src/thrift/async/TConcurrentClientSyncInfo.lo src/thrift/concurrency/ThreadManager.lo src/thrift/concurrency/TimerManager.lo src/thrift/processor/PeekProcessor.lo src/thrift/protocol/TDebugProtocol.lo src/thrift/protocol/TJSONProtocol.lo src/thrift/protocol/TBase64Utils.lo src/thrift/protocol/TMultiplexedProtocol.lo src/thrift/protocol/TProtocol.lo src/thrift/transport/TTransportException.lo src/thrift/transport/TFDTransport.lo src/thrift/transport/TFileTransport.lo src/thrift/transport/TSimpleFileTransport.lo src/thrift/transport/THttpTransport.lo src/thrift/transport/THttpClient.lo src/thrift/transport/THttpServer.lo src/thrift/transport/TSocket.lo src/thrift/transport/TPipe.lo src/thrift/transport/TPipeServer.lo src/thrift/transport/TSSLSocket.lo src/thrift/transport/TSocketPool.lo src/thrift/transport/TServerSocket.lo src/thrift/transport/TSSLServerSocket.lo src/thrift/transport/TNonblockingServerSocket.lo src/thrift/transport/TNonblockingSSLServerSocket.lo src/thrift/transport/TTransportUtils.lo src/thrift/transport/TBufferTransports.lo src/thrift/transport/TWebSocketServer.lo src/thrift/transport/SocketCommon.lo src/thrift/server/TConnectedClient.lo src/thrift/server/TServer.lo src/thrift/server/TServerFramework.lo src/thrift/server/TSimpleServer.lo src/thrift/server/TThreadPoolServer.lo src/thrift/server/TThreadedServer.lo src/thrift/concurrency/Mutex.lo src/thrift/concurrency/ThreadFactory.lo src/thrift/concurrency/Thread.lo src/thrift/concurrency/Monitor.lo -L/usr/lib/x86_64-linux-gnu  -lssl -lcrypto  -lrt -lpthread \n",
            "libtool: link: g++  -fPIC -DPIC -shared -nostdlib /usr/lib/gcc/x86_64-linux-gnu/11/../../../x86_64-linux-gnu/crti.o /usr/lib/gcc/x86_64-linux-gnu/11/crtbeginS.o  src/thrift/.libs/TApplicationException.o src/thrift/.libs/TOutput.o src/thrift/.libs/VirtualProfiling.o src/thrift/async/.libs/TAsyncChannel.o src/thrift/async/.libs/TAsyncProtocolProcessor.o src/thrift/async/.libs/TConcurrentClientSyncInfo.o src/thrift/concurrency/.libs/ThreadManager.o src/thrift/concurrency/.libs/TimerManager.o src/thrift/processor/.libs/PeekProcessor.o src/thrift/protocol/.libs/TDebugProtocol.o src/thrift/protocol/.libs/TJSONProtocol.o src/thrift/protocol/.libs/TBase64Utils.o src/thrift/protocol/.libs/TMultiplexedProtocol.o src/thrift/protocol/.libs/TProtocol.o src/thrift/transport/.libs/TTransportException.o src/thrift/transport/.libs/TFDTransport.o src/thrift/transport/.libs/TFileTransport.o src/thrift/transport/.libs/TSimpleFileTransport.o src/thrift/transport/.libs/THttpTransport.o src/thrift/transport/.libs/THttpClient.o src/thrift/transport/.libs/THttpServer.o src/thrift/transport/.libs/TSocket.o src/thrift/transport/.libs/TPipe.o src/thrift/transport/.libs/TPipeServer.o src/thrift/transport/.libs/TSSLSocket.o src/thrift/transport/.libs/TSocketPool.o src/thrift/transport/.libs/TServerSocket.o src/thrift/transport/.libs/TSSLServerSocket.o src/thrift/transport/.libs/TNonblockingServerSocket.o src/thrift/transport/.libs/TNonblockingSSLServerSocket.o src/thrift/transport/.libs/TTransportUtils.o src/thrift/transport/.libs/TBufferTransports.o src/thrift/transport/.libs/TWebSocketServer.o src/thrift/transport/.libs/SocketCommon.o src/thrift/server/.libs/TConnectedClient.o src/thrift/server/.libs/TServer.o src/thrift/server/.libs/TServerFramework.o src/thrift/server/.libs/TSimpleServer.o src/thrift/server/.libs/TThreadPoolServer.o src/thrift/server/.libs/TThreadedServer.o src/thrift/concurrency/.libs/Mutex.o src/thrift/concurrency/.libs/ThreadFactory.o src/thrift/concurrency/.libs/Thread.o src/thrift/concurrency/.libs/Monitor.o   -L/usr/lib/x86_64-linux-gnu -lssl -lcrypto -lrt -lpthread -L/usr/lib/gcc/x86_64-linux-gnu/11 -L/usr/lib/gcc/x86_64-linux-gnu/11/../../../x86_64-linux-gnu -L/usr/lib/gcc/x86_64-linux-gnu/11/../../../../lib -L/lib/x86_64-linux-gnu -L/lib/../lib -L/usr/lib/../lib -L/usr/local/cuda/lib64/stubs -L/usr/lib/gcc/x86_64-linux-gnu/11/../../.. -lstdc++ -lm -lc -lgcc_s /usr/lib/gcc/x86_64-linux-gnu/11/crtendS.o /usr/lib/gcc/x86_64-linux-gnu/11/../../../x86_64-linux-gnu/crtn.o  -g -O2   -Wl,-soname -Wl,libthrift-0.20.0.so -o .libs/libthrift-0.20.0.so\n",
            "libtool: link: (cd \".libs\" && rm -f \"libthrift.so\" && ln -s \"libthrift-0.20.0.so\" \"libthrift.so\")\n",
            "libtool: link: ar cru .libs/libthrift.a  src/thrift/TApplicationException.o src/thrift/TOutput.o src/thrift/VirtualProfiling.o src/thrift/async/TAsyncChannel.o src/thrift/async/TAsyncProtocolProcessor.o src/thrift/async/TConcurrentClientSyncInfo.o src/thrift/concurrency/ThreadManager.o src/thrift/concurrency/TimerManager.o src/thrift/processor/PeekProcessor.o src/thrift/protocol/TDebugProtocol.o src/thrift/protocol/TJSONProtocol.o src/thrift/protocol/TBase64Utils.o src/thrift/protocol/TMultiplexedProtocol.o src/thrift/protocol/TProtocol.o src/thrift/transport/TTransportException.o src/thrift/transport/TFDTransport.o src/thrift/transport/TFileTransport.o src/thrift/transport/TSimpleFileTransport.o src/thrift/transport/THttpTransport.o src/thrift/transport/THttpClient.o src/thrift/transport/THttpServer.o src/thrift/transport/TSocket.o src/thrift/transport/TPipe.o src/thrift/transport/TPipeServer.o src/thrift/transport/TSSLSocket.o src/thrift/transport/TSocketPool.o src/thrift/transport/TServerSocket.o src/thrift/transport/TSSLServerSocket.o src/thrift/transport/TNonblockingServerSocket.o src/thrift/transport/TNonblockingSSLServerSocket.o src/thrift/transport/TTransportUtils.o src/thrift/transport/TBufferTransports.o src/thrift/transport/TWebSocketServer.o src/thrift/transport/SocketCommon.o src/thrift/server/TConnectedClient.o src/thrift/server/TServer.o src/thrift/server/TServerFramework.o src/thrift/server/TSimpleServer.o src/thrift/server/TThreadPoolServer.o src/thrift/server/TThreadedServer.o src/thrift/concurrency/Mutex.o src/thrift/concurrency/ThreadFactory.o src/thrift/concurrency/Thread.o src/thrift/concurrency/Monitor.o\n",
            "ar: `u' modifier ignored since `D' is the default (see `U')\n",
            "libtool: link: ranlib .libs/libthrift.a\n",
            "libtool: link: ( cd \".libs\" && rm -f \"libthrift.la\" && ln -s \"../libthrift.la\" \"libthrift.la\" )\n",
            "/bin/bash ../../libtool  --tag=CXX   --mode=compile g++ -std=c++11 -DHAVE_CONFIG_H   -I/usr/include  -I./src -D__STDC_FORMAT_MACROS -D__STDC_LIMIT_MACROS   -Wall -Wextra -pedantic -g -O2 -MT src/thrift/server/libthriftnb_la-TNonblockingServer.lo -MD -MP -MF src/thrift/server/.deps/libthriftnb_la-TNonblockingServer.Tpo -c -o src/thrift/server/libthriftnb_la-TNonblockingServer.lo `test -f 'src/thrift/server/TNonblockingServer.cpp' || echo './'`src/thrift/server/TNonblockingServer.cpp\n",
            "libtool: compile:  g++ -std=c++11 -DHAVE_CONFIG_H -I/usr/include -I./src -D__STDC_FORMAT_MACROS -D__STDC_LIMIT_MACROS -Wall -Wextra -pedantic -g -O2 -MT src/thrift/server/libthriftnb_la-TNonblockingServer.lo -MD -MP -MF src/thrift/server/.deps/libthriftnb_la-TNonblockingServer.Tpo -c src/thrift/server/TNonblockingServer.cpp  -fPIC -DPIC -o src/thrift/server/.libs/libthriftnb_la-TNonblockingServer.o\n",
            "libtool: compile:  g++ -std=c++11 -DHAVE_CONFIG_H -I/usr/include -I./src -D__STDC_FORMAT_MACROS -D__STDC_LIMIT_MACROS -Wall -Wextra -pedantic -g -O2 -MT src/thrift/server/libthriftnb_la-TNonblockingServer.lo -MD -MP -MF src/thrift/server/.deps/libthriftnb_la-TNonblockingServer.Tpo -c src/thrift/server/TNonblockingServer.cpp -o src/thrift/server/libthriftnb_la-TNonblockingServer.o >/dev/null 2>&1\n",
            "mv -f src/thrift/server/.deps/libthriftnb_la-TNonblockingServer.Tpo src/thrift/server/.deps/libthriftnb_la-TNonblockingServer.Plo\n",
            "/bin/bash ../../libtool  --tag=CXX   --mode=compile g++ -std=c++11 -DHAVE_CONFIG_H   -I/usr/include  -I./src -D__STDC_FORMAT_MACROS -D__STDC_LIMIT_MACROS   -Wall -Wextra -pedantic -g -O2 -MT src/thrift/async/libthriftnb_la-TEvhttpServer.lo -MD -MP -MF src/thrift/async/.deps/libthriftnb_la-TEvhttpServer.Tpo -c -o src/thrift/async/libthriftnb_la-TEvhttpServer.lo `test -f 'src/thrift/async/TEvhttpServer.cpp' || echo './'`src/thrift/async/TEvhttpServer.cpp\n",
            "libtool: compile:  g++ -std=c++11 -DHAVE_CONFIG_H -I/usr/include -I./src -D__STDC_FORMAT_MACROS -D__STDC_LIMIT_MACROS -Wall -Wextra -pedantic -g -O2 -MT src/thrift/async/libthriftnb_la-TEvhttpServer.lo -MD -MP -MF src/thrift/async/.deps/libthriftnb_la-TEvhttpServer.Tpo -c src/thrift/async/TEvhttpServer.cpp  -fPIC -DPIC -o src/thrift/async/.libs/libthriftnb_la-TEvhttpServer.o\n",
            "libtool: compile:  g++ -std=c++11 -DHAVE_CONFIG_H -I/usr/include -I./src -D__STDC_FORMAT_MACROS -D__STDC_LIMIT_MACROS -Wall -Wextra -pedantic -g -O2 -MT src/thrift/async/libthriftnb_la-TEvhttpServer.lo -MD -MP -MF src/thrift/async/.deps/libthriftnb_la-TEvhttpServer.Tpo -c src/thrift/async/TEvhttpServer.cpp -o src/thrift/async/libthriftnb_la-TEvhttpServer.o >/dev/null 2>&1\n",
            "mv -f src/thrift/async/.deps/libthriftnb_la-TEvhttpServer.Tpo src/thrift/async/.deps/libthriftnb_la-TEvhttpServer.Plo\n",
            "/bin/bash ../../libtool  --tag=CXX   --mode=compile g++ -std=c++11 -DHAVE_CONFIG_H   -I/usr/include  -I./src -D__STDC_FORMAT_MACROS -D__STDC_LIMIT_MACROS   -Wall -Wextra -pedantic -g -O2 -MT src/thrift/async/libthriftnb_la-TEvhttpClientChannel.lo -MD -MP -MF src/thrift/async/.deps/libthriftnb_la-TEvhttpClientChannel.Tpo -c -o src/thrift/async/libthriftnb_la-TEvhttpClientChannel.lo `test -f 'src/thrift/async/TEvhttpClientChannel.cpp' || echo './'`src/thrift/async/TEvhttpClientChannel.cpp\n",
            "libtool: compile:  g++ -std=c++11 -DHAVE_CONFIG_H -I/usr/include -I./src -D__STDC_FORMAT_MACROS -D__STDC_LIMIT_MACROS -Wall -Wextra -pedantic -g -O2 -MT src/thrift/async/libthriftnb_la-TEvhttpClientChannel.lo -MD -MP -MF src/thrift/async/.deps/libthriftnb_la-TEvhttpClientChannel.Tpo -c src/thrift/async/TEvhttpClientChannel.cpp  -fPIC -DPIC -o src/thrift/async/.libs/libthriftnb_la-TEvhttpClientChannel.o\n",
            "libtool: compile:  g++ -std=c++11 -DHAVE_CONFIG_H -I/usr/include -I./src -D__STDC_FORMAT_MACROS -D__STDC_LIMIT_MACROS -Wall -Wextra -pedantic -g -O2 -MT src/thrift/async/libthriftnb_la-TEvhttpClientChannel.lo -MD -MP -MF src/thrift/async/.deps/libthriftnb_la-TEvhttpClientChannel.Tpo -c src/thrift/async/TEvhttpClientChannel.cpp -o src/thrift/async/libthriftnb_la-TEvhttpClientChannel.o >/dev/null 2>&1\n",
            "mv -f src/thrift/async/.deps/libthriftnb_la-TEvhttpClientChannel.Tpo src/thrift/async/.deps/libthriftnb_la-TEvhttpClientChannel.Plo\n",
            "/bin/bash ../../libtool  --tag=CXX   --mode=link g++ -std=c++11 -Wall -Wextra -pedantic -g -O2 -release 0.20.0 -L/usr/lib/x86_64-linux-gnu  -o libthriftnb.la -rpath /usr/local/lib src/thrift/server/libthriftnb_la-TNonblockingServer.lo src/thrift/async/libthriftnb_la-TEvhttpServer.lo src/thrift/async/libthriftnb_la-TEvhttpClientChannel.lo  -lrt -lpthread \n",
            "libtool: link: g++  -fPIC -DPIC -shared -nostdlib /usr/lib/gcc/x86_64-linux-gnu/11/../../../x86_64-linux-gnu/crti.o /usr/lib/gcc/x86_64-linux-gnu/11/crtbeginS.o  src/thrift/server/.libs/libthriftnb_la-TNonblockingServer.o src/thrift/async/.libs/libthriftnb_la-TEvhttpServer.o src/thrift/async/.libs/libthriftnb_la-TEvhttpClientChannel.o   -L/usr/lib/x86_64-linux-gnu -lrt -lpthread -L/usr/lib/gcc/x86_64-linux-gnu/11 -L/usr/lib/gcc/x86_64-linux-gnu/11/../../../x86_64-linux-gnu -L/usr/lib/gcc/x86_64-linux-gnu/11/../../../../lib -L/lib/x86_64-linux-gnu -L/lib/../lib -L/usr/lib/../lib -L/usr/local/cuda/lib64/stubs -L/usr/lib/gcc/x86_64-linux-gnu/11/../../.. -lstdc++ -lm -lc -lgcc_s /usr/lib/gcc/x86_64-linux-gnu/11/crtendS.o /usr/lib/gcc/x86_64-linux-gnu/11/../../../x86_64-linux-gnu/crtn.o  -g -O2   -Wl,-soname -Wl,libthriftnb-0.20.0.so -o .libs/libthriftnb-0.20.0.so\n",
            "libtool: link: (cd \".libs\" && rm -f \"libthriftnb.so\" && ln -s \"libthriftnb-0.20.0.so\" \"libthriftnb.so\")\n",
            "libtool: link: ar cru .libs/libthriftnb.a  src/thrift/server/libthriftnb_la-TNonblockingServer.o src/thrift/async/libthriftnb_la-TEvhttpServer.o src/thrift/async/libthriftnb_la-TEvhttpClientChannel.o\n",
            "ar: `u' modifier ignored since `D' is the default (see `U')\n",
            "libtool: link: ranlib .libs/libthriftnb.a\n",
            "libtool: link: ( cd \".libs\" && rm -f \"libthriftnb.la\" && ln -s \"../libthriftnb.la\" \"libthriftnb.la\" )\n",
            "/bin/bash ../../libtool  --tag=CXX   --mode=compile g++ -std=c++11 -DHAVE_CONFIG_H   -I/usr/include  -I./src -D__STDC_FORMAT_MACROS -D__STDC_LIMIT_MACROS   -Wall -Wextra -pedantic -g -O2 -MT src/thrift/transport/libthriftz_la-TZlibTransport.lo -MD -MP -MF src/thrift/transport/.deps/libthriftz_la-TZlibTransport.Tpo -c -o src/thrift/transport/libthriftz_la-TZlibTransport.lo `test -f 'src/thrift/transport/TZlibTransport.cpp' || echo './'`src/thrift/transport/TZlibTransport.cpp\n",
            "libtool: compile:  g++ -std=c++11 -DHAVE_CONFIG_H -I/usr/include -I./src -D__STDC_FORMAT_MACROS -D__STDC_LIMIT_MACROS -Wall -Wextra -pedantic -g -O2 -MT src/thrift/transport/libthriftz_la-TZlibTransport.lo -MD -MP -MF src/thrift/transport/.deps/libthriftz_la-TZlibTransport.Tpo -c src/thrift/transport/TZlibTransport.cpp  -fPIC -DPIC -o src/thrift/transport/.libs/libthriftz_la-TZlibTransport.o\n",
            "libtool: compile:  g++ -std=c++11 -DHAVE_CONFIG_H -I/usr/include -I./src -D__STDC_FORMAT_MACROS -D__STDC_LIMIT_MACROS -Wall -Wextra -pedantic -g -O2 -MT src/thrift/transport/libthriftz_la-TZlibTransport.lo -MD -MP -MF src/thrift/transport/.deps/libthriftz_la-TZlibTransport.Tpo -c src/thrift/transport/TZlibTransport.cpp -o src/thrift/transport/libthriftz_la-TZlibTransport.o >/dev/null 2>&1\n",
            "mv -f src/thrift/transport/.deps/libthriftz_la-TZlibTransport.Tpo src/thrift/transport/.deps/libthriftz_la-TZlibTransport.Plo\n",
            "/bin/bash ../../libtool  --tag=CXX   --mode=compile g++ -std=c++11 -DHAVE_CONFIG_H   -I/usr/include  -I./src -D__STDC_FORMAT_MACROS -D__STDC_LIMIT_MACROS   -Wall -Wextra -pedantic -g -O2 -MT src/thrift/transport/libthriftz_la-THeaderTransport.lo -MD -MP -MF src/thrift/transport/.deps/libthriftz_la-THeaderTransport.Tpo -c -o src/thrift/transport/libthriftz_la-THeaderTransport.lo `test -f 'src/thrift/transport/THeaderTransport.cpp' || echo './'`src/thrift/transport/THeaderTransport.cpp\n",
            "libtool: compile:  g++ -std=c++11 -DHAVE_CONFIG_H -I/usr/include -I./src -D__STDC_FORMAT_MACROS -D__STDC_LIMIT_MACROS -Wall -Wextra -pedantic -g -O2 -MT src/thrift/transport/libthriftz_la-THeaderTransport.lo -MD -MP -MF src/thrift/transport/.deps/libthriftz_la-THeaderTransport.Tpo -c src/thrift/transport/THeaderTransport.cpp  -fPIC -DPIC -o src/thrift/transport/.libs/libthriftz_la-THeaderTransport.o\n",
            "libtool: compile:  g++ -std=c++11 -DHAVE_CONFIG_H -I/usr/include -I./src -D__STDC_FORMAT_MACROS -D__STDC_LIMIT_MACROS -Wall -Wextra -pedantic -g -O2 -MT src/thrift/transport/libthriftz_la-THeaderTransport.lo -MD -MP -MF src/thrift/transport/.deps/libthriftz_la-THeaderTransport.Tpo -c src/thrift/transport/THeaderTransport.cpp -o src/thrift/transport/libthriftz_la-THeaderTransport.o >/dev/null 2>&1\n",
            "mv -f src/thrift/transport/.deps/libthriftz_la-THeaderTransport.Tpo src/thrift/transport/.deps/libthriftz_la-THeaderTransport.Plo\n",
            "/bin/bash ../../libtool  --tag=CXX   --mode=compile g++ -std=c++11 -DHAVE_CONFIG_H   -I/usr/include  -I./src -D__STDC_FORMAT_MACROS -D__STDC_LIMIT_MACROS   -Wall -Wextra -pedantic -g -O2 -MT src/thrift/protocol/libthriftz_la-THeaderProtocol.lo -MD -MP -MF src/thrift/protocol/.deps/libthriftz_la-THeaderProtocol.Tpo -c -o src/thrift/protocol/libthriftz_la-THeaderProtocol.lo `test -f 'src/thrift/protocol/THeaderProtocol.cpp' || echo './'`src/thrift/protocol/THeaderProtocol.cpp\n",
            "libtool: compile:  g++ -std=c++11 -DHAVE_CONFIG_H -I/usr/include -I./src -D__STDC_FORMAT_MACROS -D__STDC_LIMIT_MACROS -Wall -Wextra -pedantic -g -O2 -MT src/thrift/protocol/libthriftz_la-THeaderProtocol.lo -MD -MP -MF src/thrift/protocol/.deps/libthriftz_la-THeaderProtocol.Tpo -c src/thrift/protocol/THeaderProtocol.cpp  -fPIC -DPIC -o src/thrift/protocol/.libs/libthriftz_la-THeaderProtocol.o\n",
            "libtool: compile:  g++ -std=c++11 -DHAVE_CONFIG_H -I/usr/include -I./src -D__STDC_FORMAT_MACROS -D__STDC_LIMIT_MACROS -Wall -Wextra -pedantic -g -O2 -MT src/thrift/protocol/libthriftz_la-THeaderProtocol.lo -MD -MP -MF src/thrift/protocol/.deps/libthriftz_la-THeaderProtocol.Tpo -c src/thrift/protocol/THeaderProtocol.cpp -o src/thrift/protocol/libthriftz_la-THeaderProtocol.o >/dev/null 2>&1\n",
            "mv -f src/thrift/protocol/.deps/libthriftz_la-THeaderProtocol.Tpo src/thrift/protocol/.deps/libthriftz_la-THeaderProtocol.Plo\n",
            "/bin/bash ../../libtool  --tag=CXX   --mode=link g++ -std=c++11 -Wall -Wextra -pedantic -g -O2 -release 0.20.0 -L/usr/lib/x86_64-linux-gnu  -lz  -o libthriftz.la -rpath /usr/local/lib src/thrift/transport/libthriftz_la-TZlibTransport.lo src/thrift/transport/libthriftz_la-THeaderTransport.lo src/thrift/protocol/libthriftz_la-THeaderProtocol.lo  -lrt -lpthread \n",
            "libtool: link: g++  -fPIC -DPIC -shared -nostdlib /usr/lib/gcc/x86_64-linux-gnu/11/../../../x86_64-linux-gnu/crti.o /usr/lib/gcc/x86_64-linux-gnu/11/crtbeginS.o  src/thrift/transport/.libs/libthriftz_la-TZlibTransport.o src/thrift/transport/.libs/libthriftz_la-THeaderTransport.o src/thrift/protocol/.libs/libthriftz_la-THeaderProtocol.o   -L/usr/lib/x86_64-linux-gnu -lz -lrt -lpthread -L/usr/lib/gcc/x86_64-linux-gnu/11 -L/usr/lib/gcc/x86_64-linux-gnu/11/../../../x86_64-linux-gnu -L/usr/lib/gcc/x86_64-linux-gnu/11/../../../../lib -L/lib/x86_64-linux-gnu -L/lib/../lib -L/usr/lib/../lib -L/usr/local/cuda/lib64/stubs -L/usr/lib/gcc/x86_64-linux-gnu/11/../../.. -lstdc++ -lm -lc -lgcc_s /usr/lib/gcc/x86_64-linux-gnu/11/crtendS.o /usr/lib/gcc/x86_64-linux-gnu/11/../../../x86_64-linux-gnu/crtn.o  -g -O2   -Wl,-soname -Wl,libthriftz-0.20.0.so -o .libs/libthriftz-0.20.0.so\n",
            "libtool: link: (cd \".libs\" && rm -f \"libthriftz.so\" && ln -s \"libthriftz-0.20.0.so\" \"libthriftz.so\")\n",
            "libtool: link: ar cru .libs/libthriftz.a  src/thrift/transport/libthriftz_la-TZlibTransport.o src/thrift/transport/libthriftz_la-THeaderTransport.o src/thrift/protocol/libthriftz_la-THeaderProtocol.o\n",
            "ar: `u' modifier ignored since `D' is the default (see `U')\n",
            "libtool: link: ranlib .libs/libthriftz.a\n",
            "libtool: link: ( cd \".libs\" && rm -f \"libthriftz.la\" && ln -s \"../libthriftz.la\" \"libthriftz.la\" )\n",
            "make[4]: Leaving directory '/content/thrift-0.20.0/lib/cpp'\n",
            "Making all in test\n",
            "make[4]: Entering directory '/content/thrift-0.20.0/lib/cpp/test'\n",
            "/content/thrift-0.20.0/compiler/cpp/thrift --gen cpp ../../../test/AnnotationTest.thrift\n",
            "/content/thrift-0.20.0/compiler/cpp/thrift --gen cpp ../../../test/v0.16/DebugProtoTest.thrift\n",
            "[WARNING:/content/thrift-0.20.0/test/v0.16/DebugProtoTest.thrift:42] 64-bit constant \"10000000000\" may not work in all languages.\n",
            "\n",
            "[WARNING:/content/thrift-0.20.0/test/v0.16/DebugProtoTest.thrift:183] 64-bit constant \"1099511627775\" may not work in all languages.\n",
            "\n",
            "[WARNING:/content/thrift-0.20.0/test/v0.16/DebugProtoTest.thrift:193] 64-bit constant \"4294967295\" may not work in all languages.\n",
            "\n",
            "[WARNING:/content/thrift-0.20.0/test/v0.16/DebugProtoTest.thrift:193] 64-bit constant \"1099511627775\" may not work in all languages.\n",
            "\n",
            "[WARNING:/content/thrift-0.20.0/test/v0.16/DebugProtoTest.thrift:193] 64-bit constant \"281474976710655\" may not work in all languages.\n",
            "\n",
            "[WARNING:/content/thrift-0.20.0/test/v0.16/DebugProtoTest.thrift:193] 64-bit constant \"72057594037927935\" may not work in all languages.\n",
            "\n",
            "[WARNING:/content/thrift-0.20.0/test/v0.16/DebugProtoTest.thrift:193] 64-bit constant \"9223372036854775807\" may not work in all languages.\n",
            "\n",
            "[WARNING:/content/thrift-0.20.0/test/v0.16/DebugProtoTest.thrift:202] 64-bit constant \"4294967295\" may not work in all languages.\n",
            "\n",
            "[WARNING:/content/thrift-0.20.0/test/v0.16/DebugProtoTest.thrift:202] 64-bit constant \"1099511627775\" may not work in all languages.\n",
            "\n",
            "[WARNING:/content/thrift-0.20.0/test/v0.16/DebugProtoTest.thrift:202] 64-bit constant \"281474976710655\" may not work in all languages.\n",
            "\n",
            "[WARNING:/content/thrift-0.20.0/test/v0.16/DebugProtoTest.thrift:202] 64-bit constant \"72057594037927935\" may not work in all languages.\n",
            "\n",
            "[WARNING:/content/thrift-0.20.0/test/v0.16/DebugProtoTest.thrift:202] 64-bit constant \"9223372036854775807\" may not work in all languages.\n",
            "\n",
            "[WARNING:/content/thrift-0.20.0/test/v0.16/DebugProtoTest.thrift:211] 64-bit constant \"9223372036854775807\" may not work in all languages.\n",
            "\n",
            "[WARNING:/content/thrift-0.20.0/test/v0.16/DebugProtoTest.thrift:218] 64-bit constant \"9223372036854775807\" may not work in all languages.\n",
            "\n",
            "[WARNING:/content/thrift-0.20.0/test/v0.16/DebugProtoTest.thrift:377] No field key specified for field1, resulting protocol may have conflicts or not be backwards compatible!\n",
            "\n",
            "[WARNING:/content/thrift-0.20.0/test/v0.16/DebugProtoTest.thrift:378] No field key specified for field2, resulting protocol may have conflicts or not be backwards compatible!\n",
            "\n",
            "[WARNING:/content/thrift-0.20.0/test/v0.16/DebugProtoTest.thrift:379] No field key specified for field3, resulting protocol may have conflicts or not be backwards compatible!\n",
            "\n",
            "[WARNING:/content/thrift-0.20.0/test/v0.16/DebugProtoTest.thrift:380] No field key specified for field4, resulting protocol may have conflicts or not be backwards compatible!\n",
            "\n",
            "[WARNING:/content/thrift-0.20.0/test/v0.16/DebugProtoTest.thrift:381] No field key specified for field5, resulting protocol may have conflicts or not be backwards compatible!\n",
            "\n",
            "[WARNING:/content/thrift-0.20.0/test/v0.16/DebugProtoTest.thrift:382] No field key specified for field6, resulting protocol may have conflicts or not be backwards compatible!\n",
            "\n",
            "[WARNING:/content/thrift-0.20.0/test/v0.16/DebugProtoTest.thrift:383] No field key specified for field7, resulting protocol may have conflicts or not be backwards compatible!\n",
            "\n",
            "[WARNING:/content/thrift-0.20.0/test/v0.16/DebugProtoTest.thrift:384] No field key specified for field8, resulting protocol may have conflicts or not be backwards compatible!\n",
            "\n",
            "[WARNING:/content/thrift-0.20.0/test/v0.16/DebugProtoTest.thrift:385] No field key specified for field9, resulting protocol may have conflicts or not be backwards compatible!\n",
            "\n",
            "[WARNING:/content/thrift-0.20.0/test/v0.16/DebugProtoTest.thrift:386] No field key specified for field10, resulting protocol may have conflicts or not be backwards compatible!\n",
            "\n",
            "[WARNING:/content/thrift-0.20.0/test/v0.16/DebugProtoTest.thrift:387] No field key specified for field11, resulting protocol may have conflicts or not be backwards compatible!\n",
            "\n",
            "[WARNING:/content/thrift-0.20.0/test/v0.16/DebugProtoTest.thrift:388] No field key specified for field12, resulting protocol may have conflicts or not be backwards compatible!\n",
            "\n",
            "[WARNING:/content/thrift-0.20.0/test/v0.16/DebugProtoTest.thrift:42] 64-bit constant \"10000000000\" may not work in all languages.\n",
            "\n",
            "[WARNING:/content/thrift-0.20.0/test/v0.16/DebugProtoTest.thrift:48] Consider using the more efficient \"binary\" type instead of \"list<byte>\".\n",
            "[WARNING:/content/thrift-0.20.0/test/v0.16/DebugProtoTest.thrift:120] Consider using the more efficient \"binary\" type instead of \"list<byte>\".\n",
            "[WARNING:/content/thrift-0.20.0/test/v0.16/DebugProtoTest.thrift:160] Consider using the more efficient \"binary\" type instead of \"list<byte>\".\n",
            "[WARNING:/content/thrift-0.20.0/test/v0.16/DebugProtoTest.thrift:166] Consider using the more efficient \"binary\" type instead of \"list<byte>\".\n",
            "[WARNING:/content/thrift-0.20.0/test/v0.16/DebugProtoTest.thrift:183] 64-bit constant \"1099511627775\" may not work in all languages.\n",
            "\n",
            "[WARNING:/content/thrift-0.20.0/test/v0.16/DebugProtoTest.thrift:193] 64-bit constant \"4294967295\" may not work in all languages.\n",
            "\n",
            "[WARNING:/content/thrift-0.20.0/test/v0.16/DebugProtoTest.thrift:193] 64-bit constant \"1099511627775\" may not work in all languages.\n",
            "\n",
            "[WARNING:/content/thrift-0.20.0/test/v0.16/DebugProtoTest.thrift:193] 64-bit constant \"281474976710655\" may not work in all languages.\n",
            "\n",
            "[WARNING:/content/thrift-0.20.0/test/v0.16/DebugProtoTest.thrift:193] 64-bit constant \"72057594037927935\" may not work in all languages.\n",
            "\n",
            "[WARNING:/content/thrift-0.20.0/test/v0.16/DebugProtoTest.thrift:193] 64-bit constant \"9223372036854775807\" may not work in all languages.\n",
            "\n",
            "[WARNING:/content/thrift-0.20.0/test/v0.16/DebugProtoTest.thrift:202] 64-bit constant \"4294967295\" may not work in all languages.\n",
            "\n",
            "[WARNING:/content/thrift-0.20.0/test/v0.16/DebugProtoTest.thrift:202] 64-bit constant \"1099511627775\" may not work in all languages.\n",
            "\n",
            "[WARNING:/content/thrift-0.20.0/test/v0.16/DebugProtoTest.thrift:202] 64-bit constant \"281474976710655\" may not work in all languages.\n",
            "\n",
            "[WARNING:/content/thrift-0.20.0/test/v0.16/DebugProtoTest.thrift:202] 64-bit constant \"72057594037927935\" may not work in all languages.\n",
            "\n",
            "[WARNING:/content/thrift-0.20.0/test/v0.16/DebugProtoTest.thrift:202] 64-bit constant \"9223372036854775807\" may not work in all languages.\n",
            "\n",
            "[WARNING:/content/thrift-0.20.0/test/v0.16/DebugProtoTest.thrift:211] 64-bit constant \"9223372036854775807\" may not work in all languages.\n",
            "\n",
            "[WARNING:/content/thrift-0.20.0/test/v0.16/DebugProtoTest.thrift:218] 64-bit constant \"9223372036854775807\" may not work in all languages.\n",
            "\n",
            "[WARNING:/content/thrift-0.20.0/test/v0.16/DebugProtoTest.thrift:377] No field key specified for field1, resulting protocol may have conflicts or not be backwards compatible!\n",
            "\n",
            "[WARNING:/content/thrift-0.20.0/test/v0.16/DebugProtoTest.thrift:378] No field key specified for field2, resulting protocol may have conflicts or not be backwards compatible!\n",
            "\n",
            "[WARNING:/content/thrift-0.20.0/test/v0.16/DebugProtoTest.thrift:379] No field key specified for field3, resulting protocol may have conflicts or not be backwards compatible!\n",
            "\n",
            "[WARNING:/content/thrift-0.20.0/test/v0.16/DebugProtoTest.thrift:380] No field key specified for field4, resulting protocol may have conflicts or not be backwards compatible!\n",
            "\n",
            "[WARNING:/content/thrift-0.20.0/test/v0.16/DebugProtoTest.thrift:381] No field key specified for field5, resulting protocol may have conflicts or not be backwards compatible!\n",
            "\n",
            "[WARNING:/content/thrift-0.20.0/test/v0.16/DebugProtoTest.thrift:382] No field key specified for field6, resulting protocol may have conflicts or not be backwards compatible!\n",
            "\n",
            "[WARNING:/content/thrift-0.20.0/test/v0.16/DebugProtoTest.thrift:383] No field key specified for field7, resulting protocol may have conflicts or not be backwards compatible!\n",
            "\n",
            "[WARNING:/content/thrift-0.20.0/test/v0.16/DebugProtoTest.thrift:384] No field key specified for field8, resulting protocol may have conflicts or not be backwards compatible!\n",
            "\n",
            "[WARNING:/content/thrift-0.20.0/test/v0.16/DebugProtoTest.thrift:385] No field key specified for field9, resulting protocol may have conflicts or not be backwards compatible!\n",
            "\n",
            "[WARNING:/content/thrift-0.20.0/test/v0.16/DebugProtoTest.thrift:386] No field key specified for field10, resulting protocol may have conflicts or not be backwards compatible!\n",
            "\n",
            "[WARNING:/content/thrift-0.20.0/test/v0.16/DebugProtoTest.thrift:387] No field key specified for field11, resulting protocol may have conflicts or not be backwards compatible!\n",
            "\n",
            "[WARNING:/content/thrift-0.20.0/test/v0.16/DebugProtoTest.thrift:388] No field key specified for field12, resulting protocol may have conflicts or not be backwards compatible!\n",
            "\n",
            "/content/thrift-0.20.0/compiler/cpp/thrift --gen cpp ../../../test/EnumTest.thrift\n",
            "/content/thrift-0.20.0/compiler/cpp/thrift --gen cpp ../../../test/OptionalRequiredTest.thrift\n",
            "/content/thrift-0.20.0/compiler/cpp/thrift --gen cpp ../../../test/Recursive.thrift\n",
            "/content/thrift-0.20.0/compiler/cpp/thrift --gen cpp ../../../test/v0.16/ThriftTest.thrift\n",
            "[WARNING:/content/thrift-0.20.0/test/v0.16/ThriftTest.thrift:43] No generator named 'noexist' could be found!\n",
            "[WARNING:/content/thrift-0.20.0/test/v0.16/ThriftTest.thrift:45] cpp generator does not accept 'noexist' as sub-namespace!\n",
            "/content/thrift-0.20.0/compiler/cpp/thrift --gen cpp ../../../test/TypedefTest.thrift\n",
            "/content/thrift-0.20.0/compiler/cpp/thrift --gen cpp:templates,cob_style processor/proc.thrift\n",
            "/content/thrift-0.20.0/compiler/cpp/thrift --gen cpp OneWayTest.thrift\n",
            "make  all-am\n",
            "make[5]: Entering directory '/content/thrift-0.20.0/lib/cpp/test'\n",
            "depbase=`echo gen-cpp/AnnotationTest_types.lo | sed 's|[^/]*$|.deps/&|;s|\\.lo$||'`;\\\n",
            "/bin/bash ../../../libtool  --tag=CXX   --mode=compile g++ -std=c++11 -DHAVE_CONFIG_H   -I/usr/include -I../../../lib/cpp/src -I../../../lib/cpp/src/thrift -D__STDC_FORMAT_MACROS -D__STDC_LIMIT_MACROS -I.  -Wall -Wextra -pedantic -g -O2 -MT gen-cpp/AnnotationTest_types.lo -MD -MP -MF $depbase.Tpo -c -o gen-cpp/AnnotationTest_types.lo gen-cpp/AnnotationTest_types.cpp &&\\\n",
            "mv -f $depbase.Tpo $depbase.Plo\n",
            "libtool: compile:  g++ -std=c++11 -DHAVE_CONFIG_H -I/usr/include -I../../../lib/cpp/src -I../../../lib/cpp/src/thrift -D__STDC_FORMAT_MACROS -D__STDC_LIMIT_MACROS -I. -Wall -Wextra -pedantic -g -O2 -MT gen-cpp/AnnotationTest_types.lo -MD -MP -MF gen-cpp/.deps/AnnotationTest_types.Tpo -c gen-cpp/AnnotationTest_types.cpp  -fPIC -DPIC -o gen-cpp/.libs/AnnotationTest_types.o\n",
            "libtool: compile:  g++ -std=c++11 -DHAVE_CONFIG_H -I/usr/include -I../../../lib/cpp/src -I../../../lib/cpp/src/thrift -D__STDC_FORMAT_MACROS -D__STDC_LIMIT_MACROS -I. -Wall -Wextra -pedantic -g -O2 -MT gen-cpp/AnnotationTest_types.lo -MD -MP -MF gen-cpp/.deps/AnnotationTest_types.Tpo -c gen-cpp/AnnotationTest_types.cpp -o gen-cpp/AnnotationTest_types.o >/dev/null 2>&1\n",
            "depbase=`echo gen-cpp/DebugProtoTest_types.lo | sed 's|[^/]*$|.deps/&|;s|\\.lo$||'`;\\\n",
            "/bin/bash ../../../libtool  --tag=CXX   --mode=compile g++ -std=c++11 -DHAVE_CONFIG_H   -I/usr/include -I../../../lib/cpp/src -I../../../lib/cpp/src/thrift -D__STDC_FORMAT_MACROS -D__STDC_LIMIT_MACROS -I.  -Wall -Wextra -pedantic -g -O2 -MT gen-cpp/DebugProtoTest_types.lo -MD -MP -MF $depbase.Tpo -c -o gen-cpp/DebugProtoTest_types.lo gen-cpp/DebugProtoTest_types.cpp &&\\\n",
            "mv -f $depbase.Tpo $depbase.Plo\n",
            "libtool: compile:  g++ -std=c++11 -DHAVE_CONFIG_H -I/usr/include -I../../../lib/cpp/src -I../../../lib/cpp/src/thrift -D__STDC_FORMAT_MACROS -D__STDC_LIMIT_MACROS -I. -Wall -Wextra -pedantic -g -O2 -MT gen-cpp/DebugProtoTest_types.lo -MD -MP -MF gen-cpp/.deps/DebugProtoTest_types.Tpo -c gen-cpp/DebugProtoTest_types.cpp  -fPIC -DPIC -o gen-cpp/.libs/DebugProtoTest_types.o\n",
            "libtool: compile:  g++ -std=c++11 -DHAVE_CONFIG_H -I/usr/include -I../../../lib/cpp/src -I../../../lib/cpp/src/thrift -D__STDC_FORMAT_MACROS -D__STDC_LIMIT_MACROS -I. -Wall -Wextra -pedantic -g -O2 -MT gen-cpp/DebugProtoTest_types.lo -MD -MP -MF gen-cpp/.deps/DebugProtoTest_types.Tpo -c gen-cpp/DebugProtoTest_types.cpp -o gen-cpp/DebugProtoTest_types.o >/dev/null 2>&1\n",
            "/content/thrift-0.20.0/compiler/cpp/thrift --gen cpp ../../../test/DoubleConstantsTest.thrift\n",
            "[WARNING:/content/thrift-0.20.0/test/DoubleConstantsTest.thrift:26] 64-bit constant \"9223372036854775807\" may not work in all languages.\n",
            "\n",
            "[WARNING:/content/thrift-0.20.0/test/DoubleConstantsTest.thrift:27] 64-bit constant \"-9223372036854775807\" may not work in all languages.\n",
            "\n",
            "[WARNING:/content/thrift-0.20.0/test/DoubleConstantsTest.thrift:36] 64-bit constant \"9223372036854775807\" may not work in all languages.\n",
            "\n",
            "[WARNING:/content/thrift-0.20.0/test/DoubleConstantsTest.thrift:36] 64-bit constant \"-9223372036854775807\" may not work in all languages.\n",
            "\n",
            "[WARNING:/content/thrift-0.20.0/test/DoubleConstantsTest.thrift:26] 64-bit constant \"9223372036854775807\" may not work in all languages.\n",
            "\n",
            "[WARNING:/content/thrift-0.20.0/test/DoubleConstantsTest.thrift:27] 64-bit constant \"-9223372036854775807\" may not work in all languages.\n",
            "\n",
            "[WARNING:/content/thrift-0.20.0/test/DoubleConstantsTest.thrift:36] 64-bit constant \"9223372036854775807\" may not work in all languages.\n",
            "\n",
            "[WARNING:/content/thrift-0.20.0/test/DoubleConstantsTest.thrift:36] 64-bit constant \"-9223372036854775807\" may not work in all languages.\n",
            "\n",
            "depbase=`echo gen-cpp/DoubleConstantsTest_constants.lo | sed 's|[^/]*$|.deps/&|;s|\\.lo$||'`;\\\n",
            "/bin/bash ../../../libtool  --tag=CXX   --mode=compile g++ -std=c++11 -DHAVE_CONFIG_H   -I/usr/include -I../../../lib/cpp/src -I../../../lib/cpp/src/thrift -D__STDC_FORMAT_MACROS -D__STDC_LIMIT_MACROS -I.  -Wall -Wextra -pedantic -g -O2 -MT gen-cpp/DoubleConstantsTest_constants.lo -MD -MP -MF $depbase.Tpo -c -o gen-cpp/DoubleConstantsTest_constants.lo gen-cpp/DoubleConstantsTest_constants.cpp &&\\\n",
            "mv -f $depbase.Tpo $depbase.Plo\n",
            "libtool: compile:  g++ -std=c++11 -DHAVE_CONFIG_H -I/usr/include -I../../../lib/cpp/src -I../../../lib/cpp/src/thrift -D__STDC_FORMAT_MACROS -D__STDC_LIMIT_MACROS -I. -Wall -Wextra -pedantic -g -O2 -MT gen-cpp/DoubleConstantsTest_constants.lo -MD -MP -MF gen-cpp/.deps/DoubleConstantsTest_constants.Tpo -c gen-cpp/DoubleConstantsTest_constants.cpp  -fPIC -DPIC -o gen-cpp/.libs/DoubleConstantsTest_constants.o\n",
            "libtool: compile:  g++ -std=c++11 -DHAVE_CONFIG_H -I/usr/include -I../../../lib/cpp/src -I../../../lib/cpp/src/thrift -D__STDC_FORMAT_MACROS -D__STDC_LIMIT_MACROS -I. -Wall -Wextra -pedantic -g -O2 -MT gen-cpp/DoubleConstantsTest_constants.lo -MD -MP -MF gen-cpp/.deps/DoubleConstantsTest_constants.Tpo -c gen-cpp/DoubleConstantsTest_constants.cpp -o gen-cpp/DoubleConstantsTest_constants.o >/dev/null 2>&1\n",
            "depbase=`echo gen-cpp/EnumTest_types.lo | sed 's|[^/]*$|.deps/&|;s|\\.lo$||'`;\\\n",
            "/bin/bash ../../../libtool  --tag=CXX   --mode=compile g++ -std=c++11 -DHAVE_CONFIG_H   -I/usr/include -I../../../lib/cpp/src -I../../../lib/cpp/src/thrift -D__STDC_FORMAT_MACROS -D__STDC_LIMIT_MACROS -I.  -Wall -Wextra -pedantic -g -O2 -MT gen-cpp/EnumTest_types.lo -MD -MP -MF $depbase.Tpo -c -o gen-cpp/EnumTest_types.lo gen-cpp/EnumTest_types.cpp &&\\\n",
            "mv -f $depbase.Tpo $depbase.Plo\n",
            "libtool: compile:  g++ -std=c++11 -DHAVE_CONFIG_H -I/usr/include -I../../../lib/cpp/src -I../../../lib/cpp/src/thrift -D__STDC_FORMAT_MACROS -D__STDC_LIMIT_MACROS -I. -Wall -Wextra -pedantic -g -O2 -MT gen-cpp/EnumTest_types.lo -MD -MP -MF gen-cpp/.deps/EnumTest_types.Tpo -c gen-cpp/EnumTest_types.cpp  -fPIC -DPIC -o gen-cpp/.libs/EnumTest_types.o\n",
            "libtool: compile:  g++ -std=c++11 -DHAVE_CONFIG_H -I/usr/include -I../../../lib/cpp/src -I../../../lib/cpp/src/thrift -D__STDC_FORMAT_MACROS -D__STDC_LIMIT_MACROS -I. -Wall -Wextra -pedantic -g -O2 -MT gen-cpp/EnumTest_types.lo -MD -MP -MF gen-cpp/.deps/EnumTest_types.Tpo -c gen-cpp/EnumTest_types.cpp -o gen-cpp/EnumTest_types.o >/dev/null 2>&1\n",
            "depbase=`echo gen-cpp/OptionalRequiredTest_types.lo | sed 's|[^/]*$|.deps/&|;s|\\.lo$||'`;\\\n",
            "/bin/bash ../../../libtool  --tag=CXX   --mode=compile g++ -std=c++11 -DHAVE_CONFIG_H   -I/usr/include -I../../../lib/cpp/src -I../../../lib/cpp/src/thrift -D__STDC_FORMAT_MACROS -D__STDC_LIMIT_MACROS -I.  -Wall -Wextra -pedantic -g -O2 -MT gen-cpp/OptionalRequiredTest_types.lo -MD -MP -MF $depbase.Tpo -c -o gen-cpp/OptionalRequiredTest_types.lo gen-cpp/OptionalRequiredTest_types.cpp &&\\\n",
            "mv -f $depbase.Tpo $depbase.Plo\n",
            "libtool: compile:  g++ -std=c++11 -DHAVE_CONFIG_H -I/usr/include -I../../../lib/cpp/src -I../../../lib/cpp/src/thrift -D__STDC_FORMAT_MACROS -D__STDC_LIMIT_MACROS -I. -Wall -Wextra -pedantic -g -O2 -MT gen-cpp/OptionalRequiredTest_types.lo -MD -MP -MF gen-cpp/.deps/OptionalRequiredTest_types.Tpo -c gen-cpp/OptionalRequiredTest_types.cpp  -fPIC -DPIC -o gen-cpp/.libs/OptionalRequiredTest_types.o\n",
            "libtool: compile:  g++ -std=c++11 -DHAVE_CONFIG_H -I/usr/include -I../../../lib/cpp/src -I../../../lib/cpp/src/thrift -D__STDC_FORMAT_MACROS -D__STDC_LIMIT_MACROS -I. -Wall -Wextra -pedantic -g -O2 -MT gen-cpp/OptionalRequiredTest_types.lo -MD -MP -MF gen-cpp/.deps/OptionalRequiredTest_types.Tpo -c gen-cpp/OptionalRequiredTest_types.cpp -o gen-cpp/OptionalRequiredTest_types.o >/dev/null 2>&1\n",
            "depbase=`echo gen-cpp/Recursive_types.lo | sed 's|[^/]*$|.deps/&|;s|\\.lo$||'`;\\\n",
            "/bin/bash ../../../libtool  --tag=CXX   --mode=compile g++ -std=c++11 -DHAVE_CONFIG_H   -I/usr/include -I../../../lib/cpp/src -I../../../lib/cpp/src/thrift -D__STDC_FORMAT_MACROS -D__STDC_LIMIT_MACROS -I.  -Wall -Wextra -pedantic -g -O2 -MT gen-cpp/Recursive_types.lo -MD -MP -MF $depbase.Tpo -c -o gen-cpp/Recursive_types.lo gen-cpp/Recursive_types.cpp &&\\\n",
            "mv -f $depbase.Tpo $depbase.Plo\n",
            "libtool: compile:  g++ -std=c++11 -DHAVE_CONFIG_H -I/usr/include -I../../../lib/cpp/src -I../../../lib/cpp/src/thrift -D__STDC_FORMAT_MACROS -D__STDC_LIMIT_MACROS -I. -Wall -Wextra -pedantic -g -O2 -MT gen-cpp/Recursive_types.lo -MD -MP -MF gen-cpp/.deps/Recursive_types.Tpo -c gen-cpp/Recursive_types.cpp  -fPIC -DPIC -o gen-cpp/.libs/Recursive_types.o\n",
            "libtool: compile:  g++ -std=c++11 -DHAVE_CONFIG_H -I/usr/include -I../../../lib/cpp/src -I../../../lib/cpp/src/thrift -D__STDC_FORMAT_MACROS -D__STDC_LIMIT_MACROS -I. -Wall -Wextra -pedantic -g -O2 -MT gen-cpp/Recursive_types.lo -MD -MP -MF gen-cpp/.deps/Recursive_types.Tpo -c gen-cpp/Recursive_types.cpp -o gen-cpp/Recursive_types.o >/dev/null 2>&1\n",
            "depbase=`echo gen-cpp/ThriftTest_types.lo | sed 's|[^/]*$|.deps/&|;s|\\.lo$||'`;\\\n",
            "/bin/bash ../../../libtool  --tag=CXX   --mode=compile g++ -std=c++11 -DHAVE_CONFIG_H   -I/usr/include -I../../../lib/cpp/src -I../../../lib/cpp/src/thrift -D__STDC_FORMAT_MACROS -D__STDC_LIMIT_MACROS -I.  -Wall -Wextra -pedantic -g -O2 -MT gen-cpp/ThriftTest_types.lo -MD -MP -MF $depbase.Tpo -c -o gen-cpp/ThriftTest_types.lo gen-cpp/ThriftTest_types.cpp &&\\\n",
            "mv -f $depbase.Tpo $depbase.Plo\n",
            "libtool: compile:  g++ -std=c++11 -DHAVE_CONFIG_H -I/usr/include -I../../../lib/cpp/src -I../../../lib/cpp/src/thrift -D__STDC_FORMAT_MACROS -D__STDC_LIMIT_MACROS -I. -Wall -Wextra -pedantic -g -O2 -MT gen-cpp/ThriftTest_types.lo -MD -MP -MF gen-cpp/.deps/ThriftTest_types.Tpo -c gen-cpp/ThriftTest_types.cpp  -fPIC -DPIC -o gen-cpp/.libs/ThriftTest_types.o\n",
            "libtool: compile:  g++ -std=c++11 -DHAVE_CONFIG_H -I/usr/include -I../../../lib/cpp/src -I../../../lib/cpp/src/thrift -D__STDC_FORMAT_MACROS -D__STDC_LIMIT_MACROS -I. -Wall -Wextra -pedantic -g -O2 -MT gen-cpp/ThriftTest_types.lo -MD -MP -MF gen-cpp/.deps/ThriftTest_types.Tpo -c gen-cpp/ThriftTest_types.cpp -o gen-cpp/ThriftTest_types.o >/dev/null 2>&1\n",
            "depbase=`echo gen-cpp/ThriftTest_constants.lo | sed 's|[^/]*$|.deps/&|;s|\\.lo$||'`;\\\n",
            "/bin/bash ../../../libtool  --tag=CXX   --mode=compile g++ -std=c++11 -DHAVE_CONFIG_H   -I/usr/include -I../../../lib/cpp/src -I../../../lib/cpp/src/thrift -D__STDC_FORMAT_MACROS -D__STDC_LIMIT_MACROS -I.  -Wall -Wextra -pedantic -g -O2 -MT gen-cpp/ThriftTest_constants.lo -MD -MP -MF $depbase.Tpo -c -o gen-cpp/ThriftTest_constants.lo gen-cpp/ThriftTest_constants.cpp &&\\\n",
            "mv -f $depbase.Tpo $depbase.Plo\n",
            "libtool: compile:  g++ -std=c++11 -DHAVE_CONFIG_H -I/usr/include -I../../../lib/cpp/src -I../../../lib/cpp/src/thrift -D__STDC_FORMAT_MACROS -D__STDC_LIMIT_MACROS -I. -Wall -Wextra -pedantic -g -O2 -MT gen-cpp/ThriftTest_constants.lo -MD -MP -MF gen-cpp/.deps/ThriftTest_constants.Tpo -c gen-cpp/ThriftTest_constants.cpp  -fPIC -DPIC -o gen-cpp/.libs/ThriftTest_constants.o\n",
            "libtool: compile:  g++ -std=c++11 -DHAVE_CONFIG_H -I/usr/include -I../../../lib/cpp/src -I../../../lib/cpp/src/thrift -D__STDC_FORMAT_MACROS -D__STDC_LIMIT_MACROS -I. -Wall -Wextra -pedantic -g -O2 -MT gen-cpp/ThriftTest_constants.lo -MD -MP -MF gen-cpp/.deps/ThriftTest_constants.Tpo -c gen-cpp/ThriftTest_constants.cpp -o gen-cpp/ThriftTest_constants.o >/dev/null 2>&1\n",
            "depbase=`echo gen-cpp/TypedefTest_types.lo | sed 's|[^/]*$|.deps/&|;s|\\.lo$||'`;\\\n",
            "/bin/bash ../../../libtool  --tag=CXX   --mode=compile g++ -std=c++11 -DHAVE_CONFIG_H   -I/usr/include -I../../../lib/cpp/src -I../../../lib/cpp/src/thrift -D__STDC_FORMAT_MACROS -D__STDC_LIMIT_MACROS -I.  -Wall -Wextra -pedantic -g -O2 -MT gen-cpp/TypedefTest_types.lo -MD -MP -MF $depbase.Tpo -c -o gen-cpp/TypedefTest_types.lo gen-cpp/TypedefTest_types.cpp &&\\\n",
            "mv -f $depbase.Tpo $depbase.Plo\n",
            "libtool: compile:  g++ -std=c++11 -DHAVE_CONFIG_H -I/usr/include -I../../../lib/cpp/src -I../../../lib/cpp/src/thrift -D__STDC_FORMAT_MACROS -D__STDC_LIMIT_MACROS -I. -Wall -Wextra -pedantic -g -O2 -MT gen-cpp/TypedefTest_types.lo -MD -MP -MF gen-cpp/.deps/TypedefTest_types.Tpo -c gen-cpp/TypedefTest_types.cpp  -fPIC -DPIC -o gen-cpp/.libs/TypedefTest_types.o\n",
            "libtool: compile:  g++ -std=c++11 -DHAVE_CONFIG_H -I/usr/include -I../../../lib/cpp/src -I../../../lib/cpp/src/thrift -D__STDC_FORMAT_MACROS -D__STDC_LIMIT_MACROS -I. -Wall -Wextra -pedantic -g -O2 -MT gen-cpp/TypedefTest_types.lo -MD -MP -MF gen-cpp/.deps/TypedefTest_types.Tpo -c gen-cpp/TypedefTest_types.cpp -o gen-cpp/TypedefTest_types.o >/dev/null 2>&1\n",
            "depbase=`echo gen-cpp/OneWayService.lo | sed 's|[^/]*$|.deps/&|;s|\\.lo$||'`;\\\n",
            "/bin/bash ../../../libtool  --tag=CXX   --mode=compile g++ -std=c++11 -DHAVE_CONFIG_H   -I/usr/include -I../../../lib/cpp/src -I../../../lib/cpp/src/thrift -D__STDC_FORMAT_MACROS -D__STDC_LIMIT_MACROS -I.  -Wall -Wextra -pedantic -g -O2 -MT gen-cpp/OneWayService.lo -MD -MP -MF $depbase.Tpo -c -o gen-cpp/OneWayService.lo gen-cpp/OneWayService.cpp &&\\\n",
            "mv -f $depbase.Tpo $depbase.Plo\n",
            "libtool: compile:  g++ -std=c++11 -DHAVE_CONFIG_H -I/usr/include -I../../../lib/cpp/src -I../../../lib/cpp/src/thrift -D__STDC_FORMAT_MACROS -D__STDC_LIMIT_MACROS -I. -Wall -Wextra -pedantic -g -O2 -MT gen-cpp/OneWayService.lo -MD -MP -MF gen-cpp/.deps/OneWayService.Tpo -c gen-cpp/OneWayService.cpp  -fPIC -DPIC -o gen-cpp/.libs/OneWayService.o\n",
            "libtool: compile:  g++ -std=c++11 -DHAVE_CONFIG_H -I/usr/include -I../../../lib/cpp/src -I../../../lib/cpp/src/thrift -D__STDC_FORMAT_MACROS -D__STDC_LIMIT_MACROS -I. -Wall -Wextra -pedantic -g -O2 -MT gen-cpp/OneWayService.lo -MD -MP -MF gen-cpp/.deps/OneWayService.Tpo -c gen-cpp/OneWayService.cpp -o gen-cpp/OneWayService.o >/dev/null 2>&1\n",
            "depbase=`echo ThriftTest_extras.lo | sed 's|[^/]*$|.deps/&|;s|\\.lo$||'`;\\\n",
            "/bin/bash ../../../libtool  --tag=CXX   --mode=compile g++ -std=c++11 -DHAVE_CONFIG_H   -I/usr/include -I../../../lib/cpp/src -I../../../lib/cpp/src/thrift -D__STDC_FORMAT_MACROS -D__STDC_LIMIT_MACROS -I.  -Wall -Wextra -pedantic -g -O2 -MT ThriftTest_extras.lo -MD -MP -MF $depbase.Tpo -c -o ThriftTest_extras.lo ThriftTest_extras.cpp &&\\\n",
            "mv -f $depbase.Tpo $depbase.Plo\n",
            "libtool: compile:  g++ -std=c++11 -DHAVE_CONFIG_H -I/usr/include -I../../../lib/cpp/src -I../../../lib/cpp/src/thrift -D__STDC_FORMAT_MACROS -D__STDC_LIMIT_MACROS -I. -Wall -Wextra -pedantic -g -O2 -MT ThriftTest_extras.lo -MD -MP -MF .deps/ThriftTest_extras.Tpo -c ThriftTest_extras.cpp  -fPIC -DPIC -o .libs/ThriftTest_extras.o\n",
            "libtool: compile:  g++ -std=c++11 -DHAVE_CONFIG_H -I/usr/include -I../../../lib/cpp/src -I../../../lib/cpp/src/thrift -D__STDC_FORMAT_MACROS -D__STDC_LIMIT_MACROS -I. -Wall -Wextra -pedantic -g -O2 -MT ThriftTest_extras.lo -MD -MP -MF .deps/ThriftTest_extras.Tpo -c ThriftTest_extras.cpp -o ThriftTest_extras.o >/dev/null 2>&1\n",
            "depbase=`echo DebugProtoTest_extras.lo | sed 's|[^/]*$|.deps/&|;s|\\.lo$||'`;\\\n",
            "/bin/bash ../../../libtool  --tag=CXX   --mode=compile g++ -std=c++11 -DHAVE_CONFIG_H   -I/usr/include -I../../../lib/cpp/src -I../../../lib/cpp/src/thrift -D__STDC_FORMAT_MACROS -D__STDC_LIMIT_MACROS -I.  -Wall -Wextra -pedantic -g -O2 -MT DebugProtoTest_extras.lo -MD -MP -MF $depbase.Tpo -c -o DebugProtoTest_extras.lo DebugProtoTest_extras.cpp &&\\\n",
            "mv -f $depbase.Tpo $depbase.Plo\n",
            "libtool: compile:  g++ -std=c++11 -DHAVE_CONFIG_H -I/usr/include -I../../../lib/cpp/src -I../../../lib/cpp/src/thrift -D__STDC_FORMAT_MACROS -D__STDC_LIMIT_MACROS -I. -Wall -Wextra -pedantic -g -O2 -MT DebugProtoTest_extras.lo -MD -MP -MF .deps/DebugProtoTest_extras.Tpo -c DebugProtoTest_extras.cpp  -fPIC -DPIC -o .libs/DebugProtoTest_extras.o\n",
            "libtool: compile:  g++ -std=c++11 -DHAVE_CONFIG_H -I/usr/include -I../../../lib/cpp/src -I../../../lib/cpp/src/thrift -D__STDC_FORMAT_MACROS -D__STDC_LIMIT_MACROS -I. -Wall -Wextra -pedantic -g -O2 -MT DebugProtoTest_extras.lo -MD -MP -MF .deps/DebugProtoTest_extras.Tpo -c DebugProtoTest_extras.cpp -o DebugProtoTest_extras.o >/dev/null 2>&1\n",
            "/bin/bash ../../../libtool  --tag=CXX   --mode=link g++ -std=c++11 -Wall -Wextra -pedantic -g -O2 -L/usr/lib/x86_64-linux-gnu  -o libtestgencpp.la  gen-cpp/AnnotationTest_types.lo gen-cpp/DebugProtoTest_types.lo gen-cpp/DoubleConstantsTest_constants.lo gen-cpp/EnumTest_types.lo gen-cpp/OptionalRequiredTest_types.lo gen-cpp/Recursive_types.lo gen-cpp/ThriftTest_types.lo gen-cpp/ThriftTest_constants.lo gen-cpp/TypedefTest_types.lo gen-cpp/OneWayService.lo ThriftTest_extras.lo DebugProtoTest_extras.lo ../../../lib/cpp/libthrift.la -lrt -lpthread \n",
            "libtool: link: ar cru .libs/libtestgencpp.a gen-cpp/.libs/AnnotationTest_types.o gen-cpp/.libs/DebugProtoTest_types.o gen-cpp/.libs/DoubleConstantsTest_constants.o gen-cpp/.libs/EnumTest_types.o gen-cpp/.libs/OptionalRequiredTest_types.o gen-cpp/.libs/Recursive_types.o gen-cpp/.libs/ThriftTest_types.o gen-cpp/.libs/ThriftTest_constants.o gen-cpp/.libs/TypedefTest_types.o gen-cpp/.libs/OneWayService.o .libs/ThriftTest_extras.o .libs/DebugProtoTest_extras.o \n",
            "ar: `u' modifier ignored since `D' is the default (see `U')\n",
            "libtool: link: ranlib .libs/libtestgencpp.a\n",
            "libtool: link: ( cd \".libs\" && rm -f \"libtestgencpp.la\" && ln -s \"../libtestgencpp.la\" \"libtestgencpp.la\" )\n",
            "depbase=`echo gen-cpp/ChildService.lo | sed 's|[^/]*$|.deps/&|;s|\\.lo$||'`;\\\n",
            "/bin/bash ../../../libtool  --tag=CXX   --mode=compile g++ -std=c++11 -DHAVE_CONFIG_H   -I/usr/include -I../../../lib/cpp/src -I../../../lib/cpp/src/thrift -D__STDC_FORMAT_MACROS -D__STDC_LIMIT_MACROS -I.  -Wall -Wextra -pedantic -g -O2 -MT gen-cpp/ChildService.lo -MD -MP -MF $depbase.Tpo -c -o gen-cpp/ChildService.lo gen-cpp/ChildService.cpp &&\\\n",
            "mv -f $depbase.Tpo $depbase.Plo\n",
            "libtool: compile:  g++ -std=c++11 -DHAVE_CONFIG_H -I/usr/include -I../../../lib/cpp/src -I../../../lib/cpp/src/thrift -D__STDC_FORMAT_MACROS -D__STDC_LIMIT_MACROS -I. -Wall -Wextra -pedantic -g -O2 -MT gen-cpp/ChildService.lo -MD -MP -MF gen-cpp/.deps/ChildService.Tpo -c gen-cpp/ChildService.cpp  -fPIC -DPIC -o gen-cpp/.libs/ChildService.o\n",
            "libtool: compile:  g++ -std=c++11 -DHAVE_CONFIG_H -I/usr/include -I../../../lib/cpp/src -I../../../lib/cpp/src/thrift -D__STDC_FORMAT_MACROS -D__STDC_LIMIT_MACROS -I. -Wall -Wextra -pedantic -g -O2 -MT gen-cpp/ChildService.lo -MD -MP -MF gen-cpp/.deps/ChildService.Tpo -c gen-cpp/ChildService.cpp -o gen-cpp/ChildService.o >/dev/null 2>&1\n",
            "depbase=`echo gen-cpp/EmptyService.lo | sed 's|[^/]*$|.deps/&|;s|\\.lo$||'`;\\\n",
            "/bin/bash ../../../libtool  --tag=CXX   --mode=compile g++ -std=c++11 -DHAVE_CONFIG_H   -I/usr/include -I../../../lib/cpp/src -I../../../lib/cpp/src/thrift -D__STDC_FORMAT_MACROS -D__STDC_LIMIT_MACROS -I.  -Wall -Wextra -pedantic -g -O2 -MT gen-cpp/EmptyService.lo -MD -MP -MF $depbase.Tpo -c -o gen-cpp/EmptyService.lo gen-cpp/EmptyService.cpp &&\\\n",
            "mv -f $depbase.Tpo $depbase.Plo\n",
            "libtool: compile:  g++ -std=c++11 -DHAVE_CONFIG_H -I/usr/include -I../../../lib/cpp/src -I../../../lib/cpp/src/thrift -D__STDC_FORMAT_MACROS -D__STDC_LIMIT_MACROS -I. -Wall -Wextra -pedantic -g -O2 -MT gen-cpp/EmptyService.lo -MD -MP -MF gen-cpp/.deps/EmptyService.Tpo -c gen-cpp/EmptyService.cpp  -fPIC -DPIC -o gen-cpp/.libs/EmptyService.o\n",
            "libtool: compile:  g++ -std=c++11 -DHAVE_CONFIG_H -I/usr/include -I../../../lib/cpp/src -I../../../lib/cpp/src/thrift -D__STDC_FORMAT_MACROS -D__STDC_LIMIT_MACROS -I. -Wall -Wextra -pedantic -g -O2 -MT gen-cpp/EmptyService.lo -MD -MP -MF gen-cpp/.deps/EmptyService.Tpo -c gen-cpp/EmptyService.cpp -o gen-cpp/EmptyService.o >/dev/null 2>&1\n",
            "depbase=`echo gen-cpp/ParentService.lo | sed 's|[^/]*$|.deps/&|;s|\\.lo$||'`;\\\n",
            "/bin/bash ../../../libtool  --tag=CXX   --mode=compile g++ -std=c++11 -DHAVE_CONFIG_H   -I/usr/include -I../../../lib/cpp/src -I../../../lib/cpp/src/thrift -D__STDC_FORMAT_MACROS -D__STDC_LIMIT_MACROS -I.  -Wall -Wextra -pedantic -g -O2 -MT gen-cpp/ParentService.lo -MD -MP -MF $depbase.Tpo -c -o gen-cpp/ParentService.lo gen-cpp/ParentService.cpp &&\\\n",
            "mv -f $depbase.Tpo $depbase.Plo\n",
            "libtool: compile:  g++ -std=c++11 -DHAVE_CONFIG_H -I/usr/include -I../../../lib/cpp/src -I../../../lib/cpp/src/thrift -D__STDC_FORMAT_MACROS -D__STDC_LIMIT_MACROS -I. -Wall -Wextra -pedantic -g -O2 -MT gen-cpp/ParentService.lo -MD -MP -MF gen-cpp/.deps/ParentService.Tpo -c gen-cpp/ParentService.cpp  -fPIC -DPIC -o gen-cpp/.libs/ParentService.o\n",
            "libtool: compile:  g++ -std=c++11 -DHAVE_CONFIG_H -I/usr/include -I../../../lib/cpp/src -I../../../lib/cpp/src/thrift -D__STDC_FORMAT_MACROS -D__STDC_LIMIT_MACROS -I. -Wall -Wextra -pedantic -g -O2 -MT gen-cpp/ParentService.lo -MD -MP -MF gen-cpp/.deps/ParentService.Tpo -c gen-cpp/ParentService.cpp -o gen-cpp/ParentService.o >/dev/null 2>&1\n",
            "depbase=`echo gen-cpp/proc_types.lo | sed 's|[^/]*$|.deps/&|;s|\\.lo$||'`;\\\n",
            "/bin/bash ../../../libtool  --tag=CXX   --mode=compile g++ -std=c++11 -DHAVE_CONFIG_H   -I/usr/include -I../../../lib/cpp/src -I../../../lib/cpp/src/thrift -D__STDC_FORMAT_MACROS -D__STDC_LIMIT_MACROS -I.  -Wall -Wextra -pedantic -g -O2 -MT gen-cpp/proc_types.lo -MD -MP -MF $depbase.Tpo -c -o gen-cpp/proc_types.lo gen-cpp/proc_types.cpp &&\\\n",
            "mv -f $depbase.Tpo $depbase.Plo\n",
            "libtool: compile:  g++ -std=c++11 -DHAVE_CONFIG_H -I/usr/include -I../../../lib/cpp/src -I../../../lib/cpp/src/thrift -D__STDC_FORMAT_MACROS -D__STDC_LIMIT_MACROS -I. -Wall -Wextra -pedantic -g -O2 -MT gen-cpp/proc_types.lo -MD -MP -MF gen-cpp/.deps/proc_types.Tpo -c gen-cpp/proc_types.cpp  -fPIC -DPIC -o gen-cpp/.libs/proc_types.o\n",
            "libtool: compile:  g++ -std=c++11 -DHAVE_CONFIG_H -I/usr/include -I../../../lib/cpp/src -I../../../lib/cpp/src/thrift -D__STDC_FORMAT_MACROS -D__STDC_LIMIT_MACROS -I. -Wall -Wextra -pedantic -g -O2 -MT gen-cpp/proc_types.lo -MD -MP -MF gen-cpp/.deps/proc_types.Tpo -c gen-cpp/proc_types.cpp -o gen-cpp/proc_types.o >/dev/null 2>&1\n",
            "/bin/bash ../../../libtool  --tag=CXX   --mode=link g++ -std=c++11 -Wall -Wextra -pedantic -g -O2 -L/usr/lib/x86_64-linux-gnu  -o libprocessortest.la  gen-cpp/ChildService.lo gen-cpp/EmptyService.lo gen-cpp/ParentService.lo gen-cpp/proc_types.lo  -lrt -lpthread \n",
            "libtool: link: ar cru .libs/libprocessortest.a gen-cpp/.libs/ChildService.o gen-cpp/.libs/EmptyService.o gen-cpp/.libs/ParentService.o gen-cpp/.libs/proc_types.o \n",
            "ar: `u' modifier ignored since `D' is the default (see `U')\n",
            "libtool: link: ranlib .libs/libprocessortest.a\n",
            "libtool: link: ( cd \".libs\" && rm -f \"libprocessortest.la\" && ln -s \"../libprocessortest.la\" \"libprocessortest.la\" )\n",
            "depbase=`echo Benchmark.o | sed 's|[^/]*$|.deps/&|;s|\\.o$||'`;\\\n",
            "g++ -std=c++11 -DHAVE_CONFIG_H   -I/usr/include -I../../../lib/cpp/src -I../../../lib/cpp/src/thrift -D__STDC_FORMAT_MACROS -D__STDC_LIMIT_MACROS -I.  -Wall -Wextra -pedantic -g -O2 -MT Benchmark.o -MD -MP -MF $depbase.Tpo -c -o Benchmark.o Benchmark.cpp &&\\\n",
            "mv -f $depbase.Tpo $depbase.Po\n",
            "/bin/bash ../../../libtool  --tag=CXX   --mode=link g++ -std=c++11 -Wall -Wextra -pedantic -g -O2 -L/usr/lib/x86_64-linux-gnu  -o Benchmark Benchmark.o libtestgencpp.la -lrt -lpthread \n",
            "libtool: link: g++ -std=c++11 -Wall -Wextra -pedantic -g -O2 -o .libs/Benchmark Benchmark.o  -L/usr/lib/x86_64-linux-gnu ./.libs/libtestgencpp.a /content/thrift-0.20.0/lib/cpp/.libs/libthrift.so -lssl -lcrypto -lrt -lpthread\n",
            "depbase=`echo concurrency/Tests.o | sed 's|[^/]*$|.deps/&|;s|\\.o$||'`;\\\n",
            "g++ -std=c++11 -DHAVE_CONFIG_H   -I/usr/include -I../../../lib/cpp/src -I../../../lib/cpp/src/thrift -D__STDC_FORMAT_MACROS -D__STDC_LIMIT_MACROS -I.  -Wall -Wextra -pedantic -g -O2 -MT concurrency/Tests.o -MD -MP -MF $depbase.Tpo -c -o concurrency/Tests.o concurrency/Tests.cpp &&\\\n",
            "mv -f $depbase.Tpo $depbase.Po\n",
            "/bin/bash ../../../libtool  --tag=CXX   --mode=link g++ -std=c++11 -Wall -Wextra -pedantic -g -O2 -L/usr/lib/x86_64-linux-gnu  -o concurrency_test concurrency/Tests.o ../../../lib/cpp/libthrift.la -lrt -lpthread \n",
            "libtool: link: g++ -std=c++11 -Wall -Wextra -pedantic -g -O2 -o .libs/concurrency_test concurrency/Tests.o  -L/usr/lib/x86_64-linux-gnu ../../../lib/cpp/.libs/libthrift.so -lrt -lpthread\n",
            "depbase=`echo processor/ProcessorTest.o | sed 's|[^/]*$|.deps/&|;s|\\.o$||'`;\\\n",
            "g++ -std=c++11 -DHAVE_CONFIG_H   -I/usr/include -I../../../lib/cpp/src -I../../../lib/cpp/src/thrift -D__STDC_FORMAT_MACROS -D__STDC_LIMIT_MACROS -I.  -Wall -Wextra -pedantic -g -O2 -MT processor/ProcessorTest.o -MD -MP -MF $depbase.Tpo -c -o processor/ProcessorTest.o processor/ProcessorTest.cpp &&\\\n",
            "mv -f $depbase.Tpo $depbase.Po\n",
            "depbase=`echo processor/EventLog.o | sed 's|[^/]*$|.deps/&|;s|\\.o$||'`;\\\n",
            "g++ -std=c++11 -DHAVE_CONFIG_H   -I/usr/include -I../../../lib/cpp/src -I../../../lib/cpp/src/thrift -D__STDC_FORMAT_MACROS -D__STDC_LIMIT_MACROS -I.  -Wall -Wextra -pedantic -g -O2 -MT processor/EventLog.o -MD -MP -MF $depbase.Tpo -c -o processor/EventLog.o processor/EventLog.cpp &&\\\n",
            "mv -f $depbase.Tpo $depbase.Po\n",
            "depbase=`echo processor/ServerThread.o | sed 's|[^/]*$|.deps/&|;s|\\.o$||'`;\\\n",
            "g++ -std=c++11 -DHAVE_CONFIG_H   -I/usr/include -I../../../lib/cpp/src -I../../../lib/cpp/src/thrift -D__STDC_FORMAT_MACROS -D__STDC_LIMIT_MACROS -I.  -Wall -Wextra -pedantic -g -O2 -MT processor/ServerThread.o -MD -MP -MF $depbase.Tpo -c -o processor/ServerThread.o processor/ServerThread.cpp &&\\\n",
            "mv -f $depbase.Tpo $depbase.Po\n",
            "/bin/bash ../../../libtool  --tag=CXX   --mode=link g++ -std=c++11 -Wall -Wextra -pedantic -g -O2 -L/usr/lib/x86_64-linux-gnu  -o processor_test processor/ProcessorTest.o processor/EventLog.o processor/ServerThread.o libprocessortest.la ../../../lib/cpp/libthrift.la ../../../lib/cpp/libthriftnb.la /usr/lib/x86_64-linux-gnu/libboost_unit_test_framework.a -L/usr/lib/x86_64-linux-gnu -levent -lrt -lpthread \n",
            "libtool: link: g++ -std=c++11 -Wall -Wextra -pedantic -g -O2 -o .libs/processor_test processor/ProcessorTest.o processor/EventLog.o processor/ServerThread.o  -L/usr/lib/x86_64-linux-gnu ./.libs/libprocessortest.a ../../../lib/cpp/.libs/libthrift.so ../../../lib/cpp/.libs/libthriftnb.so /usr/lib/x86_64-linux-gnu/libboost_unit_test_framework.a -levent -lrt -lpthread\n",
            "make[5]: Leaving directory '/content/thrift-0.20.0/lib/cpp/test'\n",
            "make[4]: Leaving directory '/content/thrift-0.20.0/lib/cpp/test'\n",
            "make[3]: Leaving directory '/content/thrift-0.20.0/lib/cpp'\n",
            "Making all in nodejs\n",
            "make[3]: Entering directory '/content/thrift-0.20.0/lib/nodejs'\n",
            "/tools/node/bin/npm install ../../ || /tools/node/bin/npm install ../../\n",
            "\u001b[1G\u001b[0K⠙\u001b[1G\u001b[0K⠹\u001b[1G\u001b[0K⠸\u001b[1G\u001b[0K⠼\u001b[1G\u001b[0K⠴\u001b[1G\u001b[0K⠦\u001b[1G\u001b[0K⠧\u001b[1G\u001b[0K⠇\u001b[1G\u001b[0K⠏\u001b[1G\u001b[0K⠋\u001b[1G\u001b[0K⠙\u001b[1G\u001b[0K⠹\u001b[1G\u001b[0K⠸\u001b[1G\u001b[0K⠼\u001b[1G\u001b[0K⠴\u001b[1G\u001b[0K⠦\u001b[1G\u001b[0K⠧\u001b[1G\u001b[0K⠇\u001b[1G\u001b[0K⠏\u001b[1G\u001b[0K⠋\u001b[1G\u001b[0K⠙\u001b[1G\u001b[0K⠹\u001b[1G\u001b[0K⠸\u001b[1G\u001b[0K⠼\u001b[1G\u001b[0K⠴\u001b[1G\u001b[0K⠦\u001b[1G\u001b[0K⠧\u001b[1G\u001b[0K⠇\u001b[1G\u001b[0K\u001b[1mnpm\u001b[22m \u001b[33mwarn\u001b[39m \u001b[94mdeprecated\u001b[39m har-validator@5.1.5: this library is no longer supported\n",
            "\u001b[1G\u001b[0K⠇\u001b[1G\u001b[0K⠏\u001b[1G\u001b[0K⠋\u001b[1G\u001b[0K⠙\u001b[1G\u001b[0K⠹\u001b[1G\u001b[0K⠸\u001b[1G\u001b[0K\u001b[1mnpm\u001b[22m \u001b[33mwarn\u001b[39m \u001b[94mdeprecated\u001b[39m uuid@3.4.0: Please upgrade  to version 7 or higher.  Older versions may use Math.random() in certain circumstances, which is known to be problematic.  See https://v8.dev/blog/math-random for details.\n",
            "\u001b[1G\u001b[0K⠸\u001b[1G\u001b[0K⠼\u001b[1G\u001b[0K\u001b[1mnpm\u001b[22m \u001b[33mwarn\u001b[39m \u001b[94mdeprecated\u001b[39m circular-json@0.3.3: CircularJSON is in maintenance only, flatted is its successor.\n",
            "\u001b[1G\u001b[0K⠼\u001b[1G\u001b[0K⠴\u001b[1G\u001b[0K⠦\u001b[1G\u001b[0K\u001b[1mnpm\u001b[22m \u001b[33mwarn\u001b[39m \u001b[94mdeprecated\u001b[39m request@2.88.2: request has been deprecated, see https://github.com/request/request/issues/3142\n",
            "\u001b[1G\u001b[0K⠦\u001b[1G\u001b[0K⠧\u001b[1G\u001b[0K⠇\u001b[1G\u001b[0K\u001b[1mnpm\u001b[22m \u001b[33mwarn\u001b[39m \u001b[94mdeprecated\u001b[39m debug@4.1.1: Debug versions >=3.2.0 <3.2.7 || >=4 <4.3.1 have a low-severity ReDos regression when used in a Node.js environment. It is recommended you upgrade to 3.2.7 or 4.3.1. (https://github.com/visionmedia/debug/issues/797)\n",
            "\u001b[1G\u001b[0K⠏\u001b[1G\u001b[0K\u001b[1mnpm\u001b[22m \u001b[33mwarn\u001b[39m \u001b[94mdeprecated\u001b[39m debug@4.1.0: Debug versions >=3.2.0 <3.2.7 || >=4 <4.3.1 have a low-severity ReDos regression when used in a Node.js environment. It is recommended you upgrade to 3.2.7 or 4.3.1. (https://github.com/visionmedia/debug/issues/797)\n",
            "\u001b[1G\u001b[0K⠏\u001b[1G\u001b[0K\u001b[1mnpm\u001b[22m \u001b[33mwarn\u001b[39m \u001b[94mdeprecated\u001b[39m debug@4.1.1: Debug versions >=3.2.0 <3.2.7 || >=4 <4.3.1 have a low-severity ReDos regression when used in a Node.js environment. It is recommended you upgrade to 3.2.7 or 4.3.1. (https://github.com/visionmedia/debug/issues/797)\n",
            "\u001b[1G\u001b[0K⠏\u001b[1G\u001b[0K\u001b[1mnpm\u001b[22m \u001b[33mwarn\u001b[39m \u001b[94mdeprecated\u001b[39m debug@4.1.1: Debug versions >=3.2.0 <3.2.7 || >=4 <4.3.1 have a low-severity ReDos regression when used in a Node.js environment. It is recommended you upgrade to 3.2.7 or 4.3.1. (https://github.com/visionmedia/debug/issues/797)\n",
            "\u001b[1G\u001b[0K⠋\u001b[1G\u001b[0K⠙\u001b[1G\u001b[0K⠹\u001b[1G\u001b[0K⠸\u001b[1G\u001b[0K⠼\u001b[1G\u001b[0K⠴\u001b[1G\u001b[0K⠦\u001b[1G\u001b[0K⠧\u001b[1G\u001b[0K⠇\u001b[1G\u001b[0K⠏\u001b[1G\u001b[0K⠋\u001b[1G\u001b[0K⠙\u001b[1G\u001b[0K⠹\u001b[1G\u001b[0K⠸\u001b[1G\u001b[0K⠼\u001b[1G\u001b[0K⠴\u001b[1G\u001b[0K⠦\u001b[1G\u001b[0K⠧\u001b[1G\u001b[0K⠇\u001b[1G\u001b[0K⠏\u001b[1G\u001b[0K⠋\u001b[1G\u001b[0K⠙\u001b[1G\u001b[0K⠹\u001b[1G\u001b[0K⠸\u001b[1G\u001b[0K⠼\u001b[1G\u001b[0K⠴\u001b[1G\u001b[0K⠦\u001b[1G\u001b[0K⠧\u001b[1G\u001b[0K⠇\u001b[1G\u001b[0K⠏\u001b[1G\u001b[0K⠋\u001b[1G\u001b[0K⠙\u001b[1G\u001b[0K⠹\u001b[1G\u001b[0K⠸\u001b[1G\u001b[0K⠼\u001b[1G\u001b[0K⠴\u001b[1G\u001b[0K⠦\u001b[1G\u001b[0K⠧\u001b[1G\u001b[0K⠇\u001b[1G\u001b[0K⠏\u001b[1G\u001b[0K⠋\u001b[1G\u001b[0K⠙\u001b[1G\u001b[0K⠹\u001b[1G\u001b[0K⠸\u001b[1G\u001b[0K⠼\u001b[1G\u001b[0K⠴\u001b[1G\u001b[0K⠦\u001b[1G\u001b[0K⠧\u001b[1G\u001b[0K⠇\u001b[1G\u001b[0K⠏\u001b[1G\u001b[0K⠋\u001b[1G\u001b[0K\n",
            "added 376 packages, and audited 377 packages in 11s\n",
            "\u001b[1G\u001b[0K⠋\u001b[1G\u001b[0K\n",
            "\u001b[1G\u001b[0K⠋\u001b[1G\u001b[0K12 packages are looking for funding\n",
            "\u001b[1G\u001b[0K⠋\u001b[1G\u001b[0K  run `npm fund` for details\n",
            "\u001b[1G\u001b[0K⠋\u001b[1G\u001b[0K\n",
            "\u001b[31m\u001b[1m8\u001b[22m\u001b[39m vulnerabilities (1 \u001b[1mlow\u001b[22m, 4 \u001b[33m\u001b[1mmoderate\u001b[22m\u001b[39m, 3 \u001b[31m\u001b[1mhigh\u001b[22m\u001b[39m)\n",
            "\n",
            "To address issues that do not require attention, run:\n",
            "  npm audit fix\n",
            "\n",
            "Some issues need review, and may require choosing\n",
            "a different dependency.\n",
            "\n",
            "Run `npm audit` for details.\n",
            "\u001b[1G\u001b[0K⠋\u001b[1G\u001b[0Kmake[3]: Leaving directory '/content/thrift-0.20.0/lib/nodejs'\n",
            "Making all in nodets\n",
            "make[3]: Entering directory '/content/thrift-0.20.0/lib/nodets'\n",
            "/tools/node/bin/npm install ../../ || /tools/node/bin/npm install ../../\n",
            "\u001b[1G\u001b[0K⠙\u001b[1G\u001b[0K⠹\u001b[1G\u001b[0K⠸\u001b[1G\u001b[0K⠼\u001b[1G\u001b[0K⠴\u001b[1G\u001b[0K⠦\u001b[1G\u001b[0K⠧\u001b[1G\u001b[0K\n",
            "up to date, audited 377 packages in 2s\n",
            "\u001b[1G\u001b[0K⠧\u001b[1G\u001b[0K\n",
            "\u001b[1G\u001b[0K⠧\u001b[1G\u001b[0K12 packages are looking for funding\n",
            "\u001b[1G\u001b[0K⠧\u001b[1G\u001b[0K  run `npm fund` for details\n",
            "\u001b[1G\u001b[0K⠧\u001b[1G\u001b[0K\n",
            "\u001b[31m\u001b[1m8\u001b[22m\u001b[39m vulnerabilities (1 \u001b[1mlow\u001b[22m, 4 \u001b[33m\u001b[1mmoderate\u001b[22m\u001b[39m, 3 \u001b[31m\u001b[1mhigh\u001b[22m\u001b[39m)\n",
            "\n",
            "To address issues that do not require attention, run:\n",
            "  npm audit fix\n",
            "\n",
            "Some issues need review, and may require choosing\n",
            "a different dependency.\n",
            "\n",
            "Run `npm audit` for details.\n",
            "\u001b[1G\u001b[0K⠇\u001b[1G\u001b[0Kmkdir -p test-compiled\n",
            "/content/thrift-0.20.0/compiler/cpp/thrift --gen js:node,ts -o test/ ../../test/v0.16/ThriftTest.thrift && /content/thrift-0.20.0/compiler/cpp/thrift --gen js:node,ts -o test-compiled ../../test/v0.16/ThriftTest.thrift\n",
            "[WARNING:/content/thrift-0.20.0/test/v0.16/ThriftTest.thrift:43] No generator named 'noexist' could be found!\n",
            "[WARNING:/content/thrift-0.20.0/test/v0.16/ThriftTest.thrift:45] cpp generator does not accept 'noexist' as sub-namespace!\n",
            "[WARNING:/content/thrift-0.20.0/test/v0.16/ThriftTest.thrift:43] No generator named 'noexist' could be found!\n",
            "[WARNING:/content/thrift-0.20.0/test/v0.16/ThriftTest.thrift:45] cpp generator does not accept 'noexist' as sub-namespace!\n",
            "/content/thrift-0.20.0/compiler/cpp/thrift --gen js:node,ts -o test/ ../../test/Int64Test.thrift && /content/thrift-0.20.0/compiler/cpp/thrift --gen js:node,ts -o test-compiled ../../test/Int64Test.thrift\n",
            "[WARNING:/content/thrift-0.20.0/test/Int64Test.thrift:27] 64-bit constant \"9007199254740991\" may not work in all languages.\n",
            "\n",
            "[WARNING:/content/thrift-0.20.0/test/Int64Test.thrift:28] 64-bit constant \"-9007199254740991\" may not work in all languages.\n",
            "\n",
            "[WARNING:/content/thrift-0.20.0/test/Int64Test.thrift:29] 64-bit constant \"9007199254740992\" may not work in all languages.\n",
            "\n",
            "[WARNING:/content/thrift-0.20.0/test/Int64Test.thrift:30] 64-bit constant \"-9007199254740992\" may not work in all languages.\n",
            "\n",
            "[WARNING:/content/thrift-0.20.0/test/Int64Test.thrift:31] 64-bit constant \"9223372036854775807\" may not work in all languages.\n",
            "\n",
            "[WARNING:/content/thrift-0.20.0/test/Int64Test.thrift:32] 64-bit constant \"-9223372036854775808\" may not work in all languages.\n",
            "\n",
            "[WARNING:/content/thrift-0.20.0/test/Int64Test.thrift:27] 64-bit constant \"9007199254740991\" may not work in all languages.\n",
            "\n",
            "[WARNING:/content/thrift-0.20.0/test/Int64Test.thrift:28] 64-bit constant \"-9007199254740991\" may not work in all languages.\n",
            "\n",
            "[WARNING:/content/thrift-0.20.0/test/Int64Test.thrift:29] 64-bit constant \"9007199254740992\" may not work in all languages.\n",
            "\n",
            "[WARNING:/content/thrift-0.20.0/test/Int64Test.thrift:30] 64-bit constant \"-9007199254740992\" may not work in all languages.\n",
            "\n",
            "[WARNING:/content/thrift-0.20.0/test/Int64Test.thrift:31] 64-bit constant \"9223372036854775807\" may not work in all languages.\n",
            "\n",
            "[WARNING:/content/thrift-0.20.0/test/Int64Test.thrift:32] 64-bit constant \"-9223372036854775808\" may not work in all languages.\n",
            "\n",
            "[WARNING:/content/thrift-0.20.0/test/Int64Test.thrift:27] 64-bit constant \"9007199254740991\" may not work in all languages.\n",
            "\n",
            "[WARNING:/content/thrift-0.20.0/test/Int64Test.thrift:28] 64-bit constant \"-9007199254740991\" may not work in all languages.\n",
            "\n",
            "[WARNING:/content/thrift-0.20.0/test/Int64Test.thrift:29] 64-bit constant \"9007199254740992\" may not work in all languages.\n",
            "\n",
            "[WARNING:/content/thrift-0.20.0/test/Int64Test.thrift:30] 64-bit constant \"-9007199254740992\" may not work in all languages.\n",
            "\n",
            "[WARNING:/content/thrift-0.20.0/test/Int64Test.thrift:31] 64-bit constant \"9223372036854775807\" may not work in all languages.\n",
            "\n",
            "[WARNING:/content/thrift-0.20.0/test/Int64Test.thrift:32] 64-bit constant \"-9223372036854775808\" may not work in all languages.\n",
            "\n",
            "[WARNING:/content/thrift-0.20.0/test/Int64Test.thrift:27] 64-bit constant \"9007199254740991\" may not work in all languages.\n",
            "\n",
            "[WARNING:/content/thrift-0.20.0/test/Int64Test.thrift:28] 64-bit constant \"-9007199254740991\" may not work in all languages.\n",
            "\n",
            "[WARNING:/content/thrift-0.20.0/test/Int64Test.thrift:29] 64-bit constant \"9007199254740992\" may not work in all languages.\n",
            "\n",
            "[WARNING:/content/thrift-0.20.0/test/Int64Test.thrift:30] 64-bit constant \"-9007199254740992\" may not work in all languages.\n",
            "\n",
            "[WARNING:/content/thrift-0.20.0/test/Int64Test.thrift:31] 64-bit constant \"9223372036854775807\" may not work in all languages.\n",
            "\n",
            "[WARNING:/content/thrift-0.20.0/test/Int64Test.thrift:32] 64-bit constant \"-9223372036854775808\" may not work in all languages.\n",
            "\n",
            "mkdir -p test-compiled\n",
            "../../node_modules/typescript/bin/tsc --outDir test-compiled/ --project test/tsconfig.json\n",
            "make[3]: Leaving directory '/content/thrift-0.20.0/lib/nodets'\n",
            "make[3]: Entering directory '/content/thrift-0.20.0/lib'\n",
            "make[3]: Nothing to be done for 'all-am'.\n",
            "make[3]: Leaving directory '/content/thrift-0.20.0/lib'\n",
            "make[2]: Leaving directory '/content/thrift-0.20.0/lib'\n",
            "Making all in test\n",
            "make[2]: Entering directory '/content/thrift-0.20.0/test'\n",
            "Making all in features\n",
            "make[3]: Entering directory '/content/thrift-0.20.0/test/features'\n",
            "make[3]: Nothing to be done for 'all'.\n",
            "make[3]: Leaving directory '/content/thrift-0.20.0/test/features'\n",
            "Making all in cpp\n",
            "make[3]: Entering directory '/content/thrift-0.20.0/test/cpp'\n",
            "/content/thrift-0.20.0/compiler/cpp/thrift --gen cpp:templates,cob_style -r ../../test/v0.16/ThriftTest.thrift\n",
            "[WARNING:/content/thrift-0.20.0/test/v0.16/ThriftTest.thrift:43] No generator named 'noexist' could be found!\n",
            "[WARNING:/content/thrift-0.20.0/test/v0.16/ThriftTest.thrift:45] cpp generator does not accept 'noexist' as sub-namespace!\n",
            "/content/thrift-0.20.0/compiler/cpp/thrift --gen cpp ../../test/StressTest.thrift\n",
            "[WARNING:/content/thrift-0.20.0/test/StressTest.thrift:31] Consider using the more efficient \"binary\" type instead of \"list<byte>\".\n",
            "[WARNING:/content/thrift-0.20.0/test/StressTest.thrift:31] Consider using the more efficient \"binary\" type instead of \"list<byte>\".\n",
            "make  all-am\n",
            "make[4]: Entering directory '/content/thrift-0.20.0/test/cpp'\n",
            "depbase=`echo gen-cpp/SecondService.lo | sed 's|[^/]*$|.deps/&|;s|\\.lo$||'`;\\\n",
            "/bin/bash ../../libtool  --tag=CXX   --mode=compile g++ -std=c++11 -DHAVE_CONFIG_H   -I/usr/include  -I../../lib/cpp/src -Igen-cpp -I.  -Wall -Wextra -pedantic -D__STDC_FORMAT_MACROS -D__STDC_LIMIT_MACROS -g -O2 -MT gen-cpp/SecondService.lo -MD -MP -MF $depbase.Tpo -c -o gen-cpp/SecondService.lo gen-cpp/SecondService.cpp &&\\\n",
            "mv -f $depbase.Tpo $depbase.Plo\n",
            "libtool: compile:  g++ -std=c++11 -DHAVE_CONFIG_H -I/usr/include -I../../lib/cpp/src -Igen-cpp -I. -Wall -Wextra -pedantic -D__STDC_FORMAT_MACROS -D__STDC_LIMIT_MACROS -g -O2 -MT gen-cpp/SecondService.lo -MD -MP -MF gen-cpp/.deps/SecondService.Tpo -c gen-cpp/SecondService.cpp  -fPIC -DPIC -o gen-cpp/.libs/SecondService.o\n",
            "libtool: compile:  g++ -std=c++11 -DHAVE_CONFIG_H -I/usr/include -I../../lib/cpp/src -Igen-cpp -I. -Wall -Wextra -pedantic -D__STDC_FORMAT_MACROS -D__STDC_LIMIT_MACROS -g -O2 -MT gen-cpp/SecondService.lo -MD -MP -MF gen-cpp/.deps/SecondService.Tpo -c gen-cpp/SecondService.cpp -o gen-cpp/SecondService.o >/dev/null 2>&1\n",
            "depbase=`echo gen-cpp/ThriftTest_constants.lo | sed 's|[^/]*$|.deps/&|;s|\\.lo$||'`;\\\n",
            "/bin/bash ../../libtool  --tag=CXX   --mode=compile g++ -std=c++11 -DHAVE_CONFIG_H   -I/usr/include  -I../../lib/cpp/src -Igen-cpp -I.  -Wall -Wextra -pedantic -D__STDC_FORMAT_MACROS -D__STDC_LIMIT_MACROS -g -O2 -MT gen-cpp/ThriftTest_constants.lo -MD -MP -MF $depbase.Tpo -c -o gen-cpp/ThriftTest_constants.lo gen-cpp/ThriftTest_constants.cpp &&\\\n",
            "mv -f $depbase.Tpo $depbase.Plo\n",
            "libtool: compile:  g++ -std=c++11 -DHAVE_CONFIG_H -I/usr/include -I../../lib/cpp/src -Igen-cpp -I. -Wall -Wextra -pedantic -D__STDC_FORMAT_MACROS -D__STDC_LIMIT_MACROS -g -O2 -MT gen-cpp/ThriftTest_constants.lo -MD -MP -MF gen-cpp/.deps/ThriftTest_constants.Tpo -c gen-cpp/ThriftTest_constants.cpp  -fPIC -DPIC -o gen-cpp/.libs/ThriftTest_constants.o\n",
            "libtool: compile:  g++ -std=c++11 -DHAVE_CONFIG_H -I/usr/include -I../../lib/cpp/src -Igen-cpp -I. -Wall -Wextra -pedantic -D__STDC_FORMAT_MACROS -D__STDC_LIMIT_MACROS -g -O2 -MT gen-cpp/ThriftTest_constants.lo -MD -MP -MF gen-cpp/.deps/ThriftTest_constants.Tpo -c gen-cpp/ThriftTest_constants.cpp -o gen-cpp/ThriftTest_constants.o >/dev/null 2>&1\n",
            "depbase=`echo gen-cpp/ThriftTest_types.lo | sed 's|[^/]*$|.deps/&|;s|\\.lo$||'`;\\\n",
            "/bin/bash ../../libtool  --tag=CXX   --mode=compile g++ -std=c++11 -DHAVE_CONFIG_H   -I/usr/include  -I../../lib/cpp/src -Igen-cpp -I.  -Wall -Wextra -pedantic -D__STDC_FORMAT_MACROS -D__STDC_LIMIT_MACROS -g -O2 -MT gen-cpp/ThriftTest_types.lo -MD -MP -MF $depbase.Tpo -c -o gen-cpp/ThriftTest_types.lo gen-cpp/ThriftTest_types.cpp &&\\\n",
            "mv -f $depbase.Tpo $depbase.Plo\n",
            "libtool: compile:  g++ -std=c++11 -DHAVE_CONFIG_H -I/usr/include -I../../lib/cpp/src -Igen-cpp -I. -Wall -Wextra -pedantic -D__STDC_FORMAT_MACROS -D__STDC_LIMIT_MACROS -g -O2 -MT gen-cpp/ThriftTest_types.lo -MD -MP -MF gen-cpp/.deps/ThriftTest_types.Tpo -c gen-cpp/ThriftTest_types.cpp  -fPIC -DPIC -o gen-cpp/.libs/ThriftTest_types.o\n",
            "libtool: compile:  g++ -std=c++11 -DHAVE_CONFIG_H -I/usr/include -I../../lib/cpp/src -Igen-cpp -I. -Wall -Wextra -pedantic -D__STDC_FORMAT_MACROS -D__STDC_LIMIT_MACROS -g -O2 -MT gen-cpp/ThriftTest_types.lo -MD -MP -MF gen-cpp/.deps/ThriftTest_types.Tpo -c gen-cpp/ThriftTest_types.cpp -o gen-cpp/ThriftTest_types.o >/dev/null 2>&1\n",
            "depbase=`echo gen-cpp/ThriftTest.lo | sed 's|[^/]*$|.deps/&|;s|\\.lo$||'`;\\\n",
            "/bin/bash ../../libtool  --tag=CXX   --mode=compile g++ -std=c++11 -DHAVE_CONFIG_H   -I/usr/include  -I../../lib/cpp/src -Igen-cpp -I.  -Wall -Wextra -pedantic -D__STDC_FORMAT_MACROS -D__STDC_LIMIT_MACROS -g -O2 -MT gen-cpp/ThriftTest.lo -MD -MP -MF $depbase.Tpo -c -o gen-cpp/ThriftTest.lo gen-cpp/ThriftTest.cpp &&\\\n",
            "mv -f $depbase.Tpo $depbase.Plo\n",
            "libtool: compile:  g++ -std=c++11 -DHAVE_CONFIG_H -I/usr/include -I../../lib/cpp/src -Igen-cpp -I. -Wall -Wextra -pedantic -D__STDC_FORMAT_MACROS -D__STDC_LIMIT_MACROS -g -O2 -MT gen-cpp/ThriftTest.lo -MD -MP -MF gen-cpp/.deps/ThriftTest.Tpo -c gen-cpp/ThriftTest.cpp  -fPIC -DPIC -o gen-cpp/.libs/ThriftTest.o\n",
            "libtool: compile:  g++ -std=c++11 -DHAVE_CONFIG_H -I/usr/include -I../../lib/cpp/src -Igen-cpp -I. -Wall -Wextra -pedantic -D__STDC_FORMAT_MACROS -D__STDC_LIMIT_MACROS -g -O2 -MT gen-cpp/ThriftTest.lo -MD -MP -MF gen-cpp/.deps/ThriftTest.Tpo -c gen-cpp/ThriftTest.cpp -o gen-cpp/ThriftTest.o >/dev/null 2>&1\n",
            "depbase=`echo src/ThriftTest_extras.lo | sed 's|[^/]*$|.deps/&|;s|\\.lo$||'`;\\\n",
            "/bin/bash ../../libtool  --tag=CXX   --mode=compile g++ -std=c++11 -DHAVE_CONFIG_H   -I/usr/include  -I../../lib/cpp/src -Igen-cpp -I.  -Wall -Wextra -pedantic -D__STDC_FORMAT_MACROS -D__STDC_LIMIT_MACROS -g -O2 -MT src/ThriftTest_extras.lo -MD -MP -MF $depbase.Tpo -c -o src/ThriftTest_extras.lo src/ThriftTest_extras.cpp &&\\\n",
            "mv -f $depbase.Tpo $depbase.Plo\n",
            "libtool: compile:  g++ -std=c++11 -DHAVE_CONFIG_H -I/usr/include -I../../lib/cpp/src -Igen-cpp -I. -Wall -Wextra -pedantic -D__STDC_FORMAT_MACROS -D__STDC_LIMIT_MACROS -g -O2 -MT src/ThriftTest_extras.lo -MD -MP -MF src/.deps/ThriftTest_extras.Tpo -c src/ThriftTest_extras.cpp  -fPIC -DPIC -o src/.libs/ThriftTest_extras.o\n",
            "libtool: compile:  g++ -std=c++11 -DHAVE_CONFIG_H -I/usr/include -I../../lib/cpp/src -Igen-cpp -I. -Wall -Wextra -pedantic -D__STDC_FORMAT_MACROS -D__STDC_LIMIT_MACROS -g -O2 -MT src/ThriftTest_extras.lo -MD -MP -MF src/.deps/ThriftTest_extras.Tpo -c src/ThriftTest_extras.cpp -o src/ThriftTest_extras.o >/dev/null 2>&1\n",
            "/bin/bash ../../libtool  --tag=CXX   --mode=link g++ -std=c++11 -Wall -Wextra -pedantic -D__STDC_FORMAT_MACROS -D__STDC_LIMIT_MACROS -g -O2 -L/usr/lib/x86_64-linux-gnu  -lz  -o libtestgencpp.la  gen-cpp/SecondService.lo gen-cpp/ThriftTest_constants.lo gen-cpp/ThriftTest_types.lo gen-cpp/ThriftTest.lo src/ThriftTest_extras.lo ../../lib/cpp/libthrift.la -lrt -lpthread \n",
            "libtool: link: ar cru .libs/libtestgencpp.a gen-cpp/.libs/SecondService.o gen-cpp/.libs/ThriftTest_constants.o gen-cpp/.libs/ThriftTest_types.o gen-cpp/.libs/ThriftTest.o src/.libs/ThriftTest_extras.o \n",
            "ar: `u' modifier ignored since `D' is the default (see `U')\n",
            "libtool: link: ranlib .libs/libtestgencpp.a\n",
            "libtool: link: ( cd \".libs\" && rm -f \"libtestgencpp.la\" && ln -s \"../libtestgencpp.la\" \"libtestgencpp.la\" )\n",
            "depbase=`echo gen-cpp/Service.lo | sed 's|[^/]*$|.deps/&|;s|\\.lo$||'`;\\\n",
            "/bin/bash ../../libtool  --tag=CXX   --mode=compile g++ -std=c++11 -DHAVE_CONFIG_H   -I/usr/include  -I../../lib/cpp/src -Igen-cpp -I.  -Wall -Wextra -pedantic -D__STDC_FORMAT_MACROS -D__STDC_LIMIT_MACROS -g -O2 -MT gen-cpp/Service.lo -MD -MP -MF $depbase.Tpo -c -o gen-cpp/Service.lo gen-cpp/Service.cpp &&\\\n",
            "mv -f $depbase.Tpo $depbase.Plo\n",
            "libtool: compile:  g++ -std=c++11 -DHAVE_CONFIG_H -I/usr/include -I../../lib/cpp/src -Igen-cpp -I. -Wall -Wextra -pedantic -D__STDC_FORMAT_MACROS -D__STDC_LIMIT_MACROS -g -O2 -MT gen-cpp/Service.lo -MD -MP -MF gen-cpp/.deps/Service.Tpo -c gen-cpp/Service.cpp  -fPIC -DPIC -o gen-cpp/.libs/Service.o\n",
            "libtool: compile:  g++ -std=c++11 -DHAVE_CONFIG_H -I/usr/include -I../../lib/cpp/src -Igen-cpp -I. -Wall -Wextra -pedantic -D__STDC_FORMAT_MACROS -D__STDC_LIMIT_MACROS -g -O2 -MT gen-cpp/Service.lo -MD -MP -MF gen-cpp/.deps/Service.Tpo -c gen-cpp/Service.cpp -o gen-cpp/Service.o >/dev/null 2>&1\n",
            "/bin/bash ../../libtool  --tag=CXX   --mode=link g++ -std=c++11 -Wall -Wextra -pedantic -D__STDC_FORMAT_MACROS -D__STDC_LIMIT_MACROS -g -O2 -L/usr/lib/x86_64-linux-gnu  -lz  -o libstresstestgencpp.la  gen-cpp/Service.lo ../../lib/cpp/libthrift.la -lrt -lpthread \n",
            "libtool: link: ar cru .libs/libstresstestgencpp.a gen-cpp/.libs/Service.o \n",
            "ar: `u' modifier ignored since `D' is the default (see `U')\n",
            "libtool: link: ranlib .libs/libstresstestgencpp.a\n",
            "libtool: link: ( cd \".libs\" && rm -f \"libstresstestgencpp.la\" && ln -s \"../libstresstestgencpp.la\" \"libstresstestgencpp.la\" )\n",
            "make[4]: Leaving directory '/content/thrift-0.20.0/test/cpp'\n",
            "make[3]: Leaving directory '/content/thrift-0.20.0/test/cpp'\n",
            "make[3]: Entering directory '/content/thrift-0.20.0/test'\n",
            "make[3]: Nothing to be done for 'all-am'.\n",
            "make[3]: Leaving directory '/content/thrift-0.20.0/test'\n",
            "make[2]: Leaving directory '/content/thrift-0.20.0/test'\n",
            "Making all in tutorial\n",
            "make[2]: Entering directory '/content/thrift-0.20.0/tutorial'\n",
            "Making all in cpp\n",
            "make[3]: Entering directory '/content/thrift-0.20.0/tutorial/cpp'\n",
            "/content/thrift-0.20.0/compiler/cpp/thrift --gen cpp -r ../../tutorial/tutorial.thrift\n",
            "make  all-am\n",
            "make[4]: Entering directory '/content/thrift-0.20.0/tutorial/cpp'\n",
            "depbase=`echo gen-cpp/Calculator.lo | sed 's|[^/]*$|.deps/&|;s|\\.lo$||'`;\\\n",
            "/bin/bash ../../libtool  --tag=CXX   --mode=compile g++ -std=c++11 -DHAVE_CONFIG_H   -I/usr/include  -I../../lib/cpp/src -Igen-cpp  -Wall -Wextra -pedantic -g -O2 -MT gen-cpp/Calculator.lo -MD -MP -MF $depbase.Tpo -c -o gen-cpp/Calculator.lo gen-cpp/Calculator.cpp &&\\\n",
            "mv -f $depbase.Tpo $depbase.Plo\n",
            "libtool: compile:  g++ -std=c++11 -DHAVE_CONFIG_H -I/usr/include -I../../lib/cpp/src -Igen-cpp -Wall -Wextra -pedantic -g -O2 -MT gen-cpp/Calculator.lo -MD -MP -MF gen-cpp/.deps/Calculator.Tpo -c gen-cpp/Calculator.cpp  -fPIC -DPIC -o gen-cpp/.libs/Calculator.o\n",
            "libtool: compile:  g++ -std=c++11 -DHAVE_CONFIG_H -I/usr/include -I../../lib/cpp/src -Igen-cpp -Wall -Wextra -pedantic -g -O2 -MT gen-cpp/Calculator.lo -MD -MP -MF gen-cpp/.deps/Calculator.Tpo -c gen-cpp/Calculator.cpp -o gen-cpp/Calculator.o >/dev/null 2>&1\n",
            "depbase=`echo gen-cpp/SharedService.lo | sed 's|[^/]*$|.deps/&|;s|\\.lo$||'`;\\\n",
            "/bin/bash ../../libtool  --tag=CXX   --mode=compile g++ -std=c++11 -DHAVE_CONFIG_H   -I/usr/include  -I../../lib/cpp/src -Igen-cpp  -Wall -Wextra -pedantic -g -O2 -MT gen-cpp/SharedService.lo -MD -MP -MF $depbase.Tpo -c -o gen-cpp/SharedService.lo gen-cpp/SharedService.cpp &&\\\n",
            "mv -f $depbase.Tpo $depbase.Plo\n",
            "libtool: compile:  g++ -std=c++11 -DHAVE_CONFIG_H -I/usr/include -I../../lib/cpp/src -Igen-cpp -Wall -Wextra -pedantic -g -O2 -MT gen-cpp/SharedService.lo -MD -MP -MF gen-cpp/.deps/SharedService.Tpo -c gen-cpp/SharedService.cpp  -fPIC -DPIC -o gen-cpp/.libs/SharedService.o\n",
            "libtool: compile:  g++ -std=c++11 -DHAVE_CONFIG_H -I/usr/include -I../../lib/cpp/src -Igen-cpp -Wall -Wextra -pedantic -g -O2 -MT gen-cpp/SharedService.lo -MD -MP -MF gen-cpp/.deps/SharedService.Tpo -c gen-cpp/SharedService.cpp -o gen-cpp/SharedService.o >/dev/null 2>&1\n",
            "depbase=`echo gen-cpp/shared_types.lo | sed 's|[^/]*$|.deps/&|;s|\\.lo$||'`;\\\n",
            "/bin/bash ../../libtool  --tag=CXX   --mode=compile g++ -std=c++11 -DHAVE_CONFIG_H   -I/usr/include  -I../../lib/cpp/src -Igen-cpp  -Wall -Wextra -pedantic -g -O2 -MT gen-cpp/shared_types.lo -MD -MP -MF $depbase.Tpo -c -o gen-cpp/shared_types.lo gen-cpp/shared_types.cpp &&\\\n",
            "mv -f $depbase.Tpo $depbase.Plo\n",
            "libtool: compile:  g++ -std=c++11 -DHAVE_CONFIG_H -I/usr/include -I../../lib/cpp/src -Igen-cpp -Wall -Wextra -pedantic -g -O2 -MT gen-cpp/shared_types.lo -MD -MP -MF gen-cpp/.deps/shared_types.Tpo -c gen-cpp/shared_types.cpp  -fPIC -DPIC -o gen-cpp/.libs/shared_types.o\n",
            "libtool: compile:  g++ -std=c++11 -DHAVE_CONFIG_H -I/usr/include -I../../lib/cpp/src -Igen-cpp -Wall -Wextra -pedantic -g -O2 -MT gen-cpp/shared_types.lo -MD -MP -MF gen-cpp/.deps/shared_types.Tpo -c gen-cpp/shared_types.cpp -o gen-cpp/shared_types.o >/dev/null 2>&1\n",
            "depbase=`echo gen-cpp/tutorial_constants.lo | sed 's|[^/]*$|.deps/&|;s|\\.lo$||'`;\\\n",
            "/bin/bash ../../libtool  --tag=CXX   --mode=compile g++ -std=c++11 -DHAVE_CONFIG_H   -I/usr/include  -I../../lib/cpp/src -Igen-cpp  -Wall -Wextra -pedantic -g -O2 -MT gen-cpp/tutorial_constants.lo -MD -MP -MF $depbase.Tpo -c -o gen-cpp/tutorial_constants.lo gen-cpp/tutorial_constants.cpp &&\\\n",
            "mv -f $depbase.Tpo $depbase.Plo\n",
            "libtool: compile:  g++ -std=c++11 -DHAVE_CONFIG_H -I/usr/include -I../../lib/cpp/src -Igen-cpp -Wall -Wextra -pedantic -g -O2 -MT gen-cpp/tutorial_constants.lo -MD -MP -MF gen-cpp/.deps/tutorial_constants.Tpo -c gen-cpp/tutorial_constants.cpp  -fPIC -DPIC -o gen-cpp/.libs/tutorial_constants.o\n",
            "libtool: compile:  g++ -std=c++11 -DHAVE_CONFIG_H -I/usr/include -I../../lib/cpp/src -Igen-cpp -Wall -Wextra -pedantic -g -O2 -MT gen-cpp/tutorial_constants.lo -MD -MP -MF gen-cpp/.deps/tutorial_constants.Tpo -c gen-cpp/tutorial_constants.cpp -o gen-cpp/tutorial_constants.o >/dev/null 2>&1\n",
            "depbase=`echo gen-cpp/tutorial_types.lo | sed 's|[^/]*$|.deps/&|;s|\\.lo$||'`;\\\n",
            "/bin/bash ../../libtool  --tag=CXX   --mode=compile g++ -std=c++11 -DHAVE_CONFIG_H   -I/usr/include  -I../../lib/cpp/src -Igen-cpp  -Wall -Wextra -pedantic -g -O2 -MT gen-cpp/tutorial_types.lo -MD -MP -MF $depbase.Tpo -c -o gen-cpp/tutorial_types.lo gen-cpp/tutorial_types.cpp &&\\\n",
            "mv -f $depbase.Tpo $depbase.Plo\n",
            "libtool: compile:  g++ -std=c++11 -DHAVE_CONFIG_H -I/usr/include -I../../lib/cpp/src -Igen-cpp -Wall -Wextra -pedantic -g -O2 -MT gen-cpp/tutorial_types.lo -MD -MP -MF gen-cpp/.deps/tutorial_types.Tpo -c gen-cpp/tutorial_types.cpp  -fPIC -DPIC -o gen-cpp/.libs/tutorial_types.o\n",
            "libtool: compile:  g++ -std=c++11 -DHAVE_CONFIG_H -I/usr/include -I../../lib/cpp/src -Igen-cpp -Wall -Wextra -pedantic -g -O2 -MT gen-cpp/tutorial_types.lo -MD -MP -MF gen-cpp/.deps/tutorial_types.Tpo -c gen-cpp/tutorial_types.cpp -o gen-cpp/tutorial_types.o >/dev/null 2>&1\n",
            "/bin/bash ../../libtool  --tag=CXX   --mode=link g++ -std=c++11 -Wall -Wextra -pedantic -g -O2 -L/usr/lib/x86_64-linux-gnu   -o libtutorialgencpp.la  gen-cpp/Calculator.lo gen-cpp/SharedService.lo gen-cpp/shared_types.lo gen-cpp/tutorial_constants.lo gen-cpp/tutorial_types.lo ../../lib/cpp/libthrift.la -lrt -lpthread \n",
            "libtool: link: ar cru .libs/libtutorialgencpp.a gen-cpp/.libs/Calculator.o gen-cpp/.libs/SharedService.o gen-cpp/.libs/shared_types.o gen-cpp/.libs/tutorial_constants.o gen-cpp/.libs/tutorial_types.o \n",
            "ar: `u' modifier ignored since `D' is the default (see `U')\n",
            "libtool: link: ranlib .libs/libtutorialgencpp.a\n",
            "libtool: link: ( cd \".libs\" && rm -f \"libtutorialgencpp.la\" && ln -s \"../libtutorialgencpp.la\" \"libtutorialgencpp.la\" )\n",
            "depbase=`echo CppServer.o | sed 's|[^/]*$|.deps/&|;s|\\.o$||'`;\\\n",
            "g++ -std=c++11 -DHAVE_CONFIG_H   -I/usr/include  -I../../lib/cpp/src -Igen-cpp  -Wall -Wextra -pedantic -g -O2 -MT CppServer.o -MD -MP -MF $depbase.Tpo -c -o CppServer.o CppServer.cpp &&\\\n",
            "mv -f $depbase.Tpo $depbase.Po\n",
            "/bin/bash ../../libtool  --tag=CXX   --mode=link g++ -std=c++11 -Wall -Wextra -pedantic -g -O2 -L/usr/lib/x86_64-linux-gnu   -o TutorialServer CppServer.o libtutorialgencpp.la ../../lib/cpp/libthrift.la -lrt -lpthread \n",
            "libtool: link: g++ -std=c++11 -Wall -Wextra -pedantic -g -O2 -o .libs/TutorialServer CppServer.o  -L/usr/lib/x86_64-linux-gnu ./.libs/libtutorialgencpp.a /content/thrift-0.20.0/lib/cpp/.libs/libthrift.so -lssl -lcrypto ../../lib/cpp/.libs/libthrift.so -lrt -lpthread\n",
            "depbase=`echo CppClient.o | sed 's|[^/]*$|.deps/&|;s|\\.o$||'`;\\\n",
            "g++ -std=c++11 -DHAVE_CONFIG_H   -I/usr/include  -I../../lib/cpp/src -Igen-cpp  -Wall -Wextra -pedantic -g -O2 -MT CppClient.o -MD -MP -MF $depbase.Tpo -c -o CppClient.o CppClient.cpp &&\\\n",
            "mv -f $depbase.Tpo $depbase.Po\n",
            "/bin/bash ../../libtool  --tag=CXX   --mode=link g++ -std=c++11 -Wall -Wextra -pedantic -g -O2 -L/usr/lib/x86_64-linux-gnu   -o TutorialClient CppClient.o libtutorialgencpp.la ../../lib/cpp/libthrift.la -lrt -lpthread \n",
            "libtool: link: g++ -std=c++11 -Wall -Wextra -pedantic -g -O2 -o .libs/TutorialClient CppClient.o  -L/usr/lib/x86_64-linux-gnu ./.libs/libtutorialgencpp.a /content/thrift-0.20.0/lib/cpp/.libs/libthrift.so -lssl -lcrypto ../../lib/cpp/.libs/libthrift.so -lrt -lpthread\n",
            "make[4]: Leaving directory '/content/thrift-0.20.0/tutorial/cpp'\n",
            "make[3]: Leaving directory '/content/thrift-0.20.0/tutorial/cpp'\n",
            "Making all in nodejs\n",
            "make[3]: Entering directory '/content/thrift-0.20.0/tutorial/nodejs'\n",
            "/content/thrift-0.20.0/compiler/cpp/thrift --gen js:node -r ../../tutorial/tutorial.thrift\n",
            "make[3]: Leaving directory '/content/thrift-0.20.0/tutorial/nodejs'\n",
            "make[3]: Entering directory '/content/thrift-0.20.0/tutorial'\n",
            "../compiler/cpp/thrift --gen html -r ../tutorial/tutorial.thrift\n",
            "make[3]: Leaving directory '/content/thrift-0.20.0/tutorial'\n",
            "make[2]: Leaving directory '/content/thrift-0.20.0/tutorial'\n",
            "make[2]: Entering directory '/content/thrift-0.20.0'\n",
            "make[2]: Leaving directory '/content/thrift-0.20.0'\n",
            "make[1]: Leaving directory '/content/thrift-0.20.0'\n",
            "Making install in compiler/cpp\n",
            "make[1]: Entering directory '/content/thrift-0.20.0/compiler/cpp'\n",
            "Making install in src\n",
            "make[2]: Entering directory '/content/thrift-0.20.0/compiler/cpp/src'\n",
            "make  install-am\n",
            "make[3]: Entering directory '/content/thrift-0.20.0/compiler/cpp/src'\n",
            "make[4]: Entering directory '/content/thrift-0.20.0/compiler/cpp/src'\n",
            "make[4]: Nothing to be done for 'install-exec-am'.\n",
            "make[4]: Nothing to be done for 'install-data-am'.\n",
            "make[4]: Leaving directory '/content/thrift-0.20.0/compiler/cpp/src'\n",
            "make[3]: Leaving directory '/content/thrift-0.20.0/compiler/cpp/src'\n",
            "make[2]: Leaving directory '/content/thrift-0.20.0/compiler/cpp/src'\n",
            "Making install in .\n",
            "make[2]: Entering directory '/content/thrift-0.20.0/compiler/cpp'\n",
            "make[3]: Entering directory '/content/thrift-0.20.0/compiler/cpp'\n",
            " /usr/bin/mkdir -p '/usr/local/bin'\n",
            "  /bin/bash ../../libtool   --mode=install /usr/bin/install -c thrift '/usr/local/bin'\n",
            "libtool: install: /usr/bin/install -c thrift /usr/local/bin/thrift\n",
            "make[3]: Nothing to be done for 'install-data-am'.\n",
            "make[3]: Leaving directory '/content/thrift-0.20.0/compiler/cpp'\n",
            "make[2]: Leaving directory '/content/thrift-0.20.0/compiler/cpp'\n",
            "Making install in test\n",
            "make[2]: Entering directory '/content/thrift-0.20.0/compiler/cpp/test'\n",
            "make[3]: Entering directory '/content/thrift-0.20.0/compiler/cpp/test'\n",
            "make[3]: Nothing to be done for 'install-exec-am'.\n",
            "make[3]: Nothing to be done for 'install-data-am'.\n",
            "make[3]: Leaving directory '/content/thrift-0.20.0/compiler/cpp/test'\n",
            "make[2]: Leaving directory '/content/thrift-0.20.0/compiler/cpp/test'\n",
            "make[1]: Leaving directory '/content/thrift-0.20.0/compiler/cpp'\n",
            "Making install in lib\n",
            "make[1]: Entering directory '/content/thrift-0.20.0/lib'\n",
            "Making install in json\n",
            "make[2]: Entering directory '/content/thrift-0.20.0/lib/json'\n",
            "make[3]: Entering directory '/content/thrift-0.20.0/lib/json'\n",
            "make[4]: Entering directory '/content/thrift-0.20.0/lib/json'\n",
            "make[4]: Nothing to be done for 'install-exec-am'.\n",
            "make[4]: Nothing to be done for 'install-data-am'.\n",
            "make[4]: Leaving directory '/content/thrift-0.20.0/lib/json'\n",
            "make[3]: Leaving directory '/content/thrift-0.20.0/lib/json'\n",
            "make[2]: Leaving directory '/content/thrift-0.20.0/lib/json'\n",
            "Making install in xml\n",
            "make[2]: Entering directory '/content/thrift-0.20.0/lib/xml'\n",
            "make[3]: Entering directory '/content/thrift-0.20.0/lib/xml'\n",
            "make[4]: Entering directory '/content/thrift-0.20.0/lib/xml'\n",
            "make[4]: Nothing to be done for 'install-exec-am'.\n",
            "make[4]: Nothing to be done for 'install-data-am'.\n",
            "make[4]: Leaving directory '/content/thrift-0.20.0/lib/xml'\n",
            "make[3]: Leaving directory '/content/thrift-0.20.0/lib/xml'\n",
            "make[2]: Leaving directory '/content/thrift-0.20.0/lib/xml'\n",
            "Making install in cpp\n",
            "make[2]: Entering directory '/content/thrift-0.20.0/lib/cpp'\n",
            "Making install in .\n",
            "make[3]: Entering directory '/content/thrift-0.20.0/lib/cpp'\n",
            "make[4]: Entering directory '/content/thrift-0.20.0/lib/cpp'\n",
            " /usr/bin/mkdir -p '/usr/local/lib'\n",
            " /bin/bash ../../libtool   --mode=install /usr/bin/install -c   libthrift.la libthriftnb.la libthriftz.la '/usr/local/lib'\n",
            "libtool: install: /usr/bin/install -c .libs/libthrift-0.20.0.so /usr/local/lib/libthrift-0.20.0.so\n",
            "libtool: install: (cd /usr/local/lib && { ln -s -f libthrift-0.20.0.so libthrift.so || { rm -f libthrift.so && ln -s libthrift-0.20.0.so libthrift.so; }; })\n",
            "libtool: install: /usr/bin/install -c .libs/libthrift.lai /usr/local/lib/libthrift.la\n",
            "libtool: install: /usr/bin/install -c .libs/libthriftnb-0.20.0.so /usr/local/lib/libthriftnb-0.20.0.so\n",
            "libtool: install: (cd /usr/local/lib && { ln -s -f libthriftnb-0.20.0.so libthriftnb.so || { rm -f libthriftnb.so && ln -s libthriftnb-0.20.0.so libthriftnb.so; }; })\n",
            "libtool: install: /usr/bin/install -c .libs/libthriftnb.lai /usr/local/lib/libthriftnb.la\n",
            "libtool: install: /usr/bin/install -c .libs/libthriftz-0.20.0.so /usr/local/lib/libthriftz-0.20.0.so\n",
            "libtool: install: (cd /usr/local/lib && { ln -s -f libthriftz-0.20.0.so libthriftz.so || { rm -f libthriftz.so && ln -s libthriftz-0.20.0.so libthriftz.so; }; })\n",
            "libtool: install: /usr/bin/install -c .libs/libthriftz.lai /usr/local/lib/libthriftz.la\n",
            "libtool: install: /usr/bin/install -c .libs/libthrift.a /usr/local/lib/libthrift.a\n",
            "libtool: install: chmod 644 /usr/local/lib/libthrift.a\n",
            "libtool: install: ranlib /usr/local/lib/libthrift.a\n",
            "libtool: install: /usr/bin/install -c .libs/libthriftnb.a /usr/local/lib/libthriftnb.a\n",
            "libtool: install: chmod 644 /usr/local/lib/libthriftnb.a\n",
            "libtool: install: ranlib /usr/local/lib/libthriftnb.a\n",
            "libtool: install: /usr/bin/install -c .libs/libthriftz.a /usr/local/lib/libthriftz.a\n",
            "libtool: install: chmod 644 /usr/local/lib/libthriftz.a\n",
            "libtool: install: ranlib /usr/local/lib/libthriftz.a\n",
            "libtool: finish: PATH=\"/opt/bin:/usr/local/nvidia/bin:/usr/local/cuda/bin:/usr/local/sbin:/usr/local/bin:/usr/sbin:/usr/bin:/sbin:/bin:/tools/node/bin:/tools/google-cloud-sdk/bin:/sbin\" ldconfig -n /usr/local/lib\n",
            "/sbin/ldconfig.real: /usr/local/lib/libtbbmalloc.so.2 is not a symbolic link\n",
            "\n",
            "/sbin/ldconfig.real: /usr/local/lib/libtbbbind.so.3 is not a symbolic link\n",
            "\n",
            "/sbin/ldconfig.real: /usr/local/lib/libhwloc.so.15 is not a symbolic link\n",
            "\n",
            "/sbin/ldconfig.real: /usr/local/lib/libtcm_debug.so.1 is not a symbolic link\n",
            "\n",
            "/sbin/ldconfig.real: /usr/local/lib/libur_adapter_opencl.so.0 is not a symbolic link\n",
            "\n",
            "/sbin/ldconfig.real: /usr/local/lib/libtbbmalloc_proxy.so.2 is not a symbolic link\n",
            "\n",
            "/sbin/ldconfig.real: /usr/local/lib/libur_loader.so.0 is not a symbolic link\n",
            "\n",
            "/sbin/ldconfig.real: /usr/local/lib/libtbbbind_2_5.so.3 is not a symbolic link\n",
            "\n",
            "/sbin/ldconfig.real: /usr/local/lib/libtcm.so.1 is not a symbolic link\n",
            "\n",
            "/sbin/ldconfig.real: /usr/local/lib/libur_adapter_level_zero.so.0 is not a symbolic link\n",
            "\n",
            "/sbin/ldconfig.real: /usr/local/lib/libumf.so.0 is not a symbolic link\n",
            "\n",
            "/sbin/ldconfig.real: /usr/local/lib/libtbbbind_2_0.so.3 is not a symbolic link\n",
            "\n",
            "/sbin/ldconfig.real: /usr/local/lib/libtbb.so.12 is not a symbolic link\n",
            "\n",
            "----------------------------------------------------------------------\n",
            "Libraries have been installed in:\n",
            "   /usr/local/lib\n",
            "\n",
            "If you ever happen to want to link against installed libraries\n",
            "in a given directory, LIBDIR, you must either use libtool, and\n",
            "specify the full pathname of the library, or use the '-LLIBDIR'\n",
            "flag during linking and do at least one of the following:\n",
            "   - add LIBDIR to the 'LD_LIBRARY_PATH' environment variable\n",
            "     during execution\n",
            "   - add LIBDIR to the 'LD_RUN_PATH' environment variable\n",
            "     during linking\n",
            "   - use the '-Wl,-rpath -Wl,LIBDIR' linker flag\n",
            "   - have your system administrator add LIBDIR to '/etc/ld.so.conf'\n",
            "\n",
            "See any operating system documentation about shared libraries for\n",
            "more information, such as the ld(1) and ld.so(8) manual pages.\n",
            "----------------------------------------------------------------------\n",
            " /usr/bin/mkdir -p '/usr/local/include/thrift/async'\n",
            " /usr/bin/install -c -m 644 src/thrift/async/TAsyncChannel.h src/thrift/async/TAsyncDispatchProcessor.h src/thrift/async/TAsyncProcessor.h src/thrift/async/TAsyncBufferProcessor.h src/thrift/async/TAsyncProtocolProcessor.h src/thrift/async/TConcurrentClientSyncInfo.h src/thrift/async/TEvhttpClientChannel.h src/thrift/async/TEvhttpServer.h '/usr/local/include/thrift/async'\n",
            " /usr/bin/mkdir -p '/usr/local/include/thrift/concurrency'\n",
            " /usr/bin/install -c -m 644 src/thrift/concurrency/Exception.h src/thrift/concurrency/Mutex.h src/thrift/concurrency/Monitor.h src/thrift/concurrency/ThreadFactory.h src/thrift/concurrency/Thread.h src/thrift/concurrency/ThreadManager.h src/thrift/concurrency/TimerManager.h src/thrift/concurrency/FunctionRunner.h '/usr/local/include/thrift/concurrency'\n",
            " /usr/bin/mkdir -p '/usr/local/include/thrift/processor'\n",
            " /usr/bin/install -c -m 644 src/thrift/processor/PeekProcessor.h src/thrift/processor/StatsProcessor.h src/thrift/processor/TMultiplexedProcessor.h '/usr/local/include/thrift/processor'\n",
            " /usr/bin/mkdir -p '/usr/local/include/thrift/protocol'\n",
            " /usr/bin/install -c -m 644 src/thrift/protocol/TEnum.h src/thrift/protocol/TList.h src/thrift/protocol/TSet.h src/thrift/protocol/TMap.h src/thrift/protocol/TBinaryProtocol.h src/thrift/protocol/TBinaryProtocol.tcc src/thrift/protocol/TCompactProtocol.h src/thrift/protocol/TCompactProtocol.tcc src/thrift/protocol/TDebugProtocol.h src/thrift/protocol/THeaderProtocol.h src/thrift/protocol/TBase64Utils.h src/thrift/protocol/TJSONProtocol.h src/thrift/protocol/TMultiplexedProtocol.h src/thrift/protocol/TProtocolDecorator.h src/thrift/protocol/TProtocolTap.h src/thrift/protocol/TProtocolTypes.h src/thrift/protocol/TProtocolException.h src/thrift/protocol/TVirtualProtocol.h src/thrift/protocol/TProtocol.h '/usr/local/include/thrift/protocol'\n",
            " /usr/bin/mkdir -p '/usr/local/include/thrift/qt'\n",
            " /usr/bin/install -c -m 644 src/thrift/qt/TQIODeviceTransport.h src/thrift/qt/TQTcpServer.h '/usr/local/include/thrift/qt'\n",
            " /usr/bin/mkdir -p '/usr/local/include/thrift/server'\n",
            " /usr/bin/install -c -m 644 src/thrift/server/TConnectedClient.h src/thrift/server/TServer.h src/thrift/server/TServerFramework.h src/thrift/server/TSimpleServer.h src/thrift/server/TThreadPoolServer.h src/thrift/server/TThreadedServer.h src/thrift/server/TNonblockingServer.h '/usr/local/include/thrift/server'\n",
            " /usr/bin/mkdir -p '/usr/local/include/thrift'\n",
            " /usr/bin/install -c -m 644 ../../config.h src/thrift/thrift-config.h src/thrift/thrift_export.h src/thrift/TDispatchProcessor.h src/thrift/Thrift.h src/thrift/TOutput.h src/thrift/TProcessor.h src/thrift/TApplicationException.h src/thrift/TLogging.h src/thrift/TToString.h src/thrift/TBase.h src/thrift/TConfiguration.h src/thrift/TNonCopyable.h '/usr/local/include/thrift'\n",
            " /usr/bin/mkdir -p '/usr/local/include/thrift/transport'\n",
            " /usr/bin/install -c -m 644 src/thrift/transport/PlatformSocket.h src/thrift/transport/TFDTransport.h src/thrift/transport/TFileTransport.h src/thrift/transport/THeaderTransport.h src/thrift/transport/TSimpleFileTransport.h src/thrift/transport/TServerSocket.h src/thrift/transport/TSSLServerSocket.h src/thrift/transport/TServerTransport.h src/thrift/transport/TNonblockingServerTransport.h src/thrift/transport/TNonblockingServerSocket.h src/thrift/transport/TNonblockingSSLServerSocket.h src/thrift/transport/THttpTransport.h src/thrift/transport/THttpClient.h src/thrift/transport/THttpServer.h src/thrift/transport/TSocket.h src/thrift/transport/TSocketUtils.h src/thrift/transport/TPipe.h src/thrift/transport/TPipeServer.h src/thrift/transport/TSSLSocket.h src/thrift/transport/TSocketPool.h src/thrift/transport/TVirtualTransport.h src/thrift/transport/TTransport.h src/thrift/transport/TTransportException.h src/thrift/transport/TTransportUtils.h src/thrift/transport/TBufferTransports.h src/thrift/transport/TShortReadTransport.h src/thrift/transport/TZlibTransport.h src/thrift/transport/TWebSocketServer.h src/thrift/transport/SocketCommon.h '/usr/local/include/thrift/transport'\n",
            " /usr/bin/mkdir -p '/usr/local/lib/pkgconfig'\n",
            " /usr/bin/install -c -m 644 thrift.pc thrift-nb.pc thrift-z.pc '/usr/local/lib/pkgconfig'\n",
            "make[4]: Leaving directory '/content/thrift-0.20.0/lib/cpp'\n",
            "make[3]: Leaving directory '/content/thrift-0.20.0/lib/cpp'\n",
            "Making install in test\n",
            "make[3]: Entering directory '/content/thrift-0.20.0/lib/cpp/test'\n",
            "make  install-am\n",
            "make[4]: Entering directory '/content/thrift-0.20.0/lib/cpp/test'\n",
            "make[5]: Entering directory '/content/thrift-0.20.0/lib/cpp/test'\n",
            "make[5]: Nothing to be done for 'install-exec-am'.\n",
            "make[5]: Nothing to be done for 'install-data-am'.\n",
            "make[5]: Leaving directory '/content/thrift-0.20.0/lib/cpp/test'\n",
            "make[4]: Leaving directory '/content/thrift-0.20.0/lib/cpp/test'\n",
            "make[3]: Leaving directory '/content/thrift-0.20.0/lib/cpp/test'\n",
            "make[2]: Leaving directory '/content/thrift-0.20.0/lib/cpp'\n",
            "Making install in nodejs\n",
            "make[2]: Entering directory '/content/thrift-0.20.0/lib/nodejs'\n",
            "/tools/node/bin/npm install ../../ || /tools/node/bin/npm install ../../\n",
            "\u001b[1G\u001b[0K⠙\u001b[1G\u001b[0K⠹\u001b[1G\u001b[0K⠸\u001b[1G\u001b[0K⠼\u001b[1G\u001b[0K⠴\u001b[1G\u001b[0K⠦\u001b[1G\u001b[0K⠧\u001b[1G\u001b[0K\n",
            "up to date, audited 377 packages in 2s\n",
            "\u001b[1G\u001b[0K⠇\u001b[1G\u001b[0K\n",
            "\u001b[1G\u001b[0K⠇\u001b[1G\u001b[0K12 packages are looking for funding\n",
            "\u001b[1G\u001b[0K⠇\u001b[1G\u001b[0K  run `npm fund` for details\n",
            "\u001b[1G\u001b[0K⠇\u001b[1G\u001b[0K\n",
            "\u001b[31m\u001b[1m8\u001b[22m\u001b[39m vulnerabilities (1 \u001b[1mlow\u001b[22m, 4 \u001b[33m\u001b[1mmoderate\u001b[22m\u001b[39m, 3 \u001b[31m\u001b[1mhigh\u001b[22m\u001b[39m)\n",
            "\n",
            "To address issues that do not require attention, run:\n",
            "  npm audit fix\n",
            "\n",
            "Some issues need review, and may require choosing\n",
            "a different dependency.\n",
            "\n",
            "Run `npm audit` for details.\n",
            "\u001b[1G\u001b[0K⠇\u001b[1G\u001b[0Kmake[3]: Entering directory '/content/thrift-0.20.0/lib/nodejs'\n",
            "make[3]: Nothing to be done for 'install-exec-am'.\n",
            "make[3]: Nothing to be done for 'install-data-am'.\n",
            "make[3]: Leaving directory '/content/thrift-0.20.0/lib/nodejs'\n",
            "make[2]: Leaving directory '/content/thrift-0.20.0/lib/nodejs'\n",
            "Making install in nodets\n",
            "make[2]: Entering directory '/content/thrift-0.20.0/lib/nodets'\n",
            "/tools/node/bin/npm install ../../ || /tools/node/bin/npm install ../../\n",
            "\u001b[1G\u001b[0K⠙\u001b[1G\u001b[0K⠹\u001b[1G\u001b[0K⠸\u001b[1G\u001b[0K⠼\u001b[1G\u001b[0K⠴\u001b[1G\u001b[0K⠦\u001b[1G\u001b[0K⠧\u001b[1G\u001b[0K\n",
            "up to date, audited 377 packages in 2s\n",
            "\u001b[1G\u001b[0K⠧\u001b[1G\u001b[0K\n",
            "\u001b[1G\u001b[0K⠧\u001b[1G\u001b[0K12 packages are looking for funding\n",
            "\u001b[1G\u001b[0K⠧\u001b[1G\u001b[0K  run `npm fund` for details\n",
            "\u001b[1G\u001b[0K⠧\u001b[1G\u001b[0K\n",
            "\u001b[31m\u001b[1m8\u001b[22m\u001b[39m vulnerabilities (1 \u001b[1mlow\u001b[22m, 4 \u001b[33m\u001b[1mmoderate\u001b[22m\u001b[39m, 3 \u001b[31m\u001b[1mhigh\u001b[22m\u001b[39m)\n",
            "\n",
            "To address issues that do not require attention, run:\n",
            "  npm audit fix\n",
            "\n",
            "Some issues need review, and may require choosing\n",
            "a different dependency.\n",
            "\n",
            "Run `npm audit` for details.\n",
            "\u001b[1G\u001b[0K⠇\u001b[1G\u001b[0Kmkdir -p test-compiled\n",
            "/content/thrift-0.20.0/compiler/cpp/thrift --gen js:node,ts -o test/ ../../test/v0.16/ThriftTest.thrift && /content/thrift-0.20.0/compiler/cpp/thrift --gen js:node,ts -o test-compiled ../../test/v0.16/ThriftTest.thrift\n",
            "[WARNING:/content/thrift-0.20.0/test/v0.16/ThriftTest.thrift:43] No generator named 'noexist' could be found!\n",
            "[WARNING:/content/thrift-0.20.0/test/v0.16/ThriftTest.thrift:45] cpp generator does not accept 'noexist' as sub-namespace!\n",
            "[WARNING:/content/thrift-0.20.0/test/v0.16/ThriftTest.thrift:43] No generator named 'noexist' could be found!\n",
            "[WARNING:/content/thrift-0.20.0/test/v0.16/ThriftTest.thrift:45] cpp generator does not accept 'noexist' as sub-namespace!\n",
            "/content/thrift-0.20.0/compiler/cpp/thrift --gen js:node,ts -o test/ ../../test/Int64Test.thrift && /content/thrift-0.20.0/compiler/cpp/thrift --gen js:node,ts -o test-compiled ../../test/Int64Test.thrift\n",
            "[WARNING:/content/thrift-0.20.0/test/Int64Test.thrift:27] 64-bit constant \"9007199254740991\" may not work in all languages.\n",
            "\n",
            "[WARNING:/content/thrift-0.20.0/test/Int64Test.thrift:28] 64-bit constant \"-9007199254740991\" may not work in all languages.\n",
            "\n",
            "[WARNING:/content/thrift-0.20.0/test/Int64Test.thrift:29] 64-bit constant \"9007199254740992\" may not work in all languages.\n",
            "\n",
            "[WARNING:/content/thrift-0.20.0/test/Int64Test.thrift:30] 64-bit constant \"-9007199254740992\" may not work in all languages.\n",
            "\n",
            "[WARNING:/content/thrift-0.20.0/test/Int64Test.thrift:31] 64-bit constant \"9223372036854775807\" may not work in all languages.\n",
            "\n",
            "[WARNING:/content/thrift-0.20.0/test/Int64Test.thrift:32] 64-bit constant \"-9223372036854775808\" may not work in all languages.\n",
            "\n",
            "[WARNING:/content/thrift-0.20.0/test/Int64Test.thrift:27] 64-bit constant \"9007199254740991\" may not work in all languages.\n",
            "\n",
            "[WARNING:/content/thrift-0.20.0/test/Int64Test.thrift:28] 64-bit constant \"-9007199254740991\" may not work in all languages.\n",
            "\n",
            "[WARNING:/content/thrift-0.20.0/test/Int64Test.thrift:29] 64-bit constant \"9007199254740992\" may not work in all languages.\n",
            "\n",
            "[WARNING:/content/thrift-0.20.0/test/Int64Test.thrift:30] 64-bit constant \"-9007199254740992\" may not work in all languages.\n",
            "\n",
            "[WARNING:/content/thrift-0.20.0/test/Int64Test.thrift:31] 64-bit constant \"9223372036854775807\" may not work in all languages.\n",
            "\n",
            "[WARNING:/content/thrift-0.20.0/test/Int64Test.thrift:32] 64-bit constant \"-9223372036854775808\" may not work in all languages.\n",
            "\n",
            "[WARNING:/content/thrift-0.20.0/test/Int64Test.thrift:27] 64-bit constant \"9007199254740991\" may not work in all languages.\n",
            "\n",
            "[WARNING:/content/thrift-0.20.0/test/Int64Test.thrift:28] 64-bit constant \"-9007199254740991\" may not work in all languages.\n",
            "\n",
            "[WARNING:/content/thrift-0.20.0/test/Int64Test.thrift:29] 64-bit constant \"9007199254740992\" may not work in all languages.\n",
            "\n",
            "[WARNING:/content/thrift-0.20.0/test/Int64Test.thrift:30] 64-bit constant \"-9007199254740992\" may not work in all languages.\n",
            "\n",
            "[WARNING:/content/thrift-0.20.0/test/Int64Test.thrift:31] 64-bit constant \"9223372036854775807\" may not work in all languages.\n",
            "\n",
            "[WARNING:/content/thrift-0.20.0/test/Int64Test.thrift:32] 64-bit constant \"-9223372036854775808\" may not work in all languages.\n",
            "\n",
            "[WARNING:/content/thrift-0.20.0/test/Int64Test.thrift:27] 64-bit constant \"9007199254740991\" may not work in all languages.\n",
            "\n",
            "[WARNING:/content/thrift-0.20.0/test/Int64Test.thrift:28] 64-bit constant \"-9007199254740991\" may not work in all languages.\n",
            "\n",
            "[WARNING:/content/thrift-0.20.0/test/Int64Test.thrift:29] 64-bit constant \"9007199254740992\" may not work in all languages.\n",
            "\n",
            "[WARNING:/content/thrift-0.20.0/test/Int64Test.thrift:30] 64-bit constant \"-9007199254740992\" may not work in all languages.\n",
            "\n",
            "[WARNING:/content/thrift-0.20.0/test/Int64Test.thrift:31] 64-bit constant \"9223372036854775807\" may not work in all languages.\n",
            "\n",
            "[WARNING:/content/thrift-0.20.0/test/Int64Test.thrift:32] 64-bit constant \"-9223372036854775808\" may not work in all languages.\n",
            "\n",
            "mkdir -p test-compiled\n",
            "../../node_modules/typescript/bin/tsc --outDir test-compiled/ --project test/tsconfig.json\n",
            "make[3]: Entering directory '/content/thrift-0.20.0/lib/nodets'\n",
            "make[3]: Nothing to be done for 'install-exec-am'.\n",
            "make[3]: Nothing to be done for 'install-data-am'.\n",
            "make[3]: Leaving directory '/content/thrift-0.20.0/lib/nodets'\n",
            "make[2]: Leaving directory '/content/thrift-0.20.0/lib/nodets'\n",
            "make[2]: Entering directory '/content/thrift-0.20.0/lib'\n",
            "make[3]: Entering directory '/content/thrift-0.20.0/lib'\n",
            "make[3]: Nothing to be done for 'install-exec-am'.\n",
            "make[3]: Nothing to be done for 'install-data-am'.\n",
            "make[3]: Leaving directory '/content/thrift-0.20.0/lib'\n",
            "make[2]: Leaving directory '/content/thrift-0.20.0/lib'\n",
            "make[1]: Leaving directory '/content/thrift-0.20.0/lib'\n",
            "Making install in test\n",
            "make[1]: Entering directory '/content/thrift-0.20.0/test'\n",
            "Making install in features\n",
            "make[2]: Entering directory '/content/thrift-0.20.0/test/features'\n",
            "make[3]: Entering directory '/content/thrift-0.20.0/test/features'\n",
            "make[3]: Nothing to be done for 'install-exec-am'.\n",
            "make[3]: Nothing to be done for 'install-data-am'.\n",
            "make[3]: Leaving directory '/content/thrift-0.20.0/test/features'\n",
            "make[2]: Leaving directory '/content/thrift-0.20.0/test/features'\n",
            "Making install in cpp\n",
            "make[2]: Entering directory '/content/thrift-0.20.0/test/cpp'\n",
            "make  install-am\n",
            "make[3]: Entering directory '/content/thrift-0.20.0/test/cpp'\n",
            "make[4]: Entering directory '/content/thrift-0.20.0/test/cpp'\n",
            "make[4]: Nothing to be done for 'install-exec-am'.\n",
            "make[4]: Nothing to be done for 'install-data-am'.\n",
            "make[4]: Leaving directory '/content/thrift-0.20.0/test/cpp'\n",
            "make[3]: Leaving directory '/content/thrift-0.20.0/test/cpp'\n",
            "make[2]: Leaving directory '/content/thrift-0.20.0/test/cpp'\n",
            "make[2]: Entering directory '/content/thrift-0.20.0/test'\n",
            "make[3]: Entering directory '/content/thrift-0.20.0/test'\n",
            "make[3]: Nothing to be done for 'install-exec-am'.\n",
            "make[3]: Nothing to be done for 'install-data-am'.\n",
            "make[3]: Leaving directory '/content/thrift-0.20.0/test'\n",
            "make[2]: Leaving directory '/content/thrift-0.20.0/test'\n",
            "make[1]: Leaving directory '/content/thrift-0.20.0/test'\n",
            "Making install in tutorial\n",
            "make[1]: Entering directory '/content/thrift-0.20.0/tutorial'\n",
            "Making install in cpp\n",
            "make[2]: Entering directory '/content/thrift-0.20.0/tutorial/cpp'\n",
            "make  install-am\n",
            "make[3]: Entering directory '/content/thrift-0.20.0/tutorial/cpp'\n",
            "make[4]: Entering directory '/content/thrift-0.20.0/tutorial/cpp'\n",
            "make[4]: Nothing to be done for 'install-exec-am'.\n",
            "make[4]: Nothing to be done for 'install-data-am'.\n",
            "make[4]: Leaving directory '/content/thrift-0.20.0/tutorial/cpp'\n",
            "make[3]: Leaving directory '/content/thrift-0.20.0/tutorial/cpp'\n",
            "make[2]: Leaving directory '/content/thrift-0.20.0/tutorial/cpp'\n",
            "Making install in nodejs\n",
            "make[2]: Entering directory '/content/thrift-0.20.0/tutorial/nodejs'\n",
            "make[3]: Entering directory '/content/thrift-0.20.0/tutorial/nodejs'\n",
            "make[3]: Nothing to be done for 'install-exec-am'.\n",
            "make[3]: Nothing to be done for 'install-data-am'.\n",
            "make[3]: Leaving directory '/content/thrift-0.20.0/tutorial/nodejs'\n",
            "make[2]: Leaving directory '/content/thrift-0.20.0/tutorial/nodejs'\n",
            "make[2]: Entering directory '/content/thrift-0.20.0/tutorial'\n",
            "../compiler/cpp/thrift --gen html -r ../tutorial/tutorial.thrift\n",
            "make[3]: Entering directory '/content/thrift-0.20.0/tutorial'\n",
            "make[3]: Nothing to be done for 'install-exec-am'.\n",
            "make[3]: Nothing to be done for 'install-data-am'.\n",
            "make[3]: Leaving directory '/content/thrift-0.20.0/tutorial'\n",
            "make[2]: Leaving directory '/content/thrift-0.20.0/tutorial'\n",
            "make[1]: Leaving directory '/content/thrift-0.20.0/tutorial'\n",
            "make[1]: Entering directory '/content/thrift-0.20.0'\n",
            "make[2]: Entering directory '/content/thrift-0.20.0'\n",
            "make[2]: Nothing to be done for 'install-exec-am'.\n",
            "make[2]: Nothing to be done for 'install-data-am'.\n",
            "make[2]: Leaving directory '/content/thrift-0.20.0'\n",
            "make[1]: Leaving directory '/content/thrift-0.20.0'\n",
            "Collecting thrift\n",
            "  Downloading thrift-0.21.0.tar.gz (62 kB)\n",
            "\u001b[2K     \u001b[90m━━━━━━━━━━━━━━━━━━━━━━━━━━━━━━━━━━━━━━━━\u001b[0m \u001b[32m62.5/62.5 kB\u001b[0m \u001b[31m1.8 MB/s\u001b[0m eta \u001b[36m0:00:00\u001b[0m\n",
            "\u001b[?25h  Preparing metadata (setup.py) ... \u001b[?25l\u001b[?25hdone\n",
            "Requirement already satisfied: six>=1.7.2 in /usr/local/lib/python3.11/dist-packages (from thrift) (1.17.0)\n",
            "Building wheels for collected packages: thrift\n",
            "  Building wheel for thrift (setup.py) ... \u001b[?25l\u001b[?25hdone\n",
            "  Created wheel for thrift: filename=thrift-0.21.0-cp311-cp311-linux_x86_64.whl size=420511 sha256=a66a17df5f4ab7d99e2048d00bebf9cfa8281fb5e43dae8c05ebba30096cdf47\n",
            "  Stored in directory: /root/.cache/pip/wheels/ee/4e/19/b0935ea8d432182833c86e4a36f8026d8e212f8f7c5939cbca\n",
            "Successfully built thrift\n",
            "Installing collected packages: thrift\n",
            "Successfully installed thrift-0.21.0\n"
          ]
        }
      ],
      "source": [
        "# Instalacion\n",
        "!wget https://dlcdn.apache.org/thrift/0.20.0/thrift-0.20.0.tar.gz\n",
        "!tar -xf thrift-0.20.0.tar.gz\n",
        "!cd thrift-0.20.0 && ./bootstrap.sh\n",
        "!cd thrift-0.20.0 && ./configure --without-kotlin --without-python\n",
        "!cd thrift-0.20.0 && make\n",
        "!cd thrift-0.20.0 && make install\n",
        "!pip install thrift\n",
        "import thrift"
      ]
    },
    {
      "cell_type": "markdown",
      "metadata": {
        "id": "xHtI3jGcNTNn"
      },
      "source": [
        "Utilice el formato de representación ofrecido por Apache Thrift para obtener una serialización binaria de los datos\n",
        "\n"
      ]
    },
    {
      "cell_type": "code",
      "execution_count": 38,
      "metadata": {
        "id": "ydA5KfIwIOJG"
      },
      "outputs": [],
      "source": [
        "try:\n",
        "    import thrift\n",
        "except ImportError:\n",
        "    !pip install thrift"
      ]
    },
    {
      "cell_type": "code",
      "execution_count": 39,
      "metadata": {
        "id": "YHdw1e1GIOJG"
      },
      "outputs": [],
      "source": [
        "import thrift"
      ]
    },
    {
      "cell_type": "markdown",
      "metadata": {
        "id": "MCHIOPnSIOJG"
      },
      "source": [
        "A continuación se muestra el archivo de representación **servicios.thrift** empleado para la representación de las clases:\n",
        "\n",
        "```thrift\n",
        "namespace py Servicios\n",
        "\n",
        "struct Venta {\n",
        "    1: string cod_producto,\n",
        "    2: string producto,\n",
        "    3: string cod_venta,\n",
        "    4: string ced_cliente,\n",
        "    5: string nombre_cliente,\n",
        "    6: string fecha_venta,\n",
        "    7: string tipo_garantia,\n",
        "    8: i32 tiempo_garantia,\n",
        "    9: i32 valor_venta,\n",
        "    10: string tipo_tienda,\n",
        "    11: string ciudad_sede,\n",
        "    12: string sede,\n",
        "    13: string entrega,\n",
        "    14: string vendedor,\n",
        "    15: i32 calificacion_servicio,\n",
        "    16: string comentario_servicio\n",
        "}\n",
        "\n",
        "struct Garantia {\n",
        "    1: string cod_venta,\n",
        "    2: string fecha_compra,\n",
        "    3: string tipo_garantia,\n",
        "    4: i32 tiempo_garantia,\n",
        "    5: i32 calificacion,\n",
        "    6: string comentarios,\n",
        "    7: string detalle_garantia\n",
        "}\n",
        "```"
      ]
    },
    {
      "cell_type": "markdown",
      "metadata": {
        "id": "G6K0MjroIOJH"
      },
      "source": [
        "El siguiente paso es generar los archivos python a partir del archivo de representación:"
      ]
    },
    {
      "cell_type": "code",
      "execution_count": 40,
      "metadata": {
        "colab": {
          "base_uri": "https://localhost:8080/"
        },
        "id": "HraZ3BztIOJH",
        "outputId": "39a82805-cef4-4d95-b91c-7791070969d6"
      },
      "outputs": [
        {
          "name": "stdout",
          "output_type": "stream",
          "text": [
            "Scanning /content/servicios.thrift for includes\n",
            "Parsing /content/servicios.thrift for types\n",
            "Program: /content/servicios.thrift\n",
            "Generating \"py\"\n"
          ]
        }
      ],
      "source": [
        "!thrift -v -r --gen py servicios.thrift"
      ]
    },
    {
      "cell_type": "code",
      "execution_count": 41,
      "metadata": {
        "id": "YHGvma_sIOJH"
      },
      "outputs": [],
      "source": [
        "import sys\n",
        "sys.path.append(\"gen-py\")"
      ]
    },
    {
      "cell_type": "code",
      "execution_count": 42,
      "metadata": {
        "id": "zunH384hIOJH"
      },
      "outputs": [],
      "source": [
        "# Importar modulos necesarios\n",
        "from thrift.transport import TTransport\n",
        "from thrift.protocol import TBinaryProtocol\n",
        "# Importar las clases generadas\n",
        "from Servicios.ttypes import Venta, Garantia"
      ]
    },
    {
      "cell_type": "markdown",
      "metadata": {
        "id": "iGNyfHLOIOJI"
      },
      "source": [
        "Se crea una lista de dos objetos tipo `Venta` teniendo en cuenta los datos de la tabla al inicio:"
      ]
    },
    {
      "cell_type": "code",
      "execution_count": 43,
      "metadata": {
        "id": "ZoqDL9MGIOJI"
      },
      "outputs": [],
      "source": [
        "# Ventas\n",
        "\n",
        "# Objeto venta1\n",
        "venta1 = Venta(\n",
        "        cod_producto = \"45869\",\n",
        "        producto = \"Cafetera\",\n",
        "        cod_venta = \"45876\",\n",
        "        ced_cliente = \"78586325\",\n",
        "        nombre_cliente = \"Henry Arcila\",\n",
        "        fecha_venta = \"23/01/2025\",\n",
        "        tipo_garantia = \"Extendida\",\n",
        "        tiempo_garantia = 12,\n",
        "        valor_venta = 235000,\n",
        "        tipo_tienda = \"Física\",\n",
        "        ciudad_sede = \"Santuario\",\n",
        "        sede = \"San Joaquín\",\n",
        "        entrega = \"En tienda\",\n",
        "        vendedor = \"Mary Estrada\",\n",
        "        calificacion_servicio = 5,\n",
        "        comentario_servicio = \"Muy buen servicio\"\n",
        "    )\n",
        "\n",
        "# Objeto venta2\n",
        "venta2 = Venta(\n",
        "        cod_producto = \"122568\",\n",
        "        producto = \"Ventilador\",\n",
        "        cod_venta = \"78546987\",\n",
        "        ced_cliente = \"98583652\",\n",
        "        nombre_cliente = \"Jairo Agudelo M\",\n",
        "        fecha_venta = \"24/12/2024\",\n",
        "        tipo_garantia = \"Normal\",\n",
        "        tiempo_garantia = 6,\n",
        "        valor_venta = 325000,\n",
        "        tipo_tienda = \"Física\",\n",
        "        ciudad_sede = \"Santa Rosa\",\n",
        "        sede = \"Centro\",\n",
        "        entrega = \"En tienda\",\n",
        "        vendedor = \"José Arango\",\n",
        "        calificacion_servicio = 2,\n",
        "        comentario_servicio= \"Muy mal asesoramiento del vendedor\"\n",
        "    )\n",
        "\n",
        "# Lista de ventas\n",
        "ventas = []\n",
        "ventas.append(venta1)\n",
        "ventas.append(venta2)"
      ]
    },
    {
      "cell_type": "markdown",
      "metadata": {
        "id": "zBH8eY_2IOJI"
      },
      "source": [
        "Se procede similar con los objetos de la clase `Garantia`"
      ]
    },
    {
      "cell_type": "code",
      "execution_count": 44,
      "metadata": {
        "id": "YcyBF-sXIOJI"
      },
      "outputs": [],
      "source": [
        "# Garantia\n",
        "\n",
        "# Objeto garantia1\n",
        "garantia1 = Garantia(\n",
        "    cod_venta = \"78546987\",\n",
        "    fecha_compra = \"24/12/2024\",\n",
        "    tipo_garantia = \"Normal\",\n",
        "    tiempo_garantia = 12,\n",
        "    calificacion = 3,\n",
        "    comentarios = \"Demora en la entrega del producto\",\n",
        "    detalle_garantia = \"Cambio de motor\"\n",
        ")\n",
        "\n",
        "# Objeto garantia2\n",
        "garantia2 = Garantia(\n",
        "    cod_venta = \"45876\",\n",
        "    fecha_compra = \"23/01/2025\",\n",
        "    tipo_garantia = \"Extendida\",\n",
        "    tiempo_garantia = 6,\n",
        "    calificacion = 5,\n",
        "    comentarios = \"Buen servicio\",\n",
        "    detalle_garantia = \"Cambio del tablero de control\"\n",
        ")\n",
        "\n",
        "garantias = [garantia1, garantia2]"
      ]
    },
    {
      "cell_type": "markdown",
      "metadata": {
        "id": "rqTcRtKOIOJI"
      },
      "source": [
        "A continuación vamos a mostrar cada uno de los objetos originales anteriomente creados."
      ]
    },
    {
      "cell_type": "code",
      "execution_count": 45,
      "metadata": {
        "colab": {
          "base_uri": "https://localhost:8080/"
        },
        "id": "a9VInVIIIOJJ",
        "outputId": "dc12a064-ae6e-4beb-8c81-866cb74ad90e"
      },
      "outputs": [
        {
          "name": "stdout",
          "output_type": "stream",
          "text": [
            "---- Lista con las ventas ----\n",
            "-> Ventas 0:\n",
            "Venta(cod_producto='45869', producto='Cafetera', cod_venta='45876', ced_cliente='78586325', nombre_cliente='Henry Arcila', fecha_venta='23/01/2025', tipo_garantia='Extendida', tiempo_garantia=12, valor_venta=235000, tipo_tienda='Física', ciudad_sede='Santuario', sede='San Joaquín', entrega='En tienda', vendedor='Mary Estrada', calificacion_servicio=5, comentario_servicio='Muy buen servicio')\n",
            "-> Ventas 1:\n",
            "Venta(cod_producto='122568', producto='Ventilador', cod_venta='78546987', ced_cliente='98583652', nombre_cliente='Jairo Agudelo M', fecha_venta='24/12/2024', tipo_garantia='Normal', tiempo_garantia=6, valor_venta=325000, tipo_tienda='Física', ciudad_sede='Santa Rosa', sede='Centro', entrega='En tienda', vendedor='José Arango', calificacion_servicio=2, comentario_servicio='Muy mal asesoramiento del vendedor')\n",
            "\n",
            "\n",
            "---- Lista con las garantias ----\n",
            "-> Garantias 0:\n",
            "Garantia(cod_venta='78546987', fecha_compra='24/12/2024', tipo_garantia='Normal', tiempo_garantia=12, calificacion=3, comentarios='Demora en la entrega del producto', detalle_garantia='Cambio de motor')\n",
            "-> Garantias 1:\n",
            "Garantia(cod_venta='45876', fecha_compra='23/01/2025', tipo_garantia='Extendida', tiempo_garantia=6, calificacion=5, comentarios='Buen servicio', detalle_garantia='Cambio del tablero de control')\n"
          ]
        }
      ],
      "source": [
        "print(\"---- Lista con las ventas ----\")\n",
        "for i in range(len(ventas)):\n",
        "    print(f\"-> Ventas {i}:\")\n",
        "    print(ventas[i])\n",
        "print()\n",
        "print(\"\\n---- Lista con las garantias ----\")\n",
        "for i in range(len(garantias)):\n",
        "    print(f\"-> Garantias {i}:\")\n",
        "    print(garantias[i])"
      ]
    },
    {
      "cell_type": "markdown",
      "metadata": {
        "id": "aNvEoC8fIOJJ"
      },
      "source": [
        "#### Serializacion"
      ]
    },
    {
      "cell_type": "code",
      "execution_count": 46,
      "metadata": {
        "colab": {
          "base_uri": "https://localhost:8080/"
        },
        "id": "i6TWE3qZIOJJ",
        "outputId": "95fb5097-15cc-4fc4-ddcb-db1c067c4d2e"
      },
      "outputs": [
        {
          "name": "stdout",
          "output_type": "stream",
          "text": [
            "---- Serializacion de las ventas ----\n",
            "Total bytes serializados: 0\n",
            "Objeto <class 'Servicios.ttypes.Venta'> agregado. Total bytes serializados: 236\n",
            "Objeto <class 'Servicios.ttypes.Venta'> agregado. Total bytes serializados: 490\n",
            "\n",
            "---- Serializacion de las garantias ----\n",
            "Total bytes serializados: 0\n",
            "Objeto <class 'Servicios.ttypes.Garantia'> agregado. Total bytes serializados: 122\n",
            "Objeto <class 'Servicios.ttypes.Garantia'> agregado. Total bytes serializados: 238\n"
          ]
        }
      ],
      "source": [
        "# Serialize the data\n",
        "\n",
        "# Ventas\n",
        "print(\"---- Serializacion de las ventas ----\")\n",
        "transport = TTransport.TMemoryBuffer()\n",
        "protocol = TBinaryProtocol.TBinaryProtocol(transport)\n",
        "print(f\"Total bytes serializados: {transport.cstringio_buf.tell()}\")\n",
        "for venta in ventas:\n",
        "    venta.write(protocol)\n",
        "    print(f\"Objeto {type(venta)} agregado. Total bytes serializados: {transport.cstringio_buf.tell()}\")\n",
        "\n",
        "# Contenido del buffer\n",
        "ventas_data = transport.getvalue()\n",
        "\n",
        "print()\n",
        "\n",
        "# Garantias\n",
        "print(\"---- Serializacion de las garantias ----\")\n",
        "transport = TTransport.TMemoryBuffer()\n",
        "protocol = TBinaryProtocol.TBinaryProtocol(transport)\n",
        "print(f\"Total bytes serializados: {transport.cstringio_buf.tell()}\")\n",
        "for garantia in garantias:\n",
        "    garantia.write(protocol)\n",
        "    print(f\"Objeto {type(garantia)} agregado. Total bytes serializados: {transport.cstringio_buf.tell()}\")\n",
        "\n",
        "# Contenido del buffer\n",
        "garantias_data = transport.getvalue()"
      ]
    },
    {
      "cell_type": "markdown",
      "metadata": {
        "id": "F8oQmer8IOJJ"
      },
      "source": [
        "Mostremos el contenido de los datos serializados"
      ]
    },
    {
      "cell_type": "code",
      "execution_count": 47,
      "metadata": {
        "colab": {
          "base_uri": "https://localhost:8080/"
        },
        "id": "2RVSvtSDIOJJ",
        "outputId": "0de5bdd5-8725-4216-a222-513a7a1412af"
      },
      "outputs": [
        {
          "name": "stdout",
          "output_type": "stream",
          "text": [
            "----  Bytes asociados a las ventas ----\n",
            "\n",
            "tipo: <class 'bytes'>\n",
            "\n",
            "b'\\x0b\\x00\\x01\\x00\\x00\\x00\\x0545869\\x0b\\x00\\x02\\x00\\x00\\x00\\x08Cafetera\\x0b\\x00\\x03\\x00\\x00\\x00\\x0545876\\x0b\\x00\\x04\\x00\\x00\\x00\\x0878586325\\x0b\\x00\\x05\\x00\\x00\\x00\\x0cHenry Arcila\\x0b\\x00\\x06\\x00\\x00\\x00\\n23/01/2025\\x0b\\x00\\x07\\x00\\x00\\x00\\tExtendida\\x08\\x00\\x08\\x00\\x00\\x00\\x0c\\x08\\x00\\t\\x00\\x03\\x95\\xf8\\x0b\\x00\\n\\x00\\x00\\x00\\x07F\\xc3\\xadsica\\x0b\\x00\\x0b\\x00\\x00\\x00\\tSantuario\\x0b\\x00\\x0c\\x00\\x00\\x00\\x0cSan Joaqu\\xc3\\xadn\\x0b\\x00\\r\\x00\\x00\\x00\\tEn tienda\\x0b\\x00\\x0e\\x00\\x00\\x00\\x0cMary Estrada\\x08\\x00\\x0f\\x00\\x00\\x00\\x05\\x0b\\x00\\x10\\x00\\x00\\x00\\x11Muy buen servicio\\x00\\x0b\\x00\\x01\\x00\\x00\\x00\\x06122568\\x0b\\x00\\x02\\x00\\x00\\x00\\nVentilador\\x0b\\x00\\x03\\x00\\x00\\x00\\x0878546987\\x0b\\x00\\x04\\x00\\x00\\x00\\x0898583652\\x0b\\x00\\x05\\x00\\x00\\x00\\x0fJairo Agudelo M\\x0b\\x00\\x06\\x00\\x00\\x00\\n24/12/2024\\x0b\\x00\\x07\\x00\\x00\\x00\\x06Normal\\x08\\x00\\x08\\x00\\x00\\x00\\x06\\x08\\x00\\t\\x00\\x04\\xf5\\x88\\x0b\\x00\\n\\x00\\x00\\x00\\x07F\\xc3\\xadsica\\x0b\\x00\\x0b\\x00\\x00\\x00\\nSanta Rosa\\x0b\\x00\\x0c\\x00\\x00\\x00\\x06Centro\\x0b\\x00\\r\\x00\\x00\\x00\\tEn tienda\\x0b\\x00\\x0e\\x00\\x00\\x00\\x0cJos\\xc3\\xa9 Arango\\x08\\x00\\x0f\\x00\\x00\\x00\\x02\\x0b\\x00\\x10\\x00\\x00\\x00\"Muy mal asesoramiento del vendedor\\x00'\n",
            "\n",
            "\n",
            "---- Bytes asociados a las garantias ----\n",
            "\n",
            "tipo: <class 'bytes'>\n",
            "\n",
            "b'\\x0b\\x00\\x01\\x00\\x00\\x00\\x0878546987\\x0b\\x00\\x02\\x00\\x00\\x00\\n24/12/2024\\x0b\\x00\\x03\\x00\\x00\\x00\\x06Normal\\x08\\x00\\x04\\x00\\x00\\x00\\x0c\\x08\\x00\\x05\\x00\\x00\\x00\\x03\\x0b\\x00\\x06\\x00\\x00\\x00!Demora en la entrega del producto\\x0b\\x00\\x07\\x00\\x00\\x00\\x0fCambio de motor\\x00\\x0b\\x00\\x01\\x00\\x00\\x00\\x0545876\\x0b\\x00\\x02\\x00\\x00\\x00\\n23/01/2025\\x0b\\x00\\x03\\x00\\x00\\x00\\tExtendida\\x08\\x00\\x04\\x00\\x00\\x00\\x06\\x08\\x00\\x05\\x00\\x00\\x00\\x05\\x0b\\x00\\x06\\x00\\x00\\x00\\rBuen servicio\\x0b\\x00\\x07\\x00\\x00\\x00\\x1dCambio del tablero de control\\x00'\n"
          ]
        }
      ],
      "source": [
        "print(\"----  Bytes asociados a las ventas ----\")\n",
        "print()\n",
        "print(f\"tipo: {type(ventas_data)}\")\n",
        "print()\n",
        "print(ventas_data)\n",
        "print()\n",
        "print()\n",
        "print(\"---- Bytes asociados a las garantias ----\")\n",
        "print()\n",
        "print(f\"tipo: {type(garantias_data)}\")\n",
        "print()\n",
        "print(garantias_data)"
      ]
    },
    {
      "cell_type": "markdown",
      "metadata": {
        "id": "ODSuxFLWIOJK"
      },
      "source": [
        "Almacenando los bytes serializados en un archivo binario."
      ]
    },
    {
      "cell_type": "code",
      "execution_count": 48,
      "metadata": {
        "id": "SoN6JM6qIOJK"
      },
      "outputs": [],
      "source": [
        "# Se almacenan los archivos\n",
        "with open(\"ventas.dat\", \"wb\") as f:\n",
        "    f.write(ventas_data)\n",
        "\n",
        "with open(\"garantias.dat\", \"wb\") as f:\n",
        "    f.write(garantias_data)"
      ]
    },
    {
      "cell_type": "markdown",
      "metadata": {
        "id": "MCSz605VIOJK"
      },
      "source": [
        "#### Deserializacion"
      ]
    },
    {
      "cell_type": "markdown",
      "metadata": {
        "id": "20XI-vqHIOJK"
      },
      "source": [
        "Inicialmente vamos a realizar la lectura de los archivos binarios"
      ]
    },
    {
      "cell_type": "code",
      "execution_count": 49,
      "metadata": {
        "colab": {
          "base_uri": "https://localhost:8080/"
        },
        "id": "38AjsFWbIOJK",
        "outputId": "34f920b8-a8ce-44ea-e095-483b6d4e36fb"
      },
      "outputs": [
        {
          "name": "stdout",
          "output_type": "stream",
          "text": [
            "----  Bytes obtenidos para las ventas ----\n",
            "b'\\x0b\\x00\\x01\\x00\\x00\\x00\\x0545869\\x0b\\x00\\x02\\x00\\x00\\x00\\x08Cafetera\\x0b\\x00\\x03\\x00\\x00\\x00\\x0545876\\x0b\\x00\\x04\\x00\\x00\\x00\\x0878586325\\x0b\\x00\\x05\\x00\\x00\\x00\\x0cHenry Arcila\\x0b\\x00\\x06\\x00\\x00\\x00\\n23/01/2025\\x0b\\x00\\x07\\x00\\x00\\x00\\tExtendida\\x08\\x00\\x08\\x00\\x00\\x00\\x0c\\x08\\x00\\t\\x00\\x03\\x95\\xf8\\x0b\\x00\\n\\x00\\x00\\x00\\x07F\\xc3\\xadsica\\x0b\\x00\\x0b\\x00\\x00\\x00\\tSantuario\\x0b\\x00\\x0c\\x00\\x00\\x00\\x0cSan Joaqu\\xc3\\xadn\\x0b\\x00\\r\\x00\\x00\\x00\\tEn tienda\\x0b\\x00\\x0e\\x00\\x00\\x00\\x0cMary Estrada\\x08\\x00\\x0f\\x00\\x00\\x00\\x05\\x0b\\x00\\x10\\x00\\x00\\x00\\x11Muy buen servicio\\x00\\x0b\\x00\\x01\\x00\\x00\\x00\\x06122568\\x0b\\x00\\x02\\x00\\x00\\x00\\nVentilador\\x0b\\x00\\x03\\x00\\x00\\x00\\x0878546987\\x0b\\x00\\x04\\x00\\x00\\x00\\x0898583652\\x0b\\x00\\x05\\x00\\x00\\x00\\x0fJairo Agudelo M\\x0b\\x00\\x06\\x00\\x00\\x00\\n24/12/2024\\x0b\\x00\\x07\\x00\\x00\\x00\\x06Normal\\x08\\x00\\x08\\x00\\x00\\x00\\x06\\x08\\x00\\t\\x00\\x04\\xf5\\x88\\x0b\\x00\\n\\x00\\x00\\x00\\x07F\\xc3\\xadsica\\x0b\\x00\\x0b\\x00\\x00\\x00\\nSanta Rosa\\x0b\\x00\\x0c\\x00\\x00\\x00\\x06Centro\\x0b\\x00\\r\\x00\\x00\\x00\\tEn tienda\\x0b\\x00\\x0e\\x00\\x00\\x00\\x0cJos\\xc3\\xa9 Arango\\x08\\x00\\x0f\\x00\\x00\\x00\\x02\\x0b\\x00\\x10\\x00\\x00\\x00\"Muy mal asesoramiento del vendedor\\x00'\n",
            "---- Bytes obtenidos para las garantias ----\n",
            "b'\\x0b\\x00\\x01\\x00\\x00\\x00\\x0878546987\\x0b\\x00\\x02\\x00\\x00\\x00\\n24/12/2024\\x0b\\x00\\x03\\x00\\x00\\x00\\x06Normal\\x08\\x00\\x04\\x00\\x00\\x00\\x0c\\x08\\x00\\x05\\x00\\x00\\x00\\x03\\x0b\\x00\\x06\\x00\\x00\\x00!Demora en la entrega del producto\\x0b\\x00\\x07\\x00\\x00\\x00\\x0fCambio de motor\\x00\\x0b\\x00\\x01\\x00\\x00\\x00\\x0545876\\x0b\\x00\\x02\\x00\\x00\\x00\\n23/01/2025\\x0b\\x00\\x03\\x00\\x00\\x00\\tExtendida\\x08\\x00\\x04\\x00\\x00\\x00\\x06\\x08\\x00\\x05\\x00\\x00\\x00\\x05\\x0b\\x00\\x06\\x00\\x00\\x00\\rBuen servicio\\x0b\\x00\\x07\\x00\\x00\\x00\\x1dCambio del tablero de control\\x00'\n"
          ]
        }
      ],
      "source": [
        "# Lectura de los archivos para obtener los datos serializados\n",
        "with open(\"ventas.dat\", \"rb\") as f:\n",
        "    venta_data_s = f.read()\n",
        "\n",
        "with open(\"garantias.dat\", \"rb\") as f:\n",
        "    garantias_data_s = f.read()\n",
        "\n",
        "# Despliegue de los datos serializados obtenidos de los archivos\n",
        "print(\"----  Bytes obtenidos para las ventas ----\")\n",
        "print(venta_data_s)\n",
        "print(\"---- Bytes obtenidos para las garantias ----\")\n",
        "print(garantias_data_s)"
      ]
    },
    {
      "cell_type": "markdown",
      "metadata": {
        "id": "HT21KGnOIOJL"
      },
      "source": [
        "Ahora realizamos el proceso de deserializacion llevando a una nueva lista cada uno de los objetos contenidos en los datos serializados."
      ]
    },
    {
      "cell_type": "code",
      "execution_count": 50,
      "metadata": {
        "id": "pfa-22CFIOJL"
      },
      "outputs": [],
      "source": [
        "# Deserializacion de los datos de las ventas\n",
        "transport = TTransport.TMemoryBuffer(venta_data_s)\n",
        "protocol = TBinaryProtocol.TBinaryProtocol(transport)\n",
        "ventas_copia5 = []\n",
        "for i in range(2):\n",
        "    venta = Venta()\n",
        "    venta.read(protocol)\n",
        "    ventas_copia5.append(venta)\n",
        "\n",
        "# Deserializacion de los datos de las garantias\n",
        "transport = TTransport.TMemoryBuffer(garantias_data_s)\n",
        "protocol = TBinaryProtocol.TBinaryProtocol(transport)\n",
        "garantias_copia5 = []\n",
        "for i in range(2):\n",
        "    garantia = Garantia()\n",
        "    garantia.read(protocol)\n",
        "    garantias_copia5.append(garantia)"
      ]
    },
    {
      "cell_type": "markdown",
      "metadata": {
        "id": "csv2zDECIOJL"
      },
      "source": [
        "Ahora mostramos cada uno de los objetos deserializados"
      ]
    },
    {
      "cell_type": "code",
      "execution_count": 51,
      "metadata": {
        "colab": {
          "base_uri": "https://localhost:8080/"
        },
        "id": "ISjXtpLSIOJL",
        "outputId": "07c19b2b-f321-4b6c-c12d-0c5210938609"
      },
      "outputs": [
        {
          "name": "stdout",
          "output_type": "stream",
          "text": [
            "---- Lista con las ventas deserializados ----\n",
            "-> Ventas 0:\n",
            "Venta(cod_producto='45869', producto='Cafetera', cod_venta='45876', ced_cliente='78586325', nombre_cliente='Henry Arcila', fecha_venta='23/01/2025', tipo_garantia='Extendida', tiempo_garantia=12, valor_venta=235000, tipo_tienda='Física', ciudad_sede='Santuario', sede='San Joaquín', entrega='En tienda', vendedor='Mary Estrada', calificacion_servicio=5, comentario_servicio='Muy buen servicio')\n",
            "-> Ventas 1:\n",
            "Venta(cod_producto='122568', producto='Ventilador', cod_venta='78546987', ced_cliente='98583652', nombre_cliente='Jairo Agudelo M', fecha_venta='24/12/2024', tipo_garantia='Normal', tiempo_garantia=6, valor_venta=325000, tipo_tienda='Física', ciudad_sede='Santa Rosa', sede='Centro', entrega='En tienda', vendedor='José Arango', calificacion_servicio=2, comentario_servicio='Muy mal asesoramiento del vendedor')\n",
            "\n",
            "\n",
            "---- Lista con las garantias deserializados ----\n",
            "-> Garantias 0:\n",
            "Garantia(cod_venta='78546987', fecha_compra='24/12/2024', tipo_garantia='Normal', tiempo_garantia=12, calificacion=3, comentarios='Demora en la entrega del producto', detalle_garantia='Cambio de motor')\n",
            "-> Garantias 1:\n",
            "Garantia(cod_venta='45876', fecha_compra='23/01/2025', tipo_garantia='Extendida', tiempo_garantia=6, calificacion=5, comentarios='Buen servicio', detalle_garantia='Cambio del tablero de control')\n"
          ]
        }
      ],
      "source": [
        "print(\"---- Lista con las ventas deserializados ----\")\n",
        "for i in range(len(ventas_copia5)):\n",
        "    print(f\"-> Ventas {i}:\")\n",
        "    print(ventas_copia5[i])\n",
        "print()\n",
        "print(\"\\n---- Lista con las garantias deserializados ----\")\n",
        "for i in range(len(garantias_copia5)):\n",
        "    print(f\"-> Garantias {i}:\")\n",
        "    print(garantias_copia5[i])"
      ]
    },
    {
      "cell_type": "markdown",
      "metadata": {
        "id": "zxLYDvIpIOJM"
      },
      "source": [
        "Finalmente mostramos que los datos obtenidos son iguales a los originales."
      ]
    },
    {
      "cell_type": "code",
      "execution_count": 52,
      "metadata": {
        "colab": {
          "base_uri": "https://localhost:8080/"
        },
        "id": "4op19vd_IOJM",
        "outputId": "be8ac126-2036-4c65-f7b4-7a15e3d37149"
      },
      "outputs": [
        {
          "name": "stdout",
          "output_type": "stream",
          "text": [
            "ventas == ventas_copia5: True\n",
            "garantias == garantias_copia5: True\n"
          ]
        }
      ],
      "source": [
        "print(f\"ventas == ventas_copia5: {ventas == ventas_copia5}\")\n",
        "print(f\"garantias == garantias_copia5: {garantias == garantias_copia5}\")"
      ]
    },
    {
      "cell_type": "markdown",
      "metadata": {
        "id": "j1LlOYfTNVsn"
      },
      "source": [
        "# **Propuesta para la representación de los datos**"
      ]
    },
    {
      "cell_type": "markdown",
      "metadata": {
        "id": "Z-rPhr5tNezH"
      },
      "source": [
        "Teniendo en cuenta las actividades realizadas en los putnos anteriores, proponga cual considera que es la representación adecuada par estos datos (Defina los criterios que considera mas relevantes para su decisión)"
      ]
    },
    {
      "cell_type": "markdown",
      "metadata": {},
      "source": [
        "En todos los casos anteriores lo que se realizo fue estructurar datos, convertirlos en un fomato que facilite su almacenamiento y transmisión (serializacion), y finalmente recuperar los datos originales una vez recibidos o accedidos (deserializacion). En cuanto a funcionalidad todos los formatos empleados cumplen el objetivo; sin embargo, la elección de la representación va a depender como en cualquier caso del contexto teniendo en cuenta requerimientos como tamaño, velocidad y recursos disponibles. A continuación se detalla algunos casos:\n",
        "* Si los recursos disponibles, el tipo de problema, la velocidad y el tamaño no son un problema, la elección idonea para el caso seria emplear alguno de los formatos tradicionales JSON, XML o YAML. Especialmente por la familiaridad y curva de aprendizaje. Por ejemplo, en lo que respecta hasta lo que se ha trabajado a lo largo de la especialización, el empleo de alguno de estos formatos es suficiente, siendo el JSON el mas idoneo.\n",
        "* Si el contexto necesita ser escalable el factor relacionado con el desempeño y el tamaño si es necesario, principalemente si se esta empleando un ambiente distribuido, la mejor elección puede ser Protobuf o Apache Thrift. Si la elección implica facilidad y eficiencia la elección seria emplear Protobuf; sin embargo, si se necesita mas complejidad y flexibilidad en lo que respecta al manejo de protocolos de transporte, la elección idonear es Apache Thrift.\n",
        "\n",
        "En resumen, todo lo anterior se reduce a tener claridad del contexto del negocio (quererimientos, limitaciones, caracteristicas, etc.) y la forma de los datos que se emplearan en este a la hora de elegir el formato."
      ]
    }
  ],
  "metadata": {
    "colab": {
      "provenance": []
    },
    "kernelspec": {
      "display_name": "base",
      "language": "python",
      "name": "python3"
    },
    "language_info": {
      "codemirror_mode": {
        "name": "ipython",
        "version": 3
      },
      "file_extension": ".py",
      "mimetype": "text/x-python",
      "name": "python",
      "nbconvert_exporter": "python",
      "pygments_lexer": "ipython3",
      "version": "3.12.7"
    }
  },
  "nbformat": 4,
  "nbformat_minor": 0
}
